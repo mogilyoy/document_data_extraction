{
  "nbformat": 4,
  "nbformat_minor": 0,
  "metadata": {
    "colab": {
      "provenance": [],
      "collapsed_sections": [
        "Z7l0fLwmMI4t"
      ]
    },
    "kernelspec": {
      "name": "python3",
      "display_name": "Python 3"
    },
    "language_info": {
      "name": "python"
    }
  },
  "cells": [
    {
      "cell_type": "markdown",
      "source": [
        "### Установки"
      ],
      "metadata": {
        "id": "Z7l0fLwmMI4t"
      }
    },
    {
      "cell_type": "code",
      "execution_count": 1,
      "metadata": {
        "colab": {
          "base_uri": "https://localhost:8080/"
        },
        "id": "rTIoKSdiK_M4",
        "outputId": "1bd7e3ca-487b-43b2-c5a6-d3534c502d1e"
      },
      "outputs": [
        {
          "output_type": "stream",
          "name": "stdout",
          "text": [
            "Looking in indexes: https://pypi.org/simple, https://us-python.pkg.dev/colab-wheels/public/simple/\n",
            "Requirement already satisfied: navec in /usr/local/lib/python3.9/dist-packages (0.10.0)\n",
            "Requirement already satisfied: numpy in /usr/local/lib/python3.9/dist-packages (from navec) (1.22.4)\n",
            "Looking in indexes: https://pypi.org/simple, https://us-python.pkg.dev/colab-wheels/public/simple/\n",
            "Requirement already satisfied: pymorphy2 in /usr/local/lib/python3.9/dist-packages (0.9.1)\n",
            "Requirement already satisfied: pymorphy2-dicts-ru<3.0,>=2.4 in /usr/local/lib/python3.9/dist-packages (from pymorphy2) (2.4.417127.4579844)\n",
            "Requirement already satisfied: dawg-python>=0.7.1 in /usr/local/lib/python3.9/dist-packages (from pymorphy2) (0.7.2)\n",
            "Requirement already satisfied: docopt>=0.6 in /usr/local/lib/python3.9/dist-packages (from pymorphy2) (0.6.2)\n"
          ]
        }
      ],
      "source": [
        "!pip install navec\n",
        "!pip install pymorphy2"
      ]
    },
    {
      "cell_type": "code",
      "source": [
        "!wget https://storage.yandexcloud.net/natasha-navec/packs/navec_hudlit_v1_12B_500K_300d_100q.tar -P ./data/models"
      ],
      "metadata": {
        "colab": {
          "base_uri": "https://localhost:8080/"
        },
        "id": "JEVhL_FMT5V0",
        "outputId": "7d875193-2e8a-467d-a4de-a01d10363bd9"
      },
      "execution_count": 41,
      "outputs": [
        {
          "output_type": "stream",
          "name": "stdout",
          "text": [
            "--2023-04-23 15:54:12--  https://storage.yandexcloud.net/natasha-navec/packs/navec_hudlit_v1_12B_500K_300d_100q.tar\n",
            "Resolving storage.yandexcloud.net (storage.yandexcloud.net)... 213.180.193.243, 2a02:6b8::1d9\n",
            "Connecting to storage.yandexcloud.net (storage.yandexcloud.net)|213.180.193.243|:443... connected.\n",
            "HTTP request sent, awaiting response... 200 OK\n",
            "Length: 53012480 (51M) [application/x-tar]\n",
            "Saving to: ‘./data/models/navec_hudlit_v1_12B_500K_300d_100q.tar’\n",
            "\n",
            "navec_hudlit_v1_12B 100%[===================>]  50.56M  15.9MB/s    in 3.2s    \n",
            "\n",
            "2023-04-23 15:54:16 (15.9 MB/s) - ‘./data/models/navec_hudlit_v1_12B_500K_300d_100q.tar’ saved [53012480/53012480]\n",
            "\n"
          ]
        }
      ]
    },
    {
      "cell_type": "markdown",
      "source": [
        "### Описание задачи"
      ],
      "metadata": {
        "id": "QAx5H25q76fR"
      }
    },
    {
      "cell_type": "markdown",
      "source": [
        "**Задача:** разработать модель, которая будет способна по паре `текст документа` и `пункт анкеты` извлекать из текста документа нужный фрагмент текста. \n",
        "Обучив модель, добавьте в файл `test.json` поле `extracted_part` в том же формате, что и в файле `train.json`. Новый файл назовите `predictions.json`\n",
        "\n"
      ],
      "metadata": {
        "id": "MxXuq_q479da"
      }
    },
    {
      "cell_type": "markdown",
      "source": [
        "Данные для обучения в формате json имеют следующие поля:\n",
        "- `id`: int - id документа\n",
        "-  `text`: str - текст документа, в котором может содержаться фрагмент текста, соответствующий пункту анкеты из поля `label`\n",
        "- `label`: str - название пункта анкеты. Может принимать одно из двух значений: `обеспечение исполнения контракта` или `обеспечение гарантийных обязательств`\n",
        "\n",
        "```\n",
        "`extracted_part`: dict следующего формата:\n",
        "    \n",
        "    {\n",
        "        'text': [фрагмент текста из поля `text`, соответствующий пункту анкеты], \n",
        "        'answer_start': [индекс символа начала фрагмента текста в тексте документа],\n",
        "        'answer_end': [индекс символа конца фрагмента текста в тексте документа]\n",
        "    }\n",
        "```"
      ],
      "metadata": {
        "id": "AWRxrxNW8Qzg"
      }
    },
    {
      "cell_type": "markdown",
      "source": [
        "Для демонстрации работы модели используйте данные из файла `test.json`. В нем есть все те же поля, что и в файле `train.json`, кроме поля `extracted_part` - именно его вам и нужно будет добавить,\n",
        "для того, чтобы мы смогли оценить качество вашей модели."
      ],
      "metadata": {
        "id": "mFMACgS_8cEh"
      }
    },
    {
      "cell_type": "markdown",
      "source": [
        "### Импорты"
      ],
      "metadata": {
        "id": "Kp2d0QA7MdfP"
      }
    },
    {
      "cell_type": "code",
      "source": [
        "from research.utils import (split_df_texts_by_sentences, \n",
        "                            get_extracted_part_from_dataset,\n",
        "                            lemmatize_splitted_df_sentences,\n",
        "                            get_sentence_vectors_from_lemmatized_text) \n",
        "\n",
        "from sklearn.model_selection import train_test_split\n",
        "from pymorphy2 import MorphAnalyzer\n",
        "from nltk.corpus import stopwords\n",
        "from xgboost import XGBClassifier\n",
        "import matplotlib.pyplot as plt\n",
        "from navec import Navec\n",
        "import pandas as pd\n",
        "import numpy as np\n",
        "import joblib\n",
        "import json\n",
        "import nltk"
      ],
      "metadata": {
        "id": "djN9-U4kMe7P"
      },
      "execution_count": 27,
      "outputs": []
    },
    {
      "cell_type": "code",
      "source": [
        "path = './data/models/navec_hudlit_v1_12B_500K_300d_100q.tar'\n",
        "navec = Navec.load(path)\n",
        "nltk.download('stopwords')\n",
        "stopwords_ru = stopwords.words(\"russian\")\n",
        "morph = MorphAnalyzer()"
      ],
      "metadata": {
        "colab": {
          "base_uri": "https://localhost:8080/"
        },
        "id": "iiYkr72YWyIk",
        "outputId": "ebd2ee03-d7f7-412d-d78f-2808f7888f3c"
      },
      "execution_count": 42,
      "outputs": [
        {
          "output_type": "stream",
          "name": "stderr",
          "text": [
            "[nltk_data] Downloading package stopwords to /root/nltk_data...\n",
            "[nltk_data]   Package stopwords is already up-to-date!\n"
          ]
        }
      ]
    },
    {
      "cell_type": "markdown",
      "source": [
        "### Применение модели к трейну, замер accuracy"
      ],
      "metadata": {
        "id": "QtItBZU_MfYl"
      }
    },
    {
      "cell_type": "code",
      "source": [
        "df_train = pd.read_json('./data/train.json', encoding='utf-8')  # загружаем данные из train.json\n",
        "df_train.head()"
      ],
      "metadata": {
        "colab": {
          "base_uri": "https://localhost:8080/",
          "height": 337
        },
        "id": "Kas6bGDHM_ff",
        "outputId": "0b6f0605-0f58-4699-9e20-eb40a0d454f4"
      },
      "execution_count": 5,
      "outputs": [
        {
          "output_type": "execute_result",
          "data": {
            "text/plain": [
              "          id                                               text  \\\n",
              "0  809436509  Извещение о проведении открытого конкурса в эл...   \n",
              "1  854885310  ТРЕБОВАНИЯ К СОДЕРЖАНИЮ ЗАЯВКИ участника запро...   \n",
              "2    4382157  Извещение о проведении электронного аукциона д...   \n",
              "3  184555082  Извещение о проведении электронного аукциона д...   \n",
              "4  211645258  Извещение о проведении электронного аукциона д...   \n",
              "\n",
              "                              label  \\\n",
              "0  обеспечение исполнения контракта   \n",
              "1  обеспечение исполнения контракта   \n",
              "2  обеспечение исполнения контракта   \n",
              "3  обеспечение исполнения контракта   \n",
              "4  обеспечение исполнения контракта   \n",
              "\n",
              "                                      extracted_part  \n",
              "0  {'text': ['Размер обеспечения исполнения контр...  \n",
              "1  {'text': ['Поставщик должен предоставить обесп...  \n",
              "2  {'text': ['Размер обеспечения исполнения контр...  \n",
              "3  {'text': ['Размер обеспечения исполнения контр...  \n",
              "4  {'text': ['Размер обеспечения исполнения контр...  "
            ],
            "text/html": [
              "\n",
              "  <div id=\"df-ebda1534-df6a-41cb-877e-439d60f8c7bd\">\n",
              "    <div class=\"colab-df-container\">\n",
              "      <div>\n",
              "<style scoped>\n",
              "    .dataframe tbody tr th:only-of-type {\n",
              "        vertical-align: middle;\n",
              "    }\n",
              "\n",
              "    .dataframe tbody tr th {\n",
              "        vertical-align: top;\n",
              "    }\n",
              "\n",
              "    .dataframe thead th {\n",
              "        text-align: right;\n",
              "    }\n",
              "</style>\n",
              "<table border=\"1\" class=\"dataframe\">\n",
              "  <thead>\n",
              "    <tr style=\"text-align: right;\">\n",
              "      <th></th>\n",
              "      <th>id</th>\n",
              "      <th>text</th>\n",
              "      <th>label</th>\n",
              "      <th>extracted_part</th>\n",
              "    </tr>\n",
              "  </thead>\n",
              "  <tbody>\n",
              "    <tr>\n",
              "      <th>0</th>\n",
              "      <td>809436509</td>\n",
              "      <td>Извещение о проведении открытого конкурса в эл...</td>\n",
              "      <td>обеспечение исполнения контракта</td>\n",
              "      <td>{'text': ['Размер обеспечения исполнения контр...</td>\n",
              "    </tr>\n",
              "    <tr>\n",
              "      <th>1</th>\n",
              "      <td>854885310</td>\n",
              "      <td>ТРЕБОВАНИЯ К СОДЕРЖАНИЮ ЗАЯВКИ участника запро...</td>\n",
              "      <td>обеспечение исполнения контракта</td>\n",
              "      <td>{'text': ['Поставщик должен предоставить обесп...</td>\n",
              "    </tr>\n",
              "    <tr>\n",
              "      <th>2</th>\n",
              "      <td>4382157</td>\n",
              "      <td>Извещение о проведении электронного аукциона д...</td>\n",
              "      <td>обеспечение исполнения контракта</td>\n",
              "      <td>{'text': ['Размер обеспечения исполнения контр...</td>\n",
              "    </tr>\n",
              "    <tr>\n",
              "      <th>3</th>\n",
              "      <td>184555082</td>\n",
              "      <td>Извещение о проведении электронного аукциона д...</td>\n",
              "      <td>обеспечение исполнения контракта</td>\n",
              "      <td>{'text': ['Размер обеспечения исполнения контр...</td>\n",
              "    </tr>\n",
              "    <tr>\n",
              "      <th>4</th>\n",
              "      <td>211645258</td>\n",
              "      <td>Извещение о проведении электронного аукциона д...</td>\n",
              "      <td>обеспечение исполнения контракта</td>\n",
              "      <td>{'text': ['Размер обеспечения исполнения контр...</td>\n",
              "    </tr>\n",
              "  </tbody>\n",
              "</table>\n",
              "</div>\n",
              "      <button class=\"colab-df-convert\" onclick=\"convertToInteractive('df-ebda1534-df6a-41cb-877e-439d60f8c7bd')\"\n",
              "              title=\"Convert this dataframe to an interactive table.\"\n",
              "              style=\"display:none;\">\n",
              "        \n",
              "  <svg xmlns=\"http://www.w3.org/2000/svg\" height=\"24px\"viewBox=\"0 0 24 24\"\n",
              "       width=\"24px\">\n",
              "    <path d=\"M0 0h24v24H0V0z\" fill=\"none\"/>\n",
              "    <path d=\"M18.56 5.44l.94 2.06.94-2.06 2.06-.94-2.06-.94-.94-2.06-.94 2.06-2.06.94zm-11 1L8.5 8.5l.94-2.06 2.06-.94-2.06-.94L8.5 2.5l-.94 2.06-2.06.94zm10 10l.94 2.06.94-2.06 2.06-.94-2.06-.94-.94-2.06-.94 2.06-2.06.94z\"/><path d=\"M17.41 7.96l-1.37-1.37c-.4-.4-.92-.59-1.43-.59-.52 0-1.04.2-1.43.59L10.3 9.45l-7.72 7.72c-.78.78-.78 2.05 0 2.83L4 21.41c.39.39.9.59 1.41.59.51 0 1.02-.2 1.41-.59l7.78-7.78 2.81-2.81c.8-.78.8-2.07 0-2.86zM5.41 20L4 18.59l7.72-7.72 1.47 1.35L5.41 20z\"/>\n",
              "  </svg>\n",
              "      </button>\n",
              "      \n",
              "  <style>\n",
              "    .colab-df-container {\n",
              "      display:flex;\n",
              "      flex-wrap:wrap;\n",
              "      gap: 12px;\n",
              "    }\n",
              "\n",
              "    .colab-df-convert {\n",
              "      background-color: #E8F0FE;\n",
              "      border: none;\n",
              "      border-radius: 50%;\n",
              "      cursor: pointer;\n",
              "      display: none;\n",
              "      fill: #1967D2;\n",
              "      height: 32px;\n",
              "      padding: 0 0 0 0;\n",
              "      width: 32px;\n",
              "    }\n",
              "\n",
              "    .colab-df-convert:hover {\n",
              "      background-color: #E2EBFA;\n",
              "      box-shadow: 0px 1px 2px rgba(60, 64, 67, 0.3), 0px 1px 3px 1px rgba(60, 64, 67, 0.15);\n",
              "      fill: #174EA6;\n",
              "    }\n",
              "\n",
              "    [theme=dark] .colab-df-convert {\n",
              "      background-color: #3B4455;\n",
              "      fill: #D2E3FC;\n",
              "    }\n",
              "\n",
              "    [theme=dark] .colab-df-convert:hover {\n",
              "      background-color: #434B5C;\n",
              "      box-shadow: 0px 1px 3px 1px rgba(0, 0, 0, 0.15);\n",
              "      filter: drop-shadow(0px 1px 2px rgba(0, 0, 0, 0.3));\n",
              "      fill: #FFFFFF;\n",
              "    }\n",
              "  </style>\n",
              "\n",
              "      <script>\n",
              "        const buttonEl =\n",
              "          document.querySelector('#df-ebda1534-df6a-41cb-877e-439d60f8c7bd button.colab-df-convert');\n",
              "        buttonEl.style.display =\n",
              "          google.colab.kernel.accessAllowed ? 'block' : 'none';\n",
              "\n",
              "        async function convertToInteractive(key) {\n",
              "          const element = document.querySelector('#df-ebda1534-df6a-41cb-877e-439d60f8c7bd');\n",
              "          const dataTable =\n",
              "            await google.colab.kernel.invokeFunction('convertToInteractive',\n",
              "                                                     [key], {});\n",
              "          if (!dataTable) return;\n",
              "\n",
              "          const docLinkHtml = 'Like what you see? Visit the ' +\n",
              "            '<a target=\"_blank\" href=https://colab.research.google.com/notebooks/data_table.ipynb>data table notebook</a>'\n",
              "            + ' to learn more about interactive tables.';\n",
              "          element.innerHTML = '';\n",
              "          dataTable['output_type'] = 'display_data';\n",
              "          await google.colab.output.renderOutput(dataTable, element);\n",
              "          const docLink = document.createElement('div');\n",
              "          docLink.innerHTML = docLinkHtml;\n",
              "          element.appendChild(docLink);\n",
              "        }\n",
              "      </script>\n",
              "    </div>\n",
              "  </div>\n",
              "  "
            ]
          },
          "metadata": {},
          "execution_count": 5
        }
      ]
    },
    {
      "cell_type": "markdown",
      "source": [
        "Загрузим модели для классификации предложений в зависимости от label (подробно в reserch/base_model)"
      ],
      "metadata": {
        "id": "LsFtJlCiWOlM"
      }
    },
    {
      "cell_type": "code",
      "source": [
        "# загрузка обученных моделей\n",
        "contract_enforcement_model = joblib.load('./data/models/contract_enforcement_xgb_model.joblib')\n",
        "garantee_enforcement_model = joblib.load('./data/models/garantee_enforcement_xgb_model.joblib')"
      ],
      "metadata": {
        "id": "GCXW3p-4VwFr"
      },
      "execution_count": 6,
      "outputs": []
    },
    {
      "cell_type": "code",
      "source": [
        "df_splitted = split_df_texts_by_sentences(df_train.copy())  # делим тексты на предложения\n",
        "df_lemmatized = lemmatize_splitted_df_sentences(df_splitted.copy(), stopwords_ru, morph)  # приводим слова в предложениях к нормальному виду"
      ],
      "metadata": {
        "id": "zKJ1bs3yWaGU"
      },
      "execution_count": 8,
      "outputs": []
    },
    {
      "cell_type": "code",
      "source": [
        "df_splitted.to_json('./data/train_splitted.json')\n",
        "df_lemmatized.to_json('./data/train_lemmatized.json')"
      ],
      "metadata": {
        "id": "1NBByJ11nlSz"
      },
      "execution_count": 9,
      "outputs": []
    },
    {
      "cell_type": "markdown",
      "source": [
        "Далее для применения моделей необходимо превратить \"лемматизированные\" предложения в векторы предложений. С этим нам поможет библиотека Navec. Navec - это библиотека предварительно подготовленных ембендингов слов для русского языка. \n",
        "\n",
        "Подробнее: https://github.com/natasha/navec?ysclid=lgi8rvqlyo416346758"
      ],
      "metadata": {
        "id": "NU4ZAuBqXMek"
      }
    },
    {
      "cell_type": "markdown",
      "source": [
        "Такой векторизатор я реализовал в виде функции get_sentence_vectors_from_lemmatized_text в модуле utils. (см research/utils.py) "
      ],
      "metadata": {
        "id": "vUweRhtOY3f6"
      }
    },
    {
      "cell_type": "markdown",
      "source": [
        "Далее нам необходимо реализовать функции для предсказания, т.к. модели две "
      ],
      "metadata": {
        "id": "A__sw6HFZJjX"
      }
    },
    {
      "cell_type": "code",
      "source": [
        "def get_predicted_sentence_index_for_contract_enforcement(df_lemmatized_object, min_rate=0.4):\n",
        "  shape = 83  # определяем максимальную длину вектора предожения\n",
        "  vectorized_text = get_sentence_vectors_from_lemmatized_text(df_lemmatized_object['text'], shape, navec)  # функция создаёт векторы предложений из их списка\n",
        "  # в итоге на выходе получаем векторизованный текст\n",
        "\n",
        "\n",
        "  max_probability=0 \n",
        "  index = -1\n",
        "  try:\n",
        "    # проходим по каждому предложению и считаем \"вероятность\" принадлежности его к целевому классу\n",
        "    for i in range(len(vectorized_text)):\n",
        "      vector = vectorized_text[i]\n",
        "      vector = np.array(vector)\n",
        "      vector = vector.reshape((1, shape))  \n",
        "      pred = contract_enforcement_model.predict_proba(vector)[0][1]\n",
        "\n",
        "      # сохраняем индекс предложения с наибольшей \"вероятностью\"\n",
        "      if pred > max_probability and pred > min_rate:\n",
        "        max_probability = pred\n",
        "        index = i\n",
        "  except Exception as e:\n",
        "    print(vector.shape, vector, df_lemmatized_object['label'], e)  # добавляем дебаг-логирование\n",
        "  \n",
        "  return index, max_probability"
      ],
      "metadata": {
        "id": "Azs86otpYlIc"
      },
      "execution_count": 8,
      "outputs": []
    },
    {
      "cell_type": "markdown",
      "source": [
        "И такую же функцию для лейбла \"обеспечение гарантийных обязательств\""
      ],
      "metadata": {
        "id": "m47pl3CuaxSn"
      }
    },
    {
      "cell_type": "code",
      "source": [
        "def get_predicted_sentence_index_for_garantee_enforcement(df_lemmatized_object, min_rate=0.8):\n",
        "  shape = 83  # определяем максимальную длину вектора предожения\n",
        "\n",
        "  # создание векторов предложений\n",
        "  vector_text = get_sentence_vectors_from_lemmatized_text(df_lemmatized_object['text'], shape, navec)\n",
        "\n",
        "  max_probability=0\n",
        "  index = -1\n",
        "\n",
        "  try: \n",
        "    for i in range(len(vector_text)):\n",
        "      sentence_vector = vector_text[i]\n",
        "      sentence_vector = np.array(sentence_vector)\n",
        "      sentence_vector = sentence_vector.reshape((1, shape))\n",
        "      # применение модели к вектору предложения\n",
        "      pred = garantee_enforcement_model.predict_proba(sentence_vector)[0][1]\n",
        "\n",
        "      # сохранение наилучшего результата\n",
        "      if pred > max_probability and pred > min_rate:\n",
        "        max_probability = pred\n",
        "        index = i\n",
        "  except Exception as e:\n",
        "    print(sentence_vector.shape, sentence_vector, df_lemmatized_object['label'], e)\n",
        "\n",
        "  return index, max_probability"
      ],
      "metadata": {
        "id": "QWba-GmgatKv"
      },
      "execution_count": 9,
      "outputs": []
    },
    {
      "cell_type": "markdown",
      "source": [
        "Далее напишем функцию для построчной обработки датафрейма и передачи текстов в функции в зависимости от лейблов"
      ],
      "metadata": {
        "id": "QVHDBQ97bhhN"
      }
    },
    {
      "cell_type": "code",
      "source": [
        "def predict_sentence(df_lemmatized, df_splitted, min_garantee_enforcement_rate=0.8, min_contract_enforcement_rate=0.4):\n",
        "  \"\"\"\n",
        "  Input: pd.DataFrame с нормализаванными предложениями. \n",
        "  Пример поля ['text']:\n",
        "  [['способ', 'определение', 'поставщик', 'подрядчик', 'исполнитель'], ['электронный', 'аукцион'], ....]\n",
        "\n",
        "  Output: pred:list список предсказаний. \n",
        "  \"\"\"\n",
        "\n",
        "  pred = []\n",
        "  # пробегаемся по текстам и отправляем их в соответствующую label модель\n",
        "  for i in range(len(df_lemmatized)):\n",
        "    if df_lemmatized.loc[i, 'label'] == 'обеспечение исполнения контракта':\n",
        "      \n",
        "      index, _ = get_predicted_sentence_index_for_contract_enforcement(df_lemmatized.loc[i, :], min_contract_enforcement_rate)\n",
        "      pred.append(df_splitted.loc[i, 'text'][index] if index != -1 else None)  # добавляем искомое предложение в pred\n",
        "\n",
        "    elif df_lemmatized.loc[i, 'label'] == 'обеспечение гарантийных обязательств': \n",
        "      index, _ = get_predicted_sentence_index_for_garantee_enforcement(df_lemmatized.loc[i, :], min_garantee_enforcement_rate)\n",
        "      pred.append(df_splitted.loc[i, 'text'][index] if index != -1 else None)  # добавляем искомое предложение в pred\n",
        "\n",
        "    else:\n",
        "      print('Неверное значение label')\n",
        "  return pred"
      ],
      "metadata": {
        "id": "R4wSbCY8bhMj"
      },
      "execution_count": 10,
      "outputs": []
    },
    {
      "cell_type": "markdown",
      "source": [
        "Протестируем полученные модели"
      ],
      "metadata": {
        "id": "mqrg2X35gpop"
      }
    },
    {
      "cell_type": "code",
      "source": [
        "%%time\n",
        "predictions = predict_sentence(df_lemmatized, df_splitted, min_garantee_enforcement_rate=0.8)  # предсказываем искомые предложения"
      ],
      "metadata": {
        "id": "twqpOoJ1gfMz",
        "colab": {
          "base_uri": "https://localhost:8080/"
        },
        "outputId": "8db8422c-f15b-4f43-9d1a-3bbca3db748e"
      },
      "execution_count": 11,
      "outputs": [
        {
          "output_type": "stream",
          "name": "stdout",
          "text": [
            "CPU times: user 4min 6s, sys: 2.8 s, total: 4min 9s\n",
            "Wall time: 3min 8s\n"
          ]
        }
      ]
    },
    {
      "cell_type": "code",
      "source": [
        "def accuracy_count(df_train, predictions, save_errors=False):\n",
        "  # проверяем объекты на входе\n",
        "  assert len(df_train) == len(predictions), f'Объекты должны иметь одинаковую длину: df_train: {len(df_train)}, predictions: {len(predictions)}'\n",
        "  counter = 0\n",
        "  i = 0\n",
        "  # считаем accuracy\n",
        "  for extracted_part, pred in zip(df_train.loc[:, 'extracted_part'].values, predictions):\n",
        "    if pred == extracted_part['text'][0] or (pred is None and  extracted_part['text'][0] == ''):\n",
        "      counter += 1\n",
        "\n",
        "    else:\n",
        "      if save_errors: \n",
        "        query = f\"\"\"\n",
        "        index = {i}\\n\n",
        "        prediction: {pred}\\n\n",
        "        target: {extracted_part['text'][0]}\\n\\n\n",
        "        \"\"\"\n",
        "        with open('./data/errors.txt', 'a') as f:\n",
        "          f.write(query)\n",
        "    i += 1\n",
        "      \n",
        "  return counter/len(df_train)"
      ],
      "metadata": {
        "id": "q-keod-8jneb"
      },
      "execution_count": 12,
      "outputs": []
    },
    {
      "cell_type": "code",
      "source": [
        "accuracy_count(df_train, predictions, True)"
      ],
      "metadata": {
        "colab": {
          "base_uri": "https://localhost:8080/"
        },
        "id": "2Q7brqZEktVG",
        "outputId": "4edd7a02-09dc-4ca7-efcc-bac8807c6b6f"
      },
      "execution_count": 13,
      "outputs": [
        {
          "output_type": "execute_result",
          "data": {
            "text/plain": [
              "0.6987215119510839"
            ]
          },
          "metadata": {},
          "execution_count": 13
        }
      ]
    },
    {
      "cell_type": "markdown",
      "source": [
        "попробуем подобрать параметры min_rate для модели garantee_enforcement"
      ],
      "metadata": {
        "id": "dFmRWookJqZh"
      }
    },
    {
      "cell_type": "code",
      "source": [
        "def min_rate_best_value_search(grid):\n",
        "  # принимаем список из значений, выводим график зависимости accurcy от rate\n",
        "  accuracy_list = []\n",
        "  for i in grid:\n",
        "    predictions = predict_sentence(df_lemmatized, df_splitted, min_garantee_enforcement_rate=i)\n",
        "    accuracy_list.append(accuracy_count(df_train, predictions))\n",
        "  plt.figure(figsize=(7, 7))\n",
        "  plt.plot(grid, accuracy_list)\n",
        "  plt.show()"
      ],
      "metadata": {
        "id": "ruRaoJU5VptM"
      },
      "execution_count": 14,
      "outputs": []
    },
    {
      "cell_type": "code",
      "source": [
        "# garantee_enforcement_rate_grid = np.arange(0.92, 1, 0.02)  # итератор для поиска наилучшего порога в garantee_enforcement_model\n",
        "# min_rate_best_value_search(garantee_enforcement_rate_grid)"
      ],
      "metadata": {
        "id": "Vl7M14-QTEfR"
      },
      "execution_count": 41,
      "outputs": []
    },
    {
      "cell_type": "markdown",
      "source": [
        "После окончания работы получаем такой график: \n",
        "![изображение.png](data:image/png;base64,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)"
      ],
      "metadata": {
        "id": "_ebV_R71GXn4"
      }
    },
    {
      "cell_type": "markdown",
      "source": [
        "таким образом из графика видим, что значение min_garantee_enforcement_rate=0.95 - оптимально"
      ],
      "metadata": {
        "id": "8oe6GK2Sdhsw"
      }
    },
    {
      "cell_type": "code",
      "source": [
        "%%time\n",
        "predictions = predict_sentence(df_lemmatized, df_splitted, min_garantee_enforcement_rate=0.95)  # делаем предсказание с min_rate = 0.95"
      ],
      "metadata": {
        "colab": {
          "base_uri": "https://localhost:8080/"
        },
        "id": "V2i8c3S9WF5g",
        "outputId": "47e9fac9-ac89-4386-a724-7cc8d8e809a3"
      },
      "execution_count": 15,
      "outputs": [
        {
          "output_type": "stream",
          "name": "stdout",
          "text": [
            "CPU times: user 3min 15s, sys: 2.37 s, total: 3min 17s\n",
            "Wall time: 1min 55s\n"
          ]
        }
      ]
    },
    {
      "cell_type": "code",
      "source": [
        "accuracy_count(df_train, predictions)"
      ],
      "metadata": {
        "colab": {
          "base_uri": "https://localhost:8080/"
        },
        "id": "1x3ESU610i0t",
        "outputId": "6e41cbb7-3145-409d-8a07-25daecd07302"
      },
      "execution_count": 16,
      "outputs": [
        {
          "output_type": "execute_result",
          "data": {
            "text/plain": [
              "0.7031684269038355"
            ]
          },
          "metadata": {},
          "execution_count": 16
        }
      ]
    },
    {
      "cell_type": "markdown",
      "source": [
        "### Предсказание test.json"
      ],
      "metadata": {
        "id": "aSP6Q_0sNA2A"
      }
    },
    {
      "cell_type": "code",
      "source": [
        "# загрузка данных\n",
        "df_test = pd.read_json('./data/test.json', encoding='utf-8')\n",
        "df_test.head()"
      ],
      "metadata": {
        "id": "hdwytfKmNOg9",
        "colab": {
          "base_uri": "https://localhost:8080/",
          "height": 206
        },
        "outputId": "239b139c-9e6f-4758-c567-0f649ed2de09"
      },
      "execution_count": 17,
      "outputs": [
        {
          "output_type": "execute_result",
          "data": {
            "text/plain": [
              "          id                                               text  \\\n",
              "0  762883279  МУНИЦИПАЛЬНЫЙ КОНТРАКТ № ______ на оказание ус...   \n",
              "1  311837655  Извещение о проведении электронного аукциона д...   \n",
              "2  540954893  Идентификационный код закупки: 222633005300163...   \n",
              "3  274660397  Идентификационный код закупки: 222631202689463...   \n",
              "4  732742591  Идентификационный код закупки: 222637800031163...   \n",
              "\n",
              "                              label  \n",
              "0  обеспечение исполнения контракта  \n",
              "1  обеспечение исполнения контракта  \n",
              "2  обеспечение исполнения контракта  \n",
              "3  обеспечение исполнения контракта  \n",
              "4  обеспечение исполнения контракта  "
            ],
            "text/html": [
              "\n",
              "  <div id=\"df-add0aaf5-2155-4f7f-ad9d-cef1f300d72a\">\n",
              "    <div class=\"colab-df-container\">\n",
              "      <div>\n",
              "<style scoped>\n",
              "    .dataframe tbody tr th:only-of-type {\n",
              "        vertical-align: middle;\n",
              "    }\n",
              "\n",
              "    .dataframe tbody tr th {\n",
              "        vertical-align: top;\n",
              "    }\n",
              "\n",
              "    .dataframe thead th {\n",
              "        text-align: right;\n",
              "    }\n",
              "</style>\n",
              "<table border=\"1\" class=\"dataframe\">\n",
              "  <thead>\n",
              "    <tr style=\"text-align: right;\">\n",
              "      <th></th>\n",
              "      <th>id</th>\n",
              "      <th>text</th>\n",
              "      <th>label</th>\n",
              "    </tr>\n",
              "  </thead>\n",
              "  <tbody>\n",
              "    <tr>\n",
              "      <th>0</th>\n",
              "      <td>762883279</td>\n",
              "      <td>МУНИЦИПАЛЬНЫЙ КОНТРАКТ № ______ на оказание ус...</td>\n",
              "      <td>обеспечение исполнения контракта</td>\n",
              "    </tr>\n",
              "    <tr>\n",
              "      <th>1</th>\n",
              "      <td>311837655</td>\n",
              "      <td>Извещение о проведении электронного аукциона д...</td>\n",
              "      <td>обеспечение исполнения контракта</td>\n",
              "    </tr>\n",
              "    <tr>\n",
              "      <th>2</th>\n",
              "      <td>540954893</td>\n",
              "      <td>Идентификационный код закупки: 222633005300163...</td>\n",
              "      <td>обеспечение исполнения контракта</td>\n",
              "    </tr>\n",
              "    <tr>\n",
              "      <th>3</th>\n",
              "      <td>274660397</td>\n",
              "      <td>Идентификационный код закупки: 222631202689463...</td>\n",
              "      <td>обеспечение исполнения контракта</td>\n",
              "    </tr>\n",
              "    <tr>\n",
              "      <th>4</th>\n",
              "      <td>732742591</td>\n",
              "      <td>Идентификационный код закупки: 222637800031163...</td>\n",
              "      <td>обеспечение исполнения контракта</td>\n",
              "    </tr>\n",
              "  </tbody>\n",
              "</table>\n",
              "</div>\n",
              "      <button class=\"colab-df-convert\" onclick=\"convertToInteractive('df-add0aaf5-2155-4f7f-ad9d-cef1f300d72a')\"\n",
              "              title=\"Convert this dataframe to an interactive table.\"\n",
              "              style=\"display:none;\">\n",
              "        \n",
              "  <svg xmlns=\"http://www.w3.org/2000/svg\" height=\"24px\"viewBox=\"0 0 24 24\"\n",
              "       width=\"24px\">\n",
              "    <path d=\"M0 0h24v24H0V0z\" fill=\"none\"/>\n",
              "    <path d=\"M18.56 5.44l.94 2.06.94-2.06 2.06-.94-2.06-.94-.94-2.06-.94 2.06-2.06.94zm-11 1L8.5 8.5l.94-2.06 2.06-.94-2.06-.94L8.5 2.5l-.94 2.06-2.06.94zm10 10l.94 2.06.94-2.06 2.06-.94-2.06-.94-.94-2.06-.94 2.06-2.06.94z\"/><path d=\"M17.41 7.96l-1.37-1.37c-.4-.4-.92-.59-1.43-.59-.52 0-1.04.2-1.43.59L10.3 9.45l-7.72 7.72c-.78.78-.78 2.05 0 2.83L4 21.41c.39.39.9.59 1.41.59.51 0 1.02-.2 1.41-.59l7.78-7.78 2.81-2.81c.8-.78.8-2.07 0-2.86zM5.41 20L4 18.59l7.72-7.72 1.47 1.35L5.41 20z\"/>\n",
              "  </svg>\n",
              "      </button>\n",
              "      \n",
              "  <style>\n",
              "    .colab-df-container {\n",
              "      display:flex;\n",
              "      flex-wrap:wrap;\n",
              "      gap: 12px;\n",
              "    }\n",
              "\n",
              "    .colab-df-convert {\n",
              "      background-color: #E8F0FE;\n",
              "      border: none;\n",
              "      border-radius: 50%;\n",
              "      cursor: pointer;\n",
              "      display: none;\n",
              "      fill: #1967D2;\n",
              "      height: 32px;\n",
              "      padding: 0 0 0 0;\n",
              "      width: 32px;\n",
              "    }\n",
              "\n",
              "    .colab-df-convert:hover {\n",
              "      background-color: #E2EBFA;\n",
              "      box-shadow: 0px 1px 2px rgba(60, 64, 67, 0.3), 0px 1px 3px 1px rgba(60, 64, 67, 0.15);\n",
              "      fill: #174EA6;\n",
              "    }\n",
              "\n",
              "    [theme=dark] .colab-df-convert {\n",
              "      background-color: #3B4455;\n",
              "      fill: #D2E3FC;\n",
              "    }\n",
              "\n",
              "    [theme=dark] .colab-df-convert:hover {\n",
              "      background-color: #434B5C;\n",
              "      box-shadow: 0px 1px 3px 1px rgba(0, 0, 0, 0.15);\n",
              "      filter: drop-shadow(0px 1px 2px rgba(0, 0, 0, 0.3));\n",
              "      fill: #FFFFFF;\n",
              "    }\n",
              "  </style>\n",
              "\n",
              "      <script>\n",
              "        const buttonEl =\n",
              "          document.querySelector('#df-add0aaf5-2155-4f7f-ad9d-cef1f300d72a button.colab-df-convert');\n",
              "        buttonEl.style.display =\n",
              "          google.colab.kernel.accessAllowed ? 'block' : 'none';\n",
              "\n",
              "        async function convertToInteractive(key) {\n",
              "          const element = document.querySelector('#df-add0aaf5-2155-4f7f-ad9d-cef1f300d72a');\n",
              "          const dataTable =\n",
              "            await google.colab.kernel.invokeFunction('convertToInteractive',\n",
              "                                                     [key], {});\n",
              "          if (!dataTable) return;\n",
              "\n",
              "          const docLinkHtml = 'Like what you see? Visit the ' +\n",
              "            '<a target=\"_blank\" href=https://colab.research.google.com/notebooks/data_table.ipynb>data table notebook</a>'\n",
              "            + ' to learn more about interactive tables.';\n",
              "          element.innerHTML = '';\n",
              "          dataTable['output_type'] = 'display_data';\n",
              "          await google.colab.output.renderOutput(dataTable, element);\n",
              "          const docLink = document.createElement('div');\n",
              "          docLink.innerHTML = docLinkHtml;\n",
              "          element.appendChild(docLink);\n",
              "        }\n",
              "      </script>\n",
              "    </div>\n",
              "  </div>\n",
              "  "
            ]
          },
          "metadata": {},
          "execution_count": 17
        }
      ]
    },
    {
      "cell_type": "code",
      "source": [
        "df_test.shape"
      ],
      "metadata": {
        "colab": {
          "base_uri": "https://localhost:8080/"
        },
        "id": "PecBHsYAH1ov",
        "outputId": "cf0d0175-83e6-4a42-addd-24219ec702e8"
      },
      "execution_count": 18,
      "outputs": [
        {
          "output_type": "execute_result",
          "data": {
            "text/plain": [
              "(318, 3)"
            ]
          },
          "metadata": {},
          "execution_count": 18
        }
      ]
    },
    {
      "cell_type": "markdown",
      "source": [
        "Теперь, перед тем как \"скормить\" данные модели, нужно аналогично трейну разделить их на предложения и привести слова в предложениях к нормальным формам, для правильной векторизации"
      ],
      "metadata": {
        "id": "9TcKPzauVSJZ"
      }
    },
    {
      "cell_type": "code",
      "source": [
        "df_test_splitted = split_df_texts_by_sentences(df_test.copy())\n",
        "df_test_lemmatized = lemmatize_splitted_df_sentences(df_test_splitted.copy(), stopwords_ru, morph)"
      ],
      "metadata": {
        "id": "bejWCeFzVRih"
      },
      "execution_count": 19,
      "outputs": []
    },
    {
      "cell_type": "markdown",
      "source": [
        "Далее передаём наши данные в функцию predict_sentence"
      ],
      "metadata": {
        "id": "JCqCdUuHWKhu"
      }
    },
    {
      "cell_type": "code",
      "source": [
        "test_predictions = predict_sentence(df_test_lemmatized, df_test_splitted, min_garantee_enforcement_rate=0.95)"
      ],
      "metadata": {
        "id": "UIzl90eaV8tl"
      },
      "execution_count": 20,
      "outputs": []
    },
    {
      "cell_type": "markdown",
      "source": [
        "Далее необходимо привести предсказания к формату сдачи задания. Например: \n",
        "```\n",
        "\"extracted_part\": {\n",
        "      \"text\": [\n",
        "        \"Поставщик должен предоставить обеспечение исполнения контракта в размере 10 % от цены Контракта.\"\n",
        "      ],\n",
        "      \"answer_start\": [\n",
        "        1222\n",
        "      ],\n",
        "      \"answer_end\": [\n",
        "        1318\n",
        "      ]\n",
        "    }\n",
        "```"
      ],
      "metadata": {
        "id": "DtMgGaBaW_pE"
      }
    },
    {
      "cell_type": "code",
      "source": [
        "df_test_extracted_part = get_extracted_part_from_dataset(df_test, test_predictions)  # формируем список словарей для ответа"
      ],
      "metadata": {
        "id": "_WVAw49sW7-4"
      },
      "execution_count": 21,
      "outputs": []
    },
    {
      "cell_type": "code",
      "source": [
        "df_test_extracted_part_series = pd.Series(df_test_extracted_part)  # создаём объект Series из списка словарей\n",
        "df_test_extracted_part_series"
      ],
      "metadata": {
        "colab": {
          "base_uri": "https://localhost:8080/"
        },
        "id": "WWStvf3tswCC",
        "outputId": "9265fc61-a6dd-4cd4-f4b2-5aafc8a28586"
      },
      "execution_count": 22,
      "outputs": [
        {
          "output_type": "execute_result",
          "data": {
            "text/plain": [
              "0      {'text': ['Размер обеспечения исполнения Контр...\n",
              "1      {'text': ['Размер обеспечения исполнения контр...\n",
              "2      {'text': ['Размер обеспечение исполнения контр...\n",
              "3      {'text': ['Размер обеспечение исполнения контр...\n",
              "4      {'text': ['Размер обеспечение исполнения контр...\n",
              "                             ...                        \n",
              "313    {'text': [''], 'answer_start': [0], 'answer_en...\n",
              "314    {'text': ['Размер обеспечения гарантийных обяз...\n",
              "315    {'text': [''], 'answer_start': [0], 'answer_en...\n",
              "316    {'text': [''], 'answer_start': [0], 'answer_en...\n",
              "317    {'text': [''], 'answer_start': [0], 'answer_en...\n",
              "Length: 318, dtype: object"
            ]
          },
          "metadata": {},
          "execution_count": 22
        }
      ]
    },
    {
      "cell_type": "code",
      "source": [
        "df_test['extracted_part'] = df_test_extracted_part_series  # добавляем объект Series в колонку extracted_part"
      ],
      "metadata": {
        "id": "pBfMSJe0s5Bq"
      },
      "execution_count": 23,
      "outputs": []
    },
    {
      "cell_type": "code",
      "source": [
        "df_test.sample(5)"
      ],
      "metadata": {
        "colab": {
          "base_uri": "https://localhost:8080/",
          "height": 337
        },
        "id": "hu_GA9rftIU-",
        "outputId": "15a06c1b-f7b8-488f-c1e1-422934505b4d"
      },
      "execution_count": 24,
      "outputs": [
        {
          "output_type": "execute_result",
          "data": {
            "text/plain": [
              "            id                                               text  \\\n",
              "189  647279640  ПРОЕКТ Муниципальный контракт № ______________...   \n",
              "178  967546466  ПРОЕКТ ДОГОВОРА ПОСТАВКИ №___ г. Псков «______...   \n",
              "164  326205870  33 АО «ИТМО Хайпарк» ОГРН 1177847389389 191124...   \n",
              "210  108391202  «УТВЕРЖДАЮ» И.о. директора Читинского филиала ...   \n",
              "221  430216673  Извещение о проведении электронного аукциона д...   \n",
              "\n",
              "                                    label  \\\n",
              "189  обеспечение гарантийных обязательств   \n",
              "178      обеспечение исполнения контракта   \n",
              "164      обеспечение исполнения контракта   \n",
              "210  обеспечение гарантийных обязательств   \n",
              "221  обеспечение гарантийных обязательств   \n",
              "\n",
              "                                        extracted_part  \n",
              "189  {'text': [''], 'answer_start': [0], 'answer_en...  \n",
              "178  {'text': ['Размер обеспечения составляет: а) д...  \n",
              "164  {'text': ['В случае, если размер аванса превыш...  \n",
              "210  {'text': ['Размер обеспечения гарантийных обяз...  \n",
              "221  {'text': ['Размер обеспечения гарантийных обяз...  "
            ],
            "text/html": [
              "\n",
              "  <div id=\"df-ab42672d-174e-4569-9295-8b8910e7b636\">\n",
              "    <div class=\"colab-df-container\">\n",
              "      <div>\n",
              "<style scoped>\n",
              "    .dataframe tbody tr th:only-of-type {\n",
              "        vertical-align: middle;\n",
              "    }\n",
              "\n",
              "    .dataframe tbody tr th {\n",
              "        vertical-align: top;\n",
              "    }\n",
              "\n",
              "    .dataframe thead th {\n",
              "        text-align: right;\n",
              "    }\n",
              "</style>\n",
              "<table border=\"1\" class=\"dataframe\">\n",
              "  <thead>\n",
              "    <tr style=\"text-align: right;\">\n",
              "      <th></th>\n",
              "      <th>id</th>\n",
              "      <th>text</th>\n",
              "      <th>label</th>\n",
              "      <th>extracted_part</th>\n",
              "    </tr>\n",
              "  </thead>\n",
              "  <tbody>\n",
              "    <tr>\n",
              "      <th>189</th>\n",
              "      <td>647279640</td>\n",
              "      <td>ПРОЕКТ Муниципальный контракт № ______________...</td>\n",
              "      <td>обеспечение гарантийных обязательств</td>\n",
              "      <td>{'text': [''], 'answer_start': [0], 'answer_en...</td>\n",
              "    </tr>\n",
              "    <tr>\n",
              "      <th>178</th>\n",
              "      <td>967546466</td>\n",
              "      <td>ПРОЕКТ ДОГОВОРА ПОСТАВКИ №___ г. Псков «______...</td>\n",
              "      <td>обеспечение исполнения контракта</td>\n",
              "      <td>{'text': ['Размер обеспечения составляет: а) д...</td>\n",
              "    </tr>\n",
              "    <tr>\n",
              "      <th>164</th>\n",
              "      <td>326205870</td>\n",
              "      <td>33 АО «ИТМО Хайпарк» ОГРН 1177847389389 191124...</td>\n",
              "      <td>обеспечение исполнения контракта</td>\n",
              "      <td>{'text': ['В случае, если размер аванса превыш...</td>\n",
              "    </tr>\n",
              "    <tr>\n",
              "      <th>210</th>\n",
              "      <td>108391202</td>\n",
              "      <td>«УТВЕРЖДАЮ» И.о. директора Читинского филиала ...</td>\n",
              "      <td>обеспечение гарантийных обязательств</td>\n",
              "      <td>{'text': ['Размер обеспечения гарантийных обяз...</td>\n",
              "    </tr>\n",
              "    <tr>\n",
              "      <th>221</th>\n",
              "      <td>430216673</td>\n",
              "      <td>Извещение о проведении электронного аукциона д...</td>\n",
              "      <td>обеспечение гарантийных обязательств</td>\n",
              "      <td>{'text': ['Размер обеспечения гарантийных обяз...</td>\n",
              "    </tr>\n",
              "  </tbody>\n",
              "</table>\n",
              "</div>\n",
              "      <button class=\"colab-df-convert\" onclick=\"convertToInteractive('df-ab42672d-174e-4569-9295-8b8910e7b636')\"\n",
              "              title=\"Convert this dataframe to an interactive table.\"\n",
              "              style=\"display:none;\">\n",
              "        \n",
              "  <svg xmlns=\"http://www.w3.org/2000/svg\" height=\"24px\"viewBox=\"0 0 24 24\"\n",
              "       width=\"24px\">\n",
              "    <path d=\"M0 0h24v24H0V0z\" fill=\"none\"/>\n",
              "    <path d=\"M18.56 5.44l.94 2.06.94-2.06 2.06-.94-2.06-.94-.94-2.06-.94 2.06-2.06.94zm-11 1L8.5 8.5l.94-2.06 2.06-.94-2.06-.94L8.5 2.5l-.94 2.06-2.06.94zm10 10l.94 2.06.94-2.06 2.06-.94-2.06-.94-.94-2.06-.94 2.06-2.06.94z\"/><path d=\"M17.41 7.96l-1.37-1.37c-.4-.4-.92-.59-1.43-.59-.52 0-1.04.2-1.43.59L10.3 9.45l-7.72 7.72c-.78.78-.78 2.05 0 2.83L4 21.41c.39.39.9.59 1.41.59.51 0 1.02-.2 1.41-.59l7.78-7.78 2.81-2.81c.8-.78.8-2.07 0-2.86zM5.41 20L4 18.59l7.72-7.72 1.47 1.35L5.41 20z\"/>\n",
              "  </svg>\n",
              "      </button>\n",
              "      \n",
              "  <style>\n",
              "    .colab-df-container {\n",
              "      display:flex;\n",
              "      flex-wrap:wrap;\n",
              "      gap: 12px;\n",
              "    }\n",
              "\n",
              "    .colab-df-convert {\n",
              "      background-color: #E8F0FE;\n",
              "      border: none;\n",
              "      border-radius: 50%;\n",
              "      cursor: pointer;\n",
              "      display: none;\n",
              "      fill: #1967D2;\n",
              "      height: 32px;\n",
              "      padding: 0 0 0 0;\n",
              "      width: 32px;\n",
              "    }\n",
              "\n",
              "    .colab-df-convert:hover {\n",
              "      background-color: #E2EBFA;\n",
              "      box-shadow: 0px 1px 2px rgba(60, 64, 67, 0.3), 0px 1px 3px 1px rgba(60, 64, 67, 0.15);\n",
              "      fill: #174EA6;\n",
              "    }\n",
              "\n",
              "    [theme=dark] .colab-df-convert {\n",
              "      background-color: #3B4455;\n",
              "      fill: #D2E3FC;\n",
              "    }\n",
              "\n",
              "    [theme=dark] .colab-df-convert:hover {\n",
              "      background-color: #434B5C;\n",
              "      box-shadow: 0px 1px 3px 1px rgba(0, 0, 0, 0.15);\n",
              "      filter: drop-shadow(0px 1px 2px rgba(0, 0, 0, 0.3));\n",
              "      fill: #FFFFFF;\n",
              "    }\n",
              "  </style>\n",
              "\n",
              "      <script>\n",
              "        const buttonEl =\n",
              "          document.querySelector('#df-ab42672d-174e-4569-9295-8b8910e7b636 button.colab-df-convert');\n",
              "        buttonEl.style.display =\n",
              "          google.colab.kernel.accessAllowed ? 'block' : 'none';\n",
              "\n",
              "        async function convertToInteractive(key) {\n",
              "          const element = document.querySelector('#df-ab42672d-174e-4569-9295-8b8910e7b636');\n",
              "          const dataTable =\n",
              "            await google.colab.kernel.invokeFunction('convertToInteractive',\n",
              "                                                     [key], {});\n",
              "          if (!dataTable) return;\n",
              "\n",
              "          const docLinkHtml = 'Like what you see? Visit the ' +\n",
              "            '<a target=\"_blank\" href=https://colab.research.google.com/notebooks/data_table.ipynb>data table notebook</a>'\n",
              "            + ' to learn more about interactive tables.';\n",
              "          element.innerHTML = '';\n",
              "          dataTable['output_type'] = 'display_data';\n",
              "          await google.colab.output.renderOutput(dataTable, element);\n",
              "          const docLink = document.createElement('div');\n",
              "          docLink.innerHTML = docLinkHtml;\n",
              "          element.appendChild(docLink);\n",
              "        }\n",
              "      </script>\n",
              "    </div>\n",
              "  </div>\n",
              "  "
            ]
          },
          "metadata": {},
          "execution_count": 24
        }
      ]
    },
    {
      "cell_type": "markdown",
      "source": [
        "### Сохранение результатов"
      ],
      "metadata": {
        "id": "xLYjEOQrNFtb"
      }
    },
    {
      "cell_type": "code",
      "source": [
        "df_test.to_json('predictions.json', orient='records', indent=2)  # сохраняем в json"
      ],
      "metadata": {
        "id": "alJ5kKYONE8V"
      },
      "execution_count": 43,
      "outputs": []
    },
    {
      "cell_type": "markdown",
      "source": [
        "### Выводы по исследованию"
      ],
      "metadata": {
        "id": "zqmVXj72NJvX"
      }
    },
    {
      "cell_type": "markdown",
      "source": [
        "По ходу исследования была реализована модель градиентного бустинга для разметки фрагментов текста. Максимальный результат accuracy на трейне показала пара моделей XGBoost - 70.3% попаданий. "
      ],
      "metadata": {
        "id": "MnrilYBvvFrJ"
      }
    },
    {
      "cell_type": "markdown",
      "source": [
        "Улучшить результат можно: \n",
        "\n",
        "*   Добавлением новых фич в обучающую выборку\n",
        "*   Проработкой обучающей выборки для моделей\n",
        "*   Использовать более сложные модели, нейронные сети\n",
        "*   Улучшением качества разбиения текстов\n",
        "*   Использовать готовые модели nlp для решения задачи NER, text summarization, information extraction (spacy и др.)\n",
        "\n",
        "\n",
        "\n",
        "\n",
        "\n",
        "\n"
      ],
      "metadata": {
        "id": "oobA75hk2b0_"
      }
    },
    {
      "cell_type": "markdown",
      "source": [
        "Также плохо повлияло на метрики неидеальное разбиение текстов на фрагменты, найден баг в разбиении предложений, не повлиявший на предсказания на тестовой выборке. При разбиении текста на фрагменты теряется изначальное количество пробелов в тексте. Т.е. если в тексте между словами стоит больше одного пробела, после разделения остаётся один. "
      ],
      "metadata": {
        "id": "AgK__Jfy4zzn"
      }
    },
    {
      "cell_type": "markdown",
      "source": [
        "Далее для развития проекта можно реализовать интерфейс, оптимизировать скорость работы и улучшить качество самой модели. "
      ],
      "metadata": {
        "id": "uQTvUJ3D53kI"
      }
    }
  ]
}
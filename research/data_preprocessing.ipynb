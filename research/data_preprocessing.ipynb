{
  "nbformat": 4,
  "nbformat_minor": 0,
  "metadata": {
    "colab": {
      "provenance": [],
      "collapsed_sections": [
        "or540QyLEhlb",
        "HTOcb8lGE2i2",
        "p-uQVAA3BT6z",
        "aWfmk-xEC-4l",
        "yuauqNowi0wF"
      ]
    },
    "kernelspec": {
      "name": "python3",
      "display_name": "Python 3"
    },
    "language_info": {
      "name": "python"
    }
  },
  "cells": [
    {
      "cell_type": "markdown",
      "source": [
        "### Установки"
      ],
      "metadata": {
        "id": "or540QyLEhlb"
      }
    },
    {
      "cell_type": "code",
      "source": [
        "!pip install pymorphy2\n",
        "%pip install spacy\n",
        "!python -m spacy download ru_core_news_lg"
      ],
      "metadata": {
        "colab": {
          "base_uri": "https://localhost:8080/"
        },
        "id": "xhhpdo3IEke1",
        "outputId": "ab5f24f3-b3ca-464e-ce45-a98a7a69d283"
      },
      "execution_count": 14,
      "outputs": [
        {
          "output_type": "stream",
          "name": "stdout",
          "text": [
            "Looking in indexes: https://pypi.org/simple, https://us-python.pkg.dev/colab-wheels/public/simple/\n",
            "Requirement already satisfied: pymorphy2 in /usr/local/lib/python3.9/dist-packages (0.9.1)\n",
            "Requirement already satisfied: docopt>=0.6 in /usr/local/lib/python3.9/dist-packages (from pymorphy2) (0.6.2)\n",
            "Requirement already satisfied: pymorphy2-dicts-ru<3.0,>=2.4 in /usr/local/lib/python3.9/dist-packages (from pymorphy2) (2.4.417127.4579844)\n",
            "Requirement already satisfied: dawg-python>=0.7.1 in /usr/local/lib/python3.9/dist-packages (from pymorphy2) (0.7.2)\n",
            "Looking in indexes: https://pypi.org/simple, https://us-python.pkg.dev/colab-wheels/public/simple/\n",
            "Requirement already satisfied: spacy in /usr/local/lib/python3.9/dist-packages (3.5.2)\n",
            "Requirement already satisfied: catalogue<2.1.0,>=2.0.6 in /usr/local/lib/python3.9/dist-packages (from spacy) (2.0.8)\n",
            "Requirement already satisfied: packaging>=20.0 in /usr/local/lib/python3.9/dist-packages (from spacy) (23.1)\n",
            "Requirement already satisfied: pydantic!=1.8,!=1.8.1,<1.11.0,>=1.7.4 in /usr/local/lib/python3.9/dist-packages (from spacy) (1.10.7)\n",
            "Requirement already satisfied: spacy-loggers<2.0.0,>=1.0.0 in /usr/local/lib/python3.9/dist-packages (from spacy) (1.0.4)\n",
            "Requirement already satisfied: tqdm<5.0.0,>=4.38.0 in /usr/local/lib/python3.9/dist-packages (from spacy) (4.65.0)\n",
            "Requirement already satisfied: langcodes<4.0.0,>=3.2.0 in /usr/local/lib/python3.9/dist-packages (from spacy) (3.3.0)\n",
            "Requirement already satisfied: srsly<3.0.0,>=2.4.3 in /usr/local/lib/python3.9/dist-packages (from spacy) (2.4.6)\n",
            "Requirement already satisfied: cymem<2.1.0,>=2.0.2 in /usr/local/lib/python3.9/dist-packages (from spacy) (2.0.7)\n",
            "Requirement already satisfied: smart-open<7.0.0,>=5.2.1 in /usr/local/lib/python3.9/dist-packages (from spacy) (6.3.0)\n",
            "Requirement already satisfied: thinc<8.2.0,>=8.1.8 in /usr/local/lib/python3.9/dist-packages (from spacy) (8.1.9)\n",
            "Requirement already satisfied: wasabi<1.2.0,>=0.9.1 in /usr/local/lib/python3.9/dist-packages (from spacy) (1.1.1)\n",
            "Requirement already satisfied: spacy-legacy<3.1.0,>=3.0.11 in /usr/local/lib/python3.9/dist-packages (from spacy) (3.0.12)\n",
            "Requirement already satisfied: requests<3.0.0,>=2.13.0 in /usr/local/lib/python3.9/dist-packages (from spacy) (2.27.1)\n",
            "Requirement already satisfied: preshed<3.1.0,>=3.0.2 in /usr/local/lib/python3.9/dist-packages (from spacy) (3.0.8)\n",
            "Requirement already satisfied: typer<0.8.0,>=0.3.0 in /usr/local/lib/python3.9/dist-packages (from spacy) (0.7.0)\n",
            "Requirement already satisfied: pathy>=0.10.0 in /usr/local/lib/python3.9/dist-packages (from spacy) (0.10.1)\n",
            "Requirement already satisfied: jinja2 in /usr/local/lib/python3.9/dist-packages (from spacy) (3.1.2)\n",
            "Requirement already satisfied: numpy>=1.15.0 in /usr/local/lib/python3.9/dist-packages (from spacy) (1.22.4)\n",
            "Requirement already satisfied: setuptools in /usr/local/lib/python3.9/dist-packages (from spacy) (67.6.1)\n",
            "Requirement already satisfied: murmurhash<1.1.0,>=0.28.0 in /usr/local/lib/python3.9/dist-packages (from spacy) (1.0.9)\n",
            "Requirement already satisfied: typing-extensions>=4.2.0 in /usr/local/lib/python3.9/dist-packages (from pydantic!=1.8,!=1.8.1,<1.11.0,>=1.7.4->spacy) (4.5.0)\n",
            "Requirement already satisfied: idna<4,>=2.5 in /usr/local/lib/python3.9/dist-packages (from requests<3.0.0,>=2.13.0->spacy) (3.4)\n",
            "Requirement already satisfied: charset-normalizer~=2.0.0 in /usr/local/lib/python3.9/dist-packages (from requests<3.0.0,>=2.13.0->spacy) (2.0.12)\n",
            "Requirement already satisfied: urllib3<1.27,>=1.21.1 in /usr/local/lib/python3.9/dist-packages (from requests<3.0.0,>=2.13.0->spacy) (1.26.15)\n",
            "Requirement already satisfied: certifi>=2017.4.17 in /usr/local/lib/python3.9/dist-packages (from requests<3.0.0,>=2.13.0->spacy) (2022.12.7)\n",
            "Requirement already satisfied: confection<1.0.0,>=0.0.1 in /usr/local/lib/python3.9/dist-packages (from thinc<8.2.0,>=8.1.8->spacy) (0.0.4)\n",
            "Requirement already satisfied: blis<0.8.0,>=0.7.8 in /usr/local/lib/python3.9/dist-packages (from thinc<8.2.0,>=8.1.8->spacy) (0.7.9)\n",
            "Requirement already satisfied: click<9.0.0,>=7.1.1 in /usr/local/lib/python3.9/dist-packages (from typer<0.8.0,>=0.3.0->spacy) (8.1.3)\n",
            "Requirement already satisfied: MarkupSafe>=2.0 in /usr/local/lib/python3.9/dist-packages (from jinja2->spacy) (2.1.2)\n",
            "2023-04-23 08:03:20.466724: I tensorflow/core/platform/cpu_feature_guard.cc:182] This TensorFlow binary is optimized to use available CPU instructions in performance-critical operations.\n",
            "To enable the following instructions: AVX2 FMA, in other operations, rebuild TensorFlow with the appropriate compiler flags.\n",
            "2023-04-23 08:03:21.934513: W tensorflow/compiler/tf2tensorrt/utils/py_utils.cc:38] TF-TRT Warning: Could not find TensorRT\n",
            "Looking in indexes: https://pypi.org/simple, https://us-python.pkg.dev/colab-wheels/public/simple/\n",
            "Collecting ru-core-news-lg==3.5.0\n",
            "  Downloading https://github.com/explosion/spacy-models/releases/download/ru_core_news_lg-3.5.0/ru_core_news_lg-3.5.0-py3-none-any.whl (513.4 MB)\n",
            "\u001b[2K     \u001b[90m━━━━━━━━━━━━━━━━━━━━━━━━━━━━━━━━━━━━━━━\u001b[0m \u001b[32m513.4/513.4 MB\u001b[0m \u001b[31m2.4 MB/s\u001b[0m eta \u001b[36m0:00:00\u001b[0m\n",
            "\u001b[?25hRequirement already satisfied: spacy<3.6.0,>=3.5.0 in /usr/local/lib/python3.9/dist-packages (from ru-core-news-lg==3.5.0) (3.5.2)\n",
            "Requirement already satisfied: pymorphy3>=1.0.0 in /usr/local/lib/python3.9/dist-packages (from ru-core-news-lg==3.5.0) (1.2.0)\n",
            "Requirement already satisfied: docopt>=0.6 in /usr/local/lib/python3.9/dist-packages (from pymorphy3>=1.0.0->ru-core-news-lg==3.5.0) (0.6.2)\n",
            "Requirement already satisfied: pymorphy3-dicts-ru in /usr/local/lib/python3.9/dist-packages (from pymorphy3>=1.0.0->ru-core-news-lg==3.5.0) (2.4.417150.4580142)\n",
            "Requirement already satisfied: dawg-python>=0.7.1 in /usr/local/lib/python3.9/dist-packages (from pymorphy3>=1.0.0->ru-core-news-lg==3.5.0) (0.7.2)\n",
            "Requirement already satisfied: tqdm<5.0.0,>=4.38.0 in /usr/local/lib/python3.9/dist-packages (from spacy<3.6.0,>=3.5.0->ru-core-news-lg==3.5.0) (4.65.0)\n",
            "Requirement already satisfied: setuptools in /usr/local/lib/python3.9/dist-packages (from spacy<3.6.0,>=3.5.0->ru-core-news-lg==3.5.0) (67.6.1)\n",
            "Requirement already satisfied: langcodes<4.0.0,>=3.2.0 in /usr/local/lib/python3.9/dist-packages (from spacy<3.6.0,>=3.5.0->ru-core-news-lg==3.5.0) (3.3.0)\n",
            "Requirement already satisfied: thinc<8.2.0,>=8.1.8 in /usr/local/lib/python3.9/dist-packages (from spacy<3.6.0,>=3.5.0->ru-core-news-lg==3.5.0) (8.1.9)\n",
            "Requirement already satisfied: cymem<2.1.0,>=2.0.2 in /usr/local/lib/python3.9/dist-packages (from spacy<3.6.0,>=3.5.0->ru-core-news-lg==3.5.0) (2.0.7)\n",
            "Requirement already satisfied: jinja2 in /usr/local/lib/python3.9/dist-packages (from spacy<3.6.0,>=3.5.0->ru-core-news-lg==3.5.0) (3.1.2)\n",
            "Requirement already satisfied: catalogue<2.1.0,>=2.0.6 in /usr/local/lib/python3.9/dist-packages (from spacy<3.6.0,>=3.5.0->ru-core-news-lg==3.5.0) (2.0.8)\n",
            "Requirement already satisfied: preshed<3.1.0,>=3.0.2 in /usr/local/lib/python3.9/dist-packages (from spacy<3.6.0,>=3.5.0->ru-core-news-lg==3.5.0) (3.0.8)\n",
            "Requirement already satisfied: srsly<3.0.0,>=2.4.3 in /usr/local/lib/python3.9/dist-packages (from spacy<3.6.0,>=3.5.0->ru-core-news-lg==3.5.0) (2.4.6)\n",
            "Requirement already satisfied: numpy>=1.15.0 in /usr/local/lib/python3.9/dist-packages (from spacy<3.6.0,>=3.5.0->ru-core-news-lg==3.5.0) (1.22.4)\n",
            "Requirement already satisfied: pydantic!=1.8,!=1.8.1,<1.11.0,>=1.7.4 in /usr/local/lib/python3.9/dist-packages (from spacy<3.6.0,>=3.5.0->ru-core-news-lg==3.5.0) (1.10.7)\n",
            "Requirement already satisfied: pathy>=0.10.0 in /usr/local/lib/python3.9/dist-packages (from spacy<3.6.0,>=3.5.0->ru-core-news-lg==3.5.0) (0.10.1)\n",
            "Requirement already satisfied: spacy-loggers<2.0.0,>=1.0.0 in /usr/local/lib/python3.9/dist-packages (from spacy<3.6.0,>=3.5.0->ru-core-news-lg==3.5.0) (1.0.4)\n",
            "Requirement already satisfied: murmurhash<1.1.0,>=0.28.0 in /usr/local/lib/python3.9/dist-packages (from spacy<3.6.0,>=3.5.0->ru-core-news-lg==3.5.0) (1.0.9)\n",
            "Requirement already satisfied: spacy-legacy<3.1.0,>=3.0.11 in /usr/local/lib/python3.9/dist-packages (from spacy<3.6.0,>=3.5.0->ru-core-news-lg==3.5.0) (3.0.12)\n",
            "Requirement already satisfied: requests<3.0.0,>=2.13.0 in /usr/local/lib/python3.9/dist-packages (from spacy<3.6.0,>=3.5.0->ru-core-news-lg==3.5.0) (2.27.1)\n",
            "Requirement already satisfied: smart-open<7.0.0,>=5.2.1 in /usr/local/lib/python3.9/dist-packages (from spacy<3.6.0,>=3.5.0->ru-core-news-lg==3.5.0) (6.3.0)\n",
            "Requirement already satisfied: wasabi<1.2.0,>=0.9.1 in /usr/local/lib/python3.9/dist-packages (from spacy<3.6.0,>=3.5.0->ru-core-news-lg==3.5.0) (1.1.1)\n",
            "Requirement already satisfied: packaging>=20.0 in /usr/local/lib/python3.9/dist-packages (from spacy<3.6.0,>=3.5.0->ru-core-news-lg==3.5.0) (23.1)\n",
            "Requirement already satisfied: typer<0.8.0,>=0.3.0 in /usr/local/lib/python3.9/dist-packages (from spacy<3.6.0,>=3.5.0->ru-core-news-lg==3.5.0) (0.7.0)\n",
            "Requirement already satisfied: typing-extensions>=4.2.0 in /usr/local/lib/python3.9/dist-packages (from pydantic!=1.8,!=1.8.1,<1.11.0,>=1.7.4->spacy<3.6.0,>=3.5.0->ru-core-news-lg==3.5.0) (4.5.0)\n",
            "Requirement already satisfied: idna<4,>=2.5 in /usr/local/lib/python3.9/dist-packages (from requests<3.0.0,>=2.13.0->spacy<3.6.0,>=3.5.0->ru-core-news-lg==3.5.0) (3.4)\n",
            "Requirement already satisfied: certifi>=2017.4.17 in /usr/local/lib/python3.9/dist-packages (from requests<3.0.0,>=2.13.0->spacy<3.6.0,>=3.5.0->ru-core-news-lg==3.5.0) (2022.12.7)\n",
            "Requirement already satisfied: urllib3<1.27,>=1.21.1 in /usr/local/lib/python3.9/dist-packages (from requests<3.0.0,>=2.13.0->spacy<3.6.0,>=3.5.0->ru-core-news-lg==3.5.0) (1.26.15)\n",
            "Requirement already satisfied: charset-normalizer~=2.0.0 in /usr/local/lib/python3.9/dist-packages (from requests<3.0.0,>=2.13.0->spacy<3.6.0,>=3.5.0->ru-core-news-lg==3.5.0) (2.0.12)\n",
            "Requirement already satisfied: confection<1.0.0,>=0.0.1 in /usr/local/lib/python3.9/dist-packages (from thinc<8.2.0,>=8.1.8->spacy<3.6.0,>=3.5.0->ru-core-news-lg==3.5.0) (0.0.4)\n",
            "Requirement already satisfied: blis<0.8.0,>=0.7.8 in /usr/local/lib/python3.9/dist-packages (from thinc<8.2.0,>=8.1.8->spacy<3.6.0,>=3.5.0->ru-core-news-lg==3.5.0) (0.7.9)\n",
            "Requirement already satisfied: click<9.0.0,>=7.1.1 in /usr/local/lib/python3.9/dist-packages (from typer<0.8.0,>=0.3.0->spacy<3.6.0,>=3.5.0->ru-core-news-lg==3.5.0) (8.1.3)\n",
            "Requirement already satisfied: MarkupSafe>=2.0 in /usr/local/lib/python3.9/dist-packages (from jinja2->spacy<3.6.0,>=3.5.0->ru-core-news-lg==3.5.0) (2.1.2)\n",
            "\u001b[38;5;2m✔ Download and installation successful\u001b[0m\n",
            "You can now load the package via spacy.load('ru_core_news_lg')\n"
          ]
        }
      ]
    },
    {
      "cell_type": "markdown",
      "source": [
        "### Импорт"
      ],
      "metadata": {
        "id": "HTOcb8lGE2i2"
      }
    },
    {
      "cell_type": "code",
      "execution_count": 15,
      "metadata": {
        "id": "UExd-Ooe9bh8"
      },
      "outputs": [],
      "source": [
        "from pymorphy2 import MorphAnalyzer\n",
        "from nltk.corpus import stopwords\n",
        "from random import randint\n",
        "from pprint import pprint\n",
        "\n",
        "import pandas as pd\n",
        "import numpy as np\n",
        "import pickle\n",
        "import nltk\n",
        "import json\n",
        "import gc\n",
        "import re"
      ]
    },
    {
      "cell_type": "markdown",
      "source": [
        "\n",
        "\n",
        "*   распаковка json\n",
        "*   знакомство с данными\n",
        "*   разбиение текстов на  предложения\n",
        "*   лемматизация и очищение от стоп-слов\n",
        "\n"
      ],
      "metadata": {
        "id": "R38fbOHz4Asc"
      }
    },
    {
      "cell_type": "markdown",
      "source": [
        "### распаковка json, приведение к удобному виду для pandas"
      ],
      "metadata": {
        "id": "p-uQVAA3BT6z"
      }
    },
    {
      "cell_type": "code",
      "source": [
        "with open('/content/train.json', 'r', encoding='utf-8') as f:\n",
        "  json_data = json.load(f)\n",
        "len(json_data)"
      ],
      "metadata": {
        "colab": {
          "base_uri": "https://localhost:8080/",
          "height": 202
        },
        "id": "jfqodarQ-ZfY",
        "outputId": "d1c4077a-a53b-429e-8469-42923639c1b3"
      },
      "execution_count": null,
      "outputs": [
        {
          "output_type": "error",
          "ename": "FileNotFoundError",
          "evalue": "ignored",
          "traceback": [
            "\u001b[0;31m---------------------------------------------------------------------------\u001b[0m",
            "\u001b[0;31mFileNotFoundError\u001b[0m                         Traceback (most recent call last)",
            "\u001b[0;32m<ipython-input-4-4236d4a1b49d>\u001b[0m in \u001b[0;36m<cell line: 1>\u001b[0;34m()\u001b[0m\n\u001b[0;32m----> 1\u001b[0;31m \u001b[0;32mwith\u001b[0m \u001b[0mopen\u001b[0m\u001b[0;34m(\u001b[0m\u001b[0;34m'/content/train.json'\u001b[0m\u001b[0;34m,\u001b[0m \u001b[0;34m'r'\u001b[0m\u001b[0;34m,\u001b[0m \u001b[0mencoding\u001b[0m\u001b[0;34m=\u001b[0m\u001b[0;34m'utf-8'\u001b[0m\u001b[0;34m)\u001b[0m \u001b[0;32mas\u001b[0m \u001b[0mf\u001b[0m\u001b[0;34m:\u001b[0m\u001b[0;34m\u001b[0m\u001b[0;34m\u001b[0m\u001b[0m\n\u001b[0m\u001b[1;32m      2\u001b[0m   \u001b[0mjson_data\u001b[0m \u001b[0;34m=\u001b[0m \u001b[0mjson\u001b[0m\u001b[0;34m.\u001b[0m\u001b[0mload\u001b[0m\u001b[0;34m(\u001b[0m\u001b[0mf\u001b[0m\u001b[0;34m)\u001b[0m\u001b[0;34m\u001b[0m\u001b[0;34m\u001b[0m\u001b[0m\n\u001b[1;32m      3\u001b[0m \u001b[0mlen\u001b[0m\u001b[0;34m(\u001b[0m\u001b[0mjson_data\u001b[0m\u001b[0;34m)\u001b[0m\u001b[0;34m\u001b[0m\u001b[0;34m\u001b[0m\u001b[0m\n",
            "\u001b[0;31mFileNotFoundError\u001b[0m: [Errno 2] No such file or directory: '/content/train.json'"
          ]
        }
      ]
    },
    {
      "cell_type": "code",
      "source": [
        "json_data[0]['extracted_part']"
      ],
      "metadata": {
        "id": "1KKnjmOu-zvm"
      },
      "execution_count": null,
      "outputs": []
    },
    {
      "cell_type": "code",
      "source": [
        "json_data[0]['text'][1279:1343]\n"
      ],
      "metadata": {
        "id": "W7Ix7uBc_6Sy"
      },
      "execution_count": null,
      "outputs": []
    },
    {
      "cell_type": "code",
      "source": [
        "lenght = len(json_data)\n",
        "for i in range(lenght):\n",
        "  target = json_data[i]['extracted_part']['text'][0]\n",
        "  if target:\n",
        "    json_data[i]['target'] = target\n",
        "\n",
        "  else: \n",
        "    json_data[i]['target'] = np.nan\n",
        "\n",
        "  del json_data[i]['extracted_part']\n",
        "  \n",
        "json_data[0]"
      ],
      "metadata": {
        "id": "nX7V8aDrBLYi"
      },
      "execution_count": null,
      "outputs": []
    },
    {
      "cell_type": "code",
      "source": [
        "with open('train_unpacked.json', 'w') as f:\n",
        "  json.dump(json_data, f)"
      ],
      "metadata": {
        "id": "33GS2kYZCH15"
      },
      "execution_count": null,
      "outputs": []
    },
    {
      "cell_type": "code",
      "source": [
        "del json_data\n",
        "gc.collect()"
      ],
      "metadata": {
        "id": "c-pYHi54C3pI"
      },
      "execution_count": null,
      "outputs": []
    },
    {
      "cell_type": "markdown",
      "source": [
        "### откроем в pandas посмотрим на данные"
      ],
      "metadata": {
        "id": "aWfmk-xEC-4l"
      }
    },
    {
      "cell_type": "code",
      "source": [
        "df = pd.read_json('/content/train_unpacked.json', encoding='utf-8')\n",
        "df.sample(3)"
      ],
      "metadata": {
        "colab": {
          "base_uri": "https://localhost:8080/",
          "height": 416
        },
        "id": "hFZZz7V2C97l",
        "outputId": "d1f656d9-8a1a-4555-f679-93bc1cc7a225"
      },
      "execution_count": null,
      "outputs": [
        {
          "output_type": "execute_result",
          "data": {
            "text/plain": [
              "            id                                               text  \\\n",
              "164  621939083  13 ПРОЕКТ КОНТРАКТ №____ на поставку товаров г...   \n",
              "217   56810761  32 УТВЕРЖДАЮ Начальник департамента городского...   \n",
              "183  981282799  Извещение о проведении запроса котировок в эле...   \n",
              "\n",
              "                                    label  \\\n",
              "164      обеспечение исполнения контракта   \n",
              "217  обеспечение гарантийных обязательств   \n",
              "183      обеспечение исполнения контракта   \n",
              "\n",
              "                                                target  \n",
              "164  Размер обеспечения исполнения Контракта состав...  \n",
              "217  Размер обеспечения гарантийных обязательств по...  \n",
              "183  Размер обеспечения исполнения контракта 24578....  "
            ],
            "text/html": [
              "\n",
              "  <div id=\"df-d3fa795c-dcff-4caa-8a4c-2d48d17ac19b\">\n",
              "    <div class=\"colab-df-container\">\n",
              "      <div>\n",
              "<style scoped>\n",
              "    .dataframe tbody tr th:only-of-type {\n",
              "        vertical-align: middle;\n",
              "    }\n",
              "\n",
              "    .dataframe tbody tr th {\n",
              "        vertical-align: top;\n",
              "    }\n",
              "\n",
              "    .dataframe thead th {\n",
              "        text-align: right;\n",
              "    }\n",
              "</style>\n",
              "<table border=\"1\" class=\"dataframe\">\n",
              "  <thead>\n",
              "    <tr style=\"text-align: right;\">\n",
              "      <th></th>\n",
              "      <th>id</th>\n",
              "      <th>text</th>\n",
              "      <th>label</th>\n",
              "      <th>target</th>\n",
              "    </tr>\n",
              "  </thead>\n",
              "  <tbody>\n",
              "    <tr>\n",
              "      <th>164</th>\n",
              "      <td>621939083</td>\n",
              "      <td>13 ПРОЕКТ КОНТРАКТ №____ на поставку товаров г...</td>\n",
              "      <td>обеспечение исполнения контракта</td>\n",
              "      <td>Размер обеспечения исполнения Контракта состав...</td>\n",
              "    </tr>\n",
              "    <tr>\n",
              "      <th>217</th>\n",
              "      <td>56810761</td>\n",
              "      <td>32 УТВЕРЖДАЮ Начальник департамента городского...</td>\n",
              "      <td>обеспечение гарантийных обязательств</td>\n",
              "      <td>Размер обеспечения гарантийных обязательств по...</td>\n",
              "    </tr>\n",
              "    <tr>\n",
              "      <th>183</th>\n",
              "      <td>981282799</td>\n",
              "      <td>Извещение о проведении запроса котировок в эле...</td>\n",
              "      <td>обеспечение исполнения контракта</td>\n",
              "      <td>Размер обеспечения исполнения контракта 24578....</td>\n",
              "    </tr>\n",
              "  </tbody>\n",
              "</table>\n",
              "</div>\n",
              "      <button class=\"colab-df-convert\" onclick=\"convertToInteractive('df-d3fa795c-dcff-4caa-8a4c-2d48d17ac19b')\"\n",
              "              title=\"Convert this dataframe to an interactive table.\"\n",
              "              style=\"display:none;\">\n",
              "        \n",
              "  <svg xmlns=\"http://www.w3.org/2000/svg\" height=\"24px\"viewBox=\"0 0 24 24\"\n",
              "       width=\"24px\">\n",
              "    <path d=\"M0 0h24v24H0V0z\" fill=\"none\"/>\n",
              "    <path d=\"M18.56 5.44l.94 2.06.94-2.06 2.06-.94-2.06-.94-.94-2.06-.94 2.06-2.06.94zm-11 1L8.5 8.5l.94-2.06 2.06-.94-2.06-.94L8.5 2.5l-.94 2.06-2.06.94zm10 10l.94 2.06.94-2.06 2.06-.94-2.06-.94-.94-2.06-.94 2.06-2.06.94z\"/><path d=\"M17.41 7.96l-1.37-1.37c-.4-.4-.92-.59-1.43-.59-.52 0-1.04.2-1.43.59L10.3 9.45l-7.72 7.72c-.78.78-.78 2.05 0 2.83L4 21.41c.39.39.9.59 1.41.59.51 0 1.02-.2 1.41-.59l7.78-7.78 2.81-2.81c.8-.78.8-2.07 0-2.86zM5.41 20L4 18.59l7.72-7.72 1.47 1.35L5.41 20z\"/>\n",
              "  </svg>\n",
              "      </button>\n",
              "      \n",
              "  <style>\n",
              "    .colab-df-container {\n",
              "      display:flex;\n",
              "      flex-wrap:wrap;\n",
              "      gap: 12px;\n",
              "    }\n",
              "\n",
              "    .colab-df-convert {\n",
              "      background-color: #E8F0FE;\n",
              "      border: none;\n",
              "      border-radius: 50%;\n",
              "      cursor: pointer;\n",
              "      display: none;\n",
              "      fill: #1967D2;\n",
              "      height: 32px;\n",
              "      padding: 0 0 0 0;\n",
              "      width: 32px;\n",
              "    }\n",
              "\n",
              "    .colab-df-convert:hover {\n",
              "      background-color: #E2EBFA;\n",
              "      box-shadow: 0px 1px 2px rgba(60, 64, 67, 0.3), 0px 1px 3px 1px rgba(60, 64, 67, 0.15);\n",
              "      fill: #174EA6;\n",
              "    }\n",
              "\n",
              "    [theme=dark] .colab-df-convert {\n",
              "      background-color: #3B4455;\n",
              "      fill: #D2E3FC;\n",
              "    }\n",
              "\n",
              "    [theme=dark] .colab-df-convert:hover {\n",
              "      background-color: #434B5C;\n",
              "      box-shadow: 0px 1px 3px 1px rgba(0, 0, 0, 0.15);\n",
              "      filter: drop-shadow(0px 1px 2px rgba(0, 0, 0, 0.3));\n",
              "      fill: #FFFFFF;\n",
              "    }\n",
              "  </style>\n",
              "\n",
              "      <script>\n",
              "        const buttonEl =\n",
              "          document.querySelector('#df-d3fa795c-dcff-4caa-8a4c-2d48d17ac19b button.colab-df-convert');\n",
              "        buttonEl.style.display =\n",
              "          google.colab.kernel.accessAllowed ? 'block' : 'none';\n",
              "\n",
              "        async function convertToInteractive(key) {\n",
              "          const element = document.querySelector('#df-d3fa795c-dcff-4caa-8a4c-2d48d17ac19b');\n",
              "          const dataTable =\n",
              "            await google.colab.kernel.invokeFunction('convertToInteractive',\n",
              "                                                     [key], {});\n",
              "          if (!dataTable) return;\n",
              "\n",
              "          const docLinkHtml = 'Like what you see? Visit the ' +\n",
              "            '<a target=\"_blank\" href=https://colab.research.google.com/notebooks/data_table.ipynb>data table notebook</a>'\n",
              "            + ' to learn more about interactive tables.';\n",
              "          element.innerHTML = '';\n",
              "          dataTable['output_type'] = 'display_data';\n",
              "          await google.colab.output.renderOutput(dataTable, element);\n",
              "          const docLink = document.createElement('div');\n",
              "          docLink.innerHTML = docLinkHtml;\n",
              "          element.appendChild(docLink);\n",
              "        }\n",
              "      </script>\n",
              "    </div>\n",
              "  </div>\n",
              "  "
            ]
          },
          "metadata": {},
          "execution_count": 51
        }
      ]
    },
    {
      "cell_type": "code",
      "source": [
        "df.info()"
      ],
      "metadata": {
        "colab": {
          "base_uri": "https://localhost:8080/"
        },
        "id": "2-QAas7SDNG2",
        "outputId": "ae20cca0-64c1-428d-a872-ab000927fd0d"
      },
      "execution_count": null,
      "outputs": [
        {
          "output_type": "stream",
          "name": "stdout",
          "text": [
            "<class 'pandas.core.frame.DataFrame'>\n",
            "RangeIndex: 1799 entries, 0 to 1798\n",
            "Data columns (total 4 columns):\n",
            " #   Column  Non-Null Count  Dtype \n",
            "---  ------  --------------  ----- \n",
            " 0   id      1799 non-null   int64 \n",
            " 1   text    1799 non-null   object\n",
            " 2   label   1799 non-null   object\n",
            " 3   target  1492 non-null   object\n",
            "dtypes: int64(1), object(3)\n",
            "memory usage: 56.3+ KB\n"
          ]
        }
      ]
    },
    {
      "cell_type": "markdown",
      "source": [
        "Посмотрим поближе на сами тексты"
      ],
      "metadata": {
        "id": "9OGb1BISAudI"
      }
    },
    {
      "cell_type": "code",
      "source": [
        "df['label'].value_counts()"
      ],
      "metadata": {
        "colab": {
          "base_uri": "https://localhost:8080/"
        },
        "id": "oQE96x86zpuZ",
        "outputId": "770ad276-e953-4df5-dd4a-cd825199ee2c"
      },
      "execution_count": null,
      "outputs": [
        {
          "output_type": "execute_result",
          "data": {
            "text/plain": [
              "обеспечение исполнения контракта        988\n",
              "обеспечение гарантийных обязательств    811\n",
              "Name: label, dtype: int64"
            ]
          },
          "metadata": {},
          "execution_count": 53
        }
      ]
    },
    {
      "cell_type": "code",
      "source": [
        "string = randint(0, 1799)\n",
        "df.loc[string, 'text'], df.loc[string, 'label'], df.loc[string, 'target'] "
      ],
      "metadata": {
        "colab": {
          "base_uri": "https://localhost:8080/"
        },
        "id": "iepdkD-PEKxF",
        "outputId": "b8c0f504-a911-4501-9e11-d79a5f67c9d5"
      },
      "execution_count": null,
      "outputs": [
        {
          "output_type": "execute_result",
          "data": {
            "text/plain": [
              "('Утверждена: Начальник МКУ «ХЭГ» ______________ Шигорин С. В наименование и описание объекта закупки, условия контракта (РАЗДЕЛ 2 ИЗВЕЩЕНИЯ ОБ ОСУЩЕСТВЛЕНИИ ЗАКУПКИ) 1 Информация о заказчике Бюджетополучатель: Муниципальное казенное учреждение «Хозяйственно-эксплуатационная ыть только субъекты малого предпринимательства, социально ориентированные некоммерческие организации. 14 Требование, установленное в соответствии с частью 5 статьи 30 Федерального закона от 05.04.2013 №44-ФЗ, с указанием в соответствии с частью 6 статьи 30 Федерального закона от 05.04.2013 № 44-ФЗ объема привлечения к исполнению контрактов субподрядчиков, соисполнителей из числа субъектов малого предпринимательства, социально ориентированных некоммерческих организаций Не установлено 15 Условия, запреты и ограничения допуска товаров, происходящих из иностранного государства или группы иностранных государств (в соответствии со ст. 14 Федерального закона от 05.04.2013 № 44-ФЗ) Не установлено 16 Установить обеспечение заявок участников 1) от 0,5% до 1% НМЦК, если НМЦК составляет до 20 млн. рублей; 2) от 0,5% до 5% НМЦК, если НМЦК составляет более 20 млн. рублей. 3) уголовно-исполнительной системы, организации инвалидов не более 0,5 % % обеспечения: 1,0 Размер обеспечения: 9 300,76 руб. 17 Установить обеспечения исполнения контракта (от 0,5% до 30%) % обеспечения: 10 Размер обеспечения: 18 Установить обеспечение гарантийных обязательств (Не более 10 %) Не установлено 19 Порядок внесения денежных средств в качестве обеспечения заявки на участие в закупке, условия независимой гарантии (если требование обеспечения заявки установлено в соответствии со статьей 44 Федерального закона от 05.04.2013 № 44-ФЗ) Выбор способа обеспечения осуществляется участником закупки самостоятельно. Обеспечение заявки на участие в закупке может предоставляться участником закупки одним из следующих способов: а) Предоставление обеспечения заявки на участие в закупке в виде денежных средств: путем блокирования денежных средств, внесенных участником закупки на банковский счет, открытый таким участником в банке, включенном в перечень, утвержденный Правительством Российской Федерации (далее - специальный счет). Требования к таким банкам, к договору специального счета, к порядку использования имеющегося у участника закупки банковского счета в качестве специального счета уста Приложения: 1) Обоснование начальной (максимальной) цены контракта, начальных цен единиц товара, работы, услуги (в формате pdf), в том числе документы, подтверждающие обоснование начальной (максимальной) цены контракта, начальных цен единиц товара,',\n",
              " 'обеспечение исполнения контракта',\n",
              " 'Установить обеспечения исполнения контракта (от 0,5% до 30%) % обеспечения')"
            ]
          },
          "metadata": {},
          "execution_count": 54
        }
      ]
    },
    {
      "cell_type": "markdown",
      "source": [
        "В текстах не везде расставлены знаки препинания, поэтому мы не можем чётко разделить предложения и можем ориентироваться только на регистр"
      ],
      "metadata": {
        "id": "lwQD8sc3Cz3E"
      }
    },
    {
      "cell_type": "markdown",
      "source": [
        "### Разбиение текста на предложения "
      ],
      "metadata": {
        "id": "fmMGKCFV4tMw"
      }
    },
    {
      "cell_type": "markdown",
      "source": [
        "Цель - добиться, чтобы в каждом разбиении присутствовал фрагмент соответствующий таргету. Это поможет сильно улучшить accuracy"
      ],
      "metadata": {
        "id": "y_TNm9GqqtJJ"
      }
    },
    {
      "cell_type": "code",
      "source": [
        "df = pd.read_json('/content/train_unpacked.json', encoding='utf-8')"
      ],
      "metadata": {
        "id": "vntUrldOqslH"
      },
      "execution_count": 16,
      "outputs": []
    },
    {
      "cell_type": "code",
      "source": [
        "random_string = randint(0, 1799)\n",
        "df.loc[random_string, :].values"
      ],
      "metadata": {
        "colab": {
          "base_uri": "https://localhost:8080/"
        },
        "id": "XPAsdQ3Eu43V",
        "outputId": "33e81e09-5fbf-491e-ad9b-c0cc745e4283"
      },
      "execution_count": null,
      "outputs": [
        {
          "output_type": "execute_result",
          "data": {
            "text/plain": [
              "array([432042942,\n",
              "       'Приложение к распоряжению администрации МО «Харабалинский район» от 13.09.2022 № 735-р ИЗВЕЩЕНИЕ ОБ ЭЛЕКТРОННОМ АУКЦИОНЕ на поставку ограждения для общественного кладбища (в новой редакции) Извещение о проведении электронного аукциона Общая  в том числе с учетом положений статьи 37 настоящего Федерального закона, в случае предоставления таким участником закупки информации, содержащейся в реестре контрактов, заключенных заказчиками, и подтверждающей исполнение таким участником (без учета правопреемства) в течение трех лет до даты подачи заявки на участие в закупке трех контрактов, исполненных без применения к такому участнику неустоек (штрафов, пеней). Такая информация предоставляется участником закупки до заключения контракта в случаях, установленных настоящим Федеральным законом для предоставления обеспечения исполнения контракта. При этом сумма цен таких контрактов должна составлять не менее (начальной) максимальной цены контракта, указанного в извещении об осуществлении закупки. Обеспечение исполнения гарантийных обязательств Требование обеспечения исполнения гарантийных обязательств Заказчиком установлено требование обеспечения исполнения гарантийных обязательств Размер обеспечения исполнения гарантийных обязательств Размер обеспечения гарантийных обязательств – 3 % начальной (максимальной) цены контракта – 17460,50 руб. (Семнадцать тысяч четыреста шестьдесят) рублей 50 копеек Порядок предоставления обеспечения исполнения гарантийных обязательств Гарантийные обязательства могут обеспечиваться предоставлением независимой гарантии, соответствующей требованиям статьи 45 Закона № 44-ФЗ или внесением денежных средств на указанный заказчиком счет, на котором в соответствии с законодательством Российской Федерации учитываются операции со средствами, поступающими заказчику. Способ обеспечения исполнения гарантийных обязательств, срок действия независимой гарантии определяются в соответствии с требованиями Закона № 44-ФЗ участником закупки, с которым заключается контракт, самостоятельно. При этом срок действия независимой гарантии должен превышать предусмотренный контрактом срок исполнения обязательств, которые должны быть обеспечены такой независимой гарантией, не менее чем на один месяц, в том числе в случае его изменения в соответствии со статьей 95 Закона № 44-ФЗ. Реквизиты счета, на котором в соответствии с законодательством Российской Федерации уч Глава администрации МО «Харабалинский район» А.В. Штонда 4',\n",
              "       'обеспечение гарантийных обязательств',\n",
              "       'Размер обеспечения гарантийных обязательств – 3 % начальной (максимальной) цены контракта – 17460,50 руб. (Семнадцать тысяч четыреста шестьдесят) руб'],\n",
              "      dtype=object)"
            ]
          },
          "metadata": {},
          "execution_count": 50
        }
      ]
    },
    {
      "cell_type": "markdown",
      "source": [
        "Зададим несколько правил для разбиения:\n",
        "\n",
        "*   Если в предложении на конце стоит знак, его нужно сохранить\n",
        "\n",
        "*   Предложение не должно оканчиваться на цифры с точками (3.4.)\n",
        "\n",
        "*   Если встречаются слова с большой буквы в предложении - они  должны остаться с большой буквы\n",
        "\n",
        "*   Если фрагмент оканчивается на , или - тогда в конце знак не ставится\n",
        "\n",
        "\n",
        "*   Чтобы отследить фрагменты, которые не разделены знаками препинания, или заглавными буквами, можно составить список слов, на которых скорее всего оканчивается искомое предложение\n",
        "\n"
      ],
      "metadata": {
        "id": "awEXodqZugf0"
      }
    },
    {
      "cell_type": "markdown",
      "source": [
        "Таким образом, придётся расширить исходные тексты и хранить ещё и фрагменты разделений по знакам , и -"
      ],
      "metadata": {
        "id": "dQZ4yyqSwlJ1"
      }
    },
    {
      "cell_type": "code",
      "source": [
        "def is_in_stop_list(word):\n",
        "  stop_list = ['заказчик', 'получател', 'договор', 'поставщик', \n",
        "      'федер', 'закон', 'росси', 'гражданск', \n",
        "      'министерств', 'директор', 'сторон', 'оборудован', \n",
        "      'акт', 'мвд', 'нмцк', 'удмур', 'глав', 'москв', 'контракт', \n",
        "      'исполнител', 'ндс', 'правительств', 'рф', 'документ', \n",
        "      'продукци', 'проект', 'цены']\n",
        "\n",
        "  for exception in stop_list:\n",
        "    word = word.lower()\n",
        "    if word.startswith(exception):\n",
        "      return True\n",
        "  return False"
      ],
      "metadata": {
        "id": "5t5fvN8r2AZ0"
      },
      "execution_count": 43,
      "outputs": []
    },
    {
      "cell_type": "code",
      "source": [
        "def is_common_target_end(sentence):\n",
        "  # в стоп листе сохраним падежи, чтобы не генерить много фрагментов\n",
        "  stop_list = [\n",
        "      'контракта', 'нцмд', 'копейки', 'договора', 'рублей', '(цены лота)', 'ндс'\n",
        "  ]\n",
        "\n",
        "  index_list = []\n",
        "\n",
        "  word_list = sentence.split()\n",
        "  for word in word_list:\n",
        "    if word.lower() in stop_list:\n",
        "      index_list.extend([m.start() + len(word) for m in re.finditer(word,  sentence)])\n",
        "\n",
        "\n",
        "  return list(set(index_list))"
      ],
      "metadata": {
        "id": "Dt7q4rzlNXAi"
      },
      "execution_count": 46,
      "outputs": []
    },
    {
      "cell_type": "code",
      "source": [
        "def comma_separate(list_of_sentences, min_sentence_lenght=15):\n",
        "  result_fragments_list = []\n",
        "\n",
        "  def separate(sentence):\n",
        "    list_of_commas_index = []\n",
        "    list_of_comma_separated_fragments = []\n",
        "    for i in range(len(sentence)):\n",
        "      try:\n",
        "        if sentence[i] == ',' or sentence[i] == '-':\n",
        "          if not sentence[i-1].isnumeric() and not sentence[i-1].isupper() and not sentence[i+1].isnumeric() and not sentence[i+1].isupper():\n",
        "            list_of_commas_index.append(i)\n",
        "      except:\n",
        "        pass\n",
        "\n",
        "    list_of_commas_index.extend(is_common_target_end(sentence))\n",
        "    start = 0\n",
        "    for end in list_of_commas_index:\n",
        "      fragment = sentence[start:end]\n",
        "      list_of_comma_separated_fragments.append(fragment)\n",
        "    \n",
        "    return list(set(list_of_comma_separated_fragments))\n",
        "\n",
        "  \n",
        "  for sentence in list_of_sentences:\n",
        "    if len(sentence) > min_sentence_lenght:\n",
        "      result_fragments_list.extend(separate(sentence))\n",
        "\n",
        "  return result_fragments_list"
      ],
      "metadata": {
        "id": "3r9JQlIkGC3D"
      },
      "execution_count": 30,
      "outputs": []
    },
    {
      "cell_type": "code",
      "source": [
        "def check_the_last_word(list_of_words):\n",
        "  try: \n",
        "    if int(list_of_words[-1]) < 100:\n",
        "      return list_of_words[:-1]\n",
        "  except:\n",
        "    if '<' in list_of_words[-1] and '>' in list_of_words[-1]:\n",
        "      return list_of_words[:-1]\n",
        "  return list_of_words"
      ],
      "metadata": {
        "id": "xJuwEi4ATXfl"
      },
      "execution_count": 31,
      "outputs": []
    },
    {
      "cell_type": "code",
      "source": [
        "def splitter(text, min_sentence_lenght=6):\n",
        "  list_of_sentences = []\n",
        "  list_of_words = text.split()\n",
        "  sentence = []\n",
        "  previous_word = ''\n",
        "  for word in list_of_words:\n",
        "    try:\n",
        "      if not len(word) == 1:\n",
        "        # критерии начала следующего предложения\n",
        "        if word[-1] == '.' and word[-2].isnumeric():\n",
        "          sentence = check_the_last_word(sentence)\n",
        "          list_of_sentences.append(' '.join(sentence))\n",
        "          sentence = []\n",
        "        if word[0].isupper() and not word.isupper():\n",
        "          if not is_in_stop_list(word) and sentence:\n",
        "            sentence = check_the_last_word(sentence)\n",
        "            list_of_sentences.append(' '.join(sentence))\n",
        "            sentence = []\n",
        "        if is_in_stop_list(word) and previous_word[-1] == '.':\n",
        "          sentence = check_the_last_word(sentence)\n",
        "          list_of_sentences.append(' '.join(sentence))\n",
        "          sentence = []\n",
        "\n",
        "      else:\n",
        "        if word.isupper():\n",
        "          sentence = check_the_last_word(sentence)\n",
        "          list_of_sentences.append(' '.join(sentence))\n",
        "          sentence = []\n",
        "\n",
        "    except:\n",
        "      pass\n",
        "    sentence.append(word)\n",
        "\n",
        "    if word is list_of_words[-1]:\n",
        "      sentence = check_the_last_word(sentence)\n",
        "      list_of_sentences.append(' '.join(sentence))\n",
        "    previous_word = word\n",
        "\n",
        "  # добавим фрагменты к списку предложений если extended=True\n",
        "  # if extended:\n",
        "  list_of_sentences.extend(comma_separate(list_of_sentences))\n",
        "\n",
        "  for sentence in list_of_sentences:\n",
        "    if len(sentence) < min_sentence_lenght or not sentence:\n",
        "      del list_of_sentences[list_of_sentences.index(sentence)]\n",
        "  return list_of_sentences\n",
        "      "
      ],
      "metadata": {
        "id": "HMLeh1NJ4nnQ"
      },
      "execution_count": 32,
      "outputs": []
    },
    {
      "cell_type": "code",
      "source": [
        "random_string = randint(0, 1799)\n",
        "sample_text = df.loc[random_string, 'text']"
      ],
      "metadata": {
        "id": "NN-Z_afhyXTo"
      },
      "execution_count": 33,
      "outputs": []
    },
    {
      "cell_type": "code",
      "source": [
        "splitted = splitter(sample_text)\n",
        "for i, value in enumerate(splitted):\n",
        "  if value:\n",
        "    print(f'{i+1}) {value}')\n",
        "\n",
        "print(df.loc[random_string, 'target'], df.loc[random_string, 'target'] in splitted)"
      ],
      "metadata": {
        "colab": {
          "base_uri": "https://localhost:8080/"
        },
        "id": "OVgenPoBzPHt",
        "outputId": "4d6d6e85-4afb-4339-8b04-7ec05793a5c6"
      },
      "execution_count": 23,
      "outputs": [
        {
          "output_type": "stream",
          "name": "stdout",
          "text": [
            "1) ДОГОВОР № __________ подряда на выполнение строительно-монтажных работ с предоставлением заказчиком материалов\n",
            "2) Московская область «___» _________ 20__ г.\n",
            "3) Акционерное\n",
            "4) Общество «Мособлгаз» (АО «Мособлгаз»), именуемое в дальнейшем «Заказчик», в лице ____________________________________, Договора на тех же условиях и в том же размере, которые указаны в настоящем разделе Договора.\n",
            "5) Действие указанного пункта не распространяется на случаи, когда\n",
            "6) Подрядчиком предоставлена независимая гарантия, не соответствующая требованиям законодательства Российской Федерации.\n",
            "7) В ходе исполнения Договора\n",
            "8) Подрядчик вправе предоставить Заказчику обеспечение исполнения Договора, уменьшенное на размер исполненных обязательств, предусмотренных Договором, взамен ранее предоставленного обеспечения исполнения Договора.\n",
            "9) При этом может быть изменен способ обеспечения исполнения Договора.\n",
            "10) Обеспечение исполнения Договора возвращается\n",
            "11) Подрядчику при условии надлежащего исполнения\n",
            "12) Подрядчиком всех своих обязательств по Договору в течение 10 (десяти) дней после исполнения Сторонами своих обязательств (в том числе гарантийных) по Договору.\n",
            "13) В течение 10 (десяти) рабочих дней после подписания акта о приемке выполненных работ (по форме № КС-2), указанного в пункте 7.2 настоящего Договора,\n",
            "14) Подрядчик обязан предоставить Заказчику обеспечение гарантийных обязательств на сумму ________ руб. (_______________ рублей __ копеек), что составляет 0,1% от цены Договора, в форме _____________ (независимой гарантии или путем внесения денежных средств на счет, указанный в разделе 17 настоящего Договора).\n",
            "15) В случае предоставления независимой гарантии в качестве обеспечения исполнения гарантийных обязательств срок такой гарантии должен составлять срок гарантийных обязательств, указанный в пункте 7.2 настоящего Договора, плюс 30 (тридцать) рабочих дней.\n",
            "16) В случае непредоставления\n",
            "17) Подрядчиком Заказчику обеспечения гарантийных обязательств в срок, указанный в пункте 10.6 настоящего Договора, Заказчик вправе потребовать уплаты пеней.\n",
            "18) Пеня начисляется за каждый день просрочки исполнения\n",
            "19) Подрядчиком обязательства, предусмотренного Договором, начиная со дня, следующего после дня истечения установленного Договором срока исполнения обязательства.\n",
            "20) Размер такой пени устанавливается в размере одной трехсотой действующей на дату уплаты пени ставки рефинансирования\n",
            "21) Центрального банка Российской Федерации от цены Договора.\n",
            "22) При наступлении гарантийных обязательств Заказчик составляет акт о выявленных недостатках, содержащий перечень обнару\n",
            "23) Линия разрыва проходит точно по плоскости сварки 1 % от цены договора, но не менее 50 000 руб. 2.2\n",
            "24) Выполненных сваркой с применением деталей с закладными нагревателями 2.2.1\n",
            "25) По результатам\n",
            "26) ДОГОВОР № __________ подряда на выполнение строительно\n",
            "27) Общество «Мособлгаз» (АО «Мособлгаз»), именуемое в дальнейшем «Заказчик», в лице ____________________________________\n",
            "28) Общество «Мособлгаз» (АО «Мособлгаз»), именуемое в дальнейшем «Заказчик», в лице ____________________________________, Договора на тех же условиях и в том же размере\n",
            "29) Общество «Мособлгаз» (АО «Мособлгаз»), именуемое в дальнейшем «Заказчик», в лице ____________________________________, Договора на тех же условиях и в том же размере, которые указаны в настоящем разделе Договора\n",
            "30) Общество «Мособлгаз» (АО «Мособлгаз»)\n",
            "31) Общество «Мособлгаз» (АО «Мособлгаз»), именуемое в дальнейшем «Заказчик»\n",
            "32) Общество «Мособлгаз» (АО «Мособлгаз»), именуемое в дальнейшем «Заказчик», в лице ____________________________________, Договора\n",
            "33) Действие указанного пункта не распространяется на случаи\n",
            "34) Подрядчиком предоставлена независимая гарантия\n",
            "35) В ходе исполнения Договора\n",
            "36) Подрядчик вправе предоставить Заказчику обеспечение исполнения Договора\n",
            "37) Подрядчик вправе предоставить Заказчику обеспечение исполнения Договора, уменьшенное на размер исполненных обязательств\n",
            "38) Подрядчик вправе предоставить Заказчику обеспечение исполнения Договора, уменьшенное на размер исполненных обязательств, предусмотренных Договором\n",
            "39) Обеспечение исполнения Договора\n",
            "40) В течение 10 (десяти) рабочих дней после подписания акта о приемке выполненных работ (по форме № КС-2)\n",
            "41) Подрядчик обязан предоставить Заказчику обеспечение гарантийных обязательств на сумму ________ руб. (_______________ рублей __ копеек), что составляет 0,1% от цены Договора\n",
            "42) Подрядчик обязан предоставить Заказчику обеспечение гарантийных обязательств на сумму ________ руб. (_______________ рублей __ копеек), что составляет 0,1% от цены Договора, в форме _____________ (независимой гарантии или путем внесения денежных средств на счет\n",
            "43) Подрядчик обязан предоставить Заказчику обеспечение гарантийных обязательств на сумму ________ руб. (_______________ рублей\n",
            "44) Подрядчик обязан предоставить Заказчику обеспечение гарантийных обязательств на сумму ________ руб. (_______________ рублей __ копеек)\n",
            "45) В случае предоставления независимой гарантии в качестве обеспечения исполнения гарантийных обязательств срок такой гарантии должен составлять срок гарантийных обязательств\n",
            "46) В случае предоставления независимой гарантии в качестве обеспечения исполнения гарантийных обязательств срок такой гарантии должен составлять срок гарантийных обязательств, указанный в пункте 7.2 настоящего Договора\n",
            "47) Подрядчиком Заказчику обеспечения гарантийных обязательств в срок\n",
            "48) Подрядчиком Заказчику обеспечения гарантийных обязательств в срок, указанный в пункте 10.6 настоящего Договора\n",
            "49) Подрядчиком обязательства, предусмотренного Договором, начиная со дня\n",
            "50) Подрядчиком обязательства, предусмотренного Договором\n",
            "51) Подрядчиком обязательства\n",
            "52) При наступлении гарантийных обязательств Заказчик составляет акт о выявленных недостатках\n",
            "53) Линия разрыва проходит точно по плоскости сварки 1 % от цены договора\n",
            "Подрядчик обязан предоставить Заказчику обеспечение гарантийных обязательств на сумму ________ руб. (_______________ рублей __ копеек), что составляет 0,1% от цены Договора, в форме _____________ (независимой гарантии или путем внесения денежных средств False\n"
          ]
        }
      ]
    },
    {
      "cell_type": "markdown",
      "source": [
        "Помотрим, как хорошо мы разделили предложения: для этого напишем функцию, которая будет считать процент вхождения таргета в разбиение. "
      ],
      "metadata": {
        "id": "fCFB3qgjABzU"
      }
    },
    {
      "cell_type": "code",
      "source": [
        "def division_check(df:pd.DataFrame):\n",
        "  counter = 0\n",
        "  try:\n",
        "    df.drop(columns=['not_found'], inplace=True)\n",
        "  except:\n",
        "    pass\n",
        "\n",
        "  for i in range(len(df)):\n",
        "    try:\n",
        "      if df.loc[i, 'target'] in splitter(df.loc[i, 'text']):\n",
        "        df.loc[i, 'not_found'] = 1\n",
        "        counter += 1\n",
        "      else:\n",
        "        df.loc[i, 'not_found'] = 0\n",
        "    except IndexError:\n",
        "      print(df.loc[i, 'text'])\n",
        "      print(i)\n",
        "  return counter / 1492, df[df['not_found']==0].reset_index(drop=True), df[df['not_found']==1].reset_index(drop=True)  # 1492 - ненулевые значения в таргете"
      ],
      "metadata": {
        "id": "BvZOOJd3zQ4_"
      },
      "execution_count": 39,
      "outputs": []
    },
    {
      "cell_type": "code",
      "source": [
        "def split_df_texts_by_sentences(data_frame:pd.DataFrame):\n",
        "  for i in range(len(data_frame)-1):\n",
        "    splitted = splitter(data_frame.loc[i, 'text'])\n",
        "    data_frame.at[i, 'text'] = splitted\n",
        "  return data_frame\n"
      ],
      "metadata": {
        "id": "ZoyCJ-lybOvQ"
      },
      "execution_count": 40,
      "outputs": []
    },
    {
      "cell_type": "code",
      "source": [
        "precision, not_found, found = division_check(df)"
      ],
      "metadata": {
        "id": "tRyCtFKcE23g"
      },
      "execution_count": 47,
      "outputs": []
    },
    {
      "cell_type": "code",
      "source": [
        "precision"
      ],
      "metadata": {
        "colab": {
          "base_uri": "https://localhost:8080/"
        },
        "id": "RkHWiCMUaype",
        "outputId": "2de8f2ee-a404-45de-c488-fc7bf0482988"
      },
      "execution_count": 48,
      "outputs": [
        {
          "output_type": "execute_result",
          "data": {
            "text/plain": [
              "0.732573726541555"
            ]
          },
          "metadata": {},
          "execution_count": 48
        }
      ]
    },
    {
      "cell_type": "markdown",
      "source": [
        "после исправления функции is_common_target_end удалось поднять precision с 0.63 до 0.73 и accuracy у базовой модели с 0.64 до "
      ],
      "metadata": {
        "id": "bdA2b8MlHsf9"
      }
    },
    {
      "cell_type": "code",
      "source": [
        "df_splitted = split_df_texts_by_sentences(df)"
      ],
      "metadata": {
        "id": "75dW3L-gbxYF"
      },
      "execution_count": null,
      "outputs": []
    },
    {
      "cell_type": "code",
      "source": [
        "df_splitted.to_json('train_with_splitted_texts_extended.json')"
      ],
      "metadata": {
        "id": "jPsh0HgDef5H"
      },
      "execution_count": null,
      "outputs": []
    },
    {
      "cell_type": "markdown",
      "source": [
        "### Сохранение доп. датасетов для классификации."
      ],
      "metadata": {
        "id": "M552-_ZZqbBz"
      }
    },
    {
      "cell_type": "code",
      "source": [
        "contract_enforcement = df[df['label'] == 'обеспечение исполнения контракта']['target'].values\n",
        "garantee_enforcement = df[df['label'] == 'обеспечение гарантийных обязательств']['target'].values"
      ],
      "metadata": {
        "id": "j8WIDc4B_6At"
      },
      "execution_count": null,
      "outputs": []
    },
    {
      "cell_type": "code",
      "source": [
        "found = split_df_texts_by_sentences(found)"
      ],
      "metadata": {
        "id": "hVqsoxGvE73x"
      },
      "execution_count": null,
      "outputs": []
    },
    {
      "cell_type": "code",
      "source": [
        "# nonetype_sentences = df[df['target'].isna()]['text'].values\n",
        "for i in range(len(found)):\n",
        "  splitted_sentences = []\n",
        "  for k in range(len(found.loc[i, 'text'])):\n",
        "    if not found.loc[i, 'text'][k].startswith(found.loc[i, 'target']):\n",
        "      splitted_sentences.append(found.loc[i, 'text'][k])\n",
        "\n",
        "  found.at[i, 'text'] = splitted_sentences\n"
      ],
      "metadata": {
        "id": "Ox-Eo1gpjVXo"
      },
      "execution_count": null,
      "outputs": []
    },
    {
      "cell_type": "code",
      "source": [
        "found.head()"
      ],
      "metadata": {
        "colab": {
          "base_uri": "https://localhost:8080/",
          "height": 337
        },
        "id": "WG-tr-72D8bm",
        "outputId": "90806a49-0c25-414c-ed9d-42ac8bbd1c6c"
      },
      "execution_count": null,
      "outputs": [
        {
          "output_type": "execute_result",
          "data": {
            "text/plain": [
              "          id                                               text  \\\n",
              "0  809436509  [Извещение о проведении открытого конкурса в э...   \n",
              "1  854885310  [ТРЕБОВАНИЯ, К СОДЕРЖАНИЮ ЗАЯВКИ участника зап...   \n",
              "2    4382157  [Извещение о проведении электронного аукциона ...   \n",
              "3  184555082  [Извещение о проведении электронного аукциона ...   \n",
              "4  211645258  [Извещение о проведении электронного аукциона ...   \n",
              "\n",
              "                              label  \\\n",
              "0  обеспечение исполнения контракта   \n",
              "1  обеспечение исполнения контракта   \n",
              "2  обеспечение исполнения контракта   \n",
              "3  обеспечение исполнения контракта   \n",
              "4  обеспечение исполнения контракта   \n",
              "\n",
              "                                              target  not_found  \n",
              "0  Размер обеспечения исполнения контракта 6593.2...        1.0  \n",
              "1  Поставщик должен предоставить обеспечение испо...        1.0  \n",
              "2     Размер обеспечения исполнения контракта 10.00%        1.0  \n",
              "3     Размер обеспечения исполнения контракта 10.00%        1.0  \n",
              "4     Размер обеспечения исполнения контракта 10.00%        1.0  "
            ],
            "text/html": [
              "\n",
              "  <div id=\"df-0f48db9c-846c-4f63-8a69-1fb30a7b0a23\">\n",
              "    <div class=\"colab-df-container\">\n",
              "      <div>\n",
              "<style scoped>\n",
              "    .dataframe tbody tr th:only-of-type {\n",
              "        vertical-align: middle;\n",
              "    }\n",
              "\n",
              "    .dataframe tbody tr th {\n",
              "        vertical-align: top;\n",
              "    }\n",
              "\n",
              "    .dataframe thead th {\n",
              "        text-align: right;\n",
              "    }\n",
              "</style>\n",
              "<table border=\"1\" class=\"dataframe\">\n",
              "  <thead>\n",
              "    <tr style=\"text-align: right;\">\n",
              "      <th></th>\n",
              "      <th>id</th>\n",
              "      <th>text</th>\n",
              "      <th>label</th>\n",
              "      <th>target</th>\n",
              "      <th>not_found</th>\n",
              "    </tr>\n",
              "  </thead>\n",
              "  <tbody>\n",
              "    <tr>\n",
              "      <th>0</th>\n",
              "      <td>809436509</td>\n",
              "      <td>[Извещение о проведении открытого конкурса в э...</td>\n",
              "      <td>обеспечение исполнения контракта</td>\n",
              "      <td>Размер обеспечения исполнения контракта 6593.2...</td>\n",
              "      <td>1.0</td>\n",
              "    </tr>\n",
              "    <tr>\n",
              "      <th>1</th>\n",
              "      <td>854885310</td>\n",
              "      <td>[ТРЕБОВАНИЯ, К СОДЕРЖАНИЮ ЗАЯВКИ участника зап...</td>\n",
              "      <td>обеспечение исполнения контракта</td>\n",
              "      <td>Поставщик должен предоставить обеспечение испо...</td>\n",
              "      <td>1.0</td>\n",
              "    </tr>\n",
              "    <tr>\n",
              "      <th>2</th>\n",
              "      <td>4382157</td>\n",
              "      <td>[Извещение о проведении электронного аукциона ...</td>\n",
              "      <td>обеспечение исполнения контракта</td>\n",
              "      <td>Размер обеспечения исполнения контракта 10.00%</td>\n",
              "      <td>1.0</td>\n",
              "    </tr>\n",
              "    <tr>\n",
              "      <th>3</th>\n",
              "      <td>184555082</td>\n",
              "      <td>[Извещение о проведении электронного аукциона ...</td>\n",
              "      <td>обеспечение исполнения контракта</td>\n",
              "      <td>Размер обеспечения исполнения контракта 10.00%</td>\n",
              "      <td>1.0</td>\n",
              "    </tr>\n",
              "    <tr>\n",
              "      <th>4</th>\n",
              "      <td>211645258</td>\n",
              "      <td>[Извещение о проведении электронного аукциона ...</td>\n",
              "      <td>обеспечение исполнения контракта</td>\n",
              "      <td>Размер обеспечения исполнения контракта 10.00%</td>\n",
              "      <td>1.0</td>\n",
              "    </tr>\n",
              "  </tbody>\n",
              "</table>\n",
              "</div>\n",
              "      <button class=\"colab-df-convert\" onclick=\"convertToInteractive('df-0f48db9c-846c-4f63-8a69-1fb30a7b0a23')\"\n",
              "              title=\"Convert this dataframe to an interactive table.\"\n",
              "              style=\"display:none;\">\n",
              "        \n",
              "  <svg xmlns=\"http://www.w3.org/2000/svg\" height=\"24px\"viewBox=\"0 0 24 24\"\n",
              "       width=\"24px\">\n",
              "    <path d=\"M0 0h24v24H0V0z\" fill=\"none\"/>\n",
              "    <path d=\"M18.56 5.44l.94 2.06.94-2.06 2.06-.94-2.06-.94-.94-2.06-.94 2.06-2.06.94zm-11 1L8.5 8.5l.94-2.06 2.06-.94-2.06-.94L8.5 2.5l-.94 2.06-2.06.94zm10 10l.94 2.06.94-2.06 2.06-.94-2.06-.94-.94-2.06-.94 2.06-2.06.94z\"/><path d=\"M17.41 7.96l-1.37-1.37c-.4-.4-.92-.59-1.43-.59-.52 0-1.04.2-1.43.59L10.3 9.45l-7.72 7.72c-.78.78-.78 2.05 0 2.83L4 21.41c.39.39.9.59 1.41.59.51 0 1.02-.2 1.41-.59l7.78-7.78 2.81-2.81c.8-.78.8-2.07 0-2.86zM5.41 20L4 18.59l7.72-7.72 1.47 1.35L5.41 20z\"/>\n",
              "  </svg>\n",
              "      </button>\n",
              "      \n",
              "  <style>\n",
              "    .colab-df-container {\n",
              "      display:flex;\n",
              "      flex-wrap:wrap;\n",
              "      gap: 12px;\n",
              "    }\n",
              "\n",
              "    .colab-df-convert {\n",
              "      background-color: #E8F0FE;\n",
              "      border: none;\n",
              "      border-radius: 50%;\n",
              "      cursor: pointer;\n",
              "      display: none;\n",
              "      fill: #1967D2;\n",
              "      height: 32px;\n",
              "      padding: 0 0 0 0;\n",
              "      width: 32px;\n",
              "    }\n",
              "\n",
              "    .colab-df-convert:hover {\n",
              "      background-color: #E2EBFA;\n",
              "      box-shadow: 0px 1px 2px rgba(60, 64, 67, 0.3), 0px 1px 3px 1px rgba(60, 64, 67, 0.15);\n",
              "      fill: #174EA6;\n",
              "    }\n",
              "\n",
              "    [theme=dark] .colab-df-convert {\n",
              "      background-color: #3B4455;\n",
              "      fill: #D2E3FC;\n",
              "    }\n",
              "\n",
              "    [theme=dark] .colab-df-convert:hover {\n",
              "      background-color: #434B5C;\n",
              "      box-shadow: 0px 1px 3px 1px rgba(0, 0, 0, 0.15);\n",
              "      filter: drop-shadow(0px 1px 2px rgba(0, 0, 0, 0.3));\n",
              "      fill: #FFFFFF;\n",
              "    }\n",
              "  </style>\n",
              "\n",
              "      <script>\n",
              "        const buttonEl =\n",
              "          document.querySelector('#df-0f48db9c-846c-4f63-8a69-1fb30a7b0a23 button.colab-df-convert');\n",
              "        buttonEl.style.display =\n",
              "          google.colab.kernel.accessAllowed ? 'block' : 'none';\n",
              "\n",
              "        async function convertToInteractive(key) {\n",
              "          const element = document.querySelector('#df-0f48db9c-846c-4f63-8a69-1fb30a7b0a23');\n",
              "          const dataTable =\n",
              "            await google.colab.kernel.invokeFunction('convertToInteractive',\n",
              "                                                     [key], {});\n",
              "          if (!dataTable) return;\n",
              "\n",
              "          const docLinkHtml = 'Like what you see? Visit the ' +\n",
              "            '<a target=\"_blank\" href=https://colab.research.google.com/notebooks/data_table.ipynb>data table notebook</a>'\n",
              "            + ' to learn more about interactive tables.';\n",
              "          element.innerHTML = '';\n",
              "          dataTable['output_type'] = 'display_data';\n",
              "          await google.colab.output.renderOutput(dataTable, element);\n",
              "          const docLink = document.createElement('div');\n",
              "          docLink.innerHTML = docLinkHtml;\n",
              "          element.appendChild(docLink);\n",
              "        }\n",
              "      </script>\n",
              "    </div>\n",
              "  </div>\n",
              "  "
            ]
          },
          "metadata": {},
          "execution_count": 18
        }
      ]
    },
    {
      "cell_type": "code",
      "source": [
        "nonetype = found.loc[:, 'text'].values"
      ],
      "metadata": {
        "id": "ku7kXtXZCsQm"
      },
      "execution_count": null,
      "outputs": []
    },
    {
      "cell_type": "code",
      "source": [
        "nonetype_sentences = []\n",
        "\n",
        "for i in range(len(nonetype)):\n",
        "  for j in range(len(nonetype[i])):\n",
        "    if len(nonetype[i][j]) > 5:\n",
        "      nonetype_sentences.append(nonetype[i][j])\n",
        "\n",
        "nonetype_sentences = np.array(nonetype_sentences)\n",
        "len(nonetype_sentences)"
      ],
      "metadata": {
        "colab": {
          "base_uri": "https://localhost:8080/"
        },
        "id": "BlnL9dWhlsLS",
        "outputId": "0792faaf-494c-47a6-e978-55a2c77eb555"
      },
      "execution_count": null,
      "outputs": [
        {
          "output_type": "execute_result",
          "data": {
            "text/plain": [
              "46897"
            ]
          },
          "metadata": {},
          "execution_count": 21
        }
      ]
    },
    {
      "cell_type": "code",
      "source": [
        "with open('nonetype.pkl', 'wb') as fp:\n",
        "  pickle.dump(nonetype_sentences, fp)"
      ],
      "metadata": {
        "id": "AkFbpdtwFnCH"
      },
      "execution_count": null,
      "outputs": []
    },
    {
      "cell_type": "markdown",
      "source": [
        "также сохраним таргеты двух классов для модели classy classification"
      ],
      "metadata": {
        "id": "WsDVhXuvA0Ey"
      }
    },
    {
      "cell_type": "code",
      "source": [
        "with open('contract_enforcement.pkl', 'wb') as fp:\n",
        "  pickle.dump(contract_enforcement, fp)"
      ],
      "metadata": {
        "id": "LTrDzAHoBaQo"
      },
      "execution_count": null,
      "outputs": []
    },
    {
      "cell_type": "markdown",
      "source": [
        "### Приведение к нормальной форме всех датасетов\n"
      ],
      "metadata": {
        "id": "J00LBEWfYC8A"
      }
    },
    {
      "cell_type": "code",
      "source": [
        "nltk.download('stopwords')"
      ],
      "metadata": {
        "colab": {
          "base_uri": "https://localhost:8080/"
        },
        "id": "J-iLxS76X2Ip",
        "outputId": "3abe7950-42a4-4bc4-82d9-22469409ccbb"
      },
      "execution_count": null,
      "outputs": [
        {
          "output_type": "stream",
          "name": "stderr",
          "text": [
            "[nltk_data] Downloading package stopwords to /root/nltk_data...\n",
            "[nltk_data]   Unzipping corpora/stopwords.zip.\n"
          ]
        },
        {
          "output_type": "execute_result",
          "data": {
            "text/plain": [
              "True"
            ]
          },
          "metadata": {},
          "execution_count": 47
        }
      ]
    },
    {
      "cell_type": "code",
      "source": [
        "stopwords_ru = stopwords.words(\"russian\")\n",
        "morph = MorphAnalyzer()\n",
        "def lemmatization(text, stopwords, morph):\n",
        "  if text and len(text) > 1:\n",
        "    pattern = \"[A-Za-z0-9!#$%&'()*+№,./:;<=>?@[\\]^_`{|}~—\\\"\\-]+\"\n",
        "    text = re.sub(pattern, ' ', text)\n",
        "    tokens = []\n",
        "    for token in text.split():\n",
        "        if token and token not in stopwords:\n",
        "            token = token.strip()\n",
        "            token = morph.normal_forms(token)[0]\n",
        "            tokens.append(token)\n",
        "    return tokens\n",
        "  else: \n",
        "    return None"
      ],
      "metadata": {
        "id": "1qkarIZvX2u3"
      },
      "execution_count": null,
      "outputs": []
    },
    {
      "cell_type": "code",
      "source": [
        "%%time\n",
        "for i in range(len(df_splitted)):\n",
        "  lemmatized_text = []\n",
        "\n",
        "  for k in range(len(df_splitted.loc[i, 'text'])):\n",
        "    sentence = df_splitted.loc[i, 'text'][k]\n",
        "    sentence =  lemmatization(sentence, stopwords_ru, morph)\n",
        "    lemmatized_text.append(sentence)\n",
        "  df_splitted.at[i, 'text'] = lemmatized_text"
      ],
      "metadata": {
        "colab": {
          "base_uri": "https://localhost:8080/"
        },
        "id": "Q1nGnLbRX8mS",
        "outputId": "c21b9be2-d274-4198-8d6e-dd122e5a5c5a"
      },
      "execution_count": null,
      "outputs": [
        {
          "output_type": "stream",
          "name": "stdout",
          "text": [
            "CPU times: user 3min 12s, sys: 595 ms, total: 3min 12s\n",
            "Wall time: 3min 16s\n"
          ]
        }
      ]
    },
    {
      "cell_type": "code",
      "source": [
        "df_splitted.loc[2, 'text']"
      ],
      "metadata": {
        "colab": {
          "base_uri": "https://localhost:8080/"
        },
        "id": "G4WbwMZCatho",
        "outputId": "a9f5929d-b6e0-4fcb-dcc5-3a95dfdcd2c7"
      },
      "execution_count": null,
      "outputs": [
        {
          "output_type": "execute_result",
          "data": {
            "text/plain": [
              "[['извещение', 'проведение', 'электронный', 'аукцион', 'закупка'],\n",
              " ['общий', 'информация'],\n",
              " ['номер', 'извещение'],\n",
              " ['наименование', 'объект', 'закупка'],\n",
              " ['поставка', 'бумага', 'офисный', 'техника'],\n",
              " ['способ', 'определение', 'поставщик', 'подрядчик', 'исполнитель'],\n",
              " ['электронный', 'аукцион'],\n",
              " ['наименование', 'электронный'],\n",
              " ['объект', 'закупка', 'российский', 'рубль'],\n",
              " ['тип', 'объект', 'закупка'],\n",
              " ['наименование', 'товар', 'работа', 'услуга', 'окпд', 'ктереть'],\n",
              " ['код', 'позиция'],\n",
              " ['характеристика', 'товар', 'работа', 'услуга'],\n",
              " ['единица', 'измерение'],\n",
              " ['количество', 'объём', 'работа', 'услуга'],\n",
              " ['цена', 'единица', 'измерение'],\n",
              " ['стоимость', 'позиция'],\n",
              " ['наименование', 'характеристика'],\n",
              " ['значение', 'характеристика'],\n",
              " ['единица', 'измерение', 'характеристика'],\n",
              " ['бумага', 'офисный', 'техника', 'белый'],\n",
              " ['пачка'],\n",
              " ['количество', 'лист', 'пачка'],\n",
              " ['масса', 'бумага', 'площадь', 'м', '≥'],\n",
              " ['формат'],\n",
              " ['итого', 'российский', 'рубль'],\n",
              " ['преимущество', 'требование', 'участник'],\n",
              " ['преимущество'],\n",
              " ['преимущество', 'соответствие', 'ч', 'ст', 'закон', 'фз'],\n",
              " ['требование', 'участник'],\n",
              " ['единый',\n",
              "  'требование',\n",
              "  'участник',\n",
              "  'закупка',\n",
              "  'соответствие',\n",
              "  'ч',\n",
              "  'ст',\n",
              "  'закон',\n",
              "  'фз'],\n",
              " ['требование',\n",
              "  'участник',\n",
              "  'закупка',\n",
              "  'соответствие',\n",
              "  'ч',\n",
              "  'ст',\n",
              "  'закон',\n",
              "  'фз'],\n",
              " ['ограничение'],\n",
              " ['не', 'установить'],\n",
              " ['обеспечение', 'заявка'],\n",
              " ['обеспечение', 'заявка', 'требоваться'],\n",
              " ['обеспечение', 'исполнение', 'контракт'],\n",
              " ['требоваться', 'обеспечение', 'исполнение', 'контракт'],\n",
              " ['размер', 'обеспечение', 'исполнение', 'контракт'],\n",
              " ['порядок',\n",
              "  'обеспечение',\n",
              "  'исполнение',\n",
              "  'контракт',\n",
              "  'требование',\n",
              "  'обеспечение'],\n",
              " ['участник',\n",
              "  'закупка',\n",
              "  'который',\n",
              "  'заключаться',\n",
              "  'контракт',\n",
              "  'предоставить',\n",
              "  'обеспечение',\n",
              "  'исполнение',\n",
              "  'контракт',\n",
              "  'гарантийный',\n",
              "  'обязательство',\n",
              "  'любой',\n",
              "  'два',\n",
              "  'способ',\n",
              "  'внесение',\n",
              "  'денежный',\n",
              "  'средство',\n",
              "  'счёт',\n",
              "  'заказчик'],\n",
              " ['банковский',\n",
              "  'реквизит',\n",
              "  'получатель',\n",
              "  'комитет',\n",
              "  'финансы',\n",
              "  'ленинградский',\n",
              "  'область',\n",
              "  'гбу',\n",
              "  'ло',\n",
              "  '«сббж'],\n",
              " ['лужский', 'района»', 'л', 'у'],\n",
              " ['банк',\n",
              "  'отделение',\n",
              "  'ленинградский',\n",
              "  'банк',\n",
              "  'россия',\n",
              "  'уфк',\n",
              "  'по',\n",
              "  'ленинградский',\n",
              "  'область',\n",
              "  'г'],\n",
              " ['санкт', 'петербург', 'р', 'счёт', 'бик'],\n",
              " ['кор', 'счёт'],\n",
              " ['платёжный',\n",
              "  'поручение',\n",
              "  'должный',\n",
              "  'содержать',\n",
              "  'кбк',\n",
              "  'заказчик',\n",
              "  'раздел',\n",
              "  'назначение',\n",
              "  'платёж',\n",
              "  'указать',\n",
              "  'наименование',\n",
              "  'предмет',\n",
              "  'контракт',\n",
              "  'икз'],\n",
              " ['факт',\n",
              "  'внесение',\n",
              "  'денежный',\n",
              "  'средство',\n",
              "  'счёт',\n",
              "  'заказчик',\n",
              "  'подтверждаться',\n",
              "  'платёжный',\n",
              "  'документ',\n",
              "  'основание',\n",
              "  'который',\n",
              "  'произвести',\n",
              "  'перечисление',\n",
              "  'средство',\n",
              "  'предоставление',\n",
              "  'независимый',\n",
              "  'гарантия',\n",
              "  'соответствовать',\n",
              "  'требование',\n",
              "  'статья',\n",
              "  'закон',\n",
              "  'фз'],\n",
              " ['способ', 'обеспечение', 'исполнение', 'контракт', 'гарантийный'],\n",
              " ['требование',\n",
              "  'содержание',\n",
              "  'состав',\n",
              "  'заявка',\n",
              "  'участие',\n",
              "  'инструкция',\n",
              "  'заполнение'],\n",
              " ['дополнительный', 'информация', 'документ', 'документ', 'прикрепить'],\n",
              " ['способ', 'определение', 'поставщик', 'подрядчик'],\n",
              " ['наименование', 'товар'],\n",
              " ['наименование', 'товар', 'работа'],\n",
              " ['характеристика', 'товар'],\n",
              " ['характеристика', 'товар', 'работа'],\n",
              " ['количество', 'объём', 'работа'],\n",
              " ['обеспечение', 'исполнение', 'контракт'],\n",
              " ['требоваться', 'обеспечение', 'исполнение', 'контракт'],\n",
              " ['размер', 'обеспечение', 'исполнение', 'контракт'],\n",
              " ['порядок', 'обеспечение', 'исполнение', 'контракт'],\n",
              " ['участник', 'закупка', 'который', 'заключаться', 'контракт'],\n",
              " ['участник',\n",
              "  'закупка',\n",
              "  'который',\n",
              "  'заключаться',\n",
              "  'контракт',\n",
              "  'предоставить',\n",
              "  'обеспечение',\n",
              "  'исполнение',\n",
              "  'контракт'],\n",
              " ['участник', 'закупка'],\n",
              " ['лужский', 'района»'],\n",
              " ['платёжный', 'поручение', 'должный', 'содержать', 'кбк', 'заказчик'],\n",
              " ['платёжный', 'поручение', 'должный', 'содержать'],\n",
              " ['платёжный',\n",
              "  'поручение',\n",
              "  'должный',\n",
              "  'содержать',\n",
              "  'кбк',\n",
              "  'заказчик',\n",
              "  'раздел',\n",
              "  'назначение',\n",
              "  'платёж',\n",
              "  'указать',\n",
              "  'наименование',\n",
              "  'предмет',\n",
              "  'контракт'],\n",
              " ['факт',\n",
              "  'внесение',\n",
              "  'денежный',\n",
              "  'средство',\n",
              "  'счёт',\n",
              "  'заказчик',\n",
              "  'подтверждаться',\n",
              "  'платёжный',\n",
              "  'документ'],\n",
              " ['факт',\n",
              "  'внесение',\n",
              "  'денежный',\n",
              "  'средство',\n",
              "  'счёт',\n",
              "  'заказчик',\n",
              "  'подтверждаться',\n",
              "  'платёжный',\n",
              "  'документ',\n",
              "  'основание',\n",
              "  'который',\n",
              "  'произвести',\n",
              "  'перечисление',\n",
              "  'средство',\n",
              "  'предоставление',\n",
              "  'независимый',\n",
              "  'гарантия'],\n",
              " ['способ', 'обеспечение', 'исполнение', 'контракт'],\n",
              " ['требование', 'содержание']]"
            ]
          },
          "metadata": {},
          "execution_count": 21
        }
      ]
    },
    {
      "cell_type": "code",
      "source": [
        "contract_enforcement_lemmatized = []\n",
        "for i in range(len(contract_enforcement)):\n",
        "  sentence = contract_enforcement[i]\n",
        "  sentence = lemmatization(sentence, stopwords_ru, morph)\n",
        "\n",
        "  if sentence:\n",
        "    contract_enforcement_lemmatized.append(sentence)"
      ],
      "metadata": {
        "id": "Q-cmbXbDiZFt"
      },
      "execution_count": null,
      "outputs": []
    },
    {
      "cell_type": "code",
      "source": [
        "garantee_enforcement_lemmatized = []\n",
        "for i in range(len(garantee_enforcement)):\n",
        "  sentence = garantee_enforcement[i]\n",
        "  sentence = lemmatization(sentence, stopwords_ru, morph)\n",
        "  if sentence: \n",
        "    garantee_enforcement_lemmatized.append(sentence)"
      ],
      "metadata": {
        "id": "rfSthCrmkBR3"
      },
      "execution_count": null,
      "outputs": []
    },
    {
      "cell_type": "code",
      "source": [
        "nonetype_lemmatized = []\n",
        "for i in range(len(nonetype_sentences)):\n",
        "  sentence = nonetype_sentences[i]\n",
        "  sentence = lemmatization(sentence, stopwords_ru, morph)\n",
        "\n",
        "  if sentence and len(sentence) > 1: \n",
        "    nonetype_lemmatized.append(sentence)"
      ],
      "metadata": {
        "id": "zc4TfWFZkenk"
      },
      "execution_count": null,
      "outputs": []
    },
    {
      "cell_type": "code",
      "source": [
        "len(contract_enforcement_lemmatized), len(garantee_enforcement_lemmatized), len(nonetype_lemmatized)"
      ],
      "metadata": {
        "id": "G60xBxx8y71k"
      },
      "execution_count": null,
      "outputs": []
    },
    {
      "cell_type": "code",
      "source": [
        "with open('contract_enforcement_lemmatized.pkl', 'wb') as fp:\n",
        "  pickle.dump(contract_enforcement_lemmatized, fp)"
      ],
      "metadata": {
        "id": "78odn5lWjy_V"
      },
      "execution_count": null,
      "outputs": []
    },
    {
      "cell_type": "code",
      "source": [
        "with open('garantee_enforcement_lemmatized.pkl', 'wb') as fp:\n",
        "  pickle.dump(garantee_enforcement_lemmatized, fp)"
      ],
      "metadata": {
        "id": "auBrGSWRkA9u"
      },
      "execution_count": null,
      "outputs": []
    },
    {
      "cell_type": "code",
      "source": [
        "with open('nonetype_lemmatized.pkl', 'wb') as fp:\n",
        "  pickle.dump(nonetype_lemmatized, fp)"
      ],
      "metadata": {
        "id": "NAXnTZoFmjBK"
      },
      "execution_count": null,
      "outputs": []
    },
    {
      "cell_type": "code",
      "source": [
        "df_splitted.to_json('train_lemmatized.json')"
      ],
      "metadata": {
        "id": "c9acVqE5YaDv"
      },
      "execution_count": null,
      "outputs": []
    },
    {
      "cell_type": "markdown",
      "source": [
        "### Просмотр ошибок разделения на предложения"
      ],
      "metadata": {
        "id": "yuauqNowi0wF"
      }
    },
    {
      "cell_type": "code",
      "source": [
        "not_found.head()"
      ],
      "metadata": {
        "colab": {
          "base_uri": "https://localhost:8080/",
          "height": 337
        },
        "id": "Xn-N1jlecP-n",
        "outputId": "683a44c8-43e2-4c4e-b85c-f4875617f7e8"
      },
      "execution_count": null,
      "outputs": [
        {
          "output_type": "execute_result",
          "data": {
            "text/plain": [
              "          id                                               text  \\\n",
              "0  462513308  Приложение № 3 ГОСУДАРСТВЕННЫЙ КОНТРАКТ (ПРОЕК...   \n",
              "1  988172508  Идентификационный код закупки: 222637800390863...   \n",
              "2  359099757  Идентификационный код закупки: 223631102474263...   \n",
              "3  967226407  Идентификационный код закупки: 222633500240263...   \n",
              "4   19349887  Идентификационный код закупки: 222634000559063...   \n",
              "\n",
              "                              label  \\\n",
              "0  обеспечение исполнения контракта   \n",
              "1  обеспечение исполнения контракта   \n",
              "2  обеспечение исполнения контракта   \n",
              "3  обеспечение исполнения контракта   \n",
              "4  обеспечение исполнения контракта   \n",
              "\n",
              "                                              target  not_found  \n",
              "0  Размер обеспечения исполнения контракта устана...        0.0  \n",
              "1  Размер обеспечение исполнения контракта устана...        0.0  \n",
              "2  Размер обеспечение исполнения контракта устана...        0.0  \n",
              "3  Размер обеспечение исполнения контракта устана...        0.0  \n",
              "4  Размер обеспечение исполнения контракта устана...        0.0  "
            ],
            "text/html": [
              "\n",
              "  <div id=\"df-26159381-4f18-410b-bbd4-2ca1cf083208\">\n",
              "    <div class=\"colab-df-container\">\n",
              "      <div>\n",
              "<style scoped>\n",
              "    .dataframe tbody tr th:only-of-type {\n",
              "        vertical-align: middle;\n",
              "    }\n",
              "\n",
              "    .dataframe tbody tr th {\n",
              "        vertical-align: top;\n",
              "    }\n",
              "\n",
              "    .dataframe thead th {\n",
              "        text-align: right;\n",
              "    }\n",
              "</style>\n",
              "<table border=\"1\" class=\"dataframe\">\n",
              "  <thead>\n",
              "    <tr style=\"text-align: right;\">\n",
              "      <th></th>\n",
              "      <th>id</th>\n",
              "      <th>text</th>\n",
              "      <th>label</th>\n",
              "      <th>target</th>\n",
              "      <th>not_found</th>\n",
              "    </tr>\n",
              "  </thead>\n",
              "  <tbody>\n",
              "    <tr>\n",
              "      <th>0</th>\n",
              "      <td>462513308</td>\n",
              "      <td>Приложение № 3 ГОСУДАРСТВЕННЫЙ КОНТРАКТ (ПРОЕК...</td>\n",
              "      <td>обеспечение исполнения контракта</td>\n",
              "      <td>Размер обеспечения исполнения контракта устана...</td>\n",
              "      <td>0.0</td>\n",
              "    </tr>\n",
              "    <tr>\n",
              "      <th>1</th>\n",
              "      <td>988172508</td>\n",
              "      <td>Идентификационный код закупки: 222637800390863...</td>\n",
              "      <td>обеспечение исполнения контракта</td>\n",
              "      <td>Размер обеспечение исполнения контракта устана...</td>\n",
              "      <td>0.0</td>\n",
              "    </tr>\n",
              "    <tr>\n",
              "      <th>2</th>\n",
              "      <td>359099757</td>\n",
              "      <td>Идентификационный код закупки: 223631102474263...</td>\n",
              "      <td>обеспечение исполнения контракта</td>\n",
              "      <td>Размер обеспечение исполнения контракта устана...</td>\n",
              "      <td>0.0</td>\n",
              "    </tr>\n",
              "    <tr>\n",
              "      <th>3</th>\n",
              "      <td>967226407</td>\n",
              "      <td>Идентификационный код закупки: 222633500240263...</td>\n",
              "      <td>обеспечение исполнения контракта</td>\n",
              "      <td>Размер обеспечение исполнения контракта устана...</td>\n",
              "      <td>0.0</td>\n",
              "    </tr>\n",
              "    <tr>\n",
              "      <th>4</th>\n",
              "      <td>19349887</td>\n",
              "      <td>Идентификационный код закупки: 222634000559063...</td>\n",
              "      <td>обеспечение исполнения контракта</td>\n",
              "      <td>Размер обеспечение исполнения контракта устана...</td>\n",
              "      <td>0.0</td>\n",
              "    </tr>\n",
              "  </tbody>\n",
              "</table>\n",
              "</div>\n",
              "      <button class=\"colab-df-convert\" onclick=\"convertToInteractive('df-26159381-4f18-410b-bbd4-2ca1cf083208')\"\n",
              "              title=\"Convert this dataframe to an interactive table.\"\n",
              "              style=\"display:none;\">\n",
              "        \n",
              "  <svg xmlns=\"http://www.w3.org/2000/svg\" height=\"24px\"viewBox=\"0 0 24 24\"\n",
              "       width=\"24px\">\n",
              "    <path d=\"M0 0h24v24H0V0z\" fill=\"none\"/>\n",
              "    <path d=\"M18.56 5.44l.94 2.06.94-2.06 2.06-.94-2.06-.94-.94-2.06-.94 2.06-2.06.94zm-11 1L8.5 8.5l.94-2.06 2.06-.94-2.06-.94L8.5 2.5l-.94 2.06-2.06.94zm10 10l.94 2.06.94-2.06 2.06-.94-2.06-.94-.94-2.06-.94 2.06-2.06.94z\"/><path d=\"M17.41 7.96l-1.37-1.37c-.4-.4-.92-.59-1.43-.59-.52 0-1.04.2-1.43.59L10.3 9.45l-7.72 7.72c-.78.78-.78 2.05 0 2.83L4 21.41c.39.39.9.59 1.41.59.51 0 1.02-.2 1.41-.59l7.78-7.78 2.81-2.81c.8-.78.8-2.07 0-2.86zM5.41 20L4 18.59l7.72-7.72 1.47 1.35L5.41 20z\"/>\n",
              "  </svg>\n",
              "      </button>\n",
              "      \n",
              "  <style>\n",
              "    .colab-df-container {\n",
              "      display:flex;\n",
              "      flex-wrap:wrap;\n",
              "      gap: 12px;\n",
              "    }\n",
              "\n",
              "    .colab-df-convert {\n",
              "      background-color: #E8F0FE;\n",
              "      border: none;\n",
              "      border-radius: 50%;\n",
              "      cursor: pointer;\n",
              "      display: none;\n",
              "      fill: #1967D2;\n",
              "      height: 32px;\n",
              "      padding: 0 0 0 0;\n",
              "      width: 32px;\n",
              "    }\n",
              "\n",
              "    .colab-df-convert:hover {\n",
              "      background-color: #E2EBFA;\n",
              "      box-shadow: 0px 1px 2px rgba(60, 64, 67, 0.3), 0px 1px 3px 1px rgba(60, 64, 67, 0.15);\n",
              "      fill: #174EA6;\n",
              "    }\n",
              "\n",
              "    [theme=dark] .colab-df-convert {\n",
              "      background-color: #3B4455;\n",
              "      fill: #D2E3FC;\n",
              "    }\n",
              "\n",
              "    [theme=dark] .colab-df-convert:hover {\n",
              "      background-color: #434B5C;\n",
              "      box-shadow: 0px 1px 3px 1px rgba(0, 0, 0, 0.15);\n",
              "      filter: drop-shadow(0px 1px 2px rgba(0, 0, 0, 0.3));\n",
              "      fill: #FFFFFF;\n",
              "    }\n",
              "  </style>\n",
              "\n",
              "      <script>\n",
              "        const buttonEl =\n",
              "          document.querySelector('#df-26159381-4f18-410b-bbd4-2ca1cf083208 button.colab-df-convert');\n",
              "        buttonEl.style.display =\n",
              "          google.colab.kernel.accessAllowed ? 'block' : 'none';\n",
              "\n",
              "        async function convertToInteractive(key) {\n",
              "          const element = document.querySelector('#df-26159381-4f18-410b-bbd4-2ca1cf083208');\n",
              "          const dataTable =\n",
              "            await google.colab.kernel.invokeFunction('convertToInteractive',\n",
              "                                                     [key], {});\n",
              "          if (!dataTable) return;\n",
              "\n",
              "          const docLinkHtml = 'Like what you see? Visit the ' +\n",
              "            '<a target=\"_blank\" href=https://colab.research.google.com/notebooks/data_table.ipynb>data table notebook</a>'\n",
              "            + ' to learn more about interactive tables.';\n",
              "          element.innerHTML = '';\n",
              "          dataTable['output_type'] = 'display_data';\n",
              "          await google.colab.output.renderOutput(dataTable, element);\n",
              "          const docLink = document.createElement('div');\n",
              "          docLink.innerHTML = docLinkHtml;\n",
              "          element.appendChild(docLink);\n",
              "        }\n",
              "      </script>\n",
              "    </div>\n",
              "  </div>\n",
              "  "
            ]
          },
          "metadata": {},
          "execution_count": 123
        }
      ]
    },
    {
      "cell_type": "code",
      "source": [
        "random_str = randint(0, len(not_found)-1)\n",
        "not_found_split = splitter(not_found.loc[random_str, 'text'])\n",
        "for i in not_found_split:\n",
        "  print(i)\n",
        "print('target:')\n",
        "not_found.loc[random_str, 'target'] "
      ],
      "metadata": {
        "colab": {
          "base_uri": "https://localhost:8080/"
        },
        "id": "OuL0n6CZWD5q",
        "outputId": "3bbaa81b-3a18-40ef-a728-2713430418df"
      },
      "execution_count": null,
      "outputs": [
        {
          "output_type": "stream",
          "name": "stdout",
          "text": [
            "УТВЕРЖДАЮ\n",
            "Генеральный директор АО «АТА» ________ А.В.\n",
            "Балебанов «___» ________ 2022 года ЗАКУПОЧНАЯ ДОКУМЕНТАЦИЯ\n",
            "Открытый одноэтапный конкурс в электронной форме без предварительного квалификационного отбора на поставку автомобильного топлива по пластиковым картам для АО «АТА» г.\n",
            "Москва том 1 «общая и коммерческая части» СОГЛАСОВАНО:\n",
            "Начальник отдела закупок _________________ С.Г.\n",
            "Гаврилов 2021\n",
            "Нагатинская улица, д.4а, Москва, 115230\n",
            "Тел.: (495) 645-82-77, (495) 645-82-66\n",
            "Факс: (499) 611-30-20,\n",
            "E-mail: info@oaoata.ru ОГРН 1057749068002, ИНН/КПП 7724560930/772401001 СОДЕРЖАНИЕ ЗАКУПОЧНАЯ ДОКУМЕНТАЦИЯ 1 СОДЕРЖАНИЕ\n",
            "1. ИЗВЕЩЕНИЕ\n",
            "О ПРОВЕДЕНИИ ЗАКУПКИ 3 ЧАСТЬ 1\n",
            "2. ТРЕБОВАНИЯ.\n",
            "ДОКУМЕНТЫ. СОСТАВ ЗАЯВКИ НА УЧАСТИЕ\n",
            "В ЗАКУПКЕ.\n",
            "2.1. ТРЕБОВАНИЯ.\n",
            "ДОКУМЕНТЫ, ПОДТВЕРЖДАЮЩИЕ СООТВЕТСТВИЕ УСТАНОВЛЕННЫМ ТРЕБОВАНИЯМ.\n",
            "2.1.1.\n",
            "Требования к участникам закупки\n",
            "2.1.2.\n",
            "Требования к продукции\n",
            "2.1.3.\n",
            "Требования к банкам-гарантам, предоставляющим обеспечение заявки\n",
            "1.1. СОСТАВ ЗАЯВКИ НА УЧАСТИЕ\n",
            "В ЗА ЧАСТЬ 3 Проект договора, который будет заключен по результатам закупки, приведен в\n",
            "Тома 1 в виде отдельного файла в формате\n",
            "Нагатинская улица, д.4а\n",
            "Нагатинская улица, д.4а, Москва\n",
            "Нагатинская улица\n",
            "Требования к банкам-гарантам\n",
            "Требования к банкам\n",
            "В ЗА ЧАСТЬ 3 Проект договора\n",
            "В ЗА ЧАСТЬ 3 Проект договора, который будет заключен по результатам закупки\n",
            "target:\n"
          ]
        }
      ]
    },
    {
      "cell_type": "code",
      "source": [],
      "metadata": {
        "id": "n3JbeotkXCjJ"
      },
      "execution_count": null,
      "outputs": []
    }
  ]
}
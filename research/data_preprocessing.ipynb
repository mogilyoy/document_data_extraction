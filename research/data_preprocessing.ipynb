{
  "nbformat": 4,
  "nbformat_minor": 0,
  "metadata": {
    "colab": {
      "provenance": [],
      "collapsed_sections": [
        "p-uQVAA3BT6z",
        "aWfmk-xEC-4l",
        "wlKJfpUGp6eW"
      ]
    },
    "kernelspec": {
      "name": "python3",
      "display_name": "Python 3"
    },
    "language_info": {
      "name": "python"
    }
  },
  "cells": [
    {
      "cell_type": "markdown",
      "source": [
        "### Установки"
      ],
      "metadata": {
        "id": "or540QyLEhlb"
      }
    },
    {
      "cell_type": "code",
      "source": [
        "!pip install pymorphy2\n",
        "%pip install spacy\n",
        "!python -m spacy download ru_core_news_lg"
      ],
      "metadata": {
        "colab": {
          "base_uri": "https://localhost:8080/"
        },
        "id": "xhhpdo3IEke1",
        "outputId": "f82af91e-fa01-4e46-d6ed-6fad082a07fe"
      },
      "execution_count": 3,
      "outputs": [
        {
          "output_type": "stream",
          "name": "stdout",
          "text": [
            "Looking in indexes: https://pypi.org/simple, https://us-python.pkg.dev/colab-wheels/public/simple/\n",
            "Collecting pymorphy2\n",
            "  Downloading pymorphy2-0.9.1-py3-none-any.whl (55 kB)\n",
            "\u001b[?25l     \u001b[90m━━━━━━━━━━━━━━━━━━━━━━━━━━━━━━━━━━━━━━━━\u001b[0m \u001b[32m0.0/55.5 KB\u001b[0m \u001b[31m?\u001b[0m eta \u001b[36m-:--:--\u001b[0m\r\u001b[2K     \u001b[90m━━━━━━━━━━━━━━━━━━━━━━━━━━━━━━━━━━━━━━━━\u001b[0m \u001b[32m55.5/55.5 KB\u001b[0m \u001b[31m3.0 MB/s\u001b[0m eta \u001b[36m0:00:00\u001b[0m\n",
            "\u001b[?25hCollecting docopt>=0.6\n",
            "  Downloading docopt-0.6.2.tar.gz (25 kB)\n",
            "  Preparing metadata (setup.py) ... \u001b[?25l\u001b[?25hdone\n",
            "Collecting dawg-python>=0.7.1\n",
            "  Downloading DAWG_Python-0.7.2-py2.py3-none-any.whl (11 kB)\n",
            "Collecting pymorphy2-dicts-ru<3.0,>=2.4\n",
            "  Downloading pymorphy2_dicts_ru-2.4.417127.4579844-py2.py3-none-any.whl (8.2 MB)\n",
            "\u001b[2K     \u001b[90m━━━━━━━━━━━━━━━━━━━━━━━━━━━━━━━━━━━━━━━━\u001b[0m \u001b[32m8.2/8.2 MB\u001b[0m \u001b[31m71.4 MB/s\u001b[0m eta \u001b[36m0:00:00\u001b[0m\n",
            "\u001b[?25hBuilding wheels for collected packages: docopt\n",
            "  Building wheel for docopt (setup.py) ... \u001b[?25l\u001b[?25hdone\n",
            "  Created wheel for docopt: filename=docopt-0.6.2-py2.py3-none-any.whl size=13721 sha256=eacba3e7707775b3c44035ab12c7a30d248b48976d969708a0e9abc11a3911d8\n",
            "  Stored in directory: /root/.cache/pip/wheels/70/4a/46/1309fc853b8d395e60bafaf1b6df7845bdd82c95fd59dd8d2b\n",
            "Successfully built docopt\n",
            "Installing collected packages: pymorphy2-dicts-ru, docopt, dawg-python, pymorphy2\n",
            "Successfully installed dawg-python-0.7.2 docopt-0.6.2 pymorphy2-0.9.1 pymorphy2-dicts-ru-2.4.417127.4579844\n",
            "Looking in indexes: https://pypi.org/simple, https://us-python.pkg.dev/colab-wheels/public/simple/\n",
            "Requirement already satisfied: spacy in /usr/local/lib/python3.9/dist-packages (3.5.1)\n",
            "Requirement already satisfied: cymem<2.1.0,>=2.0.2 in /usr/local/lib/python3.9/dist-packages (from spacy) (2.0.7)\n",
            "Requirement already satisfied: setuptools in /usr/local/lib/python3.9/dist-packages (from spacy) (67.6.1)\n",
            "Requirement already satisfied: preshed<3.1.0,>=3.0.2 in /usr/local/lib/python3.9/dist-packages (from spacy) (3.0.8)\n",
            "Requirement already satisfied: spacy-legacy<3.1.0,>=3.0.11 in /usr/local/lib/python3.9/dist-packages (from spacy) (3.0.12)\n",
            "Requirement already satisfied: murmurhash<1.1.0,>=0.28.0 in /usr/local/lib/python3.9/dist-packages (from spacy) (1.0.9)\n",
            "Requirement already satisfied: catalogue<2.1.0,>=2.0.6 in /usr/local/lib/python3.9/dist-packages (from spacy) (2.0.8)\n",
            "Requirement already satisfied: typer<0.8.0,>=0.3.0 in /usr/local/lib/python3.9/dist-packages (from spacy) (0.7.0)\n",
            "Requirement already satisfied: thinc<8.2.0,>=8.1.8 in /usr/local/lib/python3.9/dist-packages (from spacy) (8.1.9)\n",
            "Requirement already satisfied: wasabi<1.2.0,>=0.9.1 in /usr/local/lib/python3.9/dist-packages (from spacy) (1.1.1)\n",
            "Requirement already satisfied: packaging>=20.0 in /usr/local/lib/python3.9/dist-packages (from spacy) (23.0)\n",
            "Requirement already satisfied: langcodes<4.0.0,>=3.2.0 in /usr/local/lib/python3.9/dist-packages (from spacy) (3.3.0)\n",
            "Requirement already satisfied: numpy>=1.15.0 in /usr/local/lib/python3.9/dist-packages (from spacy) (1.22.4)\n",
            "Requirement already satisfied: pathy>=0.10.0 in /usr/local/lib/python3.9/dist-packages (from spacy) (0.10.1)\n",
            "Requirement already satisfied: spacy-loggers<2.0.0,>=1.0.0 in /usr/local/lib/python3.9/dist-packages (from spacy) (1.0.4)\n",
            "Requirement already satisfied: pydantic!=1.8,!=1.8.1,<1.11.0,>=1.7.4 in /usr/local/lib/python3.9/dist-packages (from spacy) (1.10.7)\n",
            "Requirement already satisfied: smart-open<7.0.0,>=5.2.1 in /usr/local/lib/python3.9/dist-packages (from spacy) (6.3.0)\n",
            "Requirement already satisfied: tqdm<5.0.0,>=4.38.0 in /usr/local/lib/python3.9/dist-packages (from spacy) (4.65.0)\n",
            "Requirement already satisfied: srsly<3.0.0,>=2.4.3 in /usr/local/lib/python3.9/dist-packages (from spacy) (2.4.6)\n",
            "Requirement already satisfied: jinja2 in /usr/local/lib/python3.9/dist-packages (from spacy) (3.1.2)\n",
            "Requirement already satisfied: requests<3.0.0,>=2.13.0 in /usr/local/lib/python3.9/dist-packages (from spacy) (2.27.1)\n",
            "Requirement already satisfied: typing-extensions>=4.2.0 in /usr/local/lib/python3.9/dist-packages (from pydantic!=1.8,!=1.8.1,<1.11.0,>=1.7.4->spacy) (4.5.0)\n",
            "Requirement already satisfied: urllib3<1.27,>=1.21.1 in /usr/local/lib/python3.9/dist-packages (from requests<3.0.0,>=2.13.0->spacy) (1.26.15)\n",
            "Requirement already satisfied: charset-normalizer~=2.0.0 in /usr/local/lib/python3.9/dist-packages (from requests<3.0.0,>=2.13.0->spacy) (2.0.12)\n",
            "Requirement already satisfied: certifi>=2017.4.17 in /usr/local/lib/python3.9/dist-packages (from requests<3.0.0,>=2.13.0->spacy) (2022.12.7)\n",
            "Requirement already satisfied: idna<4,>=2.5 in /usr/local/lib/python3.9/dist-packages (from requests<3.0.0,>=2.13.0->spacy) (3.4)\n",
            "Requirement already satisfied: confection<1.0.0,>=0.0.1 in /usr/local/lib/python3.9/dist-packages (from thinc<8.2.0,>=8.1.8->spacy) (0.0.4)\n",
            "Requirement already satisfied: blis<0.8.0,>=0.7.8 in /usr/local/lib/python3.9/dist-packages (from thinc<8.2.0,>=8.1.8->spacy) (0.7.9)\n",
            "Requirement already satisfied: click<9.0.0,>=7.1.1 in /usr/local/lib/python3.9/dist-packages (from typer<0.8.0,>=0.3.0->spacy) (8.1.3)\n",
            "Requirement already satisfied: MarkupSafe>=2.0 in /usr/local/lib/python3.9/dist-packages (from jinja2->spacy) (2.1.2)\n",
            "2023-04-07 12:02:21.111535: I tensorflow/core/platform/cpu_feature_guard.cc:182] This TensorFlow binary is optimized to use available CPU instructions in performance-critical operations.\n",
            "To enable the following instructions: AVX2 FMA, in other operations, rebuild TensorFlow with the appropriate compiler flags.\n",
            "2023-04-07 12:02:21.968594: W tensorflow/compiler/tf2tensorrt/utils/py_utils.cc:38] TF-TRT Warning: Could not find TensorRT\n",
            "Looking in indexes: https://pypi.org/simple, https://us-python.pkg.dev/colab-wheels/public/simple/\n",
            "Collecting ru-core-news-lg==3.5.0\n",
            "  Downloading https://github.com/explosion/spacy-models/releases/download/ru_core_news_lg-3.5.0/ru_core_news_lg-3.5.0-py3-none-any.whl (513.4 MB)\n",
            "\u001b[2K     \u001b[90m━━━━━━━━━━━━━━━━━━━━━━━━━━━━━━━━━━━━━━━\u001b[0m \u001b[32m513.4/513.4 MB\u001b[0m \u001b[31m3.7 MB/s\u001b[0m eta \u001b[36m0:00:00\u001b[0m\n",
            "\u001b[?25hCollecting pymorphy3>=1.0.0\n",
            "  Downloading pymorphy3-1.2.0-py3-none-any.whl (55 kB)\n",
            "\u001b[2K     \u001b[90m━━━━━━━━━━━━━━━━━━━━━━━━━━━━━━━━━━━━━━━━\u001b[0m \u001b[32m55.4/55.4 KB\u001b[0m \u001b[31m2.6 MB/s\u001b[0m eta \u001b[36m0:00:00\u001b[0m\n",
            "\u001b[?25hRequirement already satisfied: spacy<3.6.0,>=3.5.0 in /usr/local/lib/python3.9/dist-packages (from ru-core-news-lg==3.5.0) (3.5.1)\n",
            "Requirement already satisfied: dawg-python>=0.7.1 in /usr/local/lib/python3.9/dist-packages (from pymorphy3>=1.0.0->ru-core-news-lg==3.5.0) (0.7.2)\n",
            "Collecting pymorphy3-dicts-ru\n",
            "  Downloading pymorphy3_dicts_ru-2.4.417150.4580142-py2.py3-none-any.whl (8.4 MB)\n",
            "\u001b[2K     \u001b[90m━━━━━━━━━━━━━━━━━━━━━━━━━━━━━━━━━━━━━━━━\u001b[0m \u001b[32m8.4/8.4 MB\u001b[0m \u001b[31m68.1 MB/s\u001b[0m eta \u001b[36m0:00:00\u001b[0m\n",
            "\u001b[?25hRequirement already satisfied: docopt>=0.6 in /usr/local/lib/python3.9/dist-packages (from pymorphy3>=1.0.0->ru-core-news-lg==3.5.0) (0.6.2)\n",
            "Requirement already satisfied: tqdm<5.0.0,>=4.38.0 in /usr/local/lib/python3.9/dist-packages (from spacy<3.6.0,>=3.5.0->ru-core-news-lg==3.5.0) (4.65.0)\n",
            "Requirement already satisfied: preshed<3.1.0,>=3.0.2 in /usr/local/lib/python3.9/dist-packages (from spacy<3.6.0,>=3.5.0->ru-core-news-lg==3.5.0) (3.0.8)\n",
            "Requirement already satisfied: srsly<3.0.0,>=2.4.3 in /usr/local/lib/python3.9/dist-packages (from spacy<3.6.0,>=3.5.0->ru-core-news-lg==3.5.0) (2.4.6)\n",
            "Requirement already satisfied: packaging>=20.0 in /usr/local/lib/python3.9/dist-packages (from spacy<3.6.0,>=3.5.0->ru-core-news-lg==3.5.0) (23.0)\n",
            "Requirement already satisfied: catalogue<2.1.0,>=2.0.6 in /usr/local/lib/python3.9/dist-packages (from spacy<3.6.0,>=3.5.0->ru-core-news-lg==3.5.0) (2.0.8)\n",
            "Requirement already satisfied: numpy>=1.15.0 in /usr/local/lib/python3.9/dist-packages (from spacy<3.6.0,>=3.5.0->ru-core-news-lg==3.5.0) (1.22.4)\n",
            "Requirement already satisfied: spacy-loggers<2.0.0,>=1.0.0 in /usr/local/lib/python3.9/dist-packages (from spacy<3.6.0,>=3.5.0->ru-core-news-lg==3.5.0) (1.0.4)\n",
            "Requirement already satisfied: pathy>=0.10.0 in /usr/local/lib/python3.9/dist-packages (from spacy<3.6.0,>=3.5.0->ru-core-news-lg==3.5.0) (0.10.1)\n",
            "Requirement already satisfied: langcodes<4.0.0,>=3.2.0 in /usr/local/lib/python3.9/dist-packages (from spacy<3.6.0,>=3.5.0->ru-core-news-lg==3.5.0) (3.3.0)\n",
            "Requirement already satisfied: spacy-legacy<3.1.0,>=3.0.11 in /usr/local/lib/python3.9/dist-packages (from spacy<3.6.0,>=3.5.0->ru-core-news-lg==3.5.0) (3.0.12)\n",
            "Requirement already satisfied: murmurhash<1.1.0,>=0.28.0 in /usr/local/lib/python3.9/dist-packages (from spacy<3.6.0,>=3.5.0->ru-core-news-lg==3.5.0) (1.0.9)\n",
            "Requirement already satisfied: typer<0.8.0,>=0.3.0 in /usr/local/lib/python3.9/dist-packages (from spacy<3.6.0,>=3.5.0->ru-core-news-lg==3.5.0) (0.7.0)\n",
            "Requirement already satisfied: cymem<2.1.0,>=2.0.2 in /usr/local/lib/python3.9/dist-packages (from spacy<3.6.0,>=3.5.0->ru-core-news-lg==3.5.0) (2.0.7)\n",
            "Requirement already satisfied: setuptools in /usr/local/lib/python3.9/dist-packages (from spacy<3.6.0,>=3.5.0->ru-core-news-lg==3.5.0) (67.6.1)\n",
            "Requirement already satisfied: thinc<8.2.0,>=8.1.8 in /usr/local/lib/python3.9/dist-packages (from spacy<3.6.0,>=3.5.0->ru-core-news-lg==3.5.0) (8.1.9)\n",
            "Requirement already satisfied: pydantic!=1.8,!=1.8.1,<1.11.0,>=1.7.4 in /usr/local/lib/python3.9/dist-packages (from spacy<3.6.0,>=3.5.0->ru-core-news-lg==3.5.0) (1.10.7)\n",
            "Requirement already satisfied: jinja2 in /usr/local/lib/python3.9/dist-packages (from spacy<3.6.0,>=3.5.0->ru-core-news-lg==3.5.0) (3.1.2)\n",
            "Requirement already satisfied: requests<3.0.0,>=2.13.0 in /usr/local/lib/python3.9/dist-packages (from spacy<3.6.0,>=3.5.0->ru-core-news-lg==3.5.0) (2.27.1)\n",
            "Requirement already satisfied: wasabi<1.2.0,>=0.9.1 in /usr/local/lib/python3.9/dist-packages (from spacy<3.6.0,>=3.5.0->ru-core-news-lg==3.5.0) (1.1.1)\n",
            "Requirement already satisfied: smart-open<7.0.0,>=5.2.1 in /usr/local/lib/python3.9/dist-packages (from spacy<3.6.0,>=3.5.0->ru-core-news-lg==3.5.0) (6.3.0)\n",
            "Requirement already satisfied: typing-extensions>=4.2.0 in /usr/local/lib/python3.9/dist-packages (from pydantic!=1.8,!=1.8.1,<1.11.0,>=1.7.4->spacy<3.6.0,>=3.5.0->ru-core-news-lg==3.5.0) (4.5.0)\n",
            "Requirement already satisfied: charset-normalizer~=2.0.0 in /usr/local/lib/python3.9/dist-packages (from requests<3.0.0,>=2.13.0->spacy<3.6.0,>=3.5.0->ru-core-news-lg==3.5.0) (2.0.12)\n",
            "Requirement already satisfied: certifi>=2017.4.17 in /usr/local/lib/python3.9/dist-packages (from requests<3.0.0,>=2.13.0->spacy<3.6.0,>=3.5.0->ru-core-news-lg==3.5.0) (2022.12.7)\n",
            "Requirement already satisfied: urllib3<1.27,>=1.21.1 in /usr/local/lib/python3.9/dist-packages (from requests<3.0.0,>=2.13.0->spacy<3.6.0,>=3.5.0->ru-core-news-lg==3.5.0) (1.26.15)\n",
            "Requirement already satisfied: idna<4,>=2.5 in /usr/local/lib/python3.9/dist-packages (from requests<3.0.0,>=2.13.0->spacy<3.6.0,>=3.5.0->ru-core-news-lg==3.5.0) (3.4)\n",
            "Requirement already satisfied: confection<1.0.0,>=0.0.1 in /usr/local/lib/python3.9/dist-packages (from thinc<8.2.0,>=8.1.8->spacy<3.6.0,>=3.5.0->ru-core-news-lg==3.5.0) (0.0.4)\n",
            "Requirement already satisfied: blis<0.8.0,>=0.7.8 in /usr/local/lib/python3.9/dist-packages (from thinc<8.2.0,>=8.1.8->spacy<3.6.0,>=3.5.0->ru-core-news-lg==3.5.0) (0.7.9)\n",
            "Requirement already satisfied: click<9.0.0,>=7.1.1 in /usr/local/lib/python3.9/dist-packages (from typer<0.8.0,>=0.3.0->spacy<3.6.0,>=3.5.0->ru-core-news-lg==3.5.0) (8.1.3)\n",
            "Requirement already satisfied: MarkupSafe>=2.0 in /usr/local/lib/python3.9/dist-packages (from jinja2->spacy<3.6.0,>=3.5.0->ru-core-news-lg==3.5.0) (2.1.2)\n",
            "Installing collected packages: pymorphy3-dicts-ru, pymorphy3, ru-core-news-lg\n",
            "Successfully installed pymorphy3-1.2.0 pymorphy3-dicts-ru-2.4.417150.4580142 ru-core-news-lg-3.5.0\n",
            "\u001b[38;5;2m✔ Download and installation successful\u001b[0m\n",
            "You can now load the package via spacy.load('ru_core_news_lg')\n"
          ]
        }
      ]
    },
    {
      "cell_type": "markdown",
      "source": [
        "### Импорт"
      ],
      "metadata": {
        "id": "HTOcb8lGE2i2"
      }
    },
    {
      "cell_type": "code",
      "execution_count": 117,
      "metadata": {
        "id": "UExd-Ooe9bh8"
      },
      "outputs": [],
      "source": [
        "from pymorphy2 import MorphAnalyzer\n",
        "from gensim.models import Word2Vec\n",
        "from nltk.corpus import stopwords\n",
        "from random import randint\n",
        "\n",
        "import pandas as pd\n",
        "import numpy as np\n",
        "import pickle\n",
        "import nltk\n",
        "import json\n",
        "import gc\n",
        "import re"
      ]
    },
    {
      "cell_type": "markdown",
      "source": [
        "\n",
        "\n",
        "*   распаковка json\n",
        "*   знакомство с данными\n",
        "*   разбиение текстов на  предложения\n",
        "*   лемматизация и очищение от стоп-слов\n",
        "\n"
      ],
      "metadata": {
        "id": "R38fbOHz4Asc"
      }
    },
    {
      "cell_type": "markdown",
      "source": [
        "### распаковка json, приведение к удобному виду для pandas"
      ],
      "metadata": {
        "id": "p-uQVAA3BT6z"
      }
    },
    {
      "cell_type": "code",
      "source": [
        "with open('/content/train.json', 'r', encoding='utf-8') as f:\n",
        "  json_data = json.load(f)\n",
        "len(json_data)"
      ],
      "metadata": {
        "colab": {
          "base_uri": "https://localhost:8080/",
          "height": 202
        },
        "id": "jfqodarQ-ZfY",
        "outputId": "3ecf1c02-d6f2-40d0-a71c-e7b4ecc3f556"
      },
      "execution_count": 52,
      "outputs": [
        {
          "output_type": "error",
          "ename": "FileNotFoundError",
          "evalue": "ignored",
          "traceback": [
            "\u001b[0;31m---------------------------------------------------------------------------\u001b[0m",
            "\u001b[0;31mFileNotFoundError\u001b[0m                         Traceback (most recent call last)",
            "\u001b[0;32m<ipython-input-52-4236d4a1b49d>\u001b[0m in \u001b[0;36m<cell line: 1>\u001b[0;34m()\u001b[0m\n\u001b[0;32m----> 1\u001b[0;31m \u001b[0;32mwith\u001b[0m \u001b[0mopen\u001b[0m\u001b[0;34m(\u001b[0m\u001b[0;34m'/content/train.json'\u001b[0m\u001b[0;34m,\u001b[0m \u001b[0;34m'r'\u001b[0m\u001b[0;34m,\u001b[0m \u001b[0mencoding\u001b[0m\u001b[0;34m=\u001b[0m\u001b[0;34m'utf-8'\u001b[0m\u001b[0;34m)\u001b[0m \u001b[0;32mas\u001b[0m \u001b[0mf\u001b[0m\u001b[0;34m:\u001b[0m\u001b[0;34m\u001b[0m\u001b[0;34m\u001b[0m\u001b[0m\n\u001b[0m\u001b[1;32m      2\u001b[0m   \u001b[0mjson_data\u001b[0m \u001b[0;34m=\u001b[0m \u001b[0mjson\u001b[0m\u001b[0;34m.\u001b[0m\u001b[0mload\u001b[0m\u001b[0;34m(\u001b[0m\u001b[0mf\u001b[0m\u001b[0;34m)\u001b[0m\u001b[0;34m\u001b[0m\u001b[0;34m\u001b[0m\u001b[0m\n\u001b[1;32m      3\u001b[0m \u001b[0mlen\u001b[0m\u001b[0;34m(\u001b[0m\u001b[0mjson_data\u001b[0m\u001b[0;34m)\u001b[0m\u001b[0;34m\u001b[0m\u001b[0;34m\u001b[0m\u001b[0m\n",
            "\u001b[0;31mFileNotFoundError\u001b[0m: [Errno 2] No such file or directory: '/content/train.json'"
          ]
        }
      ]
    },
    {
      "cell_type": "code",
      "source": [
        "json_data[0]['extracted_part']"
      ],
      "metadata": {
        "colab": {
          "base_uri": "https://localhost:8080/",
          "height": 167
        },
        "id": "1KKnjmOu-zvm",
        "outputId": "7d8a4ba8-6ac4-4268-92cf-c272f4133048"
      },
      "execution_count": 53,
      "outputs": [
        {
          "output_type": "error",
          "ename": "NameError",
          "evalue": "ignored",
          "traceback": [
            "\u001b[0;31m---------------------------------------------------------------------------\u001b[0m",
            "\u001b[0;31mNameError\u001b[0m                                 Traceback (most recent call last)",
            "\u001b[0;32m<ipython-input-53-859343dc8174>\u001b[0m in \u001b[0;36m<cell line: 1>\u001b[0;34m()\u001b[0m\n\u001b[0;32m----> 1\u001b[0;31m \u001b[0mjson_data\u001b[0m\u001b[0;34m[\u001b[0m\u001b[0;36m0\u001b[0m\u001b[0;34m]\u001b[0m\u001b[0;34m[\u001b[0m\u001b[0;34m'extracted_part'\u001b[0m\u001b[0;34m]\u001b[0m\u001b[0;34m\u001b[0m\u001b[0;34m\u001b[0m\u001b[0m\n\u001b[0m",
            "\u001b[0;31mNameError\u001b[0m: name 'json_data' is not defined"
          ]
        }
      ]
    },
    {
      "cell_type": "code",
      "source": [
        "json_data[0]['text'][1279:1343]\n"
      ],
      "metadata": {
        "id": "W7Ix7uBc_6Sy"
      },
      "execution_count": null,
      "outputs": []
    },
    {
      "cell_type": "code",
      "source": [
        "lenght = len(json_data)\n",
        "for i in range(lenght):\n",
        "  target = json_data[i]['extracted_part']['text'][0]\n",
        "  if target:\n",
        "    json_data[i]['target'] = target\n",
        "\n",
        "  else: \n",
        "    json_data[i]['target'] = np.nan\n",
        "\n",
        "  del json_data[i]['extracted_part']\n",
        "  \n",
        "json_data[0]"
      ],
      "metadata": {
        "id": "nX7V8aDrBLYi"
      },
      "execution_count": null,
      "outputs": []
    },
    {
      "cell_type": "code",
      "source": [
        "with open('train_unpacked.json', 'w') as f:\n",
        "  json.dump(json_data, f)"
      ],
      "metadata": {
        "id": "33GS2kYZCH15"
      },
      "execution_count": null,
      "outputs": []
    },
    {
      "cell_type": "code",
      "source": [
        "del json_data\n",
        "gc.collect()"
      ],
      "metadata": {
        "id": "c-pYHi54C3pI"
      },
      "execution_count": null,
      "outputs": []
    },
    {
      "cell_type": "markdown",
      "source": [
        "### откроем в pandas посмотрим на данные"
      ],
      "metadata": {
        "id": "aWfmk-xEC-4l"
      }
    },
    {
      "cell_type": "code",
      "source": [
        "df = pd.read_json('/content/train_unpacked.json', encoding='utf-8')\n",
        "df.sample(3)"
      ],
      "metadata": {
        "colab": {
          "base_uri": "https://localhost:8080/",
          "height": 239
        },
        "id": "hFZZz7V2C97l",
        "outputId": "b2ee8233-04c0-44a0-b569-5ec00eb64a0a"
      },
      "execution_count": 54,
      "outputs": [
        {
          "output_type": "execute_result",
          "data": {
            "text/plain": [
              "             id                                               text  \\\n",
              "1467  134794731  Извещение о проведении электронного аукциона д...   \n",
              "925   712278751  «УТВЕРЖДАЮ» Директор ГУП СК «Ставрополькоммунэ...   \n",
              "943   598410562  ИНФОРМАЦИОННЫЙ ЛИСТ Реестровый номер - 655 ЗК ...   \n",
              "\n",
              "                                     label  \\\n",
              "1467  обеспечение гарантийных обязательств   \n",
              "925       обеспечение исполнения контракта   \n",
              "943       обеспечение исполнения контракта   \n",
              "\n",
              "                                                 target  \n",
              "1467  Размер обеспечения гарантийных обязательств 36...  \n",
              "925   Заказчик вправе установить в документации о за...  \n",
              "943   Размер обеспечения исполнения договора 5% от Н...  "
            ],
            "text/html": [
              "\n",
              "  <div id=\"df-e4ff170e-2e24-4da5-b5a6-9ca23cbeeb68\">\n",
              "    <div class=\"colab-df-container\">\n",
              "      <div>\n",
              "<style scoped>\n",
              "    .dataframe tbody tr th:only-of-type {\n",
              "        vertical-align: middle;\n",
              "    }\n",
              "\n",
              "    .dataframe tbody tr th {\n",
              "        vertical-align: top;\n",
              "    }\n",
              "\n",
              "    .dataframe thead th {\n",
              "        text-align: right;\n",
              "    }\n",
              "</style>\n",
              "<table border=\"1\" class=\"dataframe\">\n",
              "  <thead>\n",
              "    <tr style=\"text-align: right;\">\n",
              "      <th></th>\n",
              "      <th>id</th>\n",
              "      <th>text</th>\n",
              "      <th>label</th>\n",
              "      <th>target</th>\n",
              "    </tr>\n",
              "  </thead>\n",
              "  <tbody>\n",
              "    <tr>\n",
              "      <th>1467</th>\n",
              "      <td>134794731</td>\n",
              "      <td>Извещение о проведении электронного аукциона д...</td>\n",
              "      <td>обеспечение гарантийных обязательств</td>\n",
              "      <td>Размер обеспечения гарантийных обязательств 36...</td>\n",
              "    </tr>\n",
              "    <tr>\n",
              "      <th>925</th>\n",
              "      <td>712278751</td>\n",
              "      <td>«УТВЕРЖДАЮ» Директор ГУП СК «Ставрополькоммунэ...</td>\n",
              "      <td>обеспечение исполнения контракта</td>\n",
              "      <td>Заказчик вправе установить в документации о за...</td>\n",
              "    </tr>\n",
              "    <tr>\n",
              "      <th>943</th>\n",
              "      <td>598410562</td>\n",
              "      <td>ИНФОРМАЦИОННЫЙ ЛИСТ Реестровый номер - 655 ЗК ...</td>\n",
              "      <td>обеспечение исполнения контракта</td>\n",
              "      <td>Размер обеспечения исполнения договора 5% от Н...</td>\n",
              "    </tr>\n",
              "  </tbody>\n",
              "</table>\n",
              "</div>\n",
              "      <button class=\"colab-df-convert\" onclick=\"convertToInteractive('df-e4ff170e-2e24-4da5-b5a6-9ca23cbeeb68')\"\n",
              "              title=\"Convert this dataframe to an interactive table.\"\n",
              "              style=\"display:none;\">\n",
              "        \n",
              "  <svg xmlns=\"http://www.w3.org/2000/svg\" height=\"24px\"viewBox=\"0 0 24 24\"\n",
              "       width=\"24px\">\n",
              "    <path d=\"M0 0h24v24H0V0z\" fill=\"none\"/>\n",
              "    <path d=\"M18.56 5.44l.94 2.06.94-2.06 2.06-.94-2.06-.94-.94-2.06-.94 2.06-2.06.94zm-11 1L8.5 8.5l.94-2.06 2.06-.94-2.06-.94L8.5 2.5l-.94 2.06-2.06.94zm10 10l.94 2.06.94-2.06 2.06-.94-2.06-.94-.94-2.06-.94 2.06-2.06.94z\"/><path d=\"M17.41 7.96l-1.37-1.37c-.4-.4-.92-.59-1.43-.59-.52 0-1.04.2-1.43.59L10.3 9.45l-7.72 7.72c-.78.78-.78 2.05 0 2.83L4 21.41c.39.39.9.59 1.41.59.51 0 1.02-.2 1.41-.59l7.78-7.78 2.81-2.81c.8-.78.8-2.07 0-2.86zM5.41 20L4 18.59l7.72-7.72 1.47 1.35L5.41 20z\"/>\n",
              "  </svg>\n",
              "      </button>\n",
              "      \n",
              "  <style>\n",
              "    .colab-df-container {\n",
              "      display:flex;\n",
              "      flex-wrap:wrap;\n",
              "      gap: 12px;\n",
              "    }\n",
              "\n",
              "    .colab-df-convert {\n",
              "      background-color: #E8F0FE;\n",
              "      border: none;\n",
              "      border-radius: 50%;\n",
              "      cursor: pointer;\n",
              "      display: none;\n",
              "      fill: #1967D2;\n",
              "      height: 32px;\n",
              "      padding: 0 0 0 0;\n",
              "      width: 32px;\n",
              "    }\n",
              "\n",
              "    .colab-df-convert:hover {\n",
              "      background-color: #E2EBFA;\n",
              "      box-shadow: 0px 1px 2px rgba(60, 64, 67, 0.3), 0px 1px 3px 1px rgba(60, 64, 67, 0.15);\n",
              "      fill: #174EA6;\n",
              "    }\n",
              "\n",
              "    [theme=dark] .colab-df-convert {\n",
              "      background-color: #3B4455;\n",
              "      fill: #D2E3FC;\n",
              "    }\n",
              "\n",
              "    [theme=dark] .colab-df-convert:hover {\n",
              "      background-color: #434B5C;\n",
              "      box-shadow: 0px 1px 3px 1px rgba(0, 0, 0, 0.15);\n",
              "      filter: drop-shadow(0px 1px 2px rgba(0, 0, 0, 0.3));\n",
              "      fill: #FFFFFF;\n",
              "    }\n",
              "  </style>\n",
              "\n",
              "      <script>\n",
              "        const buttonEl =\n",
              "          document.querySelector('#df-e4ff170e-2e24-4da5-b5a6-9ca23cbeeb68 button.colab-df-convert');\n",
              "        buttonEl.style.display =\n",
              "          google.colab.kernel.accessAllowed ? 'block' : 'none';\n",
              "\n",
              "        async function convertToInteractive(key) {\n",
              "          const element = document.querySelector('#df-e4ff170e-2e24-4da5-b5a6-9ca23cbeeb68');\n",
              "          const dataTable =\n",
              "            await google.colab.kernel.invokeFunction('convertToInteractive',\n",
              "                                                     [key], {});\n",
              "          if (!dataTable) return;\n",
              "\n",
              "          const docLinkHtml = 'Like what you see? Visit the ' +\n",
              "            '<a target=\"_blank\" href=https://colab.research.google.com/notebooks/data_table.ipynb>data table notebook</a>'\n",
              "            + ' to learn more about interactive tables.';\n",
              "          element.innerHTML = '';\n",
              "          dataTable['output_type'] = 'display_data';\n",
              "          await google.colab.output.renderOutput(dataTable, element);\n",
              "          const docLink = document.createElement('div');\n",
              "          docLink.innerHTML = docLinkHtml;\n",
              "          element.appendChild(docLink);\n",
              "        }\n",
              "      </script>\n",
              "    </div>\n",
              "  </div>\n",
              "  "
            ]
          },
          "metadata": {},
          "execution_count": 54
        }
      ]
    },
    {
      "cell_type": "code",
      "source": [
        "df.info()"
      ],
      "metadata": {
        "colab": {
          "base_uri": "https://localhost:8080/"
        },
        "id": "2-QAas7SDNG2",
        "outputId": "b9685b9e-5694-43bd-a9b1-52c1ddca7ca8"
      },
      "execution_count": 55,
      "outputs": [
        {
          "output_type": "stream",
          "name": "stdout",
          "text": [
            "<class 'pandas.core.frame.DataFrame'>\n",
            "RangeIndex: 1799 entries, 0 to 1798\n",
            "Data columns (total 4 columns):\n",
            " #   Column  Non-Null Count  Dtype \n",
            "---  ------  --------------  ----- \n",
            " 0   id      1799 non-null   int64 \n",
            " 1   text    1799 non-null   object\n",
            " 2   label   1799 non-null   object\n",
            " 3   target  1492 non-null   object\n",
            "dtypes: int64(1), object(3)\n",
            "memory usage: 56.3+ KB\n"
          ]
        }
      ]
    },
    {
      "cell_type": "markdown",
      "source": [
        "Посмотрим поближе на сами тексты"
      ],
      "metadata": {
        "id": "9OGb1BISAudI"
      }
    },
    {
      "cell_type": "code",
      "source": [
        "df['label'].value_counts()"
      ],
      "metadata": {
        "colab": {
          "base_uri": "https://localhost:8080/"
        },
        "id": "oQE96x86zpuZ",
        "outputId": "8a965002-975d-41e9-96a8-dc81cfa5aa1d"
      },
      "execution_count": 56,
      "outputs": [
        {
          "output_type": "execute_result",
          "data": {
            "text/plain": [
              "обеспечение исполнения контракта        988\n",
              "обеспечение гарантийных обязательств    811\n",
              "Name: label, dtype: int64"
            ]
          },
          "metadata": {},
          "execution_count": 56
        }
      ]
    },
    {
      "cell_type": "code",
      "source": [
        "string = randint(0, 1799)\n",
        "df.loc[string, 'text'], df.loc[string, 'label'], df.loc[string, 'target'] "
      ],
      "metadata": {
        "colab": {
          "base_uri": "https://localhost:8080/"
        },
        "id": "iepdkD-PEKxF",
        "outputId": "42c0d363-4a0f-4bab-abb6-f8f2bcfc032c"
      },
      "execution_count": 68,
      "outputs": [
        {
          "output_type": "execute_result",
          "data": {
            "text/plain": [
              "('8 Проект ГОСУДАРСТВЕННЫЙ КОНТРАКТ №_____________________________ Идентификационный код закупки: ________________________________________ г. Псков «____»____________ 2022 г. Комитет юстиции Псковской области, именуемый в дальнейшем «Заказчик», в лице председателя Комитета Шерстобитова Сергея Валерьевича, действующего емке поставленного Товара в случае выявления несоответствия Товара условиям Контракта, если выявленное несоответствие не препятствует приемке этого Товара и устранено Поставщиком. 6.17. В случае недопоставки и (или) поставки некачественного Товара Заказчик вправе потребовать от Поставщика осуществить замену поставленного некачественного Товара Товаром надлежащего качества, соответствующего условиям Контракта, и (или) потребовать осуществить поставку недостающего Товара в течение 5 (пяти) календарных дней с даты получения претензии Заказчика. 6.18. Возврат поставленного Товара ненадлежащего качества осуществляется за счет средств Поставщика. 6.19. Поставщик, по согласованию с Заказчиком, имеет право осуществить досрочную поставку Товара по Контракту. 7. ОБЕСПЕЧЕНИЕ ИСПОЛНЕНИЯ КОНТРАКТА 7.1. Исполнение обязательств по настоящему Контракту обеспечивается либо предоставлением независимой гарантии, либо внесением денежных средств, на указанный Заказчиком в настоящем разделе Контракта счет. Обеспечение исполнения Контракта установлено в размере 10 (десять) % от цены, по которой заключается Контракт, что составляет ____________________. Исполнение Контракта может обеспечиваться предоставлением независимой гарантии, выданной банком и соответствующей требованиям статьи 45 Федерального закона, или внесением денежных средств на указанный заказчиком счет, на котором в соответствии с законодательством Российской Федерации учитываются операции со средствами, поступающими Заказчику. Способ обеспечения исполнения Контракта определяется Поставщиком самостоятельно. Срок действия независимой гарантии должен превышать предусмотренный Контрактом срок исполнения обязательств, которые должны быть обеспечены такой независимой гарантией, не менее чем на 1 (Один) месяц, в том числе в случае его изменения в соответствии со статьей 95 Федерального Закона. В случае если предложенная в заявке участника закупки цена снижена на 25 (Двадцать пять) и более процентов по отношению к начальной (максимальной) цене контракта, участник закупки, с которым заключается Контракт, предоставляет обеспечение исполнения Контракта с учетом Шерстобитов м.п. Приложение к Государственному контракту №_________________________ от «____» _________2022 г. СПЕЦИФИКАЦИЯ № п/п Наименование товара, страна происхождения Единица измерения (по ОКЕИ) Кол-во Цена единицы Товара без НДС (руб. коп.)',\n",
              " 'обеспечение исполнения контракта',\n",
              " 'Обеспечение исполнения Контракта установлено в размере 10 (десять) % от цены, по которой заключается Контракт, что составляет __')"
            ]
          },
          "metadata": {},
          "execution_count": 68
        }
      ]
    },
    {
      "cell_type": "markdown",
      "source": [
        "В текстах не везде расставлены знаки препинания, поэтому мы не можем чётко разделить предложения и можем ориентироваться только на регистр"
      ],
      "metadata": {
        "id": "lwQD8sc3Cz3E"
      }
    },
    {
      "cell_type": "markdown",
      "source": [
        "Сложность составляют слова, которые в юридических документах пишутся с заглавной буквы: Заказчик, Договор, Сторон и т.д.\n",
        "\n",
        "Попробуем написать функцию для разделения текстов на предложения"
      ],
      "metadata": {
        "id": "LOedQgTMDelA"
      }
    },
    {
      "cell_type": "code",
      "source": [
        "def lower_the_unnessesary_words(text):\n",
        "  # сделаем слова, которые пишутся с заглавной буквы и не стоят в начале предложения прописными\n",
        "  capital_words_exceptions = [\n",
        "      'Заказчик', 'Получател', 'Договор', 'Поставщик', \n",
        "      'Федер', 'Закон', 'Росси', 'Контракт', 'Гражданск', \n",
        "      'Министерств', 'Директор', 'Сторон', 'Оборудован', \n",
        "      'Акт', 'МВД', 'НМЦК'\n",
        "  ]\n",
        "  splitted_text = text.split(' ')\n",
        "  for i in range(len(splitted_text)):\n",
        "    for exception in capital_words_exceptions:  \n",
        "      if type(splitted_text[i]) is str and splitted_text[i].startswith(exception):\n",
        "        splitted_text[i] = splitted_text[i].lower()\n",
        "\n",
        "  return ' '.join(splitted_text)\n",
        "          \n",
        "\n",
        "def text_separation_by_sentences(text, min_sentence_lenght=20):\n",
        "  # сначала разделим текст по заглавным и уберём неинформативные предложения\n",
        "  sentences = []\n",
        "  text = text.replace('\\n', ' ')\n",
        "  text = text.split('.')\n",
        "  text = ' '.join(text)\n",
        "\n",
        "  text = lower_the_unnessesary_words(text)\n",
        "  raw_sentences = re.split(r'\\s+(?=[А-Я])', text)\n",
        "\n",
        "  for i in raw_sentences:\n",
        "    if len(i) > min_sentence_lenght:\n",
        "      sentences.append(i)\n",
        "\n",
        "  return sentences"
      ],
      "metadata": {
        "id": "4tMlkUHxGU2C"
      },
      "execution_count": 58,
      "outputs": []
    },
    {
      "cell_type": "markdown",
      "source": [
        "Наш разделитель не будет идеально делить предложения, т.к. могут быть предложения, у которых в начале стоит одно из слов-исключений, либо когда мы не внесли слово в список слов-исключений, но оно написано с большой буквы "
      ],
      "metadata": {
        "id": "v4pW-w7Mg_aZ"
      }
    },
    {
      "cell_type": "markdown",
      "source": [
        "### разбиение текстов "
      ],
      "metadata": {
        "id": "wlKJfpUGp6eW"
      }
    },
    {
      "cell_type": "code",
      "source": [
        "df.sample(4)"
      ],
      "metadata": {
        "colab": {
          "base_uri": "https://localhost:8080/",
          "height": 288
        },
        "id": "6oNWuhqYtjvb",
        "outputId": "222211f7-7a61-458b-d142-9a6f5d0abc5b"
      },
      "execution_count": 69,
      "outputs": [
        {
          "output_type": "execute_result",
          "data": {
            "text/plain": [
              "             id                                               text  \\\n",
              "1271  279645294  Извещение о проведении электронного аукциона д...   \n",
              "689   793994530  УТВЕРЖДАЮ Главный врач ГАУЗ СО «Новолялинская ...   \n",
              "873   334770469  УТВЕРЖДАЮ Начальник департамента логистики, ма...   \n",
              "4     211645258  Извещение о проведении электронного аукциона д...   \n",
              "\n",
              "                                     label  \\\n",
              "1271  обеспечение гарантийных обязательств   \n",
              "689       обеспечение исполнения контракта   \n",
              "873       обеспечение исполнения контракта   \n",
              "4         обеспечение исполнения контракта   \n",
              "\n",
              "                                                 target  \n",
              "1271  Размер обеспечения гарантийных обязательств 63...  \n",
              "689   Обеспечение исполнения договора 5% от начально...  \n",
              "873   Заказчик вправе установить в документации о за...  \n",
              "4        Размер обеспечения исполнения контракта 10.00%  "
            ],
            "text/html": [
              "\n",
              "  <div id=\"df-22f5ee0b-1027-4d75-ab45-56f1fd3da457\">\n",
              "    <div class=\"colab-df-container\">\n",
              "      <div>\n",
              "<style scoped>\n",
              "    .dataframe tbody tr th:only-of-type {\n",
              "        vertical-align: middle;\n",
              "    }\n",
              "\n",
              "    .dataframe tbody tr th {\n",
              "        vertical-align: top;\n",
              "    }\n",
              "\n",
              "    .dataframe thead th {\n",
              "        text-align: right;\n",
              "    }\n",
              "</style>\n",
              "<table border=\"1\" class=\"dataframe\">\n",
              "  <thead>\n",
              "    <tr style=\"text-align: right;\">\n",
              "      <th></th>\n",
              "      <th>id</th>\n",
              "      <th>text</th>\n",
              "      <th>label</th>\n",
              "      <th>target</th>\n",
              "    </tr>\n",
              "  </thead>\n",
              "  <tbody>\n",
              "    <tr>\n",
              "      <th>1271</th>\n",
              "      <td>279645294</td>\n",
              "      <td>Извещение о проведении электронного аукциона д...</td>\n",
              "      <td>обеспечение гарантийных обязательств</td>\n",
              "      <td>Размер обеспечения гарантийных обязательств 63...</td>\n",
              "    </tr>\n",
              "    <tr>\n",
              "      <th>689</th>\n",
              "      <td>793994530</td>\n",
              "      <td>УТВЕРЖДАЮ Главный врач ГАУЗ СО «Новолялинская ...</td>\n",
              "      <td>обеспечение исполнения контракта</td>\n",
              "      <td>Обеспечение исполнения договора 5% от начально...</td>\n",
              "    </tr>\n",
              "    <tr>\n",
              "      <th>873</th>\n",
              "      <td>334770469</td>\n",
              "      <td>УТВЕРЖДАЮ Начальник департамента логистики, ма...</td>\n",
              "      <td>обеспечение исполнения контракта</td>\n",
              "      <td>Заказчик вправе установить в документации о за...</td>\n",
              "    </tr>\n",
              "    <tr>\n",
              "      <th>4</th>\n",
              "      <td>211645258</td>\n",
              "      <td>Извещение о проведении электронного аукциона д...</td>\n",
              "      <td>обеспечение исполнения контракта</td>\n",
              "      <td>Размер обеспечения исполнения контракта 10.00%</td>\n",
              "    </tr>\n",
              "  </tbody>\n",
              "</table>\n",
              "</div>\n",
              "      <button class=\"colab-df-convert\" onclick=\"convertToInteractive('df-22f5ee0b-1027-4d75-ab45-56f1fd3da457')\"\n",
              "              title=\"Convert this dataframe to an interactive table.\"\n",
              "              style=\"display:none;\">\n",
              "        \n",
              "  <svg xmlns=\"http://www.w3.org/2000/svg\" height=\"24px\"viewBox=\"0 0 24 24\"\n",
              "       width=\"24px\">\n",
              "    <path d=\"M0 0h24v24H0V0z\" fill=\"none\"/>\n",
              "    <path d=\"M18.56 5.44l.94 2.06.94-2.06 2.06-.94-2.06-.94-.94-2.06-.94 2.06-2.06.94zm-11 1L8.5 8.5l.94-2.06 2.06-.94-2.06-.94L8.5 2.5l-.94 2.06-2.06.94zm10 10l.94 2.06.94-2.06 2.06-.94-2.06-.94-.94-2.06-.94 2.06-2.06.94z\"/><path d=\"M17.41 7.96l-1.37-1.37c-.4-.4-.92-.59-1.43-.59-.52 0-1.04.2-1.43.59L10.3 9.45l-7.72 7.72c-.78.78-.78 2.05 0 2.83L4 21.41c.39.39.9.59 1.41.59.51 0 1.02-.2 1.41-.59l7.78-7.78 2.81-2.81c.8-.78.8-2.07 0-2.86zM5.41 20L4 18.59l7.72-7.72 1.47 1.35L5.41 20z\"/>\n",
              "  </svg>\n",
              "      </button>\n",
              "      \n",
              "  <style>\n",
              "    .colab-df-container {\n",
              "      display:flex;\n",
              "      flex-wrap:wrap;\n",
              "      gap: 12px;\n",
              "    }\n",
              "\n",
              "    .colab-df-convert {\n",
              "      background-color: #E8F0FE;\n",
              "      border: none;\n",
              "      border-radius: 50%;\n",
              "      cursor: pointer;\n",
              "      display: none;\n",
              "      fill: #1967D2;\n",
              "      height: 32px;\n",
              "      padding: 0 0 0 0;\n",
              "      width: 32px;\n",
              "    }\n",
              "\n",
              "    .colab-df-convert:hover {\n",
              "      background-color: #E2EBFA;\n",
              "      box-shadow: 0px 1px 2px rgba(60, 64, 67, 0.3), 0px 1px 3px 1px rgba(60, 64, 67, 0.15);\n",
              "      fill: #174EA6;\n",
              "    }\n",
              "\n",
              "    [theme=dark] .colab-df-convert {\n",
              "      background-color: #3B4455;\n",
              "      fill: #D2E3FC;\n",
              "    }\n",
              "\n",
              "    [theme=dark] .colab-df-convert:hover {\n",
              "      background-color: #434B5C;\n",
              "      box-shadow: 0px 1px 3px 1px rgba(0, 0, 0, 0.15);\n",
              "      filter: drop-shadow(0px 1px 2px rgba(0, 0, 0, 0.3));\n",
              "      fill: #FFFFFF;\n",
              "    }\n",
              "  </style>\n",
              "\n",
              "      <script>\n",
              "        const buttonEl =\n",
              "          document.querySelector('#df-22f5ee0b-1027-4d75-ab45-56f1fd3da457 button.colab-df-convert');\n",
              "        buttonEl.style.display =\n",
              "          google.colab.kernel.accessAllowed ? 'block' : 'none';\n",
              "\n",
              "        async function convertToInteractive(key) {\n",
              "          const element = document.querySelector('#df-22f5ee0b-1027-4d75-ab45-56f1fd3da457');\n",
              "          const dataTable =\n",
              "            await google.colab.kernel.invokeFunction('convertToInteractive',\n",
              "                                                     [key], {});\n",
              "          if (!dataTable) return;\n",
              "\n",
              "          const docLinkHtml = 'Like what you see? Visit the ' +\n",
              "            '<a target=\"_blank\" href=https://colab.research.google.com/notebooks/data_table.ipynb>data table notebook</a>'\n",
              "            + ' to learn more about interactive tables.';\n",
              "          element.innerHTML = '';\n",
              "          dataTable['output_type'] = 'display_data';\n",
              "          await google.colab.output.renderOutput(dataTable, element);\n",
              "          const docLink = document.createElement('div');\n",
              "          docLink.innerHTML = docLinkHtml;\n",
              "          element.appendChild(docLink);\n",
              "        }\n",
              "      </script>\n",
              "    </div>\n",
              "  </div>\n",
              "  "
            ]
          },
          "metadata": {},
          "execution_count": 69
        }
      ]
    },
    {
      "cell_type": "markdown",
      "source": [
        "попробуем разбить тексты на предложения с помощью spacy\n",
        "\n"
      ],
      "metadata": {
        "id": "HYkY1lXpr02K"
      }
    },
    {
      "cell_type": "code",
      "source": [
        "import spacy"
      ],
      "metadata": {
        "id": "NoZDgccqsemi"
      },
      "execution_count": 17,
      "outputs": []
    },
    {
      "cell_type": "code",
      "source": [
        "string = randint(0, 1799)\n",
        "text = df.loc[string, 'text']"
      ],
      "metadata": {
        "id": "qU121tPWumY8"
      },
      "execution_count": null,
      "outputs": []
    },
    {
      "cell_type": "code",
      "source": [
        "nlp = spacy.load('ru_core_news_lg')\n",
        "tokens = nlp(text)"
      ],
      "metadata": {
        "id": "poYRPbZ2s_PS"
      },
      "execution_count": 27,
      "outputs": []
    },
    {
      "cell_type": "code",
      "source": [
        "for sent in tokens.sents:\n",
        "    print(sent)\n",
        "    print()"
      ],
      "metadata": {
        "colab": {
          "base_uri": "https://localhost:8080/"
        },
        "id": "gQ1m0NXWtUXs",
        "outputId": "184636db-3f20-4f4f-b15c-78c79cb9e893"
      },
      "execution_count": 29,
      "outputs": [
        {
          "output_type": "stream",
          "name": "stdout",
          "text": [
            "\n",
            "Идентификационный код закупки: 222636720035863670100100320010147323 КОНТРАКТ №____ на поставку продуктов питания город ______________ «___»__________ 20__ год Государственное казенное учреждение Самарской области ''Волжский социально-реабилитационный центр для несовершеннолетних ''Тополек'', именуемое в дальнейшем «заказчик»,  который является казенным учреждением; 2) осуществления закупки услуги по предоставлению кредита; 3) заключения бюджетным учреждением, государственным, муниципальным унитарными предприятиями контракта, предметом которого является выдача независимой гарантии.\n",
            "\n",
            "Заказчик вправе установить, что настоящий раздел не применяется в случае заключения Контракта по результатам проведения электронного запроса котировок (за исключением случая, предусмотренного подпунктом \"б\" пункта 2 части 10 статьи 24 Федерального закона «О контрактной системе в сфере закупок товаров, работ, услуг для обеспечения государственных и муниципальных нужд»).\n",
            "\n",
            "По контрактам, подлежащим казначейскому сопровождению, Заказчик вправе не устанавливать требование обеспечения исполнения контракта.\n",
            "\n",
            "В случае установления требования размер обеспечения определяется в соответствии с ч.\n",
            "\n",
            "6.1 статьи 96 Федерального закона «О контрактной системе в сфере закупок товаров, работ, услуг для обеспечения государственных и муниципальных нужд».\n",
            "\n",
            "Размер обеспечение исполнения контракта устанавливается от 0,5 % до 30 % начальной (максимальной) цены контракта с учетом особенностей, указанных в части 6 статьи 96 и за исключением случаев, предусмотренных частями 6.1.\n",
            "\n",
            "и 6.2 статьи 96 Федерального закона «О контрактной системе в сфере закупок товаров, работ, услуг для обеспечения государственных и муниципальных нужд».] 8.1.\n",
            "\n",
            "Обеспечение исполнения настоящего Контракта установлено в размере 61,32, эквивалентном 0,50 % от начальной (максимальной) цены контракта.[footnoteRef:16].\n",
            "\n",
            "[16: В случае заключения контракта по результатам определения поставщиков (подрядчиков, исполнителей) в соответствии с пунктом 1 части 1 статьи 30 Закона № 44-ФЗ размер обеспечения исполнения контракта, в том числе предоставляемого с учетом положений статьи 37 Закона № 44-ФЗ, устанавливается от цены, по которой заключается контракт, но не может составлять менее чем размер аванса.]\n",
            "\n",
            "Обеспечение исполнения Контракта предоставлено в форме _____________________.\n",
            "\n",
            "8.2.\n",
            "\n",
            "Обеспечение исполнения настоящего Контракта обеспечивает все обязательства Поставщика, предусмотренные настоящи Адрес поставки Товара: ________ Подпись: От Заказчика: М.П. (при наличии) От Заказчика: От Поставщика: М.П. (при наличии) М.П. (при наличии)',\n",
            "\n",
            "\n"
          ]
        }
      ]
    },
    {
      "cell_type": "markdown",
      "source": [
        "Наше разбиение работает лучше, т.к. spacy разбивает только по точкам, а в нашей задаче много текстов, где их нет"
      ],
      "metadata": {
        "id": "gItpajYVuHcd"
      }
    },
    {
      "cell_type": "code",
      "source": [
        "for i in range(len(df)):\n",
        "  sentences = text_separation_by_sentences(df.loc[i, 'text'])\n",
        "  df.at[i, 'text'] = sentences"
      ],
      "metadata": {
        "id": "qNUNo1B9tZi8"
      },
      "execution_count": 70,
      "outputs": []
    },
    {
      "cell_type": "markdown",
      "source": [
        "также spacy для этой задачи работает довольно медленно, т.к. выполняет не только операцию разбиения на предложения, а также использует "
      ],
      "metadata": {
        "id": "aVf-MXg0wBN1"
      }
    },
    {
      "cell_type": "code",
      "source": [
        "string = randint(0, 1799)\n",
        "df.loc[string, 'text'], df.loc[string, 'label'], df.loc[string, 'target'] "
      ],
      "metadata": {
        "colab": {
          "base_uri": "https://localhost:8080/"
        },
        "id": "yYyAWCPbve8L",
        "outputId": "449ede44-4e88-412a-897e-37fbe1fb1057"
      },
      "execution_count": 71,
      "outputs": [
        {
          "output_type": "execute_result",
          "data": {
            "text/plain": [
              "(['КОНТРАКТ № на поставку бензина автомобильного',\n",
              "  'Аи-92 и дизельного топлива для нужд муниципального унитарного предприятия',\n",
              "  'Рамешковского района «МУПАРР» п',\n",
              "  'Рамешки «___» __________ 2022 г',\n",
              "  'Муниципальное унитарное предприятие',\n",
              "  'Рамешковского района лучае выявления факта не соответствия поставляемого товара сертификату соответствия, паспорту качества завода-изготовителя поставщик возмещает заказчику все понесенные убытки  5 3  поставщик гарантирует, что поставляемый',\n",
              "  'Товар свободен от прав третьих лиц, не является предметом спора, не находится в залоге, под арестом или иным обременением, а также гарантирует, что к заказчику не будут применены меры материальной ответственности по искам третьих лиц в отношении нарушения патентных прав, а также прав на использование торговой марки или промышленных образцов, связанных с использованием',\n",
              "  'Товара или любой их части в российской федерации  6',\n",
              "  'Обеспечение исполнения контракта 6 1',\n",
              "  'В целях обеспечения исполнения обязательств по настоящему контракту поставщик предоставляет заказчику обеспечение исполнения настоящего контракта',\n",
              "  'Способ обеспечения исполнения контракта определяется поставщиком самостоятельно  6 2',\n",
              "  'Обеспечение исполнения контракта предоставляется заказчику до заключения контракта',\n",
              "  'Размер обеспечения исполнения контракта составляет 5 (пять) процентов цены контракта  6 3',\n",
              "  'Исполнение контракта может обеспечиваться предоставлением поставщиком независимой гарантии, которая соответствует требованиям статьи 45 закона № 44-ФЗ или внесением денежных средств на указанный заказчиком счет',\n",
              "  'Способ обеспечения исполнения контракта определяется поставщиком самостоятельно  6 4',\n",
              "  'Требования к независимой гарантии: независимая гарантия должна быть выдана: 1) банками, соответствующими требованиям, установленным',\n",
              "  'Правительством российской федерации, и включенными в перечень, предусмотренный частью 1 2 статьи 45 закона № 44-ФЗ ; 2) государственной корпорацией развития «ВЭБ',\n",
              "  'РФ»; 3) фондами содействия кредитованию (гарантийными фондами, фондами поручительств), являющимися участниками национальной гарантийной системы поддержки малого и среднего предпринимательства, предусмотренной федеральным законом от 24 июля 2007 года N 209-ФЗ \"О развитии малого и среднего предпринимательства в российской федерации\" (далее - региональные гарантийные организации), соответствующими треб',\n",
              "  'Приложение №2 к контракту № «____» __________ 2022 г',\n",
              "  'Лимитно-заборная ведомость на заправку автотранспорта за ___________________2022 г  № п/п дата',\n",
              "  'Дизельное топливо (литров)'],\n",
              " 'обеспечение исполнения контракта',\n",
              " 'Размер обеспечения исполнения Контракта составляет 5 (пять) процентов цены контракта.')"
            ]
          },
          "metadata": {},
          "execution_count": 71
        }
      ]
    },
    {
      "cell_type": "markdown",
      "source": [
        "Алгоритм справляется с разбиением предложений достаточно хорошо, качество разбиения можно повысить, добавляя и убирая слова-исключения. "
      ],
      "metadata": {
        "id": "df1i5nsQ1Ct5"
      }
    },
    {
      "cell_type": "markdown",
      "source": [
        "Ещё одна проблема заключается в том, что в таргете у нас не всегда стоят законченные предложения, что может сказаться на accuracy. Например:\n",
        "\n",
        "\n",
        "*   Участник закупки, с которым заключается договор, обязан представить обеспечение исполнения договора в размере 5% от цены\n",
        "\n",
        "Полное предложение: \"*Участник закупки, с которым заключается договор, обязан представить обеспечение исполнения договора в размере 5% от цены, по которой в соответствии с законом заключается контракт  17 1  заказчик вправе установить требование обеспечения гарантийных обязательств в случае установления требований к таким обязательствам в соответствии с частью 4 статьи 33 настоящего федерального закона*\"\n",
        "\n",
        "Но и есть и такие конктрукции в таргете:\n",
        "\n",
        "\n",
        "*   Обеспечение гарантийных обязательств представляется в размере 127 598,00 руб. , что составляет 2 % от начальной (максимальной) цены Договора, предусмотренной документацией о закупке.\n",
        "*  Размер обеспечения исполнения контракта, гарантийных обязательств 5% от НМЦК в сумме – 683 (шестьсот восемьдесят три) рубля 33 копейки.\n",
        "\n",
        "\n"
      ],
      "metadata": {
        "id": "E_wQnQvr1Sp7"
      }
    },
    {
      "cell_type": "markdown",
      "source": [
        "Сохраним результаты разбиения:"
      ],
      "metadata": {
        "id": "Fnh-3c1A3Oeo"
      }
    },
    {
      "cell_type": "code",
      "source": [
        "df.to_json('./train_with_splitted_texts.json')"
      ],
      "metadata": {
        "id": "vOCmjm1iv1bi"
      },
      "execution_count": 73,
      "outputs": []
    },
    {
      "cell_type": "markdown",
      "source": [
        "### Очистка текста"
      ],
      "metadata": {
        "id": "BbZiF-K59TkQ"
      }
    },
    {
      "cell_type": "code",
      "source": [
        "df = pd.read_json('/content/train_with_splitted_texts.json', encoding='utf-8')\n",
        "df.head()"
      ],
      "metadata": {
        "colab": {
          "base_uri": "https://localhost:8080/",
          "height": 337
        },
        "id": "zmET0VHL9WwP",
        "outputId": "55f2e895-8aba-4587-c491-dc5b9ae7e862"
      },
      "execution_count": 101,
      "outputs": [
        {
          "output_type": "execute_result",
          "data": {
            "text/plain": [
              "          id                                               text  \\\n",
              "0  809436509  [Извещение о проведении открытого конкурса в э...   \n",
              "1  854885310  [ЗАЯВКИ участника запроса котировок в электрон...   \n",
              "2    4382157  [Извещение о проведении электронного аукциона ...   \n",
              "3  184555082  [Извещение о проведении электронного аукциона ...   \n",
              "4  211645258  [Извещение о проведении электронного аукциона ...   \n",
              "\n",
              "                              label  \\\n",
              "0  обеспечение исполнения контракта   \n",
              "1  обеспечение исполнения контракта   \n",
              "2  обеспечение исполнения контракта   \n",
              "3  обеспечение исполнения контракта   \n",
              "4  обеспечение исполнения контракта   \n",
              "\n",
              "                                              target  \n",
              "0  Размер обеспечения исполнения контракта 6593.2...  \n",
              "1  Поставщик должен предоставить обеспечение испо...  \n",
              "2     Размер обеспечения исполнения контракта 10.00%  \n",
              "3     Размер обеспечения исполнения контракта 10.00%  \n",
              "4     Размер обеспечения исполнения контракта 10.00%  "
            ],
            "text/html": [
              "\n",
              "  <div id=\"df-b75cc42a-1900-4e63-80a9-1e378e8c7d85\">\n",
              "    <div class=\"colab-df-container\">\n",
              "      <div>\n",
              "<style scoped>\n",
              "    .dataframe tbody tr th:only-of-type {\n",
              "        vertical-align: middle;\n",
              "    }\n",
              "\n",
              "    .dataframe tbody tr th {\n",
              "        vertical-align: top;\n",
              "    }\n",
              "\n",
              "    .dataframe thead th {\n",
              "        text-align: right;\n",
              "    }\n",
              "</style>\n",
              "<table border=\"1\" class=\"dataframe\">\n",
              "  <thead>\n",
              "    <tr style=\"text-align: right;\">\n",
              "      <th></th>\n",
              "      <th>id</th>\n",
              "      <th>text</th>\n",
              "      <th>label</th>\n",
              "      <th>target</th>\n",
              "    </tr>\n",
              "  </thead>\n",
              "  <tbody>\n",
              "    <tr>\n",
              "      <th>0</th>\n",
              "      <td>809436509</td>\n",
              "      <td>[Извещение о проведении открытого конкурса в э...</td>\n",
              "      <td>обеспечение исполнения контракта</td>\n",
              "      <td>Размер обеспечения исполнения контракта 6593.2...</td>\n",
              "    </tr>\n",
              "    <tr>\n",
              "      <th>1</th>\n",
              "      <td>854885310</td>\n",
              "      <td>[ЗАЯВКИ участника запроса котировок в электрон...</td>\n",
              "      <td>обеспечение исполнения контракта</td>\n",
              "      <td>Поставщик должен предоставить обеспечение испо...</td>\n",
              "    </tr>\n",
              "    <tr>\n",
              "      <th>2</th>\n",
              "      <td>4382157</td>\n",
              "      <td>[Извещение о проведении электронного аукциона ...</td>\n",
              "      <td>обеспечение исполнения контракта</td>\n",
              "      <td>Размер обеспечения исполнения контракта 10.00%</td>\n",
              "    </tr>\n",
              "    <tr>\n",
              "      <th>3</th>\n",
              "      <td>184555082</td>\n",
              "      <td>[Извещение о проведении электронного аукциона ...</td>\n",
              "      <td>обеспечение исполнения контракта</td>\n",
              "      <td>Размер обеспечения исполнения контракта 10.00%</td>\n",
              "    </tr>\n",
              "    <tr>\n",
              "      <th>4</th>\n",
              "      <td>211645258</td>\n",
              "      <td>[Извещение о проведении электронного аукциона ...</td>\n",
              "      <td>обеспечение исполнения контракта</td>\n",
              "      <td>Размер обеспечения исполнения контракта 10.00%</td>\n",
              "    </tr>\n",
              "  </tbody>\n",
              "</table>\n",
              "</div>\n",
              "      <button class=\"colab-df-convert\" onclick=\"convertToInteractive('df-b75cc42a-1900-4e63-80a9-1e378e8c7d85')\"\n",
              "              title=\"Convert this dataframe to an interactive table.\"\n",
              "              style=\"display:none;\">\n",
              "        \n",
              "  <svg xmlns=\"http://www.w3.org/2000/svg\" height=\"24px\"viewBox=\"0 0 24 24\"\n",
              "       width=\"24px\">\n",
              "    <path d=\"M0 0h24v24H0V0z\" fill=\"none\"/>\n",
              "    <path d=\"M18.56 5.44l.94 2.06.94-2.06 2.06-.94-2.06-.94-.94-2.06-.94 2.06-2.06.94zm-11 1L8.5 8.5l.94-2.06 2.06-.94-2.06-.94L8.5 2.5l-.94 2.06-2.06.94zm10 10l.94 2.06.94-2.06 2.06-.94-2.06-.94-.94-2.06-.94 2.06-2.06.94z\"/><path d=\"M17.41 7.96l-1.37-1.37c-.4-.4-.92-.59-1.43-.59-.52 0-1.04.2-1.43.59L10.3 9.45l-7.72 7.72c-.78.78-.78 2.05 0 2.83L4 21.41c.39.39.9.59 1.41.59.51 0 1.02-.2 1.41-.59l7.78-7.78 2.81-2.81c.8-.78.8-2.07 0-2.86zM5.41 20L4 18.59l7.72-7.72 1.47 1.35L5.41 20z\"/>\n",
              "  </svg>\n",
              "      </button>\n",
              "      \n",
              "  <style>\n",
              "    .colab-df-container {\n",
              "      display:flex;\n",
              "      flex-wrap:wrap;\n",
              "      gap: 12px;\n",
              "    }\n",
              "\n",
              "    .colab-df-convert {\n",
              "      background-color: #E8F0FE;\n",
              "      border: none;\n",
              "      border-radius: 50%;\n",
              "      cursor: pointer;\n",
              "      display: none;\n",
              "      fill: #1967D2;\n",
              "      height: 32px;\n",
              "      padding: 0 0 0 0;\n",
              "      width: 32px;\n",
              "    }\n",
              "\n",
              "    .colab-df-convert:hover {\n",
              "      background-color: #E2EBFA;\n",
              "      box-shadow: 0px 1px 2px rgba(60, 64, 67, 0.3), 0px 1px 3px 1px rgba(60, 64, 67, 0.15);\n",
              "      fill: #174EA6;\n",
              "    }\n",
              "\n",
              "    [theme=dark] .colab-df-convert {\n",
              "      background-color: #3B4455;\n",
              "      fill: #D2E3FC;\n",
              "    }\n",
              "\n",
              "    [theme=dark] .colab-df-convert:hover {\n",
              "      background-color: #434B5C;\n",
              "      box-shadow: 0px 1px 3px 1px rgba(0, 0, 0, 0.15);\n",
              "      filter: drop-shadow(0px 1px 2px rgba(0, 0, 0, 0.3));\n",
              "      fill: #FFFFFF;\n",
              "    }\n",
              "  </style>\n",
              "\n",
              "      <script>\n",
              "        const buttonEl =\n",
              "          document.querySelector('#df-b75cc42a-1900-4e63-80a9-1e378e8c7d85 button.colab-df-convert');\n",
              "        buttonEl.style.display =\n",
              "          google.colab.kernel.accessAllowed ? 'block' : 'none';\n",
              "\n",
              "        async function convertToInteractive(key) {\n",
              "          const element = document.querySelector('#df-b75cc42a-1900-4e63-80a9-1e378e8c7d85');\n",
              "          const dataTable =\n",
              "            await google.colab.kernel.invokeFunction('convertToInteractive',\n",
              "                                                     [key], {});\n",
              "          if (!dataTable) return;\n",
              "\n",
              "          const docLinkHtml = 'Like what you see? Visit the ' +\n",
              "            '<a target=\"_blank\" href=https://colab.research.google.com/notebooks/data_table.ipynb>data table notebook</a>'\n",
              "            + ' to learn more about interactive tables.';\n",
              "          element.innerHTML = '';\n",
              "          dataTable['output_type'] = 'display_data';\n",
              "          await google.colab.output.renderOutput(dataTable, element);\n",
              "          const docLink = document.createElement('div');\n",
              "          docLink.innerHTML = docLinkHtml;\n",
              "          element.appendChild(docLink);\n",
              "        }\n",
              "      </script>\n",
              "    </div>\n",
              "  </div>\n",
              "  "
            ]
          },
          "metadata": {},
          "execution_count": 101
        }
      ]
    },
    {
      "cell_type": "markdown",
      "source": [
        "Функция для очистки лишних знаков препинания, чисел, а также букв английского алфавита"
      ],
      "metadata": {
        "id": "yE5RVIoTFakh"
      }
    },
    {
      "cell_type": "code",
      "source": [
        "nltk.download('stopwords')"
      ],
      "metadata": {
        "colab": {
          "base_uri": "https://localhost:8080/"
        },
        "id": "5TjefTKvmaQO",
        "outputId": "8a111862-ca8f-484d-cae2-4d09b689a575"
      },
      "execution_count": 75,
      "outputs": [
        {
          "output_type": "stream",
          "name": "stderr",
          "text": [
            "[nltk_data] Downloading package stopwords to /root/nltk_data...\n",
            "[nltk_data]   Unzipping corpora/stopwords.zip.\n"
          ]
        },
        {
          "output_type": "execute_result",
          "data": {
            "text/plain": [
              "True"
            ]
          },
          "metadata": {},
          "execution_count": 75
        }
      ]
    },
    {
      "cell_type": "code",
      "source": [
        "stopwords_ru = stopwords.words(\"russian\")\n",
        "morph = MorphAnalyzer()\n",
        "def lemmatization(text):\n",
        "  pattern = \"[A-Za-z0-9!#$%&'()*+№,./:;<=>?@[\\]^_`{|}~—\\\"\\-]+\"\n",
        "  text = re.sub(pattern, ' ', text)\n",
        "  tokens = []\n",
        "  for token in text.split():\n",
        "      if token and token not in stopwords_ru:\n",
        "          token = token.strip()\n",
        "          token = morph.normal_forms(token)[0]\n",
        "          tokens.append(token)\n",
        "  return tokens"
      ],
      "metadata": {
        "id": "rblSym5V9hHu"
      },
      "execution_count": 102,
      "outputs": []
    },
    {
      "cell_type": "code",
      "source": [
        "sentence = df.loc[4, 'text'][0]\n",
        "sentence"
      ],
      "metadata": {
        "colab": {
          "base_uri": "https://localhost:8080/",
          "height": 35
        },
        "id": "X4gucFCuELbj",
        "outputId": "a1948d3b-cef5-4efe-8f22-2a54b088ab72"
      },
      "execution_count": 103,
      "outputs": [
        {
          "output_type": "execute_result",
          "data": {
            "text/plain": [
              "'Извещение о проведении электронного аукциона для закупки №0318100007022000091'"
            ],
            "application/vnd.google.colaboratory.intrinsic+json": {
              "type": "string"
            }
          },
          "metadata": {},
          "execution_count": 103
        }
      ]
    },
    {
      "cell_type": "code",
      "source": [
        "lemmatization(sentence)"
      ],
      "metadata": {
        "colab": {
          "base_uri": "https://localhost:8080/"
        },
        "id": "_OLmIi5zGWEn",
        "outputId": "9372fb3f-075e-4609-d3c7-b471650e141a"
      },
      "execution_count": 104,
      "outputs": [
        {
          "output_type": "execute_result",
          "data": {
            "text/plain": [
              "['извещение', 'проведение', 'электронный', 'аукцион', 'закупка']"
            ]
          },
          "metadata": {},
          "execution_count": 104
        }
      ]
    },
    {
      "cell_type": "code",
      "source": [
        "%%time\n",
        "for i in range(len(df)):\n",
        "  lemmatized_text = []\n",
        "\n",
        "  for k in range(len(df.loc[i, 'text'])):\n",
        "    sentence = df.loc[i, 'text'][k]\n",
        "    sentence =  lemmatization(sentence)\n",
        "    lemmatized_text.append(sentence)\n",
        "  df.at[i, 'text'] = lemmatized_text\n",
        "   "
      ],
      "metadata": {
        "colab": {
          "base_uri": "https://localhost:8080/"
        },
        "id": "L3REIiJAGbwc",
        "outputId": "aa87febe-f399-4d9d-9c11-f97dab731839"
      },
      "execution_count": 105,
      "outputs": [
        {
          "output_type": "stream",
          "name": "stdout",
          "text": [
            "CPU times: user 1min 10s, sys: 203 ms, total: 1min 10s\n",
            "Wall time: 1min 10s\n"
          ]
        }
      ]
    },
    {
      "cell_type": "code",
      "source": [
        "df.loc[5, 'text']"
      ],
      "metadata": {
        "colab": {
          "base_uri": "https://localhost:8080/"
        },
        "id": "kdQNa-yPuhrT",
        "outputId": "2afdfebf-f513-4297-8a49-7c325f3fea53"
      },
      "execution_count": 107,
      "outputs": [
        {
          "output_type": "execute_result",
          "data": {
            "text/plain": [
              "[['контракт',\n",
              "  'проект',\n",
              "  'приобретение',\n",
              "  'перчатка',\n",
              "  'резиновый',\n",
              "  'хозяйственный',\n",
              "  'столовая'],\n",
              " ['красноярский', 'край', 'номер', 'государственный', 'контракт', 'г'],\n",
              " ['красноярск', 'г', 'ньсить', 'порядок', 'случай'],\n",
              " ['участник',\n",
              "  'закупка',\n",
              "  'который',\n",
              "  'заключаться',\n",
              "  'контракт',\n",
              "  'результат',\n",
              "  'определение',\n",
              "  'поставщик',\n",
              "  'соответствие',\n",
              "  'п',\n",
              "  'ч',\n",
              "  'ст',\n",
              "  'закон',\n",
              "  'фз',\n",
              "  'освобождаться',\n",
              "  'предоставление',\n",
              "  'обеспечение',\n",
              "  'исполнение',\n",
              "  'контракт',\n",
              "  'число',\n",
              "  'учёт',\n",
              "  'ст',\n",
              "  'закон',\n",
              "  'фз',\n",
              "  'обеспечение',\n",
              "  'гарантийный',\n",
              "  'обязательство',\n",
              "  'случай',\n",
              "  'предоставление',\n",
              "  'такой',\n",
              "  'участник',\n",
              "  'закупка',\n",
              "  'информация',\n",
              "  'содержаться',\n",
              "  'реестр',\n",
              "  'контракт',\n",
              "  'заключить',\n",
              "  'заказчик',\n",
              "  'подтверждать',\n",
              "  'исполнение',\n",
              "  'такой',\n",
              "  'участник',\n",
              "  'течение',\n",
              "  'три',\n",
              "  'год',\n",
              "  'дата',\n",
              "  'подача',\n",
              "  'заявка',\n",
              "  'участие',\n",
              "  'закупка',\n",
              "  'три',\n",
              "  'контракт',\n",
              "  'исполнить',\n",
              "  'применение',\n",
              "  'такой',\n",
              "  'участник',\n",
              "  'неустойка',\n",
              "  'штраф',\n",
              "  'пеня'],\n",
              " ['такой',\n",
              "  'информация',\n",
              "  'представляться',\n",
              "  'участник',\n",
              "  'закупка',\n",
              "  'заключение',\n",
              "  'контракт',\n",
              "  'случай',\n",
              "  'установленный',\n",
              "  'настоящий',\n",
              "  'федеральный',\n",
              "  'закон',\n",
              "  'предоставление',\n",
              "  'обеспечение',\n",
              "  'исполнение',\n",
              "  'контракт'],\n",
              " ['при',\n",
              "  'сумма',\n",
              "  'цена',\n",
              "  'такой',\n",
              "  'контракт',\n",
              "  'должный',\n",
              "  'составлять',\n",
              "  'менее',\n",
              "  'начальный',\n",
              "  'максимальный',\n",
              "  'цена',\n",
              "  'контракт',\n",
              "  'указанный',\n",
              "  'извещение',\n",
              "  'осуществление',\n",
              "  'закупка',\n",
              "  'документация',\n",
              "  'закупка'],\n",
              " ['размер',\n",
              "  'обеспечение',\n",
              "  'исполнение',\n",
              "  'контракт',\n",
              "  'устанавливаться',\n",
              "  'размер',\n",
              "  'пять',\n",
              "  'процент',\n",
              "  'цена',\n",
              "  'который',\n",
              "  'заключаться',\n",
              "  'контракт',\n",
              "  'составлять',\n",
              "  'рубль',\n",
              "  'копейка'],\n",
              " ['реквизит',\n",
              "  'счёт',\n",
              "  'заказчик',\n",
              "  'перечисление',\n",
              "  'обеспечение',\n",
              "  'исполнение',\n",
              "  'контракт'],\n",
              " ['красноярский', 'край', 'фку'],\n",
              " ['красноярский', 'край'],\n",
              " ['красноярск', 'р'],\n",
              " ['возврат',\n",
              "  'обеспечение',\n",
              "  'исполнение',\n",
              "  'контракт',\n",
              "  'внести',\n",
              "  'поставщик',\n",
              "  'денежный',\n",
              "  'средство',\n",
              "  'счёт'],\n",
              " ['государственный', 'заказчик', 'осуществляться'],\n",
              " ['государственный',\n",
              "  'заказчик',\n",
              "  'течение',\n",
              "  'день',\n",
              "  'дата',\n",
              "  'поставка',\n",
              "  'товар',\n",
              "  'установленный',\n",
              "  'качество',\n",
              "  'установленный',\n",
              "  'срок',\n",
              "  'полный',\n",
              "  'объём',\n",
              "  'расчётный',\n",
              "  'счёт',\n",
              "  'поставщик',\n",
              "  'указанный',\n",
              "  'раздел',\n",
              "  'контракт'],\n",
              " ['обеспечение', 'исполнение', 'контракт', 'возвращаться', 'удерживаться'],\n",
              " ['государственный',\n",
              "  'заказчик',\n",
              "  'случай',\n",
              "  'непоставка',\n",
              "  'недопоставка',\n",
              "  'товар',\n",
              "  'поставщик'],\n",
              " ['срок',\n",
              "  'действие',\n",
              "  'независимый',\n",
              "  'гарантия',\n",
              "  'должный',\n",
              "  'превышать',\n",
              "  'предусмотренный',\n",
              "  'контракт',\n",
              "  'срок',\n",
              "  'исполнение',\n",
              "  'обязательство',\n",
              "  'который',\n",
              "  'должный'],\n",
              " ['страна', 'происхождение', 'пара'],\n",
              " ['государственный', 'заказчик', 'поставщик'],\n",
              " ['красноярский', 'край', 'должность'],\n",
              " ['петров', 'подпись']]"
            ]
          },
          "metadata": {},
          "execution_count": 107
        }
      ]
    },
    {
      "cell_type": "code",
      "source": [
        "df.to_json('train_lemmatized.json')"
      ],
      "metadata": {
        "id": "S6XF5ywY3N7d"
      },
      "execution_count": 108,
      "outputs": []
    },
    {
      "cell_type": "code",
      "source": [
        "contract_enforcement = df[df['label'] == 'обеспечение исполнения контракта']['target'].values\n",
        "garantee_enforcement = df[df['label'] == 'обеспечение гарантийных обязательств']['target'].values"
      ],
      "metadata": {
        "id": "j8WIDc4B_6At"
      },
      "execution_count": 116,
      "outputs": []
    },
    {
      "cell_type": "markdown",
      "source": [
        "также сохраним таргеты двух классов для модели classy classification"
      ],
      "metadata": {
        "id": "WsDVhXuvA0Ey"
      }
    },
    {
      "cell_type": "code",
      "source": [
        "with open('contract_enforcement.pkl', 'wb') as fp:\n",
        "  pickle.dump(contract_enforcement, fp)"
      ],
      "metadata": {
        "id": "LTrDzAHoBaQo"
      },
      "execution_count": 118,
      "outputs": []
    },
    {
      "cell_type": "code",
      "source": [
        "with open('garantee_enforcement.pkl', 'wb') as fp:\n",
        "  pickle.dump(garantee_enforcement, fp)"
      ],
      "metadata": {
        "id": "xZ0c7GBSBh23"
      },
      "execution_count": 120,
      "outputs": []
    },
    {
      "cell_type": "markdown",
      "source": [
        "### Word2Vec"
      ],
      "metadata": {
        "id": "fmMGKCFV4tMw"
      }
    },
    {
      "cell_type": "code",
      "source": [],
      "metadata": {
        "id": "YWkJtZl7AC3M"
      },
      "execution_count": null,
      "outputs": []
    }
  ]
}
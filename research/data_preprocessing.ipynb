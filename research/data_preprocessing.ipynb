{
  "nbformat": 4,
  "nbformat_minor": 0,
  "metadata": {
    "colab": {
      "provenance": [],
      "collapsed_sections": [
        "or540QyLEhlb",
        "HTOcb8lGE2i2",
        "p-uQVAA3BT6z",
        "aWfmk-xEC-4l",
        "wlKJfpUGp6eW",
        "BbZiF-K59TkQ",
        "M552-_ZZqbBz"
      ]
    },
    "kernelspec": {
      "name": "python3",
      "display_name": "Python 3"
    },
    "language_info": {
      "name": "python"
    }
  },
  "cells": [
    {
      "cell_type": "markdown",
      "source": [
        "### Установки"
      ],
      "metadata": {
        "id": "or540QyLEhlb"
      }
    },
    {
      "cell_type": "code",
      "source": [
        "!pip install pymorphy2\n",
        "%pip install spacy\n",
        "!python -m spacy download ru_core_news_lg"
      ],
      "metadata": {
        "colab": {
          "base_uri": "https://localhost:8080/"
        },
        "id": "xhhpdo3IEke1",
        "outputId": "1803e1ef-112a-4abc-cef4-40bc605aec6b"
      },
      "execution_count": 1,
      "outputs": [
        {
          "output_type": "stream",
          "name": "stdout",
          "text": [
            "Looking in indexes: https://pypi.org/simple, https://us-python.pkg.dev/colab-wheels/public/simple/\n",
            "Collecting pymorphy2\n",
            "  Downloading pymorphy2-0.9.1-py3-none-any.whl (55 kB)\n",
            "\u001b[2K     \u001b[90m━━━━━━━━━━━━━━━━━━━━━━━━━━━━━━━━━━━━━━━━\u001b[0m \u001b[32m55.5/55.5 KB\u001b[0m \u001b[31m2.7 MB/s\u001b[0m eta \u001b[36m0:00:00\u001b[0m\n",
            "\u001b[?25hCollecting docopt>=0.6\n",
            "  Downloading docopt-0.6.2.tar.gz (25 kB)\n",
            "  Preparing metadata (setup.py) ... \u001b[?25l\u001b[?25hdone\n",
            "Collecting dawg-python>=0.7.1\n",
            "  Downloading DAWG_Python-0.7.2-py2.py3-none-any.whl (11 kB)\n",
            "Collecting pymorphy2-dicts-ru<3.0,>=2.4\n",
            "  Downloading pymorphy2_dicts_ru-2.4.417127.4579844-py2.py3-none-any.whl (8.2 MB)\n",
            "\u001b[2K     \u001b[90m━━━━━━━━━━━━━━━━━━━━━━━━━━━━━━━━━━━━━━━━\u001b[0m \u001b[32m8.2/8.2 MB\u001b[0m \u001b[31m57.1 MB/s\u001b[0m eta \u001b[36m0:00:00\u001b[0m\n",
            "\u001b[?25hBuilding wheels for collected packages: docopt\n",
            "  Building wheel for docopt (setup.py) ... \u001b[?25l\u001b[?25hdone\n",
            "  Created wheel for docopt: filename=docopt-0.6.2-py2.py3-none-any.whl size=13721 sha256=04f989692737630fbca0147fe68194a852d886ba66b662ccb623182e71c8b08f\n",
            "  Stored in directory: /root/.cache/pip/wheels/70/4a/46/1309fc853b8d395e60bafaf1b6df7845bdd82c95fd59dd8d2b\n",
            "Successfully built docopt\n",
            "Installing collected packages: pymorphy2-dicts-ru, docopt, dawg-python, pymorphy2\n",
            "Successfully installed dawg-python-0.7.2 docopt-0.6.2 pymorphy2-0.9.1 pymorphy2-dicts-ru-2.4.417127.4579844\n",
            "Looking in indexes: https://pypi.org/simple, https://us-python.pkg.dev/colab-wheels/public/simple/\n",
            "Requirement already satisfied: spacy in /usr/local/lib/python3.9/dist-packages (3.5.1)\n",
            "Requirement already satisfied: cymem<2.1.0,>=2.0.2 in /usr/local/lib/python3.9/dist-packages (from spacy) (2.0.7)\n",
            "Requirement already satisfied: numpy>=1.15.0 in /usr/local/lib/python3.9/dist-packages (from spacy) (1.22.4)\n",
            "Requirement already satisfied: wasabi<1.2.0,>=0.9.1 in /usr/local/lib/python3.9/dist-packages (from spacy) (1.1.1)\n",
            "Requirement already satisfied: thinc<8.2.0,>=8.1.8 in /usr/local/lib/python3.9/dist-packages (from spacy) (8.1.9)\n",
            "Requirement already satisfied: requests<3.0.0,>=2.13.0 in /usr/local/lib/python3.9/dist-packages (from spacy) (2.27.1)\n",
            "Requirement already satisfied: preshed<3.1.0,>=3.0.2 in /usr/local/lib/python3.9/dist-packages (from spacy) (3.0.8)\n",
            "Requirement already satisfied: smart-open<7.0.0,>=5.2.1 in /usr/local/lib/python3.9/dist-packages (from spacy) (6.3.0)\n",
            "Requirement already satisfied: srsly<3.0.0,>=2.4.3 in /usr/local/lib/python3.9/dist-packages (from spacy) (2.4.6)\n",
            "Requirement already satisfied: langcodes<4.0.0,>=3.2.0 in /usr/local/lib/python3.9/dist-packages (from spacy) (3.3.0)\n",
            "Requirement already satisfied: jinja2 in /usr/local/lib/python3.9/dist-packages (from spacy) (3.1.2)\n",
            "Requirement already satisfied: catalogue<2.1.0,>=2.0.6 in /usr/local/lib/python3.9/dist-packages (from spacy) (2.0.8)\n",
            "Requirement already satisfied: setuptools in /usr/local/lib/python3.9/dist-packages (from spacy) (67.6.1)\n",
            "Requirement already satisfied: packaging>=20.0 in /usr/local/lib/python3.9/dist-packages (from spacy) (23.0)\n",
            "Requirement already satisfied: pydantic!=1.8,!=1.8.1,<1.11.0,>=1.7.4 in /usr/local/lib/python3.9/dist-packages (from spacy) (1.10.7)\n",
            "Requirement already satisfied: pathy>=0.10.0 in /usr/local/lib/python3.9/dist-packages (from spacy) (0.10.1)\n",
            "Requirement already satisfied: spacy-legacy<3.1.0,>=3.0.11 in /usr/local/lib/python3.9/dist-packages (from spacy) (3.0.12)\n",
            "Requirement already satisfied: spacy-loggers<2.0.0,>=1.0.0 in /usr/local/lib/python3.9/dist-packages (from spacy) (1.0.4)\n",
            "Requirement already satisfied: tqdm<5.0.0,>=4.38.0 in /usr/local/lib/python3.9/dist-packages (from spacy) (4.65.0)\n",
            "Requirement already satisfied: murmurhash<1.1.0,>=0.28.0 in /usr/local/lib/python3.9/dist-packages (from spacy) (1.0.9)\n",
            "Requirement already satisfied: typer<0.8.0,>=0.3.0 in /usr/local/lib/python3.9/dist-packages (from spacy) (0.7.0)\n",
            "Requirement already satisfied: typing-extensions>=4.2.0 in /usr/local/lib/python3.9/dist-packages (from pydantic!=1.8,!=1.8.1,<1.11.0,>=1.7.4->spacy) (4.5.0)\n",
            "Requirement already satisfied: urllib3<1.27,>=1.21.1 in /usr/local/lib/python3.9/dist-packages (from requests<3.0.0,>=2.13.0->spacy) (1.26.15)\n",
            "Requirement already satisfied: idna<4,>=2.5 in /usr/local/lib/python3.9/dist-packages (from requests<3.0.0,>=2.13.0->spacy) (3.4)\n",
            "Requirement already satisfied: charset-normalizer~=2.0.0 in /usr/local/lib/python3.9/dist-packages (from requests<3.0.0,>=2.13.0->spacy) (2.0.12)\n",
            "Requirement already satisfied: certifi>=2017.4.17 in /usr/local/lib/python3.9/dist-packages (from requests<3.0.0,>=2.13.0->spacy) (2022.12.7)\n",
            "Requirement already satisfied: confection<1.0.0,>=0.0.1 in /usr/local/lib/python3.9/dist-packages (from thinc<8.2.0,>=8.1.8->spacy) (0.0.4)\n",
            "Requirement already satisfied: blis<0.8.0,>=0.7.8 in /usr/local/lib/python3.9/dist-packages (from thinc<8.2.0,>=8.1.8->spacy) (0.7.9)\n",
            "Requirement already satisfied: click<9.0.0,>=7.1.1 in /usr/local/lib/python3.9/dist-packages (from typer<0.8.0,>=0.3.0->spacy) (8.1.3)\n",
            "Requirement already satisfied: MarkupSafe>=2.0 in /usr/local/lib/python3.9/dist-packages (from jinja2->spacy) (2.1.2)\n",
            "2023-04-10 16:06:38.335170: I tensorflow/core/platform/cpu_feature_guard.cc:182] This TensorFlow binary is optimized to use available CPU instructions in performance-critical operations.\n",
            "To enable the following instructions: AVX2 FMA, in other operations, rebuild TensorFlow with the appropriate compiler flags.\n",
            "2023-04-10 16:06:39.611955: W tensorflow/compiler/tf2tensorrt/utils/py_utils.cc:38] TF-TRT Warning: Could not find TensorRT\n",
            "Looking in indexes: https://pypi.org/simple, https://us-python.pkg.dev/colab-wheels/public/simple/\n",
            "Collecting ru-core-news-lg==3.5.0\n",
            "  Downloading https://github.com/explosion/spacy-models/releases/download/ru_core_news_lg-3.5.0/ru_core_news_lg-3.5.0-py3-none-any.whl (513.4 MB)\n",
            "\u001b[2K     \u001b[90m━━━━━━━━━━━━━━━━━━━━━━━━━━━━━━━━━━━━━━━\u001b[0m \u001b[32m513.4/513.4 MB\u001b[0m \u001b[31m2.8 MB/s\u001b[0m eta \u001b[36m0:00:00\u001b[0m\n",
            "\u001b[?25hCollecting pymorphy3>=1.0.0\n",
            "  Downloading pymorphy3-1.2.0-py3-none-any.whl (55 kB)\n",
            "\u001b[2K     \u001b[90m━━━━━━━━━━━━━━━━━━━━━━━━━━━━━━━━━━━━━━━━\u001b[0m \u001b[32m55.4/55.4 KB\u001b[0m \u001b[31m2.6 MB/s\u001b[0m eta \u001b[36m0:00:00\u001b[0m\n",
            "\u001b[?25hRequirement already satisfied: spacy<3.6.0,>=3.5.0 in /usr/local/lib/python3.9/dist-packages (from ru-core-news-lg==3.5.0) (3.5.1)\n",
            "Requirement already satisfied: dawg-python>=0.7.1 in /usr/local/lib/python3.9/dist-packages (from pymorphy3>=1.0.0->ru-core-news-lg==3.5.0) (0.7.2)\n",
            "Requirement already satisfied: docopt>=0.6 in /usr/local/lib/python3.9/dist-packages (from pymorphy3>=1.0.0->ru-core-news-lg==3.5.0) (0.6.2)\n",
            "Collecting pymorphy3-dicts-ru\n",
            "  Downloading pymorphy3_dicts_ru-2.4.417150.4580142-py2.py3-none-any.whl (8.4 MB)\n",
            "\u001b[2K     \u001b[90m━━━━━━━━━━━━━━━━━━━━━━━━━━━━━━━━━━━━━━━━\u001b[0m \u001b[32m8.4/8.4 MB\u001b[0m \u001b[31m61.1 MB/s\u001b[0m eta \u001b[36m0:00:00\u001b[0m\n",
            "\u001b[?25hRequirement already satisfied: numpy>=1.15.0 in /usr/local/lib/python3.9/dist-packages (from spacy<3.6.0,>=3.5.0->ru-core-news-lg==3.5.0) (1.22.4)\n",
            "Requirement already satisfied: cymem<2.1.0,>=2.0.2 in /usr/local/lib/python3.9/dist-packages (from spacy<3.6.0,>=3.5.0->ru-core-news-lg==3.5.0) (2.0.7)\n",
            "Requirement already satisfied: wasabi<1.2.0,>=0.9.1 in /usr/local/lib/python3.9/dist-packages (from spacy<3.6.0,>=3.5.0->ru-core-news-lg==3.5.0) (1.1.1)\n",
            "Requirement already satisfied: murmurhash<1.1.0,>=0.28.0 in /usr/local/lib/python3.9/dist-packages (from spacy<3.6.0,>=3.5.0->ru-core-news-lg==3.5.0) (1.0.9)\n",
            "Requirement already satisfied: pathy>=0.10.0 in /usr/local/lib/python3.9/dist-packages (from spacy<3.6.0,>=3.5.0->ru-core-news-lg==3.5.0) (0.10.1)\n",
            "Requirement already satisfied: smart-open<7.0.0,>=5.2.1 in /usr/local/lib/python3.9/dist-packages (from spacy<3.6.0,>=3.5.0->ru-core-news-lg==3.5.0) (6.3.0)\n",
            "Requirement already satisfied: langcodes<4.0.0,>=3.2.0 in /usr/local/lib/python3.9/dist-packages (from spacy<3.6.0,>=3.5.0->ru-core-news-lg==3.5.0) (3.3.0)\n",
            "Requirement already satisfied: srsly<3.0.0,>=2.4.3 in /usr/local/lib/python3.9/dist-packages (from spacy<3.6.0,>=3.5.0->ru-core-news-lg==3.5.0) (2.4.6)\n",
            "Requirement already satisfied: preshed<3.1.0,>=3.0.2 in /usr/local/lib/python3.9/dist-packages (from spacy<3.6.0,>=3.5.0->ru-core-news-lg==3.5.0) (3.0.8)\n",
            "Requirement already satisfied: jinja2 in /usr/local/lib/python3.9/dist-packages (from spacy<3.6.0,>=3.5.0->ru-core-news-lg==3.5.0) (3.1.2)\n",
            "Requirement already satisfied: pydantic!=1.8,!=1.8.1,<1.11.0,>=1.7.4 in /usr/local/lib/python3.9/dist-packages (from spacy<3.6.0,>=3.5.0->ru-core-news-lg==3.5.0) (1.10.7)\n",
            "Requirement already satisfied: spacy-loggers<2.0.0,>=1.0.0 in /usr/local/lib/python3.9/dist-packages (from spacy<3.6.0,>=3.5.0->ru-core-news-lg==3.5.0) (1.0.4)\n",
            "Requirement already satisfied: spacy-legacy<3.1.0,>=3.0.11 in /usr/local/lib/python3.9/dist-packages (from spacy<3.6.0,>=3.5.0->ru-core-news-lg==3.5.0) (3.0.12)\n",
            "Requirement already satisfied: typer<0.8.0,>=0.3.0 in /usr/local/lib/python3.9/dist-packages (from spacy<3.6.0,>=3.5.0->ru-core-news-lg==3.5.0) (0.7.0)\n",
            "Requirement already satisfied: tqdm<5.0.0,>=4.38.0 in /usr/local/lib/python3.9/dist-packages (from spacy<3.6.0,>=3.5.0->ru-core-news-lg==3.5.0) (4.65.0)\n",
            "Requirement already satisfied: catalogue<2.1.0,>=2.0.6 in /usr/local/lib/python3.9/dist-packages (from spacy<3.6.0,>=3.5.0->ru-core-news-lg==3.5.0) (2.0.8)\n",
            "Requirement already satisfied: requests<3.0.0,>=2.13.0 in /usr/local/lib/python3.9/dist-packages (from spacy<3.6.0,>=3.5.0->ru-core-news-lg==3.5.0) (2.27.1)\n",
            "Requirement already satisfied: packaging>=20.0 in /usr/local/lib/python3.9/dist-packages (from spacy<3.6.0,>=3.5.0->ru-core-news-lg==3.5.0) (23.0)\n",
            "Requirement already satisfied: setuptools in /usr/local/lib/python3.9/dist-packages (from spacy<3.6.0,>=3.5.0->ru-core-news-lg==3.5.0) (67.6.1)\n",
            "Requirement already satisfied: thinc<8.2.0,>=8.1.8 in /usr/local/lib/python3.9/dist-packages (from spacy<3.6.0,>=3.5.0->ru-core-news-lg==3.5.0) (8.1.9)\n",
            "Requirement already satisfied: typing-extensions>=4.2.0 in /usr/local/lib/python3.9/dist-packages (from pydantic!=1.8,!=1.8.1,<1.11.0,>=1.7.4->spacy<3.6.0,>=3.5.0->ru-core-news-lg==3.5.0) (4.5.0)\n",
            "Requirement already satisfied: urllib3<1.27,>=1.21.1 in /usr/local/lib/python3.9/dist-packages (from requests<3.0.0,>=2.13.0->spacy<3.6.0,>=3.5.0->ru-core-news-lg==3.5.0) (1.26.15)\n",
            "Requirement already satisfied: certifi>=2017.4.17 in /usr/local/lib/python3.9/dist-packages (from requests<3.0.0,>=2.13.0->spacy<3.6.0,>=3.5.0->ru-core-news-lg==3.5.0) (2022.12.7)\n",
            "Requirement already satisfied: idna<4,>=2.5 in /usr/local/lib/python3.9/dist-packages (from requests<3.0.0,>=2.13.0->spacy<3.6.0,>=3.5.0->ru-core-news-lg==3.5.0) (3.4)\n",
            "Requirement already satisfied: charset-normalizer~=2.0.0 in /usr/local/lib/python3.9/dist-packages (from requests<3.0.0,>=2.13.0->spacy<3.6.0,>=3.5.0->ru-core-news-lg==3.5.0) (2.0.12)\n",
            "Requirement already satisfied: confection<1.0.0,>=0.0.1 in /usr/local/lib/python3.9/dist-packages (from thinc<8.2.0,>=8.1.8->spacy<3.6.0,>=3.5.0->ru-core-news-lg==3.5.0) (0.0.4)\n",
            "Requirement already satisfied: blis<0.8.0,>=0.7.8 in /usr/local/lib/python3.9/dist-packages (from thinc<8.2.0,>=8.1.8->spacy<3.6.0,>=3.5.0->ru-core-news-lg==3.5.0) (0.7.9)\n",
            "Requirement already satisfied: click<9.0.0,>=7.1.1 in /usr/local/lib/python3.9/dist-packages (from typer<0.8.0,>=0.3.0->spacy<3.6.0,>=3.5.0->ru-core-news-lg==3.5.0) (8.1.3)\n",
            "Requirement already satisfied: MarkupSafe>=2.0 in /usr/local/lib/python3.9/dist-packages (from jinja2->spacy<3.6.0,>=3.5.0->ru-core-news-lg==3.5.0) (2.1.2)\n",
            "Installing collected packages: pymorphy3-dicts-ru, pymorphy3, ru-core-news-lg\n",
            "Successfully installed pymorphy3-1.2.0 pymorphy3-dicts-ru-2.4.417150.4580142 ru-core-news-lg-3.5.0\n",
            "\u001b[38;5;2m✔ Download and installation successful\u001b[0m\n",
            "You can now load the package via spacy.load('ru_core_news_lg')\n"
          ]
        }
      ]
    },
    {
      "cell_type": "markdown",
      "source": [
        "### Импорт"
      ],
      "metadata": {
        "id": "HTOcb8lGE2i2"
      }
    },
    {
      "cell_type": "code",
      "execution_count": 2,
      "metadata": {
        "id": "UExd-Ooe9bh8"
      },
      "outputs": [],
      "source": [
        "from pymorphy2 import MorphAnalyzer\n",
        "from gensim.models import Word2Vec\n",
        "from nltk.corpus import stopwords\n",
        "from random import randint\n",
        "from pprint import pprint\n",
        "\n",
        "import pandas as pd\n",
        "import numpy as np\n",
        "import pickle\n",
        "import nltk\n",
        "import json\n",
        "import gc\n",
        "import re"
      ]
    },
    {
      "cell_type": "markdown",
      "source": [
        "\n",
        "\n",
        "*   распаковка json\n",
        "*   знакомство с данными\n",
        "*   разбиение текстов на  предложения\n",
        "*   лемматизация и очищение от стоп-слов\n",
        "\n"
      ],
      "metadata": {
        "id": "R38fbOHz4Asc"
      }
    },
    {
      "cell_type": "markdown",
      "source": [
        "### распаковка json, приведение к удобному виду для pandas"
      ],
      "metadata": {
        "id": "p-uQVAA3BT6z"
      }
    },
    {
      "cell_type": "code",
      "source": [
        "with open('/content/train.json', 'r', encoding='utf-8') as f:\n",
        "  json_data = json.load(f)\n",
        "len(json_data)"
      ],
      "metadata": {
        "colab": {
          "base_uri": "https://localhost:8080/",
          "height": 202
        },
        "id": "jfqodarQ-ZfY",
        "outputId": "d1c4077a-a53b-429e-8469-42923639c1b3"
      },
      "execution_count": 4,
      "outputs": [
        {
          "output_type": "error",
          "ename": "FileNotFoundError",
          "evalue": "ignored",
          "traceback": [
            "\u001b[0;31m---------------------------------------------------------------------------\u001b[0m",
            "\u001b[0;31mFileNotFoundError\u001b[0m                         Traceback (most recent call last)",
            "\u001b[0;32m<ipython-input-4-4236d4a1b49d>\u001b[0m in \u001b[0;36m<cell line: 1>\u001b[0;34m()\u001b[0m\n\u001b[0;32m----> 1\u001b[0;31m \u001b[0;32mwith\u001b[0m \u001b[0mopen\u001b[0m\u001b[0;34m(\u001b[0m\u001b[0;34m'/content/train.json'\u001b[0m\u001b[0;34m,\u001b[0m \u001b[0;34m'r'\u001b[0m\u001b[0;34m,\u001b[0m \u001b[0mencoding\u001b[0m\u001b[0;34m=\u001b[0m\u001b[0;34m'utf-8'\u001b[0m\u001b[0;34m)\u001b[0m \u001b[0;32mas\u001b[0m \u001b[0mf\u001b[0m\u001b[0;34m:\u001b[0m\u001b[0;34m\u001b[0m\u001b[0;34m\u001b[0m\u001b[0m\n\u001b[0m\u001b[1;32m      2\u001b[0m   \u001b[0mjson_data\u001b[0m \u001b[0;34m=\u001b[0m \u001b[0mjson\u001b[0m\u001b[0;34m.\u001b[0m\u001b[0mload\u001b[0m\u001b[0;34m(\u001b[0m\u001b[0mf\u001b[0m\u001b[0;34m)\u001b[0m\u001b[0;34m\u001b[0m\u001b[0;34m\u001b[0m\u001b[0m\n\u001b[1;32m      3\u001b[0m \u001b[0mlen\u001b[0m\u001b[0;34m(\u001b[0m\u001b[0mjson_data\u001b[0m\u001b[0;34m)\u001b[0m\u001b[0;34m\u001b[0m\u001b[0;34m\u001b[0m\u001b[0m\n",
            "\u001b[0;31mFileNotFoundError\u001b[0m: [Errno 2] No such file or directory: '/content/train.json'"
          ]
        }
      ]
    },
    {
      "cell_type": "code",
      "source": [
        "json_data[0]['extracted_part']"
      ],
      "metadata": {
        "id": "1KKnjmOu-zvm"
      },
      "execution_count": null,
      "outputs": []
    },
    {
      "cell_type": "code",
      "source": [
        "json_data[0]['text'][1279:1343]\n"
      ],
      "metadata": {
        "id": "W7Ix7uBc_6Sy"
      },
      "execution_count": null,
      "outputs": []
    },
    {
      "cell_type": "code",
      "source": [
        "lenght = len(json_data)\n",
        "for i in range(lenght):\n",
        "  target = json_data[i]['extracted_part']['text'][0]\n",
        "  if target:\n",
        "    json_data[i]['target'] = target\n",
        "\n",
        "  else: \n",
        "    json_data[i]['target'] = np.nan\n",
        "\n",
        "  del json_data[i]['extracted_part']\n",
        "  \n",
        "json_data[0]"
      ],
      "metadata": {
        "id": "nX7V8aDrBLYi"
      },
      "execution_count": null,
      "outputs": []
    },
    {
      "cell_type": "code",
      "source": [
        "with open('train_unpacked.json', 'w') as f:\n",
        "  json.dump(json_data, f)"
      ],
      "metadata": {
        "id": "33GS2kYZCH15"
      },
      "execution_count": null,
      "outputs": []
    },
    {
      "cell_type": "code",
      "source": [
        "del json_data\n",
        "gc.collect()"
      ],
      "metadata": {
        "id": "c-pYHi54C3pI"
      },
      "execution_count": null,
      "outputs": []
    },
    {
      "cell_type": "markdown",
      "source": [
        "### откроем в pandas посмотрим на данные"
      ],
      "metadata": {
        "id": "aWfmk-xEC-4l"
      }
    },
    {
      "cell_type": "code",
      "source": [
        "df = pd.read_json('/content/train_unpacked.json', encoding='utf-8')\n",
        "df.sample(3)"
      ],
      "metadata": {
        "colab": {
          "base_uri": "https://localhost:8080/",
          "height": 416
        },
        "id": "hFZZz7V2C97l",
        "outputId": "d1f656d9-8a1a-4555-f679-93bc1cc7a225"
      },
      "execution_count": 51,
      "outputs": [
        {
          "output_type": "execute_result",
          "data": {
            "text/plain": [
              "            id                                               text  \\\n",
              "164  621939083  13 ПРОЕКТ КОНТРАКТ №____ на поставку товаров г...   \n",
              "217   56810761  32 УТВЕРЖДАЮ Начальник департамента городского...   \n",
              "183  981282799  Извещение о проведении запроса котировок в эле...   \n",
              "\n",
              "                                    label  \\\n",
              "164      обеспечение исполнения контракта   \n",
              "217  обеспечение гарантийных обязательств   \n",
              "183      обеспечение исполнения контракта   \n",
              "\n",
              "                                                target  \n",
              "164  Размер обеспечения исполнения Контракта состав...  \n",
              "217  Размер обеспечения гарантийных обязательств по...  \n",
              "183  Размер обеспечения исполнения контракта 24578....  "
            ],
            "text/html": [
              "\n",
              "  <div id=\"df-d3fa795c-dcff-4caa-8a4c-2d48d17ac19b\">\n",
              "    <div class=\"colab-df-container\">\n",
              "      <div>\n",
              "<style scoped>\n",
              "    .dataframe tbody tr th:only-of-type {\n",
              "        vertical-align: middle;\n",
              "    }\n",
              "\n",
              "    .dataframe tbody tr th {\n",
              "        vertical-align: top;\n",
              "    }\n",
              "\n",
              "    .dataframe thead th {\n",
              "        text-align: right;\n",
              "    }\n",
              "</style>\n",
              "<table border=\"1\" class=\"dataframe\">\n",
              "  <thead>\n",
              "    <tr style=\"text-align: right;\">\n",
              "      <th></th>\n",
              "      <th>id</th>\n",
              "      <th>text</th>\n",
              "      <th>label</th>\n",
              "      <th>target</th>\n",
              "    </tr>\n",
              "  </thead>\n",
              "  <tbody>\n",
              "    <tr>\n",
              "      <th>164</th>\n",
              "      <td>621939083</td>\n",
              "      <td>13 ПРОЕКТ КОНТРАКТ №____ на поставку товаров г...</td>\n",
              "      <td>обеспечение исполнения контракта</td>\n",
              "      <td>Размер обеспечения исполнения Контракта состав...</td>\n",
              "    </tr>\n",
              "    <tr>\n",
              "      <th>217</th>\n",
              "      <td>56810761</td>\n",
              "      <td>32 УТВЕРЖДАЮ Начальник департамента городского...</td>\n",
              "      <td>обеспечение гарантийных обязательств</td>\n",
              "      <td>Размер обеспечения гарантийных обязательств по...</td>\n",
              "    </tr>\n",
              "    <tr>\n",
              "      <th>183</th>\n",
              "      <td>981282799</td>\n",
              "      <td>Извещение о проведении запроса котировок в эле...</td>\n",
              "      <td>обеспечение исполнения контракта</td>\n",
              "      <td>Размер обеспечения исполнения контракта 24578....</td>\n",
              "    </tr>\n",
              "  </tbody>\n",
              "</table>\n",
              "</div>\n",
              "      <button class=\"colab-df-convert\" onclick=\"convertToInteractive('df-d3fa795c-dcff-4caa-8a4c-2d48d17ac19b')\"\n",
              "              title=\"Convert this dataframe to an interactive table.\"\n",
              "              style=\"display:none;\">\n",
              "        \n",
              "  <svg xmlns=\"http://www.w3.org/2000/svg\" height=\"24px\"viewBox=\"0 0 24 24\"\n",
              "       width=\"24px\">\n",
              "    <path d=\"M0 0h24v24H0V0z\" fill=\"none\"/>\n",
              "    <path d=\"M18.56 5.44l.94 2.06.94-2.06 2.06-.94-2.06-.94-.94-2.06-.94 2.06-2.06.94zm-11 1L8.5 8.5l.94-2.06 2.06-.94-2.06-.94L8.5 2.5l-.94 2.06-2.06.94zm10 10l.94 2.06.94-2.06 2.06-.94-2.06-.94-.94-2.06-.94 2.06-2.06.94z\"/><path d=\"M17.41 7.96l-1.37-1.37c-.4-.4-.92-.59-1.43-.59-.52 0-1.04.2-1.43.59L10.3 9.45l-7.72 7.72c-.78.78-.78 2.05 0 2.83L4 21.41c.39.39.9.59 1.41.59.51 0 1.02-.2 1.41-.59l7.78-7.78 2.81-2.81c.8-.78.8-2.07 0-2.86zM5.41 20L4 18.59l7.72-7.72 1.47 1.35L5.41 20z\"/>\n",
              "  </svg>\n",
              "      </button>\n",
              "      \n",
              "  <style>\n",
              "    .colab-df-container {\n",
              "      display:flex;\n",
              "      flex-wrap:wrap;\n",
              "      gap: 12px;\n",
              "    }\n",
              "\n",
              "    .colab-df-convert {\n",
              "      background-color: #E8F0FE;\n",
              "      border: none;\n",
              "      border-radius: 50%;\n",
              "      cursor: pointer;\n",
              "      display: none;\n",
              "      fill: #1967D2;\n",
              "      height: 32px;\n",
              "      padding: 0 0 0 0;\n",
              "      width: 32px;\n",
              "    }\n",
              "\n",
              "    .colab-df-convert:hover {\n",
              "      background-color: #E2EBFA;\n",
              "      box-shadow: 0px 1px 2px rgba(60, 64, 67, 0.3), 0px 1px 3px 1px rgba(60, 64, 67, 0.15);\n",
              "      fill: #174EA6;\n",
              "    }\n",
              "\n",
              "    [theme=dark] .colab-df-convert {\n",
              "      background-color: #3B4455;\n",
              "      fill: #D2E3FC;\n",
              "    }\n",
              "\n",
              "    [theme=dark] .colab-df-convert:hover {\n",
              "      background-color: #434B5C;\n",
              "      box-shadow: 0px 1px 3px 1px rgba(0, 0, 0, 0.15);\n",
              "      filter: drop-shadow(0px 1px 2px rgba(0, 0, 0, 0.3));\n",
              "      fill: #FFFFFF;\n",
              "    }\n",
              "  </style>\n",
              "\n",
              "      <script>\n",
              "        const buttonEl =\n",
              "          document.querySelector('#df-d3fa795c-dcff-4caa-8a4c-2d48d17ac19b button.colab-df-convert');\n",
              "        buttonEl.style.display =\n",
              "          google.colab.kernel.accessAllowed ? 'block' : 'none';\n",
              "\n",
              "        async function convertToInteractive(key) {\n",
              "          const element = document.querySelector('#df-d3fa795c-dcff-4caa-8a4c-2d48d17ac19b');\n",
              "          const dataTable =\n",
              "            await google.colab.kernel.invokeFunction('convertToInteractive',\n",
              "                                                     [key], {});\n",
              "          if (!dataTable) return;\n",
              "\n",
              "          const docLinkHtml = 'Like what you see? Visit the ' +\n",
              "            '<a target=\"_blank\" href=https://colab.research.google.com/notebooks/data_table.ipynb>data table notebook</a>'\n",
              "            + ' to learn more about interactive tables.';\n",
              "          element.innerHTML = '';\n",
              "          dataTable['output_type'] = 'display_data';\n",
              "          await google.colab.output.renderOutput(dataTable, element);\n",
              "          const docLink = document.createElement('div');\n",
              "          docLink.innerHTML = docLinkHtml;\n",
              "          element.appendChild(docLink);\n",
              "        }\n",
              "      </script>\n",
              "    </div>\n",
              "  </div>\n",
              "  "
            ]
          },
          "metadata": {},
          "execution_count": 51
        }
      ]
    },
    {
      "cell_type": "code",
      "source": [
        "df.info()"
      ],
      "metadata": {
        "colab": {
          "base_uri": "https://localhost:8080/"
        },
        "id": "2-QAas7SDNG2",
        "outputId": "ae20cca0-64c1-428d-a872-ab000927fd0d"
      },
      "execution_count": 52,
      "outputs": [
        {
          "output_type": "stream",
          "name": "stdout",
          "text": [
            "<class 'pandas.core.frame.DataFrame'>\n",
            "RangeIndex: 1799 entries, 0 to 1798\n",
            "Data columns (total 4 columns):\n",
            " #   Column  Non-Null Count  Dtype \n",
            "---  ------  --------------  ----- \n",
            " 0   id      1799 non-null   int64 \n",
            " 1   text    1799 non-null   object\n",
            " 2   label   1799 non-null   object\n",
            " 3   target  1492 non-null   object\n",
            "dtypes: int64(1), object(3)\n",
            "memory usage: 56.3+ KB\n"
          ]
        }
      ]
    },
    {
      "cell_type": "markdown",
      "source": [
        "Посмотрим поближе на сами тексты"
      ],
      "metadata": {
        "id": "9OGb1BISAudI"
      }
    },
    {
      "cell_type": "code",
      "source": [
        "df['label'].value_counts()"
      ],
      "metadata": {
        "colab": {
          "base_uri": "https://localhost:8080/"
        },
        "id": "oQE96x86zpuZ",
        "outputId": "770ad276-e953-4df5-dd4a-cd825199ee2c"
      },
      "execution_count": 53,
      "outputs": [
        {
          "output_type": "execute_result",
          "data": {
            "text/plain": [
              "обеспечение исполнения контракта        988\n",
              "обеспечение гарантийных обязательств    811\n",
              "Name: label, dtype: int64"
            ]
          },
          "metadata": {},
          "execution_count": 53
        }
      ]
    },
    {
      "cell_type": "code",
      "source": [
        "string = randint(0, 1799)\n",
        "df.loc[string, 'text'], df.loc[string, 'label'], df.loc[string, 'target'] "
      ],
      "metadata": {
        "colab": {
          "base_uri": "https://localhost:8080/"
        },
        "id": "iepdkD-PEKxF",
        "outputId": "b8c0f504-a911-4501-9e11-d79a5f67c9d5"
      },
      "execution_count": 54,
      "outputs": [
        {
          "output_type": "execute_result",
          "data": {
            "text/plain": [
              "('Утверждена: Начальник МКУ «ХЭГ» ______________ Шигорин С. В наименование и описание объекта закупки, условия контракта (РАЗДЕЛ 2 ИЗВЕЩЕНИЯ ОБ ОСУЩЕСТВЛЕНИИ ЗАКУПКИ) 1 Информация о заказчике Бюджетополучатель: Муниципальное казенное учреждение «Хозяйственно-эксплуатационная ыть только субъекты малого предпринимательства, социально ориентированные некоммерческие организации. 14 Требование, установленное в соответствии с частью 5 статьи 30 Федерального закона от 05.04.2013 №44-ФЗ, с указанием в соответствии с частью 6 статьи 30 Федерального закона от 05.04.2013 № 44-ФЗ объема привлечения к исполнению контрактов субподрядчиков, соисполнителей из числа субъектов малого предпринимательства, социально ориентированных некоммерческих организаций Не установлено 15 Условия, запреты и ограничения допуска товаров, происходящих из иностранного государства или группы иностранных государств (в соответствии со ст. 14 Федерального закона от 05.04.2013 № 44-ФЗ) Не установлено 16 Установить обеспечение заявок участников 1) от 0,5% до 1% НМЦК, если НМЦК составляет до 20 млн. рублей; 2) от 0,5% до 5% НМЦК, если НМЦК составляет более 20 млн. рублей. 3) уголовно-исполнительной системы, организации инвалидов не более 0,5 % % обеспечения: 1,0 Размер обеспечения: 9 300,76 руб. 17 Установить обеспечения исполнения контракта (от 0,5% до 30%) % обеспечения: 10 Размер обеспечения: 18 Установить обеспечение гарантийных обязательств (Не более 10 %) Не установлено 19 Порядок внесения денежных средств в качестве обеспечения заявки на участие в закупке, условия независимой гарантии (если требование обеспечения заявки установлено в соответствии со статьей 44 Федерального закона от 05.04.2013 № 44-ФЗ) Выбор способа обеспечения осуществляется участником закупки самостоятельно. Обеспечение заявки на участие в закупке может предоставляться участником закупки одним из следующих способов: а) Предоставление обеспечения заявки на участие в закупке в виде денежных средств: путем блокирования денежных средств, внесенных участником закупки на банковский счет, открытый таким участником в банке, включенном в перечень, утвержденный Правительством Российской Федерации (далее - специальный счет). Требования к таким банкам, к договору специального счета, к порядку использования имеющегося у участника закупки банковского счета в качестве специального счета уста Приложения: 1) Обоснование начальной (максимальной) цены контракта, начальных цен единиц товара, работы, услуги (в формате pdf), в том числе документы, подтверждающие обоснование начальной (максимальной) цены контракта, начальных цен единиц товара,',\n",
              " 'обеспечение исполнения контракта',\n",
              " 'Установить обеспечения исполнения контракта (от 0,5% до 30%) % обеспечения')"
            ]
          },
          "metadata": {},
          "execution_count": 54
        }
      ]
    },
    {
      "cell_type": "markdown",
      "source": [
        "В текстах не везде расставлены знаки препинания, поэтому мы не можем чётко разделить предложения и можем ориентироваться только на регистр"
      ],
      "metadata": {
        "id": "lwQD8sc3Cz3E"
      }
    },
    {
      "cell_type": "markdown",
      "source": [
        "### разбиение текстов "
      ],
      "metadata": {
        "id": "wlKJfpUGp6eW"
      }
    },
    {
      "cell_type": "code",
      "source": [
        "df.sample(4)"
      ],
      "metadata": {
        "colab": {
          "base_uri": "https://localhost:8080/",
          "height": 288
        },
        "id": "6oNWuhqYtjvb",
        "outputId": "4b5edd24-85c1-40dc-d716-015578183e72"
      },
      "execution_count": 55,
      "outputs": [
        {
          "output_type": "execute_result",
          "data": {
            "text/plain": [
              "             id                                               text  \\\n",
              "1166  456169402  8 Приложение №4 к извещению об электронном аук...   \n",
              "1154  711395010  УТВЕРЖДАЮ БЮДЖЕТНОЕ УЧРЕЖДЕНИЕ ХАНТЫ-МАНСИЙСКО...   \n",
              "638   201962501  Утверждаю: Заведующий структурным подразделени...   \n",
              "1360  345442312  11 21 УТВЕРЖДАЮ Директор СПб ГБУ СОН «КЦСОН Фр...   \n",
              "\n",
              "                                     label  \\\n",
              "1166  обеспечение гарантийных обязательств   \n",
              "1154  обеспечение гарантийных обязательств   \n",
              "638       обеспечение исполнения контракта   \n",
              "1360  обеспечение гарантийных обязательств   \n",
              "\n",
              "                                                 target  \n",
              "1166  Обеспечение гарантийных обязательств установле...  \n",
              "1154  Размер обеспечения гарантийных обязательств 13...  \n",
              "638   Размер обеспечения исполнения договора 5% от н...  \n",
              "1360  Размер обеспечения гарантийных обязательств по...  "
            ],
            "text/html": [
              "\n",
              "  <div id=\"df-9b40a231-5793-4ed2-aab5-92b003511433\">\n",
              "    <div class=\"colab-df-container\">\n",
              "      <div>\n",
              "<style scoped>\n",
              "    .dataframe tbody tr th:only-of-type {\n",
              "        vertical-align: middle;\n",
              "    }\n",
              "\n",
              "    .dataframe tbody tr th {\n",
              "        vertical-align: top;\n",
              "    }\n",
              "\n",
              "    .dataframe thead th {\n",
              "        text-align: right;\n",
              "    }\n",
              "</style>\n",
              "<table border=\"1\" class=\"dataframe\">\n",
              "  <thead>\n",
              "    <tr style=\"text-align: right;\">\n",
              "      <th></th>\n",
              "      <th>id</th>\n",
              "      <th>text</th>\n",
              "      <th>label</th>\n",
              "      <th>target</th>\n",
              "    </tr>\n",
              "  </thead>\n",
              "  <tbody>\n",
              "    <tr>\n",
              "      <th>1166</th>\n",
              "      <td>456169402</td>\n",
              "      <td>8 Приложение №4 к извещению об электронном аук...</td>\n",
              "      <td>обеспечение гарантийных обязательств</td>\n",
              "      <td>Обеспечение гарантийных обязательств установле...</td>\n",
              "    </tr>\n",
              "    <tr>\n",
              "      <th>1154</th>\n",
              "      <td>711395010</td>\n",
              "      <td>УТВЕРЖДАЮ БЮДЖЕТНОЕ УЧРЕЖДЕНИЕ ХАНТЫ-МАНСИЙСКО...</td>\n",
              "      <td>обеспечение гарантийных обязательств</td>\n",
              "      <td>Размер обеспечения гарантийных обязательств 13...</td>\n",
              "    </tr>\n",
              "    <tr>\n",
              "      <th>638</th>\n",
              "      <td>201962501</td>\n",
              "      <td>Утверждаю: Заведующий структурным подразделени...</td>\n",
              "      <td>обеспечение исполнения контракта</td>\n",
              "      <td>Размер обеспечения исполнения договора 5% от н...</td>\n",
              "    </tr>\n",
              "    <tr>\n",
              "      <th>1360</th>\n",
              "      <td>345442312</td>\n",
              "      <td>11 21 УТВЕРЖДАЮ Директор СПб ГБУ СОН «КЦСОН Фр...</td>\n",
              "      <td>обеспечение гарантийных обязательств</td>\n",
              "      <td>Размер обеспечения гарантийных обязательств по...</td>\n",
              "    </tr>\n",
              "  </tbody>\n",
              "</table>\n",
              "</div>\n",
              "      <button class=\"colab-df-convert\" onclick=\"convertToInteractive('df-9b40a231-5793-4ed2-aab5-92b003511433')\"\n",
              "              title=\"Convert this dataframe to an interactive table.\"\n",
              "              style=\"display:none;\">\n",
              "        \n",
              "  <svg xmlns=\"http://www.w3.org/2000/svg\" height=\"24px\"viewBox=\"0 0 24 24\"\n",
              "       width=\"24px\">\n",
              "    <path d=\"M0 0h24v24H0V0z\" fill=\"none\"/>\n",
              "    <path d=\"M18.56 5.44l.94 2.06.94-2.06 2.06-.94-2.06-.94-.94-2.06-.94 2.06-2.06.94zm-11 1L8.5 8.5l.94-2.06 2.06-.94-2.06-.94L8.5 2.5l-.94 2.06-2.06.94zm10 10l.94 2.06.94-2.06 2.06-.94-2.06-.94-.94-2.06-.94 2.06-2.06.94z\"/><path d=\"M17.41 7.96l-1.37-1.37c-.4-.4-.92-.59-1.43-.59-.52 0-1.04.2-1.43.59L10.3 9.45l-7.72 7.72c-.78.78-.78 2.05 0 2.83L4 21.41c.39.39.9.59 1.41.59.51 0 1.02-.2 1.41-.59l7.78-7.78 2.81-2.81c.8-.78.8-2.07 0-2.86zM5.41 20L4 18.59l7.72-7.72 1.47 1.35L5.41 20z\"/>\n",
              "  </svg>\n",
              "      </button>\n",
              "      \n",
              "  <style>\n",
              "    .colab-df-container {\n",
              "      display:flex;\n",
              "      flex-wrap:wrap;\n",
              "      gap: 12px;\n",
              "    }\n",
              "\n",
              "    .colab-df-convert {\n",
              "      background-color: #E8F0FE;\n",
              "      border: none;\n",
              "      border-radius: 50%;\n",
              "      cursor: pointer;\n",
              "      display: none;\n",
              "      fill: #1967D2;\n",
              "      height: 32px;\n",
              "      padding: 0 0 0 0;\n",
              "      width: 32px;\n",
              "    }\n",
              "\n",
              "    .colab-df-convert:hover {\n",
              "      background-color: #E2EBFA;\n",
              "      box-shadow: 0px 1px 2px rgba(60, 64, 67, 0.3), 0px 1px 3px 1px rgba(60, 64, 67, 0.15);\n",
              "      fill: #174EA6;\n",
              "    }\n",
              "\n",
              "    [theme=dark] .colab-df-convert {\n",
              "      background-color: #3B4455;\n",
              "      fill: #D2E3FC;\n",
              "    }\n",
              "\n",
              "    [theme=dark] .colab-df-convert:hover {\n",
              "      background-color: #434B5C;\n",
              "      box-shadow: 0px 1px 3px 1px rgba(0, 0, 0, 0.15);\n",
              "      filter: drop-shadow(0px 1px 2px rgba(0, 0, 0, 0.3));\n",
              "      fill: #FFFFFF;\n",
              "    }\n",
              "  </style>\n",
              "\n",
              "      <script>\n",
              "        const buttonEl =\n",
              "          document.querySelector('#df-9b40a231-5793-4ed2-aab5-92b003511433 button.colab-df-convert');\n",
              "        buttonEl.style.display =\n",
              "          google.colab.kernel.accessAllowed ? 'block' : 'none';\n",
              "\n",
              "        async function convertToInteractive(key) {\n",
              "          const element = document.querySelector('#df-9b40a231-5793-4ed2-aab5-92b003511433');\n",
              "          const dataTable =\n",
              "            await google.colab.kernel.invokeFunction('convertToInteractive',\n",
              "                                                     [key], {});\n",
              "          if (!dataTable) return;\n",
              "\n",
              "          const docLinkHtml = 'Like what you see? Visit the ' +\n",
              "            '<a target=\"_blank\" href=https://colab.research.google.com/notebooks/data_table.ipynb>data table notebook</a>'\n",
              "            + ' to learn more about interactive tables.';\n",
              "          element.innerHTML = '';\n",
              "          dataTable['output_type'] = 'display_data';\n",
              "          await google.colab.output.renderOutput(dataTable, element);\n",
              "          const docLink = document.createElement('div');\n",
              "          docLink.innerHTML = docLinkHtml;\n",
              "          element.appendChild(docLink);\n",
              "        }\n",
              "      </script>\n",
              "    </div>\n",
              "  </div>\n",
              "  "
            ]
          },
          "metadata": {},
          "execution_count": 55
        }
      ]
    },
    {
      "cell_type": "markdown",
      "source": [
        "Сложность составляют слова, которые в юридических документах пишутся с заглавной буквы: Заказчик, Договор, Сторон и т.д.\n",
        "\n",
        "Попробуем написать функцию для разделения текстов на предложения"
      ],
      "metadata": {
        "id": "LOedQgTMDelA"
      }
    },
    {
      "cell_type": "code",
      "source": [
        "def lower_the_unnessesary_words(text):\n",
        "  # сделаем слова, которые пишутся с заглавной буквы и не стоят в начале предложения прописными\n",
        "  capital_words_exceptions = [\n",
        "      'Заказчик', 'Получател', 'Договор', 'Поставщик', \n",
        "      'Федер', 'Закон', 'Росси', 'Контракт', 'Гражданск', \n",
        "      'Министерств', 'Директор', 'Сторон', 'Оборудован', \n",
        "      'Акт', 'МВД', 'НМЦК'\n",
        "  ]\n",
        "  splitted_text = text.split(' ')\n",
        "  for i in range(len(splitted_text)):\n",
        "    for exception in capital_words_exceptions:  \n",
        "      if type(splitted_text[i]) is str and splitted_text[i].startswith(exception):\n",
        "        splitted_text[i] = splitted_text[i].lower()\n",
        "\n",
        "  return ' '.join(splitted_text)"
      ],
      "metadata": {
        "id": "4tMlkUHxGU2C"
      },
      "execution_count": 56,
      "outputs": []
    },
    {
      "cell_type": "code",
      "source": [
        "def get_back_lowered_words(text):\n",
        "  capital_words_exceptions = [\n",
        "      'заказчик', 'получател', 'договор', 'поставщик', \n",
        "      'федер', 'закон', 'росси', 'гражданск', \n",
        "      'министерств', 'директор', 'сторон', 'оборудован', \n",
        "      'акт'\n",
        "  ]\n",
        "  all_capital_words = ['мвд', 'нмцк']\n",
        "\n",
        "  splitted_text = text.split()\n",
        "  for i in range(len(splitted_text)):\n",
        "    for exception in capital_words_exceptions:  \n",
        "      if type(splitted_text[i]) is str and splitted_text[i].startswith(exception):\n",
        "        splitted_text[i] = splitted_text[i].capitalize()\n",
        "\n",
        "      if splitted_text[i] in all_capital_words:\n",
        "        splitted_text[i] = splitted_text[i].upper()\n",
        "  return ' '.join(splitted_text)"
      ],
      "metadata": {
        "id": "IPtIov8-NWEJ"
      },
      "execution_count": 57,
      "outputs": []
    },
    {
      "cell_type": "code",
      "source": [
        "def text_separation_by_sentences(text, min_sentence_lenght=20):\n",
        "  # сначала разделим текст по заглавным и уберём неинформативные предложения\n",
        "  sentences = []\n",
        "  text = text.replace('\\n', ' ')\n",
        "  text = lower_the_unnessesary_words(text)\n",
        "  raw_sentences = re.split(r'\\s+(?=[А-Я])', text)\n",
        "  for i in range(len(raw_sentences)):\n",
        "    raw_sentences[i] = get_back_lowered_words(raw_sentences[i])\n",
        "\n",
        "  for i in raw_sentences:\n",
        "    if len(i) > min_sentence_lenght:\n",
        "      sentences.append(i)\n",
        "\n",
        "  return sentences"
      ],
      "metadata": {
        "id": "KO7EL1o7NZPk"
      },
      "execution_count": 58,
      "outputs": []
    },
    {
      "cell_type": "markdown",
      "source": [
        "Добавим к нашему разбиению на предложения фрагменты, разделения запятыми и тире."
      ],
      "metadata": {
        "id": "54R-9bL9R9W6"
      }
    },
    {
      "cell_type": "code",
      "source": [
        "def add_comma_separated_fragments(text:list):\n",
        "  result = []\n",
        "  for sentence in text:\n",
        "    result.extend(re.split(',|-|_', sentence.strip()))\n",
        "  for i in range(len(result)):\n",
        "    result[i] = result[i].strip()\n",
        "  text.extend(result)\n",
        "  return text"
      ],
      "metadata": {
        "id": "Z-j6oDd5RoMB"
      },
      "execution_count": 59,
      "outputs": []
    },
    {
      "cell_type": "markdown",
      "source": [
        "Наш разделитель не будет идеально делить предложения, т.к. могут быть предложения, у которых в начале стоит одно из слов-исключений, либо когда мы не внесли слово в список слов-исключений, но оно написано с большой буквы "
      ],
      "metadata": {
        "id": "v4pW-w7Mg_aZ"
      }
    },
    {
      "cell_type": "code",
      "source": [
        "for i in range(len(df)):\n",
        "  sentences = text_separation_by_sentences(df.loc[i, 'text'])\n",
        "  df.at[i, 'text'] = sentences"
      ],
      "metadata": {
        "id": "qNUNo1B9tZi8"
      },
      "execution_count": 60,
      "outputs": []
    },
    {
      "cell_type": "code",
      "source": [
        "df.to_json('./train_with_splitted_texts.json')"
      ],
      "metadata": {
        "id": "vOCmjm1iv1bi"
      },
      "execution_count": 61,
      "outputs": []
    },
    {
      "cell_type": "markdown",
      "source": [
        "также spacy для этой задачи работает довольно медленно, т.к. выполняет не только операцию разбиения на предложения, а также использует "
      ],
      "metadata": {
        "id": "aVf-MXg0wBN1"
      }
    },
    {
      "cell_type": "code",
      "source": [
        "for i in range(len(df)):\n",
        "  sentences = add_comma_separated_fragments(df.loc[i, 'text'])\n",
        "  df.at[i, 'text'] = sentences\n"
      ],
      "metadata": {
        "id": "i90sPLf7T-s-"
      },
      "execution_count": 62,
      "outputs": []
    },
    {
      "cell_type": "code",
      "source": [
        "df.to_json('./train_with_splitted_texts_extended.json')"
      ],
      "metadata": {
        "id": "hZw6khp9Ugun"
      },
      "execution_count": 63,
      "outputs": []
    },
    {
      "cell_type": "code",
      "source": [
        "string = randint(0, 1799)\n",
        "df.loc[string, 'text'], df.loc[string, 'label'], df.loc[string, 'target'] "
      ],
      "metadata": {
        "colab": {
          "base_uri": "https://localhost:8080/"
        },
        "id": "yYyAWCPbve8L",
        "outputId": "5bf1190c-9574-49a4-944b-7fb096273633"
      },
      "execution_count": 64,
      "outputs": [
        {
          "output_type": "execute_result",
          "data": {
            "text/plain": [
              "(['Утверждено на заседании',\n",
              "  'Постоянно действующей закупочной',\n",
              "  'Протокол № 61 от 08.09.2022г. ризнанным соответствующим требованиям извещения о закупке) относительно',\n",
              "  'НМЦ, указанной Заказчиком в извещении о проведении запроса цен, на 25 и более процентов.',\n",
              "  'При расчете процента снижения для установления факта аномально низкой цены (демпинга) округление производится до целого числа по математическим правилам с учетом двух знаков после запятой. 9.2.',\n",
              "  'В случае если при проведении закупки победителем (либо единственным участником, признанным соответствующим требованиям извещения о закупке) признается участник, предложивший аномально низкое ценовое предложение, таким участником предоставляется обеспечение исполнения Договора в следующем размере: №',\n",
              "  'Матрица Договорных условий',\n",
              "  'Размер обеспечения исполнения Договора в случае подачи участником закупки аномально низкого ценового предложения',\n",
              "  'Требование по обеспечению исполнения Договора',\n",
              "  'Обеспечение на возврат авансового платежа 1 не предусмотрено не предусмотрено не предусмотрено 5% (пять) от',\n",
              "  'НМЦ 2 предусмотрено не предусмотрено не предусмотрено увеличенное от первоначально установленного обеспечения исполнения Договора в 1,5 (полтора) раза, но не менее 5% (пяти) от',\n",
              "  'НМЦ 3 не предусмотрено предусмотрено предусмотрено обеспечение исполнения Договора в размере аванса, но не менее 5% (пяти) от',\n",
              "  'НМЦ 4 не предусмотрено предусмотрено не предусмотрено обеспечение исполнения Договора в размере аванса, но не менее 5% (пяти) от',\n",
              "  'НМЦ 5 предусмотрено предусмотрено не предусмотрено увеличенное от первоначально установленного обеспечения исполнения Договора в 1,5 (полтора) раза, но не менее размера аванса 6 предусмотрено предусмотрено предусмотрено увеличенное от первоначально установленного обеспечение исполнения Договора в 1,5 (полтора) раза, но не менее 5% (пяти) от',\n",
              "  'НМЦ, и обеспечение возврата авансовых платежей в размере, установленном в извещении о закупке 9.3.',\n",
              "  'Размер финансового обеспечения обязательств по Договору указывается в протоколе закупочного органа',\n",
              "  'Общества с учетом требований п. 9.2. настоящего',\n",
              "  'Требования к порядку, форме и срокам предоставления финансового обеспечения обязательств по Договору в случае предложения победителем (либо единстве ______________________________________________________________________ конец формы Заказчик',\n",
              "  'Подрядчик ___________________ _______________________ 1',\n",
              "  'Утверждено на заседании',\n",
              "  'Постоянно действующей закупочной',\n",
              "  'Протокол № 61 от 08.09.2022г. ризнанным соответствующим требованиям извещения о закупке) относительно',\n",
              "  'НМЦ',\n",
              "  'указанной Заказчиком в извещении о проведении запроса цен',\n",
              "  'на 25 и более процентов.',\n",
              "  'При расчете процента снижения для установления факта аномально низкой цены (демпинга) округление производится до целого числа по математическим правилам с учетом двух знаков после запятой. 9.2.',\n",
              "  'В случае если при проведении закупки победителем (либо единственным участником',\n",
              "  'признанным соответствующим требованиям извещения о закупке) признается участник',\n",
              "  'предложивший аномально низкое ценовое предложение',\n",
              "  'таким участником предоставляется обеспечение исполнения Договора в следующем размере: №',\n",
              "  'Матрица Договорных условий',\n",
              "  'Размер обеспечения исполнения Договора в случае подачи участником закупки аномально низкого ценового предложения',\n",
              "  'Требование по обеспечению исполнения Договора',\n",
              "  'Обеспечение на возврат авансового платежа 1 не предусмотрено не предусмотрено не предусмотрено 5% (пять) от',\n",
              "  'НМЦ 2 предусмотрено не предусмотрено не предусмотрено увеличенное от первоначально установленного обеспечения исполнения Договора в 1',\n",
              "  '5 (полтора) раза',\n",
              "  'но не менее 5% (пяти) от',\n",
              "  'НМЦ 3 не предусмотрено предусмотрено предусмотрено обеспечение исполнения Договора в размере аванса',\n",
              "  'но не менее 5% (пяти) от',\n",
              "  'НМЦ 4 не предусмотрено предусмотрено не предусмотрено обеспечение исполнения Договора в размере аванса',\n",
              "  'но не менее 5% (пяти) от',\n",
              "  'НМЦ 5 предусмотрено предусмотрено не предусмотрено увеличенное от первоначально установленного обеспечения исполнения Договора в 1',\n",
              "  '5 (полтора) раза',\n",
              "  'но не менее размера аванса 6 предусмотрено предусмотрено предусмотрено увеличенное от первоначально установленного обеспечение исполнения Договора в 1',\n",
              "  '5 (полтора) раза',\n",
              "  'но не менее 5% (пяти) от',\n",
              "  'НМЦ',\n",
              "  'и обеспечение возврата авансовых платежей в размере',\n",
              "  'установленном в извещении о закупке 9.3.',\n",
              "  'Размер финансового обеспечения обязательств по Договору указывается в протоколе закупочного органа',\n",
              "  'Общества с учетом требований п. 9.2. настоящего',\n",
              "  'Требования к порядку',\n",
              "  'форме и срокам предоставления финансового обеспечения обязательств по Договору в случае предложения победителем (либо единстве',\n",
              "  '',\n",
              "  '',\n",
              "  '',\n",
              "  '',\n",
              "  '',\n",
              "  '',\n",
              "  '',\n",
              "  '',\n",
              "  '',\n",
              "  '',\n",
              "  '',\n",
              "  '',\n",
              "  '',\n",
              "  '',\n",
              "  '',\n",
              "  '',\n",
              "  '',\n",
              "  '',\n",
              "  '',\n",
              "  '',\n",
              "  '',\n",
              "  '',\n",
              "  '',\n",
              "  '',\n",
              "  '',\n",
              "  '',\n",
              "  '',\n",
              "  '',\n",
              "  '',\n",
              "  '',\n",
              "  '',\n",
              "  '',\n",
              "  '',\n",
              "  '',\n",
              "  '',\n",
              "  '',\n",
              "  '',\n",
              "  '',\n",
              "  '',\n",
              "  '',\n",
              "  '',\n",
              "  '',\n",
              "  '',\n",
              "  '',\n",
              "  '',\n",
              "  '',\n",
              "  '',\n",
              "  '',\n",
              "  '',\n",
              "  '',\n",
              "  '',\n",
              "  '',\n",
              "  '',\n",
              "  '',\n",
              "  '',\n",
              "  '',\n",
              "  '',\n",
              "  '',\n",
              "  '',\n",
              "  '',\n",
              "  '',\n",
              "  '',\n",
              "  '',\n",
              "  '',\n",
              "  '',\n",
              "  '',\n",
              "  '',\n",
              "  '',\n",
              "  '',\n",
              "  'конец формы Заказчик',\n",
              "  'Подрядчик',\n",
              "  '',\n",
              "  '',\n",
              "  '',\n",
              "  '',\n",
              "  '',\n",
              "  '',\n",
              "  '',\n",
              "  '',\n",
              "  '',\n",
              "  '',\n",
              "  '',\n",
              "  '',\n",
              "  '',\n",
              "  '',\n",
              "  '',\n",
              "  '',\n",
              "  '',\n",
              "  '',\n",
              "  '',\n",
              "  '',\n",
              "  '',\n",
              "  '',\n",
              "  '',\n",
              "  '',\n",
              "  '',\n",
              "  '',\n",
              "  '',\n",
              "  '',\n",
              "  '',\n",
              "  '',\n",
              "  '',\n",
              "  '',\n",
              "  '',\n",
              "  '',\n",
              "  '',\n",
              "  '',\n",
              "  '',\n",
              "  '',\n",
              "  '',\n",
              "  '',\n",
              "  '',\n",
              "  '1'],\n",
              " 'обеспечение исполнения контракта',\n",
              " 'не предусмотрено увеличенное от первоначально установленного обеспечения исполнения договора в 1,5 (полтора) раза, но не менее 5% (пяти) от НМЦ')"
            ]
          },
          "metadata": {},
          "execution_count": 64
        }
      ]
    },
    {
      "cell_type": "markdown",
      "source": [
        "Алгоритм справляется с разбиением предложений достаточно хорошо, качество разбиения можно повысить, добавляя и убирая слова-исключения. "
      ],
      "metadata": {
        "id": "df1i5nsQ1Ct5"
      }
    },
    {
      "cell_type": "markdown",
      "source": [
        "Ещё одна проблема заключается в том, что в таргете у нас не всегда стоят законченные предложения, что может сказаться на accuracy. Например:\n",
        "\n",
        "\n",
        "*   Участник закупки, с которым заключается договор, обязан представить обеспечение исполнения договора в размере 5% от цены\n",
        "\n",
        "Полное предложение: \"*Участник закупки, с которым заключается договор, обязан представить обеспечение исполнения договора в размере 5% от цены, по которой в соответствии с законом заключается контракт  17 1  заказчик вправе установить требование обеспечения гарантийных обязательств в случае установления требований к таким обязательствам в соответствии с частью 4 статьи 33 настоящего федерального закона*\"\n",
        "\n",
        "Но и есть и такие конктрукции в таргете:\n",
        "\n",
        "\n",
        "*   Обеспечение гарантийных обязательств представляется в размере 127 598,00 руб. , что составляет 2 % от начальной (максимальной) цены Договора, предусмотренной документацией о закупке.\n",
        "*  Размер обеспечения исполнения контракта, гарантийных обязательств 5% от НМЦК в сумме – 683 (шестьсот восемьдесят три) рубля 33 копейки.\n",
        "\n",
        "\n"
      ],
      "metadata": {
        "id": "E_wQnQvr1Sp7"
      }
    },
    {
      "cell_type": "markdown",
      "source": [
        "### Очистка текста и лемматизация"
      ],
      "metadata": {
        "id": "BbZiF-K59TkQ"
      }
    },
    {
      "cell_type": "code",
      "source": [
        "df = pd.read_json('/content/train_with_splitted_texts.json', encoding='utf-8')\n",
        "df.head()"
      ],
      "metadata": {
        "id": "zmET0VHL9WwP"
      },
      "execution_count": null,
      "outputs": []
    },
    {
      "cell_type": "markdown",
      "source": [
        "Функция для очистки лишних знаков препинания, чисел, а также букв английского алфавита"
      ],
      "metadata": {
        "id": "yE5RVIoTFakh"
      }
    },
    {
      "cell_type": "code",
      "source": [
        "nltk.download('stopwords')"
      ],
      "metadata": {
        "id": "5TjefTKvmaQO"
      },
      "execution_count": null,
      "outputs": []
    },
    {
      "cell_type": "code",
      "source": [
        "stopwords_ru = stopwords.words(\"russian\")\n",
        "morph = MorphAnalyzer()\n",
        "def lemmatization(text):\n",
        "  pattern = \"[A-Za-z0-9!#$%&'()*+№,./:;<=>?@[\\]^_`{|}~—\\\"\\-]+\"\n",
        "  text = re.sub(pattern, ' ', text)\n",
        "  tokens = []\n",
        "  for token in text.split():\n",
        "      if token and token not in stopwords_ru:\n",
        "          token = token.strip()\n",
        "          token = morph.normal_forms(token)[0]\n",
        "          tokens.append(token)\n",
        "  return tokens"
      ],
      "metadata": {
        "id": "rblSym5V9hHu"
      },
      "execution_count": null,
      "outputs": []
    },
    {
      "cell_type": "code",
      "source": [
        "sentence = df.loc[4, 'text'][0]\n",
        "sentence"
      ],
      "metadata": {
        "id": "X4gucFCuELbj"
      },
      "execution_count": null,
      "outputs": []
    },
    {
      "cell_type": "code",
      "source": [
        "lemmatization(sentence)"
      ],
      "metadata": {
        "id": "_OLmIi5zGWEn"
      },
      "execution_count": null,
      "outputs": []
    },
    {
      "cell_type": "code",
      "source": [
        "%%time\n",
        "for i in range(len(df)):\n",
        "  lemmatized_text = []\n",
        "\n",
        "  for k in range(len(df.loc[i, 'text'])):\n",
        "    sentence = df.loc[i, 'text'][k]\n",
        "    sentence =  lemmatization(sentence)\n",
        "    lemmatized_text.append(sentence)\n",
        "  df.at[i, 'text'] = lemmatized_text\n",
        "   "
      ],
      "metadata": {
        "id": "L3REIiJAGbwc"
      },
      "execution_count": null,
      "outputs": []
    },
    {
      "cell_type": "code",
      "source": [
        "df.to_json('train_lemmatized.json')"
      ],
      "metadata": {
        "id": "S6XF5ywY3N7d"
      },
      "execution_count": null,
      "outputs": []
    },
    {
      "cell_type": "markdown",
      "source": [
        "### Сохранение доп. датасетов для классификации."
      ],
      "metadata": {
        "id": "M552-_ZZqbBz"
      }
    },
    {
      "cell_type": "code",
      "source": [
        "contract_enforcement = df[df['label'] == 'обеспечение исполнения контракта']['target'].values\n",
        "garantee_enforcement = df[df['label'] == 'обеспечение гарантийных обязательств']['target'].values"
      ],
      "metadata": {
        "id": "j8WIDc4B_6At"
      },
      "execution_count": null,
      "outputs": []
    },
    {
      "cell_type": "code",
      "source": [
        "nonetype_sentences = df[df['target'].isna()]['text'].values"
      ],
      "metadata": {
        "id": "Ox-Eo1gpjVXo"
      },
      "execution_count": 69,
      "outputs": []
    },
    {
      "cell_type": "markdown",
      "source": [
        "также сохраним таргеты двух классов для модели classy classification"
      ],
      "metadata": {
        "id": "WsDVhXuvA0Ey"
      }
    },
    {
      "cell_type": "code",
      "source": [
        "with open('contract_enforcement.pkl', 'wb') as fp:\n",
        "  pickle.dump(contract_enforcement, fp)"
      ],
      "metadata": {
        "id": "LTrDzAHoBaQo"
      },
      "execution_count": null,
      "outputs": []
    },
    {
      "cell_type": "code",
      "source": [
        "with open('garantee_enforcement.pkl', 'wb') as fp:\n",
        "  pickle.dump(garantee_enforcement, fp)"
      ],
      "metadata": {
        "id": "xZ0c7GBSBh23"
      },
      "execution_count": null,
      "outputs": []
    },
    {
      "cell_type": "code",
      "source": [
        "with open('nonetype.pkl', 'wb') as fp:\n",
        "  pickle.dump(nonetype_sentences, fp)"
      ],
      "metadata": {
        "id": "SiGUcwbmkAlF"
      },
      "execution_count": 71,
      "outputs": []
    },
    {
      "cell_type": "markdown",
      "source": [
        "### улучшение разбиения текста на предложения "
      ],
      "metadata": {
        "id": "fmMGKCFV4tMw"
      }
    },
    {
      "cell_type": "markdown",
      "source": [
        "Цель - добиться, чтобы в каждом разбиении присутствовал фрагмент соответствующий таргету. Это поможет сильно улучшить accuracy"
      ],
      "metadata": {
        "id": "y_TNm9GqqtJJ"
      }
    },
    {
      "cell_type": "code",
      "source": [
        "df = pd.read_json('/content/train_unpacked.json', encoding='utf-8')"
      ],
      "metadata": {
        "id": "vntUrldOqslH"
      },
      "execution_count": 108,
      "outputs": []
    },
    {
      "cell_type": "code",
      "source": [
        "random_string = randint(0, 1799)\n",
        "df.loc[random_string, :].values"
      ],
      "metadata": {
        "colab": {
          "base_uri": "https://localhost:8080/"
        },
        "id": "XPAsdQ3Eu43V",
        "outputId": "72ff5d5a-e609-49f5-c2aa-6b444a8f28d5"
      },
      "execution_count": 109,
      "outputs": [
        {
          "output_type": "execute_result",
          "data": {
            "text/plain": [
              "array([323658138,\n",
              "       '1 Приложение № 4 к извещению о проведении открытого конкурса в электронной форме ПРОЕКТ ГОСУДАРСТВЕННОГО КОНТРАКТА № _____ на выполнение работ для государственных нужд Астраханской области г. Астрахань _________________ г. 1 Приложение № 4 к извещению о проведении открытого конкурса в электронной форме ПРОЕКТ ГОСУДАРСТВЕННОГО КОНТРАКТА № _____ на выполнение работ для государственных нужд Астраханской области г. Астрахань _________________ г. Государственное казенное учреждение Астраханской области «Управление автомобильными дорогами общего пользования «Астраханьавтодор», именуемое в дальнейшем «Заказчик», в лице _____________________________, действующего (-ей) на основании Устава, с одной стороны, заключило от имени Астраханской области в целях обеспечения государственных нужд Астраханской области с _________________________________________________________________________________, (полное наименование «Исполнителя») именуемым в дальнейшем «Исполнитель», в лице _______________________________, (должность, Ф.И.О.) действующим (-ей) на основании ___________________________________________________, (наименование учредительного (регистрационного) документа) с другой стороны, а вместе именуемые Стороны, в соо ПОДПИСИ СТОРОН от имени Заказчика: ____________________ от имени Исполнителя: ____________________ Приложение № 1 к Контракту № ____ от _______________ 2022 г. Техническое задание[footnoteRef:2] [2: Прикреплено отдельным файлом] От имени Заказчика',\n",
              "       'обеспечение гарантийных обязательств', None], dtype=object)"
            ]
          },
          "metadata": {},
          "execution_count": 109
        }
      ]
    },
    {
      "cell_type": "markdown",
      "source": [
        "Зададим несколько правил для разбиения:\n",
        "\n",
        "*   Если в предложении на конце стоит знак, его нужно сохранить\n",
        "\n",
        "*   Предложение не должно оканчиваться на цифры с точками (3.4.)\n",
        "\n",
        "*   Если встречаются слова с большой буквы в предложении - они  должны остаться с большой буквы\n",
        "\n",
        "*   Если фрагмент оканчивается на , или - тогда в конце знак не ставится\n",
        "\n",
        "\n",
        "*   Чтобы отследить фрагменты, которые не разделены знаками препинания, или заглавными буквами, можно составить список слов, на которых скорее всего оканчивается искомое предложение\n",
        "\n"
      ],
      "metadata": {
        "id": "awEXodqZugf0"
      }
    },
    {
      "cell_type": "markdown",
      "source": [
        "Таким образом, придётся расширить исходные тексты и хранить ещё и фрагменты разделений по знакам , и -"
      ],
      "metadata": {
        "id": "dQZ4yyqSwlJ1"
      }
    },
    {
      "cell_type": "code",
      "source": [
        "def is_in_stop_list(word):\n",
        "  stop_list = ['заказчик', 'получател', 'договор', 'поставщик', \n",
        "      'федер', 'закон', 'росси', 'гражданск', \n",
        "      'министерств', 'директор', 'сторон', 'оборудован', \n",
        "      'акт', 'мвд', 'нмцк', 'удмур', 'глав', 'москв', 'контракт', \n",
        "      'исполнител', 'ндс', 'правительств', 'рф', 'документ', \n",
        "      'продукци', 'проект']\n",
        "\n",
        "  for exception in stop_list:\n",
        "    word = word.lower()\n",
        "    if word.startswith(exception):\n",
        "      return True\n",
        "  return False"
      ],
      "metadata": {
        "id": "5t5fvN8r2AZ0"
      },
      "execution_count": 110,
      "outputs": []
    },
    {
      "cell_type": "code",
      "source": [
        "def is_common_target_end(sentence):\n",
        "  # в стоп листе сохраним падежи, чтобы не генерить много фрагментов\n",
        "  stop_list = [\n",
        "      'контракта', 'нцмд', 'копейки'\n",
        "  ]\n",
        "\n",
        "  index_list = []\n",
        "\n",
        "  word_list = sentence.split()\n",
        "  for word in word_list:\n",
        "    if word.lower() in stop_list:\n",
        "      index_list.append(sentence.index(word) + len(word))\n",
        "\n",
        "\n",
        "  return index_list"
      ],
      "metadata": {
        "id": "Dt7q4rzlNXAi"
      },
      "execution_count": 111,
      "outputs": []
    },
    {
      "cell_type": "code",
      "source": [
        "def comma_separate(list_of_sentences, min_sentence_lenght=15):\n",
        "  result_fragments_list = []\n",
        "\n",
        "  def separate(sentence):\n",
        "    list_of_commas_index = []\n",
        "    list_of_comma_separated_fragments = []\n",
        "    for i in range(len(sentence)):\n",
        "      try:\n",
        "        if sentence[i] == ',' or sentence[i] == '-':\n",
        "          if not sentence[i-1].isnumeric() and not sentence[i-1].isupper() and not sentence[i+1].isnumeric() and not sentence[i+1].isupper():\n",
        "            list_of_commas_index.append(i)\n",
        "      except:\n",
        "        pass\n",
        "\n",
        "    list_of_commas_index.extend(is_common_target_end(sentence))\n",
        "    start = 0\n",
        "    for end in list_of_commas_index:\n",
        "      fragment = sentence[start:end]\n",
        "      list_of_comma_separated_fragments.append(fragment)\n",
        "    \n",
        "    return list(set(list_of_comma_separated_fragments))\n",
        "\n",
        "  \n",
        "  for sentence in list_of_sentences:\n",
        "    if len(sentence) > min_sentence_lenght:\n",
        "      result_fragments_list.extend(separate(sentence))\n",
        "\n",
        "  return result_fragments_list"
      ],
      "metadata": {
        "id": "3r9JQlIkGC3D"
      },
      "execution_count": 112,
      "outputs": []
    },
    {
      "cell_type": "code",
      "source": [
        "def check_the_last_word(list_of_words):\n",
        "  try: \n",
        "    if int(list_of_words[-1]) < 100:\n",
        "      return list_of_words[:-1]\n",
        "  except:\n",
        "    if '<' in list_of_words[-1] and '>' in list_of_words[-1]:\n",
        "      return list_of_words[:-1]\n",
        "  return list_of_words"
      ],
      "metadata": {
        "id": "xJuwEi4ATXfl"
      },
      "execution_count": 113,
      "outputs": []
    },
    {
      "cell_type": "code",
      "source": [
        "def splitter(text, min_sentence_lenght=6):\n",
        "  list_of_sentences = []\n",
        "  list_of_words = text.split()\n",
        "  sentence = []\n",
        "  previous_word = ''\n",
        "  for word in list_of_words:\n",
        "    try:\n",
        "      if not len(word) == 1:\n",
        "        # критерии начала следующего предложения\n",
        "        if word[-1] == '.' and word[-2].isnumeric():\n",
        "          sentence = check_the_last_word(sentence)\n",
        "          list_of_sentences.append(' '.join(sentence))\n",
        "          sentence = []\n",
        "        if word[0].isupper() and not word.isupper():\n",
        "          if not is_in_stop_list(word) and sentence:\n",
        "            sentence = check_the_last_word(sentence)\n",
        "            list_of_sentences.append(' '.join(sentence))\n",
        "            sentence = []\n",
        "        if is_in_stop_list(word) and previous_word[-1] == '.':\n",
        "          sentence = check_the_last_word(sentence)\n",
        "          list_of_sentences.append(' '.join(sentence))\n",
        "          sentence = []\n",
        "\n",
        "      else:\n",
        "        if word.isupper():\n",
        "          sentence = check_the_last_word(sentence)\n",
        "          list_of_sentences.append(' '.join(sentence))\n",
        "          sentence = []\n",
        "\n",
        "    except:\n",
        "      pass\n",
        "    sentence.append(word)\n",
        "\n",
        "    if word is list_of_words[-1]:\n",
        "      sentence = check_the_last_word(sentence)\n",
        "      list_of_sentences.append(' '.join(sentence))\n",
        "    previous_word = word\n",
        "\n",
        "  # добавим фрагменты к списку предложений если extended=True\n",
        "  # if extended:\n",
        "  list_of_sentences.extend(comma_separate(list_of_sentences))\n",
        "\n",
        "  for sentence in list_of_sentences:\n",
        "    if len(sentence) < min_sentence_lenght or not sentence:\n",
        "      del list_of_sentences[list_of_sentences.index(sentence)]\n",
        "  return list_of_sentences\n",
        "      "
      ],
      "metadata": {
        "id": "HMLeh1NJ4nnQ"
      },
      "execution_count": 114,
      "outputs": []
    },
    {
      "cell_type": "code",
      "source": [
        "random_string = randint(0, 1799)\n",
        "sample_text = df.loc[random_string, 'text']"
      ],
      "metadata": {
        "id": "NN-Z_afhyXTo"
      },
      "execution_count": 115,
      "outputs": []
    },
    {
      "cell_type": "code",
      "source": [
        "splitted = splitter(sample_text)\n",
        "for i, value in enumerate(splitted):\n",
        "  if value:\n",
        "    print(f'{i+1}) {value}')\n",
        "\n",
        "print(df.loc[random_string, 'target'], df.loc[random_string, 'target'] in splitted)"
      ],
      "metadata": {
        "colab": {
          "base_uri": "https://localhost:8080/"
        },
        "id": "OVgenPoBzPHt",
        "outputId": "0abc8e12-9fc5-4247-c624-ed043c4ee063"
      },
      "execution_count": 116,
      "outputs": [
        {
          "output_type": "stream",
          "name": "stdout",
          "text": [
            "1) Извещение о проведении электронного аукциона для закупки №0809500000322002133\n",
            "2) Общая информация\n",
            "3) Номер извещения 0809500000322002133\n",
            "4) Наименование объекта закупки\n",
            "5) Приобретение жилого помещения (Квартиры) для обеспечения детей-сирот, детей, оставшихся без попечения родителей, лиц из ение - НБ\n",
            "6) Республика\n",
            "7) Мордовия\n",
            "8) Банка России//УФК по\n",
            "9) Республике\n",
            "10) Мордовия г.\n",
            "11) Саранск \"Номер корреспондентского счета\" 40102810345370000076\n",
            "12) Требования к гарантии качества товара, работы, услуги\n",
            "13) Требуется гарантия качества товара, работы, услуги\n",
            "14) Информация о требованиях к гарантийному обслуживанию товара\n",
            "15) Не установлено\n",
            "16) Требования к гарантии производителя товара\n",
            "17) Не установлено\n",
            "18) Срок, на который предоставляется гарантия\n",
            "19) Гарантийный срок на жилое помещение, за исключением элементов чистовой отделки, технологического и инженерного оборудования, входящего в состав жилого помещения, составляет не менее трех лет.\n",
            "20) Гарантийный срок на технологическое и инженерное оборудование, входящее в состав жилого помещения, составляет не менее трех лет, на технологическое и инженерное оборудование, гарантия на которое установлена заводом изготовителем, гарантийный срок соответствует сроку установленному заводом изготовителем.\n",
            "21) Обеспечение гарантийных обязательств\n",
            "22) Требуется обеспечение гарантийных обязательств\n",
            "23) Размер обеспечения гарантийных обязательств 1663.67 Российский рубль\n",
            "24) Порядок предоставления обеспечения гарантийных обязательств, требования к обеспечению\n",
            "25) Гарантийные обязательства обеспечиваются предоставлением независимой гарантии, соответствующей требованиям статьи 45 Закона о контрактной системе, или внесением денежных средств на указанный\n",
            "26) Покупателем счет, на котором в соответствии с законодательством Российской Федерации учитываются операции со средствами, поступающими\n",
            "27) Покупателю.\n",
            "28) Способ обеспечения гарантийных обязательств, срок действия независимой гарантии определяются в соответствии с требованиями Закона о контрактной системе участником закупки, с которым заключается контракт, самостоятельно.\n",
            "29) Платежные реквизиты «Номер расчетного счета» 03232643897010000900 «Номер лицевого счета» 05093052220 «БИК» 018952501 \"Наименование кредитной организации\"\n",
            "30) Отделение - НБ\n",
            "31) Республика\n",
            "32) Мордовия\n",
            "33) Банка России//УФК по\n",
            "34) Республике\n",
            "35) Мордовия г.\n",
            "36) Саранск \"Номер корреспондентского счета\" 40102810345370000076\n",
            "37) Информация о банковском и (или) казначейском сопровожден 68.10.11.000 ДЕПАРТАМЕНТ ПО СОЦИАЛЬНОЙ ПОЛИТИКЕ АДМИНИСТРАЦИИ ГОРОДСКОГО ОКРУГА САРАНСК\n",
            "38) Штука 1 (из 1) 1663671.70 1663671.70\n",
            "39) В соответствии с\n",
            "40) Описанием объекта закупки\n",
            "41) Итого: 1663671.70 Российский рубль\n",
            "42) Преимущества и требования к участникам\n",
            "43) Приобретение жилого помещения (Квартиры) для обеспечения детей-сирот\n",
            "44) Приобретение жилого помещения (Квартиры) для обеспечения детей\n",
            "45) Приобретение жилого помещения (Квартиры) для обеспечения детей-сирот, детей, оставшихся без попечения родителей\n",
            "46) Приобретение жилого помещения (Квартиры) для обеспечения детей-сирот, детей\n",
            "47) Приобретение жилого помещения (Квартиры) для обеспечения детей-сирот, детей, оставшихся без попечения родителей, лиц из ение \n",
            "48) Требования к гарантии качества товара, работы\n",
            "49) Требования к гарантии качества товара\n",
            "50) Требуется гарантия качества товара, работы\n",
            "51) Требуется гарантия качества товара\n",
            "52) Гарантийный срок на жилое помещение, за исключением элементов чистовой отделки, технологического и инженерного оборудования, входящего в состав жилого помещения\n",
            "53) Гарантийный срок на жилое помещение\n",
            "54) Гарантийный срок на жилое помещение, за исключением элементов чистовой отделки, технологического и инженерного оборудования\n",
            "55) Гарантийный срок на жилое помещение, за исключением элементов чистовой отделки\n",
            "56) Гарантийный срок на технологическое и инженерное оборудование\n",
            "57) Гарантийный срок на технологическое и инженерное оборудование, входящее в состав жилого помещения\n",
            "58) Гарантийный срок на технологическое и инженерное оборудование, входящее в состав жилого помещения, составляет не менее трех лет, на технологическое и инженерное оборудование, гарантия на которое установлена заводом изготовителем\n",
            "59) Гарантийный срок на технологическое и инженерное оборудование, входящее в состав жилого помещения, составляет не менее трех лет, на технологическое и инженерное оборудование\n",
            "60) Гарантийный срок на технологическое и инженерное оборудование, входящее в состав жилого помещения, составляет не менее трех лет\n",
            "61) Порядок предоставления обеспечения гарантийных обязательств\n",
            "62) Гарантийные обязательства обеспечиваются предоставлением независимой гарантии\n",
            "63) Гарантийные обязательства обеспечиваются предоставлением независимой гарантии, соответствующей требованиям статьи 45 Закона о контрактной системе\n",
            "64) Покупателем счет, на котором в соответствии с законодательством Российской Федерации учитываются операции со средствами\n",
            "65) Покупателем счет\n",
            "66) Способ обеспечения гарантийных обязательств, срок действия независимой гарантии определяются в соответствии с требованиями Закона о контрактной системе участником закупки, с которым заключается контракт\n",
            "67) Способ обеспечения гарантийных обязательств\n",
            "68) Способ обеспечения гарантийных обязательств, срок действия независимой гарантии определяются в соответствии с требованиями Закона о контрактной системе участником закупки\n",
            "Размер обеспечения гарантийных обязательств 1663.67 Российский рубль True\n"
          ]
        }
      ]
    },
    {
      "cell_type": "markdown",
      "source": [
        "Помотрим, как хорошо мы разделили предложения: для этого напишем функцию, которая будет считать процент вхождения таргета в разбиение. "
      ],
      "metadata": {
        "id": "fCFB3qgjABzU"
      }
    },
    {
      "cell_type": "code",
      "source": [
        "def division_check(df:pd.DataFrame):\n",
        "  counter = 0\n",
        "  try:\n",
        "    df.drop(columns=['not_found'], inplace=True)\n",
        "  except:\n",
        "    pass\n",
        "\n",
        "  for i in range(len(df)):\n",
        "    try:\n",
        "      if df.loc[i, 'target'] in splitter(df.loc[i, 'text']):\n",
        "        counter += 1\n",
        "      else:\n",
        "        df.loc[i, 'not_found'] = 0\n",
        "    except IndexError:\n",
        "      print(df.loc[i, 'text'])\n",
        "      print(i)\n",
        "  return counter / 1492, df[df['not_found']==0].reset_index(drop=True)  # 1492 - ненулевые значения в таргете"
      ],
      "metadata": {
        "id": "BvZOOJd3zQ4_"
      },
      "execution_count": 117,
      "outputs": []
    },
    {
      "cell_type": "code",
      "source": [
        "def split_df_texts_by_sentences(data_frame:pd.DataFrame):\n",
        "  for i in range(len(data_frame)-1):\n",
        "    splitted = splitter(data_frame.loc[i, 'text'])\n",
        "    data_frame.at[i, 'text'] = splitted\n",
        "  return data_frame\n"
      ],
      "metadata": {
        "id": "ZoyCJ-lybOvQ"
      },
      "execution_count": 118,
      "outputs": []
    },
    {
      "cell_type": "code",
      "source": [
        "precision, not_found = division_check(df)"
      ],
      "metadata": {
        "id": "tRyCtFKcE23g"
      },
      "execution_count": 119,
      "outputs": []
    },
    {
      "cell_type": "code",
      "source": [
        "precision"
      ],
      "metadata": {
        "colab": {
          "base_uri": "https://localhost:8080/"
        },
        "id": "RkHWiCMUaype",
        "outputId": "81592c08-7ec7-4965-c30a-7720019f4d31"
      },
      "execution_count": 120,
      "outputs": [
        {
          "output_type": "execute_result",
          "data": {
            "text/plain": [
              "0.631367292225201"
            ]
          },
          "metadata": {},
          "execution_count": 120
        }
      ]
    },
    {
      "cell_type": "code",
      "source": [
        "df_splitted = split_df_texts_by_sentences(df)"
      ],
      "metadata": {
        "id": "75dW3L-gbxYF"
      },
      "execution_count": 121,
      "outputs": []
    },
    {
      "cell_type": "code",
      "source": [
        "df_splitted.to_json('train_with_splitted_texts_extended.json')"
      ],
      "metadata": {
        "id": "jPsh0HgDef5H"
      },
      "execution_count": 122,
      "outputs": []
    },
    {
      "cell_type": "code",
      "source": [
        "not_found.head()"
      ],
      "metadata": {
        "colab": {
          "base_uri": "https://localhost:8080/",
          "height": 337
        },
        "id": "Xn-N1jlecP-n",
        "outputId": "683a44c8-43e2-4c4e-b85c-f4875617f7e8"
      },
      "execution_count": 123,
      "outputs": [
        {
          "output_type": "execute_result",
          "data": {
            "text/plain": [
              "          id                                               text  \\\n",
              "0  462513308  Приложение № 3 ГОСУДАРСТВЕННЫЙ КОНТРАКТ (ПРОЕК...   \n",
              "1  988172508  Идентификационный код закупки: 222637800390863...   \n",
              "2  359099757  Идентификационный код закупки: 223631102474263...   \n",
              "3  967226407  Идентификационный код закупки: 222633500240263...   \n",
              "4   19349887  Идентификационный код закупки: 222634000559063...   \n",
              "\n",
              "                              label  \\\n",
              "0  обеспечение исполнения контракта   \n",
              "1  обеспечение исполнения контракта   \n",
              "2  обеспечение исполнения контракта   \n",
              "3  обеспечение исполнения контракта   \n",
              "4  обеспечение исполнения контракта   \n",
              "\n",
              "                                              target  not_found  \n",
              "0  Размер обеспечения исполнения контракта устана...        0.0  \n",
              "1  Размер обеспечение исполнения контракта устана...        0.0  \n",
              "2  Размер обеспечение исполнения контракта устана...        0.0  \n",
              "3  Размер обеспечение исполнения контракта устана...        0.0  \n",
              "4  Размер обеспечение исполнения контракта устана...        0.0  "
            ],
            "text/html": [
              "\n",
              "  <div id=\"df-26159381-4f18-410b-bbd4-2ca1cf083208\">\n",
              "    <div class=\"colab-df-container\">\n",
              "      <div>\n",
              "<style scoped>\n",
              "    .dataframe tbody tr th:only-of-type {\n",
              "        vertical-align: middle;\n",
              "    }\n",
              "\n",
              "    .dataframe tbody tr th {\n",
              "        vertical-align: top;\n",
              "    }\n",
              "\n",
              "    .dataframe thead th {\n",
              "        text-align: right;\n",
              "    }\n",
              "</style>\n",
              "<table border=\"1\" class=\"dataframe\">\n",
              "  <thead>\n",
              "    <tr style=\"text-align: right;\">\n",
              "      <th></th>\n",
              "      <th>id</th>\n",
              "      <th>text</th>\n",
              "      <th>label</th>\n",
              "      <th>target</th>\n",
              "      <th>not_found</th>\n",
              "    </tr>\n",
              "  </thead>\n",
              "  <tbody>\n",
              "    <tr>\n",
              "      <th>0</th>\n",
              "      <td>462513308</td>\n",
              "      <td>Приложение № 3 ГОСУДАРСТВЕННЫЙ КОНТРАКТ (ПРОЕК...</td>\n",
              "      <td>обеспечение исполнения контракта</td>\n",
              "      <td>Размер обеспечения исполнения контракта устана...</td>\n",
              "      <td>0.0</td>\n",
              "    </tr>\n",
              "    <tr>\n",
              "      <th>1</th>\n",
              "      <td>988172508</td>\n",
              "      <td>Идентификационный код закупки: 222637800390863...</td>\n",
              "      <td>обеспечение исполнения контракта</td>\n",
              "      <td>Размер обеспечение исполнения контракта устана...</td>\n",
              "      <td>0.0</td>\n",
              "    </tr>\n",
              "    <tr>\n",
              "      <th>2</th>\n",
              "      <td>359099757</td>\n",
              "      <td>Идентификационный код закупки: 223631102474263...</td>\n",
              "      <td>обеспечение исполнения контракта</td>\n",
              "      <td>Размер обеспечение исполнения контракта устана...</td>\n",
              "      <td>0.0</td>\n",
              "    </tr>\n",
              "    <tr>\n",
              "      <th>3</th>\n",
              "      <td>967226407</td>\n",
              "      <td>Идентификационный код закупки: 222633500240263...</td>\n",
              "      <td>обеспечение исполнения контракта</td>\n",
              "      <td>Размер обеспечение исполнения контракта устана...</td>\n",
              "      <td>0.0</td>\n",
              "    </tr>\n",
              "    <tr>\n",
              "      <th>4</th>\n",
              "      <td>19349887</td>\n",
              "      <td>Идентификационный код закупки: 222634000559063...</td>\n",
              "      <td>обеспечение исполнения контракта</td>\n",
              "      <td>Размер обеспечение исполнения контракта устана...</td>\n",
              "      <td>0.0</td>\n",
              "    </tr>\n",
              "  </tbody>\n",
              "</table>\n",
              "</div>\n",
              "      <button class=\"colab-df-convert\" onclick=\"convertToInteractive('df-26159381-4f18-410b-bbd4-2ca1cf083208')\"\n",
              "              title=\"Convert this dataframe to an interactive table.\"\n",
              "              style=\"display:none;\">\n",
              "        \n",
              "  <svg xmlns=\"http://www.w3.org/2000/svg\" height=\"24px\"viewBox=\"0 0 24 24\"\n",
              "       width=\"24px\">\n",
              "    <path d=\"M0 0h24v24H0V0z\" fill=\"none\"/>\n",
              "    <path d=\"M18.56 5.44l.94 2.06.94-2.06 2.06-.94-2.06-.94-.94-2.06-.94 2.06-2.06.94zm-11 1L8.5 8.5l.94-2.06 2.06-.94-2.06-.94L8.5 2.5l-.94 2.06-2.06.94zm10 10l.94 2.06.94-2.06 2.06-.94-2.06-.94-.94-2.06-.94 2.06-2.06.94z\"/><path d=\"M17.41 7.96l-1.37-1.37c-.4-.4-.92-.59-1.43-.59-.52 0-1.04.2-1.43.59L10.3 9.45l-7.72 7.72c-.78.78-.78 2.05 0 2.83L4 21.41c.39.39.9.59 1.41.59.51 0 1.02-.2 1.41-.59l7.78-7.78 2.81-2.81c.8-.78.8-2.07 0-2.86zM5.41 20L4 18.59l7.72-7.72 1.47 1.35L5.41 20z\"/>\n",
              "  </svg>\n",
              "      </button>\n",
              "      \n",
              "  <style>\n",
              "    .colab-df-container {\n",
              "      display:flex;\n",
              "      flex-wrap:wrap;\n",
              "      gap: 12px;\n",
              "    }\n",
              "\n",
              "    .colab-df-convert {\n",
              "      background-color: #E8F0FE;\n",
              "      border: none;\n",
              "      border-radius: 50%;\n",
              "      cursor: pointer;\n",
              "      display: none;\n",
              "      fill: #1967D2;\n",
              "      height: 32px;\n",
              "      padding: 0 0 0 0;\n",
              "      width: 32px;\n",
              "    }\n",
              "\n",
              "    .colab-df-convert:hover {\n",
              "      background-color: #E2EBFA;\n",
              "      box-shadow: 0px 1px 2px rgba(60, 64, 67, 0.3), 0px 1px 3px 1px rgba(60, 64, 67, 0.15);\n",
              "      fill: #174EA6;\n",
              "    }\n",
              "\n",
              "    [theme=dark] .colab-df-convert {\n",
              "      background-color: #3B4455;\n",
              "      fill: #D2E3FC;\n",
              "    }\n",
              "\n",
              "    [theme=dark] .colab-df-convert:hover {\n",
              "      background-color: #434B5C;\n",
              "      box-shadow: 0px 1px 3px 1px rgba(0, 0, 0, 0.15);\n",
              "      filter: drop-shadow(0px 1px 2px rgba(0, 0, 0, 0.3));\n",
              "      fill: #FFFFFF;\n",
              "    }\n",
              "  </style>\n",
              "\n",
              "      <script>\n",
              "        const buttonEl =\n",
              "          document.querySelector('#df-26159381-4f18-410b-bbd4-2ca1cf083208 button.colab-df-convert');\n",
              "        buttonEl.style.display =\n",
              "          google.colab.kernel.accessAllowed ? 'block' : 'none';\n",
              "\n",
              "        async function convertToInteractive(key) {\n",
              "          const element = document.querySelector('#df-26159381-4f18-410b-bbd4-2ca1cf083208');\n",
              "          const dataTable =\n",
              "            await google.colab.kernel.invokeFunction('convertToInteractive',\n",
              "                                                     [key], {});\n",
              "          if (!dataTable) return;\n",
              "\n",
              "          const docLinkHtml = 'Like what you see? Visit the ' +\n",
              "            '<a target=\"_blank\" href=https://colab.research.google.com/notebooks/data_table.ipynb>data table notebook</a>'\n",
              "            + ' to learn more about interactive tables.';\n",
              "          element.innerHTML = '';\n",
              "          dataTable['output_type'] = 'display_data';\n",
              "          await google.colab.output.renderOutput(dataTable, element);\n",
              "          const docLink = document.createElement('div');\n",
              "          docLink.innerHTML = docLinkHtml;\n",
              "          element.appendChild(docLink);\n",
              "        }\n",
              "      </script>\n",
              "    </div>\n",
              "  </div>\n",
              "  "
            ]
          },
          "metadata": {},
          "execution_count": 123
        }
      ]
    },
    {
      "cell_type": "code",
      "source": [
        "random_str = randint(0, len(not_found)-1)\n",
        "not_found_split = splitter(not_found.loc[random_str, 'text'])\n",
        "for i in not_found_split:\n",
        "  print(i)\n",
        "print('target:')\n",
        "not_found.loc[random_str, 'target'] "
      ],
      "metadata": {
        "colab": {
          "base_uri": "https://localhost:8080/"
        },
        "id": "OuL0n6CZWD5q",
        "outputId": "3bbaa81b-3a18-40ef-a728-2713430418df"
      },
      "execution_count": 124,
      "outputs": [
        {
          "output_type": "stream",
          "name": "stdout",
          "text": [
            "УТВЕРЖДАЮ\n",
            "Генеральный директор АО «АТА» ________ А.В.\n",
            "Балебанов «___» ________ 2022 года ЗАКУПОЧНАЯ ДОКУМЕНТАЦИЯ\n",
            "Открытый одноэтапный конкурс в электронной форме без предварительного квалификационного отбора на поставку автомобильного топлива по пластиковым картам для АО «АТА» г.\n",
            "Москва том 1 «общая и коммерческая части» СОГЛАСОВАНО:\n",
            "Начальник отдела закупок _________________ С.Г.\n",
            "Гаврилов 2021\n",
            "Нагатинская улица, д.4а, Москва, 115230\n",
            "Тел.: (495) 645-82-77, (495) 645-82-66\n",
            "Факс: (499) 611-30-20,\n",
            "E-mail: info@oaoata.ru ОГРН 1057749068002, ИНН/КПП 7724560930/772401001 СОДЕРЖАНИЕ ЗАКУПОЧНАЯ ДОКУМЕНТАЦИЯ 1 СОДЕРЖАНИЕ\n",
            "1. ИЗВЕЩЕНИЕ\n",
            "О ПРОВЕДЕНИИ ЗАКУПКИ 3 ЧАСТЬ 1\n",
            "2. ТРЕБОВАНИЯ.\n",
            "ДОКУМЕНТЫ. СОСТАВ ЗАЯВКИ НА УЧАСТИЕ\n",
            "В ЗАКУПКЕ.\n",
            "2.1. ТРЕБОВАНИЯ.\n",
            "ДОКУМЕНТЫ, ПОДТВЕРЖДАЮЩИЕ СООТВЕТСТВИЕ УСТАНОВЛЕННЫМ ТРЕБОВАНИЯМ.\n",
            "2.1.1.\n",
            "Требования к участникам закупки\n",
            "2.1.2.\n",
            "Требования к продукции\n",
            "2.1.3.\n",
            "Требования к банкам-гарантам, предоставляющим обеспечение заявки\n",
            "1.1. СОСТАВ ЗАЯВКИ НА УЧАСТИЕ\n",
            "В ЗА ЧАСТЬ 3 Проект договора, который будет заключен по результатам закупки, приведен в\n",
            "Тома 1 в виде отдельного файла в формате\n",
            "Нагатинская улица, д.4а\n",
            "Нагатинская улица, д.4а, Москва\n",
            "Нагатинская улица\n",
            "Требования к банкам-гарантам\n",
            "Требования к банкам\n",
            "В ЗА ЧАСТЬ 3 Проект договора\n",
            "В ЗА ЧАСТЬ 3 Проект договора, который будет заключен по результатам закупки\n",
            "target:\n"
          ]
        }
      ]
    },
    {
      "cell_type": "markdown",
      "source": [
        "создадим файл utils.py, куда запишем фукнции сплита и подсчёта accuracy. далее будем пробовать различные модели"
      ],
      "metadata": {
        "id": "oKXKS6OVGV1c"
      }
    },
    {
      "cell_type": "code",
      "source": [],
      "metadata": {
        "id": "n3JbeotkXCjJ"
      },
      "execution_count": 95,
      "outputs": []
    }
  ]
}
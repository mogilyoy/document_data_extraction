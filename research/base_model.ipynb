{
  "nbformat": 4,
  "nbformat_minor": 0,
  "metadata": {
    "colab": {
      "provenance": [],
      "collapsed_sections": [
        "96rPT-tT8xMh",
        "CNBqFIznV0p4",
        "o2E6NfarrGFC"
      ]
    },
    "kernelspec": {
      "name": "python3",
      "display_name": "Python 3"
    },
    "language_info": {
      "name": "python"
    }
  },
  "cells": [
    {
      "cell_type": "markdown",
      "source": [
        "### Установки "
      ],
      "metadata": {
        "id": "96rPT-tT8xMh"
      }
    },
    {
      "cell_type": "code",
      "source": [
        "!pip install navec"
      ],
      "metadata": {
        "colab": {
          "base_uri": "https://localhost:8080/"
        },
        "id": "Fk7i3mBy8zq0",
        "outputId": "129b90d8-d58f-4a29-b032-0c26f8b2c3c1"
      },
      "execution_count": 90,
      "outputs": [
        {
          "output_type": "stream",
          "name": "stdout",
          "text": [
            "Looking in indexes: https://pypi.org/simple, https://us-python.pkg.dev/colab-wheels/public/simple/\n",
            "Collecting navec\n",
            "  Downloading navec-0.10.0-py3-none-any.whl (23 kB)\n",
            "Requirement already satisfied: numpy in /usr/local/lib/python3.9/dist-packages (from navec) (1.22.4)\n",
            "Installing collected packages: navec\n",
            "Successfully installed navec-0.10.0\n"
          ]
        }
      ]
    },
    {
      "cell_type": "code",
      "source": [
        "!wget https://storage.yandexcloud.net/natasha-navec/packs/navec_hudlit_v1_12B_500K_300d_100q.tar"
      ],
      "metadata": {
        "colab": {
          "base_uri": "https://localhost:8080/"
        },
        "id": "3NwDCTmQ87UX",
        "outputId": "8166029d-9d1a-4f80-e528-14868feb7ea5"
      },
      "execution_count": 91,
      "outputs": [
        {
          "output_type": "stream",
          "name": "stdout",
          "text": [
            "--2023-04-15 17:26:08--  https://storage.yandexcloud.net/natasha-navec/packs/navec_hudlit_v1_12B_500K_300d_100q.tar\n",
            "Resolving storage.yandexcloud.net (storage.yandexcloud.net)... 213.180.193.243, 2a02:6b8::1d9\n",
            "Connecting to storage.yandexcloud.net (storage.yandexcloud.net)|213.180.193.243|:443... connected.\n",
            "HTTP request sent, awaiting response... 200 OK\n",
            "Length: 53012480 (51M) [application/x-tar]\n",
            "Saving to: ‘navec_hudlit_v1_12B_500K_300d_100q.tar’\n",
            "\n",
            "navec_hudlit_v1_12B 100%[===================>]  50.56M  16.5MB/s    in 3.1s    \n",
            "\n",
            "2023-04-15 17:26:12 (16.5 MB/s) - ‘navec_hudlit_v1_12B_500K_300d_100q.tar’ saved [53012480/53012480]\n",
            "\n"
          ]
        }
      ]
    },
    {
      "cell_type": "markdown",
      "source": [
        "### Импорты"
      ],
      "metadata": {
        "id": "aY1xbO71Vxl0"
      }
    },
    {
      "cell_type": "code",
      "execution_count": 204,
      "metadata": {
        "id": "X-Q-arqN4aCU"
      },
      "outputs": [],
      "source": [
        "from sklearn.metrics import ConfusionMatrixDisplay, confusion_matrix, f1_score, roc_auc_score, classification_report, make_scorer, accuracy_score\n",
        "from sklearn.model_selection import train_test_split, GridSearchCV\n",
        "from sklearn.ensemble import RandomForestClassifier\n",
        "from xgboost import XGBClassifier\n",
        "import matplotlib.pyplot as plt\n",
        "from navec import Navec\n",
        "import seaborn as sns\n",
        "import pandas as pd\n",
        "import numpy as np\n",
        "import pickle\n"
      ]
    },
    {
      "cell_type": "code",
      "source": [
        "path = '/content/navec_hudlit_v1_12B_500K_300d_100q.tar'\n",
        "navec = Navec.load(path)"
      ],
      "metadata": {
        "id": "RvvQO0rn9k3K"
      },
      "execution_count": 95,
      "outputs": []
    },
    {
      "cell_type": "markdown",
      "source": [
        "### Описание задачи"
      ],
      "metadata": {
        "id": "CNBqFIznV0p4"
      }
    },
    {
      "cell_type": "markdown",
      "source": [
        "Задачу information extraction можно представить как задачу классификации для фрагментов текста. В нашем случае мы можем выбирать наиболее подходящее предложение из текста. \n",
        "\n",
        "Для этого необходимо простроить две модели под каждый label (обеспечение гарантийных обязательств и обеспечение исполнения контракта)\n",
        "\n",
        "\n",
        "В исходных данных в data preprocessing я увидел очевидный дисбаланс в классификации. Для \"обеспечения гарантийных обязательств\" доля ответов где мы не могли выбрать подходящее предложение составляла прктически 38%, когда для \"обепечения исполнения контракта\" таких случаев было всего 4 из 1000.\n",
        "\n",
        "Поэтому для построения модели \"обеспечения гарантийных обязательств\" мы введём пороговое значение, выше которого наше предложение будет относиться к выбранному классу, а ниже нет. Такой коэффициент нужно будет подбирать для каждой модели. "
      ],
      "metadata": {
        "id": "EqwqNYh5UhGJ"
      }
    },
    {
      "cell_type": "markdown",
      "source": [
        "![изображение.png](data:image/png;base64,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)"
      ],
      "metadata": {
        "id": "YcfS4IdVhxpU"
      }
    },
    {
      "cell_type": "markdown",
      "source": [
        "Решение в даном модуле основано на статье: https://telegra.ph/Pajplajn-dlya-sozdaniya-klassifikacii-tekstovoj-informacii-04-13\n",
        "которая во многом помогла разобраться в задаче классификации текстовой информации. "
      ],
      "metadata": {
        "id": "ytI1JhggV3Ln"
      }
    },
    {
      "cell_type": "markdown",
      "source": [
        "### Подготовка датасета"
      ],
      "metadata": {
        "id": "o2E6NfarrGFC"
      }
    },
    {
      "cell_type": "code",
      "source": [
        "with open('/content/contract_enforcement_lemmatized.pkl', 'rb') as fp:\n",
        "  contract_enforcement = pickle.load(fp)"
      ],
      "metadata": {
        "id": "984N1mHqrLH2"
      },
      "execution_count": 146,
      "outputs": []
    },
    {
      "cell_type": "code",
      "source": [
        "with open('/content/garantee_enforcement_lemmatized.pkl', 'rb') as fp:\n",
        "  garantee_enforcement = pickle.load(fp)"
      ],
      "metadata": {
        "id": "MNaZKRkOqwHT"
      },
      "execution_count": 147,
      "outputs": []
    },
    {
      "cell_type": "code",
      "source": [
        "with open('/content/nonetype_lemmatized.pkl', 'rb') as fp:\n",
        "  nonetype = pickle.load(fp)"
      ],
      "metadata": {
        "id": "urhp2BHIq_x4"
      },
      "execution_count": 148,
      "outputs": []
    },
    {
      "cell_type": "code",
      "source": [
        "def make_dataset(sample_list , target=None):\n",
        "  dataframe = pd.DataFrame({'text': ['']})\n",
        "  for i, sentence in enumerate(sample_list):\n",
        "    dataframe.at[i, 'text'] = sentence\n",
        "  \n",
        "  if target is not None:\n",
        "    dataframe.loc[:, 'target'] = target\n",
        "  \n",
        "  return dataframe"
      ],
      "metadata": {
        "id": "fR5PCnukrU5g"
      },
      "execution_count": 149,
      "outputs": []
    },
    {
      "cell_type": "code",
      "source": [
        "contract_enforcement = make_dataset(contract_enforcement, target=1)\n",
        "len(contract_enforcement)"
      ],
      "metadata": {
        "colab": {
          "base_uri": "https://localhost:8080/"
        },
        "id": "YOFimWx-usVb",
        "outputId": "0ca16a68-0a4d-40ec-c922-704d5a8f0d0e"
      },
      "execution_count": 150,
      "outputs": [
        {
          "output_type": "execute_result",
          "data": {
            "text/plain": [
              "984"
            ]
          },
          "metadata": {},
          "execution_count": 150
        }
      ]
    },
    {
      "cell_type": "code",
      "source": [
        "garantee_enforcement = make_dataset(garantee_enforcement, target=1)\n",
        "len(garantee_enforcement)"
      ],
      "metadata": {
        "colab": {
          "base_uri": "https://localhost:8080/"
        },
        "id": "84nznpubvVnd",
        "outputId": "1439b268-7d73-44c7-ba47-4278b0dade62"
      },
      "execution_count": 151,
      "outputs": [
        {
          "output_type": "execute_result",
          "data": {
            "text/plain": [
              "508"
            ]
          },
          "metadata": {},
          "execution_count": 151
        }
      ]
    },
    {
      "cell_type": "code",
      "source": [
        "nonetype_1000 = np.random.choice(nonetype, 1000, replace=False)\n",
        "nonetype_1000 = make_dataset(nonetype_1000, target=0)\n",
        "len(nonetype_1000)"
      ],
      "metadata": {
        "colab": {
          "base_uri": "https://localhost:8080/"
        },
        "id": "2XDG1uCLvcKB",
        "outputId": "3c579b71-d70e-4097-daf4-1a0aa357dcc7"
      },
      "execution_count": 152,
      "outputs": [
        {
          "output_type": "stream",
          "name": "stderr",
          "text": [
            "<ipython-input-152-5c3a97c41ac2>:1: VisibleDeprecationWarning: Creating an ndarray from ragged nested sequences (which is a list-or-tuple of lists-or-tuples-or ndarrays with different lengths or shapes) is deprecated. If you meant to do this, you must specify 'dtype=object' when creating the ndarray.\n",
            "  nonetype_1000 = np.random.choice(nonetype, 1000, replace=False)\n"
          ]
        },
        {
          "output_type": "execute_result",
          "data": {
            "text/plain": [
              "1000"
            ]
          },
          "metadata": {},
          "execution_count": 152
        }
      ]
    },
    {
      "cell_type": "code",
      "source": [
        "contract_enforcement = pd.concat([contract_enforcement, nonetype_1000], axis=0)\n",
        "contract_enforcement.sample(frac=1)\n",
        "contract_enforcement.reset_index(drop=True, inplace=True)"
      ],
      "metadata": {
        "id": "i_CeeyGVvpM3"
      },
      "execution_count": 153,
      "outputs": []
    },
    {
      "cell_type": "code",
      "source": [
        "garantee_enforcement = pd.concat([garantee_enforcement, nonetype_1000], axis=0)\n",
        "garantee_enforcement.sample(frac=1)\n",
        "garantee_enforcement.reset_index(drop=True, inplace=True)\n"
      ],
      "metadata": {
        "id": "-FnWrWECyVQZ"
      },
      "execution_count": 154,
      "outputs": []
    },
    {
      "cell_type": "markdown",
      "source": [
        "### Построение модели для \"обеспечение исполнения контракта\""
      ],
      "metadata": {
        "id": "ZB65Zyc9WEyd"
      }
    },
    {
      "cell_type": "markdown",
      "source": [
        "так как в data preprocessing мы уже разделили тексты в датасете на предложения и из них простроили списки лемм в них, можем использовать готовый датасет train_lemmatized для векторизации. "
      ],
      "metadata": {
        "id": "f50Dc3ioWMkR"
      }
    },
    {
      "cell_type": "code",
      "source": [
        "def search_best_estimator(model, param_grid, x, y):\n",
        "    gs = GridSearchCV(\n",
        "        estimator=model,\n",
        "        param_grid=param_grid,\n",
        "        scoring='f1_weighted',\n",
        "        cv=3,\n",
        "        n_jobs=-1,\n",
        "        verbose=5\n",
        "    )\n",
        "    _ = gs.fit(x, y)\n",
        "    return gs.best_estimator_"
      ],
      "metadata": {
        "id": "vaYk2r3JzqKc"
      },
      "execution_count": 203,
      "outputs": []
    },
    {
      "cell_type": "code",
      "source": [
        "def plot_confusion_matrix(y_test, y_preds, model):\n",
        "    fig, ax = plt.subplots(figsize=(10,8))\n",
        "    cm = confusion_matrix(y_test, y_preds)\n",
        "    cmp = ConfusionMatrixDisplay(cm, display_labels = model.classes_ )\n",
        "    cmp.plot(ax=ax)\n",
        "    plt.show()"
      ],
      "metadata": {
        "id": "TWkxK1Mh0JCg"
      },
      "execution_count": 184,
      "outputs": []
    },
    {
      "cell_type": "markdown",
      "source": [
        "Векторизуем слова с помощью word2vec используя navec_hudlit_v1_12B_500K_300d_100q.tar из https://github.com/natasha/navec?ysclid=lgi8rvqlyo416346758 и в качестве векторов предложений возьмём средние значения word2vec"
      ],
      "metadata": {
        "id": "XnzKgEIs8dJJ"
      }
    },
    {
      "cell_type": "code",
      "source": [
        "def get_word_vectors_from_dataframe(dataframe):\n",
        "  df = []\n",
        "  for i in range(len(dataframe)):\n",
        "    sentence = []\n",
        "    for j in range(len(dataframe.loc[i, 'text'])):\n",
        "      try:\n",
        "        word_embending = navec[dataframe.loc[i, 'text'][j]].mean()\n",
        "        sentence.append(word_embending)\n",
        "      except:\n",
        "        sentence.append(0)\n",
        "    df.append(sentence)\n",
        "  df = pd.DataFrame(df, dtype='float64')\n",
        "  df['target'] = dataframe['target']\n",
        "  df.fillna(0, inplace=True)\n",
        "  return df\n",
        "    "
      ],
      "metadata": {
        "id": "d0HljS0bArZe"
      },
      "execution_count": 167,
      "outputs": []
    },
    {
      "cell_type": "code",
      "source": [
        "contract_enforcement_vectorized = get_word_vectors_from_dataframe(contract_enforcement)\n",
        "contract_enforcement_vectorized.sample(5)"
      ],
      "metadata": {
        "colab": {
          "base_uri": "https://localhost:8080/",
          "height": 299
        },
        "id": "gC9EPcUqCiyj",
        "outputId": "d9ed3edf-8d15-4544-e4d4-6ee3537472a5"
      },
      "execution_count": 170,
      "outputs": [
        {
          "output_type": "execute_result",
          "data": {
            "text/plain": [
              "             0         1         2         3         4         5         6  \\\n",
              "1432  0.022990  0.000000 -0.020264  0.016136  0.000000  0.009375 -0.008458   \n",
              "298  -0.026603 -0.021342  0.010874 -0.006596 -0.028724  0.019443  0.006672   \n",
              "74   -0.026603 -0.021342  0.010874 -0.006596 -0.028724  0.019443  0.006672   \n",
              "1922  0.004908  0.002177  0.002012  0.021475  0.014275  0.000000  0.013794   \n",
              "1930  0.006776 -0.001345  0.000000  0.000000  0.000000  0.000000  0.000000   \n",
              "\n",
              "             7         8        9  ...   49   50   51   52   53   54   55  \\\n",
              "1432  0.028163  0.010537  0.00520  ...  0.0  0.0  0.0  0.0  0.0  0.0  0.0   \n",
              "298  -0.015306 -0.006596  0.00000  ...  0.0  0.0  0.0  0.0  0.0  0.0  0.0   \n",
              "74   -0.015306 -0.006596  0.00000  ...  0.0  0.0  0.0  0.0  0.0  0.0  0.0   \n",
              "1922 -0.010312  0.000000  0.01444  ...  0.0  0.0  0.0  0.0  0.0  0.0  0.0   \n",
              "1930  0.000000  0.000000  0.00000  ...  0.0  0.0  0.0  0.0  0.0  0.0  0.0   \n",
              "\n",
              "       56   57  target  \n",
              "1432  0.0  0.0       0  \n",
              "298   0.0  0.0       1  \n",
              "74    0.0  0.0       1  \n",
              "1922  0.0  0.0       0  \n",
              "1930  0.0  0.0       0  \n",
              "\n",
              "[5 rows x 59 columns]"
            ],
            "text/html": [
              "\n",
              "  <div id=\"df-a7e5b7ec-215d-4cae-8d41-b26504776632\">\n",
              "    <div class=\"colab-df-container\">\n",
              "      <div>\n",
              "<style scoped>\n",
              "    .dataframe tbody tr th:only-of-type {\n",
              "        vertical-align: middle;\n",
              "    }\n",
              "\n",
              "    .dataframe tbody tr th {\n",
              "        vertical-align: top;\n",
              "    }\n",
              "\n",
              "    .dataframe thead th {\n",
              "        text-align: right;\n",
              "    }\n",
              "</style>\n",
              "<table border=\"1\" class=\"dataframe\">\n",
              "  <thead>\n",
              "    <tr style=\"text-align: right;\">\n",
              "      <th></th>\n",
              "      <th>0</th>\n",
              "      <th>1</th>\n",
              "      <th>2</th>\n",
              "      <th>3</th>\n",
              "      <th>4</th>\n",
              "      <th>5</th>\n",
              "      <th>6</th>\n",
              "      <th>7</th>\n",
              "      <th>8</th>\n",
              "      <th>9</th>\n",
              "      <th>...</th>\n",
              "      <th>49</th>\n",
              "      <th>50</th>\n",
              "      <th>51</th>\n",
              "      <th>52</th>\n",
              "      <th>53</th>\n",
              "      <th>54</th>\n",
              "      <th>55</th>\n",
              "      <th>56</th>\n",
              "      <th>57</th>\n",
              "      <th>target</th>\n",
              "    </tr>\n",
              "  </thead>\n",
              "  <tbody>\n",
              "    <tr>\n",
              "      <th>1432</th>\n",
              "      <td>0.022990</td>\n",
              "      <td>0.000000</td>\n",
              "      <td>-0.020264</td>\n",
              "      <td>0.016136</td>\n",
              "      <td>0.000000</td>\n",
              "      <td>0.009375</td>\n",
              "      <td>-0.008458</td>\n",
              "      <td>0.028163</td>\n",
              "      <td>0.010537</td>\n",
              "      <td>0.00520</td>\n",
              "      <td>...</td>\n",
              "      <td>0.0</td>\n",
              "      <td>0.0</td>\n",
              "      <td>0.0</td>\n",
              "      <td>0.0</td>\n",
              "      <td>0.0</td>\n",
              "      <td>0.0</td>\n",
              "      <td>0.0</td>\n",
              "      <td>0.0</td>\n",
              "      <td>0.0</td>\n",
              "      <td>0</td>\n",
              "    </tr>\n",
              "    <tr>\n",
              "      <th>298</th>\n",
              "      <td>-0.026603</td>\n",
              "      <td>-0.021342</td>\n",
              "      <td>0.010874</td>\n",
              "      <td>-0.006596</td>\n",
              "      <td>-0.028724</td>\n",
              "      <td>0.019443</td>\n",
              "      <td>0.006672</td>\n",
              "      <td>-0.015306</td>\n",
              "      <td>-0.006596</td>\n",
              "      <td>0.00000</td>\n",
              "      <td>...</td>\n",
              "      <td>0.0</td>\n",
              "      <td>0.0</td>\n",
              "      <td>0.0</td>\n",
              "      <td>0.0</td>\n",
              "      <td>0.0</td>\n",
              "      <td>0.0</td>\n",
              "      <td>0.0</td>\n",
              "      <td>0.0</td>\n",
              "      <td>0.0</td>\n",
              "      <td>1</td>\n",
              "    </tr>\n",
              "    <tr>\n",
              "      <th>74</th>\n",
              "      <td>-0.026603</td>\n",
              "      <td>-0.021342</td>\n",
              "      <td>0.010874</td>\n",
              "      <td>-0.006596</td>\n",
              "      <td>-0.028724</td>\n",
              "      <td>0.019443</td>\n",
              "      <td>0.006672</td>\n",
              "      <td>-0.015306</td>\n",
              "      <td>-0.006596</td>\n",
              "      <td>0.00000</td>\n",
              "      <td>...</td>\n",
              "      <td>0.0</td>\n",
              "      <td>0.0</td>\n",
              "      <td>0.0</td>\n",
              "      <td>0.0</td>\n",
              "      <td>0.0</td>\n",
              "      <td>0.0</td>\n",
              "      <td>0.0</td>\n",
              "      <td>0.0</td>\n",
              "      <td>0.0</td>\n",
              "      <td>1</td>\n",
              "    </tr>\n",
              "    <tr>\n",
              "      <th>1922</th>\n",
              "      <td>0.004908</td>\n",
              "      <td>0.002177</td>\n",
              "      <td>0.002012</td>\n",
              "      <td>0.021475</td>\n",
              "      <td>0.014275</td>\n",
              "      <td>0.000000</td>\n",
              "      <td>0.013794</td>\n",
              "      <td>-0.010312</td>\n",
              "      <td>0.000000</td>\n",
              "      <td>0.01444</td>\n",
              "      <td>...</td>\n",
              "      <td>0.0</td>\n",
              "      <td>0.0</td>\n",
              "      <td>0.0</td>\n",
              "      <td>0.0</td>\n",
              "      <td>0.0</td>\n",
              "      <td>0.0</td>\n",
              "      <td>0.0</td>\n",
              "      <td>0.0</td>\n",
              "      <td>0.0</td>\n",
              "      <td>0</td>\n",
              "    </tr>\n",
              "    <tr>\n",
              "      <th>1930</th>\n",
              "      <td>0.006776</td>\n",
              "      <td>-0.001345</td>\n",
              "      <td>0.000000</td>\n",
              "      <td>0.000000</td>\n",
              "      <td>0.000000</td>\n",
              "      <td>0.000000</td>\n",
              "      <td>0.000000</td>\n",
              "      <td>0.000000</td>\n",
              "      <td>0.000000</td>\n",
              "      <td>0.00000</td>\n",
              "      <td>...</td>\n",
              "      <td>0.0</td>\n",
              "      <td>0.0</td>\n",
              "      <td>0.0</td>\n",
              "      <td>0.0</td>\n",
              "      <td>0.0</td>\n",
              "      <td>0.0</td>\n",
              "      <td>0.0</td>\n",
              "      <td>0.0</td>\n",
              "      <td>0.0</td>\n",
              "      <td>0</td>\n",
              "    </tr>\n",
              "  </tbody>\n",
              "</table>\n",
              "<p>5 rows × 59 columns</p>\n",
              "</div>\n",
              "      <button class=\"colab-df-convert\" onclick=\"convertToInteractive('df-a7e5b7ec-215d-4cae-8d41-b26504776632')\"\n",
              "              title=\"Convert this dataframe to an interactive table.\"\n",
              "              style=\"display:none;\">\n",
              "        \n",
              "  <svg xmlns=\"http://www.w3.org/2000/svg\" height=\"24px\"viewBox=\"0 0 24 24\"\n",
              "       width=\"24px\">\n",
              "    <path d=\"M0 0h24v24H0V0z\" fill=\"none\"/>\n",
              "    <path d=\"M18.56 5.44l.94 2.06.94-2.06 2.06-.94-2.06-.94-.94-2.06-.94 2.06-2.06.94zm-11 1L8.5 8.5l.94-2.06 2.06-.94-2.06-.94L8.5 2.5l-.94 2.06-2.06.94zm10 10l.94 2.06.94-2.06 2.06-.94-2.06-.94-.94-2.06-.94 2.06-2.06.94z\"/><path d=\"M17.41 7.96l-1.37-1.37c-.4-.4-.92-.59-1.43-.59-.52 0-1.04.2-1.43.59L10.3 9.45l-7.72 7.72c-.78.78-.78 2.05 0 2.83L4 21.41c.39.39.9.59 1.41.59.51 0 1.02-.2 1.41-.59l7.78-7.78 2.81-2.81c.8-.78.8-2.07 0-2.86zM5.41 20L4 18.59l7.72-7.72 1.47 1.35L5.41 20z\"/>\n",
              "  </svg>\n",
              "      </button>\n",
              "      \n",
              "  <style>\n",
              "    .colab-df-container {\n",
              "      display:flex;\n",
              "      flex-wrap:wrap;\n",
              "      gap: 12px;\n",
              "    }\n",
              "\n",
              "    .colab-df-convert {\n",
              "      background-color: #E8F0FE;\n",
              "      border: none;\n",
              "      border-radius: 50%;\n",
              "      cursor: pointer;\n",
              "      display: none;\n",
              "      fill: #1967D2;\n",
              "      height: 32px;\n",
              "      padding: 0 0 0 0;\n",
              "      width: 32px;\n",
              "    }\n",
              "\n",
              "    .colab-df-convert:hover {\n",
              "      background-color: #E2EBFA;\n",
              "      box-shadow: 0px 1px 2px rgba(60, 64, 67, 0.3), 0px 1px 3px 1px rgba(60, 64, 67, 0.15);\n",
              "      fill: #174EA6;\n",
              "    }\n",
              "\n",
              "    [theme=dark] .colab-df-convert {\n",
              "      background-color: #3B4455;\n",
              "      fill: #D2E3FC;\n",
              "    }\n",
              "\n",
              "    [theme=dark] .colab-df-convert:hover {\n",
              "      background-color: #434B5C;\n",
              "      box-shadow: 0px 1px 3px 1px rgba(0, 0, 0, 0.15);\n",
              "      filter: drop-shadow(0px 1px 2px rgba(0, 0, 0, 0.3));\n",
              "      fill: #FFFFFF;\n",
              "    }\n",
              "  </style>\n",
              "\n",
              "      <script>\n",
              "        const buttonEl =\n",
              "          document.querySelector('#df-a7e5b7ec-215d-4cae-8d41-b26504776632 button.colab-df-convert');\n",
              "        buttonEl.style.display =\n",
              "          google.colab.kernel.accessAllowed ? 'block' : 'none';\n",
              "\n",
              "        async function convertToInteractive(key) {\n",
              "          const element = document.querySelector('#df-a7e5b7ec-215d-4cae-8d41-b26504776632');\n",
              "          const dataTable =\n",
              "            await google.colab.kernel.invokeFunction('convertToInteractive',\n",
              "                                                     [key], {});\n",
              "          if (!dataTable) return;\n",
              "\n",
              "          const docLinkHtml = 'Like what you see? Visit the ' +\n",
              "            '<a target=\"_blank\" href=https://colab.research.google.com/notebooks/data_table.ipynb>data table notebook</a>'\n",
              "            + ' to learn more about interactive tables.';\n",
              "          element.innerHTML = '';\n",
              "          dataTable['output_type'] = 'display_data';\n",
              "          await google.colab.output.renderOutput(dataTable, element);\n",
              "          const docLink = document.createElement('div');\n",
              "          docLink.innerHTML = docLinkHtml;\n",
              "          element.appendChild(docLink);\n",
              "        }\n",
              "      </script>\n",
              "    </div>\n",
              "  </div>\n",
              "  "
            ]
          },
          "metadata": {},
          "execution_count": 170
        }
      ]
    },
    {
      "cell_type": "code",
      "source": [
        "x, y = contract_enforcement_vectorized.drop(columns=['target']), contract_enforcement_vectorized['target'].values\n",
        "\n",
        "model = RandomForestClassifier()\n",
        "\n",
        "param_grid = {\n",
        "\"n_estimators\": [i for i in range(400, 1000,50)],\n",
        "\"max_depth\": [i for i in range(25, 101,25)],\n",
        "\"min_samples_split\":[i for i in range(3,10,2)],\n",
        "\"min_samples_leaf\": [2 ,3],\n",
        "}\n",
        "estimator = search_best_estimator(model, param_grid, x, y)"
      ],
      "metadata": {
        "id": "MhFGvvZpCuUo"
      },
      "execution_count": 189,
      "outputs": []
    },
    {
      "cell_type": "code",
      "source": [
        "x.head()"
      ],
      "metadata": {
        "colab": {
          "base_uri": "https://localhost:8080/",
          "height": 299
        },
        "id": "etaw7R3sO6tY",
        "outputId": "082f7980-4402-46ea-ece0-c55450a5470a"
      },
      "execution_count": 196,
      "outputs": [
        {
          "output_type": "execute_result",
          "data": {
            "text/plain": [
              "         0         1         2         3         4         5         6   \\\n",
              "0 -0.026603 -0.021342  0.010874 -0.006596 -0.005421  0.004189  0.000000   \n",
              "1 -0.027181  0.003750  0.000385 -0.021342  0.010874 -0.006596 -0.026603   \n",
              "2 -0.026603 -0.021342  0.010874 -0.006596  0.000000  0.000000  0.000000   \n",
              "3 -0.026603 -0.021342  0.010874 -0.006596  0.000000  0.000000  0.000000   \n",
              "4 -0.026603 -0.021342  0.010874 -0.006596  0.000000  0.000000  0.000000   \n",
              "\n",
              "         7         8    9   ...   48   49   50   51   52   53   54   55   56  \\\n",
              "0  0.000000  0.000000  0.0  ...  0.0  0.0  0.0  0.0  0.0  0.0  0.0  0.0  0.0   \n",
              "1 -0.015306 -0.006596  0.0  ...  0.0  0.0  0.0  0.0  0.0  0.0  0.0  0.0  0.0   \n",
              "2  0.000000  0.000000  0.0  ...  0.0  0.0  0.0  0.0  0.0  0.0  0.0  0.0  0.0   \n",
              "3  0.000000  0.000000  0.0  ...  0.0  0.0  0.0  0.0  0.0  0.0  0.0  0.0  0.0   \n",
              "4  0.000000  0.000000  0.0  ...  0.0  0.0  0.0  0.0  0.0  0.0  0.0  0.0  0.0   \n",
              "\n",
              "    57  \n",
              "0  0.0  \n",
              "1  0.0  \n",
              "2  0.0  \n",
              "3  0.0  \n",
              "4  0.0  \n",
              "\n",
              "[5 rows x 58 columns]"
            ],
            "text/html": [
              "\n",
              "  <div id=\"df-a7a65df9-1c99-4cde-8991-8fc9ff681a46\">\n",
              "    <div class=\"colab-df-container\">\n",
              "      <div>\n",
              "<style scoped>\n",
              "    .dataframe tbody tr th:only-of-type {\n",
              "        vertical-align: middle;\n",
              "    }\n",
              "\n",
              "    .dataframe tbody tr th {\n",
              "        vertical-align: top;\n",
              "    }\n",
              "\n",
              "    .dataframe thead th {\n",
              "        text-align: right;\n",
              "    }\n",
              "</style>\n",
              "<table border=\"1\" class=\"dataframe\">\n",
              "  <thead>\n",
              "    <tr style=\"text-align: right;\">\n",
              "      <th></th>\n",
              "      <th>0</th>\n",
              "      <th>1</th>\n",
              "      <th>2</th>\n",
              "      <th>3</th>\n",
              "      <th>4</th>\n",
              "      <th>5</th>\n",
              "      <th>6</th>\n",
              "      <th>7</th>\n",
              "      <th>8</th>\n",
              "      <th>9</th>\n",
              "      <th>...</th>\n",
              "      <th>48</th>\n",
              "      <th>49</th>\n",
              "      <th>50</th>\n",
              "      <th>51</th>\n",
              "      <th>52</th>\n",
              "      <th>53</th>\n",
              "      <th>54</th>\n",
              "      <th>55</th>\n",
              "      <th>56</th>\n",
              "      <th>57</th>\n",
              "    </tr>\n",
              "  </thead>\n",
              "  <tbody>\n",
              "    <tr>\n",
              "      <th>0</th>\n",
              "      <td>-0.026603</td>\n",
              "      <td>-0.021342</td>\n",
              "      <td>0.010874</td>\n",
              "      <td>-0.006596</td>\n",
              "      <td>-0.005421</td>\n",
              "      <td>0.004189</td>\n",
              "      <td>0.000000</td>\n",
              "      <td>0.000000</td>\n",
              "      <td>0.000000</td>\n",
              "      <td>0.0</td>\n",
              "      <td>...</td>\n",
              "      <td>0.0</td>\n",
              "      <td>0.0</td>\n",
              "      <td>0.0</td>\n",
              "      <td>0.0</td>\n",
              "      <td>0.0</td>\n",
              "      <td>0.0</td>\n",
              "      <td>0.0</td>\n",
              "      <td>0.0</td>\n",
              "      <td>0.0</td>\n",
              "      <td>0.0</td>\n",
              "    </tr>\n",
              "    <tr>\n",
              "      <th>1</th>\n",
              "      <td>-0.027181</td>\n",
              "      <td>0.003750</td>\n",
              "      <td>0.000385</td>\n",
              "      <td>-0.021342</td>\n",
              "      <td>0.010874</td>\n",
              "      <td>-0.006596</td>\n",
              "      <td>-0.026603</td>\n",
              "      <td>-0.015306</td>\n",
              "      <td>-0.006596</td>\n",
              "      <td>0.0</td>\n",
              "      <td>...</td>\n",
              "      <td>0.0</td>\n",
              "      <td>0.0</td>\n",
              "      <td>0.0</td>\n",
              "      <td>0.0</td>\n",
              "      <td>0.0</td>\n",
              "      <td>0.0</td>\n",
              "      <td>0.0</td>\n",
              "      <td>0.0</td>\n",
              "      <td>0.0</td>\n",
              "      <td>0.0</td>\n",
              "    </tr>\n",
              "    <tr>\n",
              "      <th>2</th>\n",
              "      <td>-0.026603</td>\n",
              "      <td>-0.021342</td>\n",
              "      <td>0.010874</td>\n",
              "      <td>-0.006596</td>\n",
              "      <td>0.000000</td>\n",
              "      <td>0.000000</td>\n",
              "      <td>0.000000</td>\n",
              "      <td>0.000000</td>\n",
              "      <td>0.000000</td>\n",
              "      <td>0.0</td>\n",
              "      <td>...</td>\n",
              "      <td>0.0</td>\n",
              "      <td>0.0</td>\n",
              "      <td>0.0</td>\n",
              "      <td>0.0</td>\n",
              "      <td>0.0</td>\n",
              "      <td>0.0</td>\n",
              "      <td>0.0</td>\n",
              "      <td>0.0</td>\n",
              "      <td>0.0</td>\n",
              "      <td>0.0</td>\n",
              "    </tr>\n",
              "    <tr>\n",
              "      <th>3</th>\n",
              "      <td>-0.026603</td>\n",
              "      <td>-0.021342</td>\n",
              "      <td>0.010874</td>\n",
              "      <td>-0.006596</td>\n",
              "      <td>0.000000</td>\n",
              "      <td>0.000000</td>\n",
              "      <td>0.000000</td>\n",
              "      <td>0.000000</td>\n",
              "      <td>0.000000</td>\n",
              "      <td>0.0</td>\n",
              "      <td>...</td>\n",
              "      <td>0.0</td>\n",
              "      <td>0.0</td>\n",
              "      <td>0.0</td>\n",
              "      <td>0.0</td>\n",
              "      <td>0.0</td>\n",
              "      <td>0.0</td>\n",
              "      <td>0.0</td>\n",
              "      <td>0.0</td>\n",
              "      <td>0.0</td>\n",
              "      <td>0.0</td>\n",
              "    </tr>\n",
              "    <tr>\n",
              "      <th>4</th>\n",
              "      <td>-0.026603</td>\n",
              "      <td>-0.021342</td>\n",
              "      <td>0.010874</td>\n",
              "      <td>-0.006596</td>\n",
              "      <td>0.000000</td>\n",
              "      <td>0.000000</td>\n",
              "      <td>0.000000</td>\n",
              "      <td>0.000000</td>\n",
              "      <td>0.000000</td>\n",
              "      <td>0.0</td>\n",
              "      <td>...</td>\n",
              "      <td>0.0</td>\n",
              "      <td>0.0</td>\n",
              "      <td>0.0</td>\n",
              "      <td>0.0</td>\n",
              "      <td>0.0</td>\n",
              "      <td>0.0</td>\n",
              "      <td>0.0</td>\n",
              "      <td>0.0</td>\n",
              "      <td>0.0</td>\n",
              "      <td>0.0</td>\n",
              "    </tr>\n",
              "  </tbody>\n",
              "</table>\n",
              "<p>5 rows × 58 columns</p>\n",
              "</div>\n",
              "      <button class=\"colab-df-convert\" onclick=\"convertToInteractive('df-a7a65df9-1c99-4cde-8991-8fc9ff681a46')\"\n",
              "              title=\"Convert this dataframe to an interactive table.\"\n",
              "              style=\"display:none;\">\n",
              "        \n",
              "  <svg xmlns=\"http://www.w3.org/2000/svg\" height=\"24px\"viewBox=\"0 0 24 24\"\n",
              "       width=\"24px\">\n",
              "    <path d=\"M0 0h24v24H0V0z\" fill=\"none\"/>\n",
              "    <path d=\"M18.56 5.44l.94 2.06.94-2.06 2.06-.94-2.06-.94-.94-2.06-.94 2.06-2.06.94zm-11 1L8.5 8.5l.94-2.06 2.06-.94-2.06-.94L8.5 2.5l-.94 2.06-2.06.94zm10 10l.94 2.06.94-2.06 2.06-.94-2.06-.94-.94-2.06-.94 2.06-2.06.94z\"/><path d=\"M17.41 7.96l-1.37-1.37c-.4-.4-.92-.59-1.43-.59-.52 0-1.04.2-1.43.59L10.3 9.45l-7.72 7.72c-.78.78-.78 2.05 0 2.83L4 21.41c.39.39.9.59 1.41.59.51 0 1.02-.2 1.41-.59l7.78-7.78 2.81-2.81c.8-.78.8-2.07 0-2.86zM5.41 20L4 18.59l7.72-7.72 1.47 1.35L5.41 20z\"/>\n",
              "  </svg>\n",
              "      </button>\n",
              "      \n",
              "  <style>\n",
              "    .colab-df-container {\n",
              "      display:flex;\n",
              "      flex-wrap:wrap;\n",
              "      gap: 12px;\n",
              "    }\n",
              "\n",
              "    .colab-df-convert {\n",
              "      background-color: #E8F0FE;\n",
              "      border: none;\n",
              "      border-radius: 50%;\n",
              "      cursor: pointer;\n",
              "      display: none;\n",
              "      fill: #1967D2;\n",
              "      height: 32px;\n",
              "      padding: 0 0 0 0;\n",
              "      width: 32px;\n",
              "    }\n",
              "\n",
              "    .colab-df-convert:hover {\n",
              "      background-color: #E2EBFA;\n",
              "      box-shadow: 0px 1px 2px rgba(60, 64, 67, 0.3), 0px 1px 3px 1px rgba(60, 64, 67, 0.15);\n",
              "      fill: #174EA6;\n",
              "    }\n",
              "\n",
              "    [theme=dark] .colab-df-convert {\n",
              "      background-color: #3B4455;\n",
              "      fill: #D2E3FC;\n",
              "    }\n",
              "\n",
              "    [theme=dark] .colab-df-convert:hover {\n",
              "      background-color: #434B5C;\n",
              "      box-shadow: 0px 1px 3px 1px rgba(0, 0, 0, 0.15);\n",
              "      filter: drop-shadow(0px 1px 2px rgba(0, 0, 0, 0.3));\n",
              "      fill: #FFFFFF;\n",
              "    }\n",
              "  </style>\n",
              "\n",
              "      <script>\n",
              "        const buttonEl =\n",
              "          document.querySelector('#df-a7a65df9-1c99-4cde-8991-8fc9ff681a46 button.colab-df-convert');\n",
              "        buttonEl.style.display =\n",
              "          google.colab.kernel.accessAllowed ? 'block' : 'none';\n",
              "\n",
              "        async function convertToInteractive(key) {\n",
              "          const element = document.querySelector('#df-a7a65df9-1c99-4cde-8991-8fc9ff681a46');\n",
              "          const dataTable =\n",
              "            await google.colab.kernel.invokeFunction('convertToInteractive',\n",
              "                                                     [key], {});\n",
              "          if (!dataTable) return;\n",
              "\n",
              "          const docLinkHtml = 'Like what you see? Visit the ' +\n",
              "            '<a target=\"_blank\" href=https://colab.research.google.com/notebooks/data_table.ipynb>data table notebook</a>'\n",
              "            + ' to learn more about interactive tables.';\n",
              "          element.innerHTML = '';\n",
              "          dataTable['output_type'] = 'display_data';\n",
              "          await google.colab.output.renderOutput(dataTable, element);\n",
              "          const docLink = document.createElement('div');\n",
              "          docLink.innerHTML = docLinkHtml;\n",
              "          element.appendChild(docLink);\n",
              "        }\n",
              "      </script>\n",
              "    </div>\n",
              "  </div>\n",
              "  "
            ]
          },
          "metadata": {},
          "execution_count": 196
        }
      ]
    },
    {
      "cell_type": "code",
      "source": [
        "# Делим выборку на тренировочную и валидационную.\n",
        "x_train, x_test, y_train, y_test = train_test_split(\n",
        "    x, y, random_state=42, test_size=0.3, stratify=y\n",
        ")"
      ],
      "metadata": {
        "id": "h23tYvYwFXvQ"
      },
      "execution_count": 190,
      "outputs": []
    },
    {
      "cell_type": "code",
      "source": [
        "estimator.fit(x_train, y_train)"
      ],
      "metadata": {
        "colab": {
          "base_uri": "https://localhost:8080/",
          "height": 92
        },
        "id": "-GY3DlksFZlC",
        "outputId": "31b86a9a-b2e4-4269-ac84-ee998a3d17bc"
      },
      "execution_count": 191,
      "outputs": [
        {
          "output_type": "execute_result",
          "data": {
            "text/plain": [
              "RandomForestClassifier(max_depth=25, min_samples_leaf=2, min_samples_split=3,\n",
              "                       n_estimators=700)"
            ],
            "text/html": [
              "<style>#sk-container-id-2 {color: black;background-color: white;}#sk-container-id-2 pre{padding: 0;}#sk-container-id-2 div.sk-toggleable {background-color: white;}#sk-container-id-2 label.sk-toggleable__label {cursor: pointer;display: block;width: 100%;margin-bottom: 0;padding: 0.3em;box-sizing: border-box;text-align: center;}#sk-container-id-2 label.sk-toggleable__label-arrow:before {content: \"▸\";float: left;margin-right: 0.25em;color: #696969;}#sk-container-id-2 label.sk-toggleable__label-arrow:hover:before {color: black;}#sk-container-id-2 div.sk-estimator:hover label.sk-toggleable__label-arrow:before {color: black;}#sk-container-id-2 div.sk-toggleable__content {max-height: 0;max-width: 0;overflow: hidden;text-align: left;background-color: #f0f8ff;}#sk-container-id-2 div.sk-toggleable__content pre {margin: 0.2em;color: black;border-radius: 0.25em;background-color: #f0f8ff;}#sk-container-id-2 input.sk-toggleable__control:checked~div.sk-toggleable__content {max-height: 200px;max-width: 100%;overflow: auto;}#sk-container-id-2 input.sk-toggleable__control:checked~label.sk-toggleable__label-arrow:before {content: \"▾\";}#sk-container-id-2 div.sk-estimator input.sk-toggleable__control:checked~label.sk-toggleable__label {background-color: #d4ebff;}#sk-container-id-2 div.sk-label input.sk-toggleable__control:checked~label.sk-toggleable__label {background-color: #d4ebff;}#sk-container-id-2 input.sk-hidden--visually {border: 0;clip: rect(1px 1px 1px 1px);clip: rect(1px, 1px, 1px, 1px);height: 1px;margin: -1px;overflow: hidden;padding: 0;position: absolute;width: 1px;}#sk-container-id-2 div.sk-estimator {font-family: monospace;background-color: #f0f8ff;border: 1px dotted black;border-radius: 0.25em;box-sizing: border-box;margin-bottom: 0.5em;}#sk-container-id-2 div.sk-estimator:hover {background-color: #d4ebff;}#sk-container-id-2 div.sk-parallel-item::after {content: \"\";width: 100%;border-bottom: 1px solid gray;flex-grow: 1;}#sk-container-id-2 div.sk-label:hover label.sk-toggleable__label {background-color: #d4ebff;}#sk-container-id-2 div.sk-serial::before {content: \"\";position: absolute;border-left: 1px solid gray;box-sizing: border-box;top: 0;bottom: 0;left: 50%;z-index: 0;}#sk-container-id-2 div.sk-serial {display: flex;flex-direction: column;align-items: center;background-color: white;padding-right: 0.2em;padding-left: 0.2em;position: relative;}#sk-container-id-2 div.sk-item {position: relative;z-index: 1;}#sk-container-id-2 div.sk-parallel {display: flex;align-items: stretch;justify-content: center;background-color: white;position: relative;}#sk-container-id-2 div.sk-item::before, #sk-container-id-2 div.sk-parallel-item::before {content: \"\";position: absolute;border-left: 1px solid gray;box-sizing: border-box;top: 0;bottom: 0;left: 50%;z-index: -1;}#sk-container-id-2 div.sk-parallel-item {display: flex;flex-direction: column;z-index: 1;position: relative;background-color: white;}#sk-container-id-2 div.sk-parallel-item:first-child::after {align-self: flex-end;width: 50%;}#sk-container-id-2 div.sk-parallel-item:last-child::after {align-self: flex-start;width: 50%;}#sk-container-id-2 div.sk-parallel-item:only-child::after {width: 0;}#sk-container-id-2 div.sk-dashed-wrapped {border: 1px dashed gray;margin: 0 0.4em 0.5em 0.4em;box-sizing: border-box;padding-bottom: 0.4em;background-color: white;}#sk-container-id-2 div.sk-label label {font-family: monospace;font-weight: bold;display: inline-block;line-height: 1.2em;}#sk-container-id-2 div.sk-label-container {text-align: center;}#sk-container-id-2 div.sk-container {/* jupyter's `normalize.less` sets `[hidden] { display: none; }` but bootstrap.min.css set `[hidden] { display: none !important; }` so we also need the `!important` here to be able to override the default hidden behavior on the sphinx rendered scikit-learn.org. See: https://github.com/scikit-learn/scikit-learn/issues/21755 */display: inline-block !important;position: relative;}#sk-container-id-2 div.sk-text-repr-fallback {display: none;}</style><div id=\"sk-container-id-2\" class=\"sk-top-container\"><div class=\"sk-text-repr-fallback\"><pre>RandomForestClassifier(max_depth=25, min_samples_leaf=2, min_samples_split=3,\n",
              "                       n_estimators=700)</pre><b>In a Jupyter environment, please rerun this cell to show the HTML representation or trust the notebook. <br />On GitHub, the HTML representation is unable to render, please try loading this page with nbviewer.org.</b></div><div class=\"sk-container\" hidden><div class=\"sk-item\"><div class=\"sk-estimator sk-toggleable\"><input class=\"sk-toggleable__control sk-hidden--visually\" id=\"sk-estimator-id-2\" type=\"checkbox\" checked><label for=\"sk-estimator-id-2\" class=\"sk-toggleable__label sk-toggleable__label-arrow\">RandomForestClassifier</label><div class=\"sk-toggleable__content\"><pre>RandomForestClassifier(max_depth=25, min_samples_leaf=2, min_samples_split=3,\n",
              "                       n_estimators=700)</pre></div></div></div></div></div>"
            ]
          },
          "metadata": {},
          "execution_count": 191
        }
      ]
    },
    {
      "cell_type": "code",
      "source": [
        "y_pred = estimator.predict(x_test)"
      ],
      "metadata": {
        "id": "ATKBdaaMGIof"
      },
      "execution_count": 192,
      "outputs": []
    },
    {
      "cell_type": "code",
      "source": [
        "plot_confusion_matrix(y_test, y_pred, estimator)"
      ],
      "metadata": {
        "colab": {
          "base_uri": "https://localhost:8080/",
          "height": 716
        },
        "id": "V--z7MFBGScw",
        "outputId": "5f56d2e1-be93-4370-ed4f-f4454c68164e"
      },
      "execution_count": 193,
      "outputs": [
        {
          "output_type": "display_data",
          "data": {
            "text/plain": [
              "<Figure size 1000x800 with 2 Axes>"
            ],
            "image/png": "[encoded data removed]"
          },
          "metadata": {}
        }
      ]
    },
    {
      "cell_type": "code",
      "source": [
        "f1_score(y_test, y_pred)"
      ],
      "metadata": {
        "colab": {
          "base_uri": "https://localhost:8080/"
        },
        "id": "c6Luc5l5Gg2J",
        "outputId": "0ff375a8-ed53-4ac5-c44e-c1d620ab44db"
      },
      "execution_count": 194,
      "outputs": [
        {
          "output_type": "execute_result",
          "data": {
            "text/plain": [
              "0.9725085910652921"
            ]
          },
          "metadata": {},
          "execution_count": 194
        }
      ]
    },
    {
      "cell_type": "code",
      "source": [
        "x, y = contract_enforcement_vectorized.drop(columns=['target']), contract_enforcement_vectorized['target'].values\n",
        "\n",
        "model = XGBClassifier()\n",
        "\n",
        "param_grid = {\n",
        "\"n_estimators\": [i for i in range(50, 1000,100)],\n",
        "\"max_depth\": [i for i in range(25, 101,25)],\n",
        "\"min_samples_split\":[i for i in range(3,10,2)],\n",
        "\"min_samples_leaf\": [2 ,3],\n",
        "}\n",
        "estimator = search_best_estimator(model, param_grid, x, y)"
      ],
      "metadata": {
        "colab": {
          "base_uri": "https://localhost:8080/"
        },
        "id": "fNP0xNNXN9C0",
        "outputId": "b200f69d-2011-4b36-f060-3e194da4e3ed"
      },
      "execution_count": 197,
      "outputs": [
        {
          "output_type": "stream",
          "name": "stdout",
          "text": [
            "[19:27:50] WARNING: ../src/learner.cc:767: \n",
            "Parameters: { \"min_samples_leaf\", \"min_samples_split\" } are not used.\n",
            "\n"
          ]
        }
      ]
    },
    {
      "cell_type": "code",
      "source": [
        "x_train, x_test, y_train, y_test = train_test_split(\n",
        "    x, y, random_state=42, test_size=0.3, stratify=y\n",
        ")"
      ],
      "metadata": {
        "id": "VIZeJr8ZR1JE"
      },
      "execution_count": 198,
      "outputs": []
    },
    {
      "cell_type": "code",
      "source": [
        "estimator.fit(x_train, y_train)\n"
      ],
      "metadata": {
        "colab": {
          "base_uri": "https://localhost:8080/",
          "height": 300
        },
        "id": "blesPzjSR1it",
        "outputId": "c3de67c6-19ca-4105-ea22-46157d3426a5"
      },
      "execution_count": 199,
      "outputs": [
        {
          "output_type": "stream",
          "name": "stdout",
          "text": [
            "[19:27:51] WARNING: ../src/learner.cc:767: \n",
            "Parameters: { \"min_samples_leaf\", \"min_samples_split\" } are not used.\n",
            "\n"
          ]
        },
        {
          "output_type": "execute_result",
          "data": {
            "text/plain": [
              "XGBClassifier(base_score=None, booster=None, callbacks=None,\n",
              "              colsample_bylevel=None, colsample_bynode=None,\n",
              "              colsample_bytree=None, early_stopping_rounds=None,\n",
              "              enable_categorical=False, eval_metric=None, feature_types=None,\n",
              "              gamma=None, gpu_id=None, grow_policy=None, importance_type=None,\n",
              "              interaction_constraints=None, learning_rate=None, max_bin=None,\n",
              "              max_cat_threshold=None, max_cat_to_onehot=None,\n",
              "              max_delta_step=None, max_depth=25, max_leaves=None,\n",
              "              min_child_weight=None, min_samples_leaf=2, min_samples_split=3,\n",
              "              missing=nan, monotone_constraints=None, n_estimators=150,\n",
              "              n_jobs=None, num_parallel_tree=None, ...)"
            ],
            "text/html": [
              "<style>#sk-container-id-3 {color: black;background-color: white;}#sk-container-id-3 pre{padding: 0;}#sk-container-id-3 div.sk-toggleable {background-color: white;}#sk-container-id-3 label.sk-toggleable__label {cursor: pointer;display: block;width: 100%;margin-bottom: 0;padding: 0.3em;box-sizing: border-box;text-align: center;}#sk-container-id-3 label.sk-toggleable__label-arrow:before {content: \"▸\";float: left;margin-right: 0.25em;color: #696969;}#sk-container-id-3 label.sk-toggleable__label-arrow:hover:before {color: black;}#sk-container-id-3 div.sk-estimator:hover label.sk-toggleable__label-arrow:before {color: black;}#sk-container-id-3 div.sk-toggleable__content {max-height: 0;max-width: 0;overflow: hidden;text-align: left;background-color: #f0f8ff;}#sk-container-id-3 div.sk-toggleable__content pre {margin: 0.2em;color: black;border-radius: 0.25em;background-color: #f0f8ff;}#sk-container-id-3 input.sk-toggleable__control:checked~div.sk-toggleable__content {max-height: 200px;max-width: 100%;overflow: auto;}#sk-container-id-3 input.sk-toggleable__control:checked~label.sk-toggleable__label-arrow:before {content: \"▾\";}#sk-container-id-3 div.sk-estimator input.sk-toggleable__control:checked~label.sk-toggleable__label {background-color: #d4ebff;}#sk-container-id-3 div.sk-label input.sk-toggleable__control:checked~label.sk-toggleable__label {background-color: #d4ebff;}#sk-container-id-3 input.sk-hidden--visually {border: 0;clip: rect(1px 1px 1px 1px);clip: rect(1px, 1px, 1px, 1px);height: 1px;margin: -1px;overflow: hidden;padding: 0;position: absolute;width: 1px;}#sk-container-id-3 div.sk-estimator {font-family: monospace;background-color: #f0f8ff;border: 1px dotted black;border-radius: 0.25em;box-sizing: border-box;margin-bottom: 0.5em;}#sk-container-id-3 div.sk-estimator:hover {background-color: #d4ebff;}#sk-container-id-3 div.sk-parallel-item::after {content: \"\";width: 100%;border-bottom: 1px solid gray;flex-grow: 1;}#sk-container-id-3 div.sk-label:hover label.sk-toggleable__label {background-color: #d4ebff;}#sk-container-id-3 div.sk-serial::before {content: \"\";position: absolute;border-left: 1px solid gray;box-sizing: border-box;top: 0;bottom: 0;left: 50%;z-index: 0;}#sk-container-id-3 div.sk-serial {display: flex;flex-direction: column;align-items: center;background-color: white;padding-right: 0.2em;padding-left: 0.2em;position: relative;}#sk-container-id-3 div.sk-item {position: relative;z-index: 1;}#sk-container-id-3 div.sk-parallel {display: flex;align-items: stretch;justify-content: center;background-color: white;position: relative;}#sk-container-id-3 div.sk-item::before, #sk-container-id-3 div.sk-parallel-item::before {content: \"\";position: absolute;border-left: 1px solid gray;box-sizing: border-box;top: 0;bottom: 0;left: 50%;z-index: -1;}#sk-container-id-3 div.sk-parallel-item {display: flex;flex-direction: column;z-index: 1;position: relative;background-color: white;}#sk-container-id-3 div.sk-parallel-item:first-child::after {align-self: flex-end;width: 50%;}#sk-container-id-3 div.sk-parallel-item:last-child::after {align-self: flex-start;width: 50%;}#sk-container-id-3 div.sk-parallel-item:only-child::after {width: 0;}#sk-container-id-3 div.sk-dashed-wrapped {border: 1px dashed gray;margin: 0 0.4em 0.5em 0.4em;box-sizing: border-box;padding-bottom: 0.4em;background-color: white;}#sk-container-id-3 div.sk-label label {font-family: monospace;font-weight: bold;display: inline-block;line-height: 1.2em;}#sk-container-id-3 div.sk-label-container {text-align: center;}#sk-container-id-3 div.sk-container {/* jupyter's `normalize.less` sets `[hidden] { display: none; }` but bootstrap.min.css set `[hidden] { display: none !important; }` so we also need the `!important` here to be able to override the default hidden behavior on the sphinx rendered scikit-learn.org. See: https://github.com/scikit-learn/scikit-learn/issues/21755 */display: inline-block !important;position: relative;}#sk-container-id-3 div.sk-text-repr-fallback {display: none;}</style><div id=\"sk-container-id-3\" class=\"sk-top-container\"><div class=\"sk-text-repr-fallback\"><pre>XGBClassifier(base_score=None, booster=None, callbacks=None,\n",
              "              colsample_bylevel=None, colsample_bynode=None,\n",
              "              colsample_bytree=None, early_stopping_rounds=None,\n",
              "              enable_categorical=False, eval_metric=None, feature_types=None,\n",
              "              gamma=None, gpu_id=None, grow_policy=None, importance_type=None,\n",
              "              interaction_constraints=None, learning_rate=None, max_bin=None,\n",
              "              max_cat_threshold=None, max_cat_to_onehot=None,\n",
              "              max_delta_step=None, max_depth=25, max_leaves=None,\n",
              "              min_child_weight=None, min_samples_leaf=2, min_samples_split=3,\n",
              "              missing=nan, monotone_constraints=None, n_estimators=150,\n",
              "              n_jobs=None, num_parallel_tree=None, ...)</pre><b>In a Jupyter environment, please rerun this cell to show the HTML representation or trust the notebook. <br />On GitHub, the HTML representation is unable to render, please try loading this page with nbviewer.org.</b></div><div class=\"sk-container\" hidden><div class=\"sk-item\"><div class=\"sk-estimator sk-toggleable\"><input class=\"sk-toggleable__control sk-hidden--visually\" id=\"sk-estimator-id-3\" type=\"checkbox\" checked><label for=\"sk-estimator-id-3\" class=\"sk-toggleable__label sk-toggleable__label-arrow\">XGBClassifier</label><div class=\"sk-toggleable__content\"><pre>XGBClassifier(base_score=None, booster=None, callbacks=None,\n",
              "              colsample_bylevel=None, colsample_bynode=None,\n",
              "              colsample_bytree=None, early_stopping_rounds=None,\n",
              "              enable_categorical=False, eval_metric=None, feature_types=None,\n",
              "              gamma=None, gpu_id=None, grow_policy=None, importance_type=None,\n",
              "              interaction_constraints=None, learning_rate=None, max_bin=None,\n",
              "              max_cat_threshold=None, max_cat_to_onehot=None,\n",
              "              max_delta_step=None, max_depth=25, max_leaves=None,\n",
              "              min_child_weight=None, min_samples_leaf=2, min_samples_split=3,\n",
              "              missing=nan, monotone_constraints=None, n_estimators=150,\n",
              "              n_jobs=None, num_parallel_tree=None, ...)</pre></div></div></div></div></div>"
            ]
          },
          "metadata": {},
          "execution_count": 199
        }
      ]
    },
    {
      "cell_type": "code",
      "source": [
        "y_pred = estimator.predict(x_test)\n"
      ],
      "metadata": {
        "id": "iGpXI5DOR4KU"
      },
      "execution_count": 200,
      "outputs": []
    },
    {
      "cell_type": "code",
      "source": [
        "plot_confusion_matrix(y_test, y_pred, estimator)\n"
      ],
      "metadata": {
        "colab": {
          "base_uri": "https://localhost:8080/",
          "height": 646
        },
        "id": "sEyD3ABER5yK",
        "outputId": "2fb2650c-c3e1-4de5-d55b-feb01de01f57"
      },
      "execution_count": 201,
      "outputs": [
        {
          "output_type": "display_data",
          "data": {
            "text/plain": [
              "<Figure size 1000x800 with 2 Axes>"
            ],
            "image/png": "[encoded data removed]"
          },
          "metadata": {}
        }
      ]
    },
    {
      "cell_type": "code",
      "source": [
        "f1_score(y_test, y_pred)"
      ],
      "metadata": {
        "colab": {
          "base_uri": "https://localhost:8080/"
        },
        "id": "x9opJ-rNR7oa",
        "outputId": "2766454e-fb10-43d8-c373-8cc93f1515fa"
      },
      "execution_count": 202,
      "outputs": [
        {
          "output_type": "execute_result",
          "data": {
            "text/plain": [
              "0.981450252951096"
            ]
          },
          "metadata": {},
          "execution_count": 202
        }
      ]
    },
    {
      "cell_type": "code",
      "source": [
        "accuracy_score(y_test, y_pred)"
      ],
      "metadata": {
        "colab": {
          "base_uri": "https://localhost:8080/"
        },
        "id": "hQQF8pImR-Z4",
        "outputId": "bb7c9b91-339b-4569-d4ab-9857ffd51513"
      },
      "execution_count": 206,
      "outputs": [
        {
          "output_type": "execute_result",
          "data": {
            "text/plain": [
              "0.9815436241610739"
            ]
          },
          "metadata": {},
          "execution_count": 206
        }
      ]
    },
    {
      "cell_type": "markdown",
      "source": [
        "0.9815 - хорошая точность \n",
        "\n",
        "SetFit на 31 объекте выдаёт 0.9827\n",
        "\n",
        "на 159 - 0.9986"
      ],
      "metadata": {
        "id": "NmSVg-AsZdSg"
      }
    },
    {
      "cell_type": "code",
      "source": [],
      "metadata": {
        "id": "697onp_0ZVuV"
      },
      "execution_count": null,
      "outputs": []
    }
  ]
}
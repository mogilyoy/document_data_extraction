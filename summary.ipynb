{
  "nbformat": 4,
  "nbformat_minor": 0,
  "metadata": {
    "colab": {
      "provenance": [],
      "collapsed_sections": [
        "Z7l0fLwmMI4t"
      ]
    },
    "kernelspec": {
      "name": "python3",
      "display_name": "Python 3"
    },
    "language_info": {
      "name": "python"
    }
  },
  "cells": [
    {
      "cell_type": "markdown",
      "source": [
        "### Установки"
      ],
      "metadata": {
        "id": "Z7l0fLwmMI4t"
      }
    },
    {
      "cell_type": "code",
      "execution_count": 1,
      "metadata": {
        "colab": {
          "base_uri": "https://localhost:8080/"
        },
        "id": "rTIoKSdiK_M4",
        "outputId": "c7da0214-8c90-4dcf-a009-1ef19e36a9fe"
      },
      "outputs": [
        {
          "output_type": "stream",
          "name": "stdout",
          "text": [
            "Looking in indexes: https://pypi.org/simple, https://us-python.pkg.dev/colab-wheels/public/simple/\n",
            "Requirement already satisfied: navec in /usr/local/lib/python3.9/dist-packages (0.10.0)\n",
            "Requirement already satisfied: numpy in /usr/local/lib/python3.9/dist-packages (from navec) (1.22.4)\n",
            "Looking in indexes: https://pypi.org/simple, https://us-python.pkg.dev/colab-wheels/public/simple/\n",
            "Requirement already satisfied: pymorphy2 in /usr/local/lib/python3.9/dist-packages (0.9.1)\n",
            "Requirement already satisfied: dawg-python>=0.7.1 in /usr/local/lib/python3.9/dist-packages (from pymorphy2) (0.7.2)\n",
            "Requirement already satisfied: pymorphy2-dicts-ru<3.0,>=2.4 in /usr/local/lib/python3.9/dist-packages (from pymorphy2) (2.4.417127.4579844)\n",
            "Requirement already satisfied: docopt>=0.6 in /usr/local/lib/python3.9/dist-packages (from pymorphy2) (0.6.2)\n"
          ]
        }
      ],
      "source": [
        "!pip install navec\n",
        "!pip install pymorphy2"
      ]
    },
    {
      "cell_type": "code",
      "source": [
        "!wget https://storage.yandexcloud.net/natasha-navec/packs/navec_hudlit_v1_12B_500K_300d_100q.tar"
      ],
      "metadata": {
        "colab": {
          "base_uri": "https://localhost:8080/"
        },
        "id": "JEVhL_FMT5V0",
        "outputId": "1d0195ef-1340-489a-e4ab-a7bd1ad130f8"
      },
      "execution_count": 2,
      "outputs": [
        {
          "output_type": "stream",
          "name": "stdout",
          "text": [
            "--2023-04-23 07:20:22--  https://storage.yandexcloud.net/natasha-navec/packs/navec_hudlit_v1_12B_500K_300d_100q.tar\n",
            "Resolving storage.yandexcloud.net (storage.yandexcloud.net)... 213.180.193.243, 2a02:6b8::1d9\n",
            "Connecting to storage.yandexcloud.net (storage.yandexcloud.net)|213.180.193.243|:443... connected.\n",
            "HTTP request sent, awaiting response... 200 OK\n",
            "Length: 53012480 (51M) [application/x-tar]\n",
            "Saving to: ‘navec_hudlit_v1_12B_500K_300d_100q.tar.1’\n",
            "\n",
            "navec_hudlit_v1_12B 100%[===================>]  50.56M  16.8MB/s    in 3.0s    \n",
            "\n",
            "2023-04-23 07:20:26 (16.8 MB/s) - ‘navec_hudlit_v1_12B_500K_300d_100q.tar.1’ saved [53012480/53012480]\n",
            "\n"
          ]
        }
      ]
    },
    {
      "cell_type": "markdown",
      "source": [
        "### Импорты"
      ],
      "metadata": {
        "id": "Kp2d0QA7MdfP"
      }
    },
    {
      "cell_type": "code",
      "source": [
        "from research.utils import (split_df_texts_by_sentences, \n",
        "                            lemmatize_splitted_df_sentences,\n",
        "                            get_sentence_vectors_from_lemmatized_text)\n",
        "\n",
        "from sklearn.model_selection import train_test_split\n",
        "from pymorphy2 import MorphAnalyzer\n",
        "from nltk.corpus import stopwords\n",
        "from xgboost import XGBClassifier\n",
        "import matplotlib.pyplot as plt\n",
        "from navec import Navec\n",
        "import pandas as pd\n",
        "import numpy as np\n",
        "import joblib\n",
        "import nltk"
      ],
      "metadata": {
        "id": "djN9-U4kMe7P"
      },
      "execution_count": 3,
      "outputs": []
    },
    {
      "cell_type": "code",
      "source": [
        "path = './navec_hudlit_v1_12B_500K_300d_100q.tar'\n",
        "navec = Navec.load(path)\n",
        "nltk.download('stopwords')\n",
        "stopwords_ru = stopwords.words(\"russian\")\n",
        "morph = MorphAnalyzer()"
      ],
      "metadata": {
        "colab": {
          "base_uri": "https://localhost:8080/"
        },
        "id": "iiYkr72YWyIk",
        "outputId": "943524ec-42f3-4c8d-f65b-97cceac484e1"
      },
      "execution_count": 4,
      "outputs": [
        {
          "output_type": "stream",
          "name": "stderr",
          "text": [
            "[nltk_data] Downloading package stopwords to /root/nltk_data...\n",
            "[nltk_data]   Package stopwords is already up-to-date!\n"
          ]
        }
      ]
    },
    {
      "cell_type": "markdown",
      "source": [
        "### Применение модели к трейну, замер accuracy"
      ],
      "metadata": {
        "id": "QtItBZU_MfYl"
      }
    },
    {
      "cell_type": "code",
      "source": [
        "df_train = pd.read_json('./data/train.json', encoding='utf-8')  # загружаем данные из train.json\n",
        "df_train.head()"
      ],
      "metadata": {
        "colab": {
          "base_uri": "https://localhost:8080/",
          "height": 337
        },
        "id": "Kas6bGDHM_ff",
        "outputId": "6c718819-288b-48c0-e5e2-dbe819a24fe1"
      },
      "execution_count": 5,
      "outputs": [
        {
          "output_type": "execute_result",
          "data": {
            "text/plain": [
              "          id                                               text  \\\n",
              "0  809436509  Извещение о проведении открытого конкурса в эл...   \n",
              "1  854885310  ТРЕБОВАНИЯ К СОДЕРЖАНИЮ ЗАЯВКИ участника запро...   \n",
              "2    4382157  Извещение о проведении электронного аукциона д...   \n",
              "3  184555082  Извещение о проведении электронного аукциона д...   \n",
              "4  211645258  Извещение о проведении электронного аукциона д...   \n",
              "\n",
              "                              label  \\\n",
              "0  обеспечение исполнения контракта   \n",
              "1  обеспечение исполнения контракта   \n",
              "2  обеспечение исполнения контракта   \n",
              "3  обеспечение исполнения контракта   \n",
              "4  обеспечение исполнения контракта   \n",
              "\n",
              "                                      extracted_part  \n",
              "0  {'text': ['Размер обеспечения исполнения контр...  \n",
              "1  {'text': ['Поставщик должен предоставить обесп...  \n",
              "2  {'text': ['Размер обеспечения исполнения контр...  \n",
              "3  {'text': ['Размер обеспечения исполнения контр...  \n",
              "4  {'text': ['Размер обеспечения исполнения контр...  "
            ],
            "text/html": [
              "\n",
              "  <div id=\"df-ed8ee2fa-05b0-4447-a890-5afedb87ae0b\">\n",
              "    <div class=\"colab-df-container\">\n",
              "      <div>\n",
              "<style scoped>\n",
              "    .dataframe tbody tr th:only-of-type {\n",
              "        vertical-align: middle;\n",
              "    }\n",
              "\n",
              "    .dataframe tbody tr th {\n",
              "        vertical-align: top;\n",
              "    }\n",
              "\n",
              "    .dataframe thead th {\n",
              "        text-align: right;\n",
              "    }\n",
              "</style>\n",
              "<table border=\"1\" class=\"dataframe\">\n",
              "  <thead>\n",
              "    <tr style=\"text-align: right;\">\n",
              "      <th></th>\n",
              "      <th>id</th>\n",
              "      <th>text</th>\n",
              "      <th>label</th>\n",
              "      <th>extracted_part</th>\n",
              "    </tr>\n",
              "  </thead>\n",
              "  <tbody>\n",
              "    <tr>\n",
              "      <th>0</th>\n",
              "      <td>809436509</td>\n",
              "      <td>Извещение о проведении открытого конкурса в эл...</td>\n",
              "      <td>обеспечение исполнения контракта</td>\n",
              "      <td>{'text': ['Размер обеспечения исполнения контр...</td>\n",
              "    </tr>\n",
              "    <tr>\n",
              "      <th>1</th>\n",
              "      <td>854885310</td>\n",
              "      <td>ТРЕБОВАНИЯ К СОДЕРЖАНИЮ ЗАЯВКИ участника запро...</td>\n",
              "      <td>обеспечение исполнения контракта</td>\n",
              "      <td>{'text': ['Поставщик должен предоставить обесп...</td>\n",
              "    </tr>\n",
              "    <tr>\n",
              "      <th>2</th>\n",
              "      <td>4382157</td>\n",
              "      <td>Извещение о проведении электронного аукциона д...</td>\n",
              "      <td>обеспечение исполнения контракта</td>\n",
              "      <td>{'text': ['Размер обеспечения исполнения контр...</td>\n",
              "    </tr>\n",
              "    <tr>\n",
              "      <th>3</th>\n",
              "      <td>184555082</td>\n",
              "      <td>Извещение о проведении электронного аукциона д...</td>\n",
              "      <td>обеспечение исполнения контракта</td>\n",
              "      <td>{'text': ['Размер обеспечения исполнения контр...</td>\n",
              "    </tr>\n",
              "    <tr>\n",
              "      <th>4</th>\n",
              "      <td>211645258</td>\n",
              "      <td>Извещение о проведении электронного аукциона д...</td>\n",
              "      <td>обеспечение исполнения контракта</td>\n",
              "      <td>{'text': ['Размер обеспечения исполнения контр...</td>\n",
              "    </tr>\n",
              "  </tbody>\n",
              "</table>\n",
              "</div>\n",
              "      <button class=\"colab-df-convert\" onclick=\"convertToInteractive('df-ed8ee2fa-05b0-4447-a890-5afedb87ae0b')\"\n",
              "              title=\"Convert this dataframe to an interactive table.\"\n",
              "              style=\"display:none;\">\n",
              "        \n",
              "  <svg xmlns=\"http://www.w3.org/2000/svg\" height=\"24px\"viewBox=\"0 0 24 24\"\n",
              "       width=\"24px\">\n",
              "    <path d=\"M0 0h24v24H0V0z\" fill=\"none\"/>\n",
              "    <path d=\"M18.56 5.44l.94 2.06.94-2.06 2.06-.94-2.06-.94-.94-2.06-.94 2.06-2.06.94zm-11 1L8.5 8.5l.94-2.06 2.06-.94-2.06-.94L8.5 2.5l-.94 2.06-2.06.94zm10 10l.94 2.06.94-2.06 2.06-.94-2.06-.94-.94-2.06-.94 2.06-2.06.94z\"/><path d=\"M17.41 7.96l-1.37-1.37c-.4-.4-.92-.59-1.43-.59-.52 0-1.04.2-1.43.59L10.3 9.45l-7.72 7.72c-.78.78-.78 2.05 0 2.83L4 21.41c.39.39.9.59 1.41.59.51 0 1.02-.2 1.41-.59l7.78-7.78 2.81-2.81c.8-.78.8-2.07 0-2.86zM5.41 20L4 18.59l7.72-7.72 1.47 1.35L5.41 20z\"/>\n",
              "  </svg>\n",
              "      </button>\n",
              "      \n",
              "  <style>\n",
              "    .colab-df-container {\n",
              "      display:flex;\n",
              "      flex-wrap:wrap;\n",
              "      gap: 12px;\n",
              "    }\n",
              "\n",
              "    .colab-df-convert {\n",
              "      background-color: #E8F0FE;\n",
              "      border: none;\n",
              "      border-radius: 50%;\n",
              "      cursor: pointer;\n",
              "      display: none;\n",
              "      fill: #1967D2;\n",
              "      height: 32px;\n",
              "      padding: 0 0 0 0;\n",
              "      width: 32px;\n",
              "    }\n",
              "\n",
              "    .colab-df-convert:hover {\n",
              "      background-color: #E2EBFA;\n",
              "      box-shadow: 0px 1px 2px rgba(60, 64, 67, 0.3), 0px 1px 3px 1px rgba(60, 64, 67, 0.15);\n",
              "      fill: #174EA6;\n",
              "    }\n",
              "\n",
              "    [theme=dark] .colab-df-convert {\n",
              "      background-color: #3B4455;\n",
              "      fill: #D2E3FC;\n",
              "    }\n",
              "\n",
              "    [theme=dark] .colab-df-convert:hover {\n",
              "      background-color: #434B5C;\n",
              "      box-shadow: 0px 1px 3px 1px rgba(0, 0, 0, 0.15);\n",
              "      filter: drop-shadow(0px 1px 2px rgba(0, 0, 0, 0.3));\n",
              "      fill: #FFFFFF;\n",
              "    }\n",
              "  </style>\n",
              "\n",
              "      <script>\n",
              "        const buttonEl =\n",
              "          document.querySelector('#df-ed8ee2fa-05b0-4447-a890-5afedb87ae0b button.colab-df-convert');\n",
              "        buttonEl.style.display =\n",
              "          google.colab.kernel.accessAllowed ? 'block' : 'none';\n",
              "\n",
              "        async function convertToInteractive(key) {\n",
              "          const element = document.querySelector('#df-ed8ee2fa-05b0-4447-a890-5afedb87ae0b');\n",
              "          const dataTable =\n",
              "            await google.colab.kernel.invokeFunction('convertToInteractive',\n",
              "                                                     [key], {});\n",
              "          if (!dataTable) return;\n",
              "\n",
              "          const docLinkHtml = 'Like what you see? Visit the ' +\n",
              "            '<a target=\"_blank\" href=https://colab.research.google.com/notebooks/data_table.ipynb>data table notebook</a>'\n",
              "            + ' to learn more about interactive tables.';\n",
              "          element.innerHTML = '';\n",
              "          dataTable['output_type'] = 'display_data';\n",
              "          await google.colab.output.renderOutput(dataTable, element);\n",
              "          const docLink = document.createElement('div');\n",
              "          docLink.innerHTML = docLinkHtml;\n",
              "          element.appendChild(docLink);\n",
              "        }\n",
              "      </script>\n",
              "    </div>\n",
              "  </div>\n",
              "  "
            ]
          },
          "metadata": {},
          "execution_count": 5
        }
      ]
    },
    {
      "cell_type": "markdown",
      "source": [
        "Загрузим модели для классификации предложений в зависимости от label (подробно в reserch/base_model)"
      ],
      "metadata": {
        "id": "LsFtJlCiWOlM"
      }
    },
    {
      "cell_type": "code",
      "source": [
        "# загрузка обученных моделей\n",
        "contract_enforcement_model = joblib.load('./data/models/contract_enforcement_xgb_model.joblib')\n",
        "garantee_enforcement_model = joblib.load('./data/models/garantee_enforcement_xgb_model.joblib')"
      ],
      "metadata": {
        "id": "GCXW3p-4VwFr"
      },
      "execution_count": 6,
      "outputs": []
    },
    {
      "cell_type": "code",
      "source": [
        "df_splitted = split_df_texts_by_sentences(df_train.copy())  # делим тексты на предложения\n",
        "df_lemmatized = lemmatize_splitted_df_sentences(df_splitted.copy(), stopwords_ru, morph)  # приводим слова в предложениях к нормальному виду"
      ],
      "metadata": {
        "id": "zKJ1bs3yWaGU"
      },
      "execution_count": 7,
      "outputs": []
    },
    {
      "cell_type": "markdown",
      "source": [
        "Далее для применения моделей необходимо превратить \"лемматизированные\" предложения в векторы предложений. С этим нам поможет библиотека Navec. Navec - это библиотека предварительно подготовленных ембендингов слов для русского языка. \n",
        "\n",
        "Подробнее: https://github.com/natasha/navec?ysclid=lgi8rvqlyo416346758"
      ],
      "metadata": {
        "id": "NU4ZAuBqXMek"
      }
    },
    {
      "cell_type": "markdown",
      "source": [
        "Такой векторизатор я реализовал в виде функции get_sentence_vectors_from_lemmatized_text в модуле utils. (см research/utils.py) "
      ],
      "metadata": {
        "id": "vUweRhtOY3f6"
      }
    },
    {
      "cell_type": "markdown",
      "source": [
        "Далее нам необходимо реализовать функции для предсказания, т.к. модели две "
      ],
      "metadata": {
        "id": "A__sw6HFZJjX"
      }
    },
    {
      "cell_type": "code",
      "source": [
        "def get_predicted_sentence_index_for_contract_enforcement(df_lemmatized_object, min_rate=0.4):\n",
        "  shape = 83  # определяем максимальную длину вектора предожения\n",
        "  vectorized_text = get_sentence_vectors_from_lemmatized_text(df_lemmatized_object['text'], shape, navec)  # функция создаёт векторы предложений из их списка\n",
        "  # в итоге на выходе получаем векторизованный текст\n",
        "\n",
        "\n",
        "  max_probability=0 \n",
        "  index = -1\n",
        "  try:\n",
        "    # проходим по каждому предложению и считаем \"вероятность\" принадлежности его к целевому классу\n",
        "    for i in range(len(vectorized_text)):\n",
        "      vector = vectorized_text[i]\n",
        "      vector = np.array(vector)\n",
        "      vector = vector.reshape((1, shape))  \n",
        "      pred = contract_enforcement_model.predict_proba(vector)[0][1]\n",
        "\n",
        "      # сохраняем индекс предложения с наибольшей \"вероятностью\"\n",
        "      if pred > max_probability and pred > min_rate:\n",
        "        max_probability = pred\n",
        "        index = i\n",
        "  except Exception as e:\n",
        "    print(vector.shape, vector, df_lemmatized_object['label'], e)  # добавляем дебаг-логирование\n",
        "  \n",
        "  return index, max_probability"
      ],
      "metadata": {
        "id": "Azs86otpYlIc"
      },
      "execution_count": 8,
      "outputs": []
    },
    {
      "cell_type": "markdown",
      "source": [
        "И такую же функцию для лейбла \"обеспечение гарантийных обязательств\""
      ],
      "metadata": {
        "id": "m47pl3CuaxSn"
      }
    },
    {
      "cell_type": "code",
      "source": [
        "def get_predicted_sentence_index_for_garantee_enforcement(df_lemmatized_object, min_rate=0.8):\n",
        "  shape = 83  # определяем максимальную длину вектора предожения\n",
        "\n",
        "  # создание векторов предложений\n",
        "  vector_text = get_sentence_vectors_from_lemmatized_text(df_lemmatized_object['text'], shape, navec)\n",
        "\n",
        "  max_probability=0\n",
        "  index = -1\n",
        "\n",
        "  try: \n",
        "    for i in range(len(vector_text)):\n",
        "      sentence_vector = vector_text[i]\n",
        "      sentence_vector = np.array(sentence_vector)\n",
        "      sentence_vector = sentence_vector.reshape((1, shape))\n",
        "      # применение модели к вектору предложения\n",
        "      pred = garantee_enforcement_model.predict_proba(sentence_vector)[0][1]\n",
        "\n",
        "      # сохранение наилучшего результата\n",
        "      if pred > max_probability and pred > min_rate:\n",
        "        max_probability = pred\n",
        "        index = i\n",
        "  except Exception as e:\n",
        "    print(sentence_vector.shape, sentence_vector, df_lemmatized_object['label'], e)\n",
        "\n",
        "  return index, max_probability"
      ],
      "metadata": {
        "id": "QWba-GmgatKv"
      },
      "execution_count": 9,
      "outputs": []
    },
    {
      "cell_type": "markdown",
      "source": [
        "Далее напишем функцию для построчной обработки датафрейма и передачи текстов в функции в зависимости от лейблов"
      ],
      "metadata": {
        "id": "QVHDBQ97bhhN"
      }
    },
    {
      "cell_type": "code",
      "source": [
        "def predict_sentence(df_lemmatized, stopwords_ru, morph, min_garantee_enforcement_rate=0.8, min_contract_enforcement_rate=0.4):\n",
        "  \"\"\"\n",
        "  Input: pd.DataFrame с нормализаванными предложениями. \n",
        "  Пример поля ['text']:\n",
        "  [['способ', 'определение', 'поставщик', 'подрядчик', 'исполнитель'], ['электронный', 'аукцион'], ....]\n",
        "\n",
        "  Output: pred:list список предсказаний. \n",
        "  \"\"\"\n",
        "\n",
        "  pred = []\n",
        "  # пробегаемся по текстам и отправляем их в соответствующую label модель\n",
        "  for i in range(len(df_lemmatized)):\n",
        "    if df_lemmatized.loc[i, 'label'] == 'обеспечение исполнения контракта':\n",
        "      \n",
        "      index, _ = get_predicted_sentence_index_for_contract_enforcement(df_lemmatized.loc[i, :], min_contract_enforcement_rate)\n",
        "      pred.append(df_splitted.loc[i, 'text'][index] if index != -1 else None)  # добавляем искомое предложение в pred\n",
        "\n",
        "    elif df_lemmatized.loc[i, 'label'] == 'обеспечение гарантийных обязательств': \n",
        "      index, _ = get_predicted_sentence_index_for_garantee_enforcement(df_lemmatized.loc[i, :], min_garantee_enforcement_rate)\n",
        "      pred.append(df_splitted.loc[i, 'text'][index] if index != -1 else None)  # добавляем искомое предложение в pred\n",
        "\n",
        "    else:\n",
        "      print('Неверное значение label')\n",
        "  return pred"
      ],
      "metadata": {
        "id": "R4wSbCY8bhMj"
      },
      "execution_count": 18,
      "outputs": []
    },
    {
      "cell_type": "markdown",
      "source": [
        "Протестируем полученные модели"
      ],
      "metadata": {
        "id": "mqrg2X35gpop"
      }
    },
    {
      "cell_type": "code",
      "source": [
        "predictions = predict_sentence(df_lemmatized, stopwords_ru, morph, min_garantee_enforcement_rate=0.8)"
      ],
      "metadata": {
        "id": "twqpOoJ1gfMz"
      },
      "execution_count": 19,
      "outputs": []
    },
    {
      "cell_type": "code",
      "source": [
        "def accuracy_count(df_train, predictions):\n",
        "  # проверяем объекты на входе\n",
        "  assert len(df_train) == len(predictions), f'Объекты должны иметь одинаковую длину: df_train: {len(df_train)}, predictions: {len(predictions)}'\n",
        "  counter = 0\n",
        "  i = 0\n",
        "  # считаем accuracy\n",
        "  for extracted_part, pred in zip(df_train.loc[:, 'extracted_part'].values, predictions):\n",
        "    if pred == extracted_part['text'][0] or (pred is None and  extracted_part['text'][0] == ''):\n",
        "      counter += 1\n",
        "\n",
        "    else: \n",
        "      query = f\"\"\"\n",
        "      index = {i}\\n\n",
        "      prediction: {pred}\\n\n",
        "      target: {extracted_part['text'][0]}\\n\\n\n",
        "      \"\"\"\n",
        "      with open('errors.txt', 'a') as f:\n",
        "        f.write(query)\n",
        "    i += 1\n",
        "      \n",
        "  return counter/len(df_train)"
      ],
      "metadata": {
        "id": "q-keod-8jneb"
      },
      "execution_count": 20,
      "outputs": []
    },
    {
      "cell_type": "code",
      "source": [
        "accuracy_count(df_train, predictions)"
      ],
      "metadata": {
        "colab": {
          "base_uri": "https://localhost:8080/"
        },
        "id": "2Q7brqZEktVG",
        "outputId": "9daa70ff-e040-444b-f55f-7cdecc6d3942"
      },
      "execution_count": 21,
      "outputs": [
        {
          "output_type": "execute_result",
          "data": {
            "text/plain": [
              "0.6987215119510839"
            ]
          },
          "metadata": {},
          "execution_count": 21
        }
      ]
    },
    {
      "cell_type": "markdown",
      "source": [
        "попробуем подобрать параметры min_rate для обеих моделей"
      ],
      "metadata": {
        "id": "dFmRWookJqZh"
      }
    },
    {
      "cell_type": "code",
      "source": [
        "def min_rate_best_value_search(grid):\n",
        "  # принимаем список из значений, выводим график зависимости accurcy от rate\n",
        "  accuracy_list = []\n",
        "  for i in grid:\n",
        "    predictions = predict_sentence(df_lemmatized, stopwords_ru, morph, min_garantee_enforcement_rate=i)\n",
        "    accuracy_list.append(accuracy_count(df_train, predictions))\n",
        "  plt.figure(figsize=(10, 10))\n",
        "  plt.plot(garantee_enforcement_rate_grid, accuracy_list)\n",
        "  plt.show()"
      ],
      "metadata": {
        "id": "ruRaoJU5VptM"
      },
      "execution_count": 33,
      "outputs": []
    },
    {
      "cell_type": "code",
      "source": [
        "garantee_enforcement_rate_grid = np.arange(0.92, 1, 0.01)\n",
        "min_rate_best_value_search(garantee_enforcement_rate_grid)"
      ],
      "metadata": {
        "colab": {
          "base_uri": "https://localhost:8080/",
          "height": 830
        },
        "id": "CWz2NhfbV5kH",
        "outputId": "16caa03c-abef-45ea-befd-942587266a1f"
      },
      "execution_count": 34,
      "outputs": [
        {
          "output_type": "display_data",
          "data": {
            "text/plain": [
              "<Figure size 1000x1000 with 1 Axes>"
            ],
            "image/png": "[encoded data removed]"
          },
          "metadata": {}
        }
      ]
    },
    {
      "cell_type": "markdown",
      "source": [
        "посмотрим поближе на область 0.94 - 0.97"
      ],
      "metadata": {
        "id": "GUguF48eWGPm"
      }
    },
    {
      "cell_type": "code",
      "source": [
        "garantee_enforcement_rate_grid = np.arange(0.94, 0.9625, 0.0025)\n",
        "min_rate_best_value_search(garantee_enforcement_rate_grid)"
      ],
      "metadata": {
        "colab": {
          "base_uri": "https://localhost:8080/",
          "height": 830
        },
        "id": "4tRIvayuWLjY",
        "outputId": "69641dbf-5687-4b7f-8a35-083c1f0cf1fa"
      },
      "execution_count": 35,
      "outputs": [
        {
          "output_type": "display_data",
          "data": {
            "text/plain": [
              "<Figure size 1000x1000 with 1 Axes>"
            ],
            "image/png": "[encoded data removed]"
          },
          "metadata": {}
        }
      ]
    },
    {
      "cell_type": "markdown",
      "source": [
        "таким образом значение 0.95 - оптимально"
      ],
      "metadata": {
        "id": "8oe6GK2Sdhsw"
      }
    },
    {
      "cell_type": "code",
      "source": [],
      "metadata": {
        "id": "V2i8c3S9WF5g"
      },
      "execution_count": null,
      "outputs": []
    },
    {
      "cell_type": "markdown",
      "source": [
        "### Предсказание test.json"
      ],
      "metadata": {
        "id": "aSP6Q_0sNA2A"
      }
    },
    {
      "cell_type": "code",
      "source": [],
      "metadata": {
        "id": "hdwytfKmNOg9"
      },
      "execution_count": null,
      "outputs": []
    },
    {
      "cell_type": "markdown",
      "source": [
        "### Сохранение результатов"
      ],
      "metadata": {
        "id": "xLYjEOQrNFtb"
      }
    },
    {
      "cell_type": "code",
      "source": [],
      "metadata": {
        "id": "alJ5kKYONE8V"
      },
      "execution_count": null,
      "outputs": []
    },
    {
      "cell_type": "markdown",
      "source": [
        "### Выводы по исследованию"
      ],
      "metadata": {
        "id": "zqmVXj72NJvX"
      }
    },
    {
      "cell_type": "code",
      "source": [],
      "metadata": {
        "id": "TBZVLxdZNLQq"
      },
      "execution_count": null,
      "outputs": []
    }
  ]
}
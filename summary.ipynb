{
  "cells": [
    {
      "cell_type": "markdown",
      "metadata": {
        "id": "Z7l0fLwmMI4t"
      },
      "source": [
        "### Установки"
      ]
    },
    {
      "cell_type": "code",
      "execution_count": 1,
      "metadata": {
        "colab": {
          "base_uri": "https://localhost:8080/"
        },
        "id": "rTIoKSdiK_M4",
        "outputId": "e90f2c45-ea81-484d-f220-8789c91d560a"
      },
      "outputs": [
        {
          "name": "stdout",
          "output_type": "stream",
          "text": [
            "Looking in indexes: https://pypi.org/simple, https://us-python.pkg.dev/colab-wheels/public/simple/\n",
            "Requirement already satisfied: navec in /usr/local/lib/python3.9/dist-packages (0.10.0)\n",
            "Requirement already satisfied: numpy in /usr/local/lib/python3.9/dist-packages (from navec) (1.22.4)\n",
            "Looking in indexes: https://pypi.org/simple, https://us-python.pkg.dev/colab-wheels/public/simple/\n",
            "Requirement already satisfied: pymorphy2 in /usr/local/lib/python3.9/dist-packages (0.9.1)\n",
            "Requirement already satisfied: docopt>=0.6 in /usr/local/lib/python3.9/dist-packages (from pymorphy2) (0.6.2)\n",
            "Requirement already satisfied: dawg-python>=0.7.1 in /usr/local/lib/python3.9/dist-packages (from pymorphy2) (0.7.2)\n",
            "Requirement already satisfied: pymorphy2-dicts-ru<3.0,>=2.4 in /usr/local/lib/python3.9/dist-packages (from pymorphy2) (2.4.417127.4579844)\n"
          ]
        }
      ],
      "source": [
        "!pip install navec\n",
        "!pip install pymorphy2"
      ]
    },
    {
      "cell_type": "code",
      "execution_count": 2,
      "metadata": {
        "colab": {
          "base_uri": "https://localhost:8080/"
        },
        "id": "JEVhL_FMT5V0",
        "outputId": "f00193d9-e7f9-4166-c8c2-4d0dd80b9e8d"
      },
      "outputs": [
        {
          "name": "stdout",
          "output_type": "stream",
          "text": [
            "--2023-04-22 18:24:18--  https://storage.yandexcloud.net/natasha-navec/packs/navec_hudlit_v1_12B_500K_300d_100q.tar\n",
            "Resolving storage.yandexcloud.net (storage.yandexcloud.net)... 213.180.193.243, 2a02:6b8::1d9\n",
            "Connecting to storage.yandexcloud.net (storage.yandexcloud.net)|213.180.193.243|:443... connected.\n",
            "HTTP request sent, awaiting response... 200 OK\n",
            "Length: 53012480 (51M) [application/x-tar]\n",
            "Saving to: ‘navec_hudlit_v1_12B_500K_300d_100q.tar’\n",
            "\n",
            "navec_hudlit_v1_12B 100%[===================>]  50.56M  41.0MB/s    in 1.2s    \n",
            "\n",
            "2023-04-22 18:24:19 (41.0 MB/s) - ‘navec_hudlit_v1_12B_500K_300d_100q.tar’ saved [53012480/53012480]\n",
            "\n"
          ]
        }
      ],
      "source": [
        "!wget https://storage.yandexcloud.net/natasha-navec/packs/navec_hudlit_v1_12B_500K_300d_100q.tar"
      ]
    },
    {
      "cell_type": "markdown",
      "metadata": {
        "id": "Kp2d0QA7MdfP"
      },
      "source": [
        "### Импорты"
      ]
    },
    {
      "cell_type": "code",
      "execution_count": 3,
      "metadata": {
        "id": "djN9-U4kMe7P"
      },
      "outputs": [],
      "source": [
        "from research.utils import (split_df_texts_by_sentences, \n",
        "                            lemmatize_splitted_df_sentences,\n",
        "                            get_sentence_vectors_from_lemmatized_text)\n",
        "\n",
        "from sklearn.model_selection import train_test_split\n",
        "from pymorphy2 import MorphAnalyzer\n",
        "from nltk.corpus import stopwords\n",
        "from xgboost import XGBClassifier\n",
        "import matplotlib.pyplot as plt\n",
        "from navec import Navec\n",
        "import pandas as pd\n",
        "import numpy as np\n",
        "import joblib\n",
        "import nltk"
      ]
    },
    {
      "cell_type": "code",
      "execution_count": 4,
      "metadata": {
        "colab": {
          "base_uri": "https://localhost:8080/"
        },
        "id": "iiYkr72YWyIk",
        "outputId": "a96949db-ab16-49a9-8f3c-31e7866386d1"
      },
      "outputs": [
        {
          "name": "stderr",
          "output_type": "stream",
          "text": [
            "[nltk_data] Downloading package stopwords to /root/nltk_data...\n",
            "[nltk_data]   Package stopwords is already up-to-date!\n"
          ]
        }
      ],
      "source": [
        "path = './navec_hudlit_v1_12B_500K_300d_100q.tar'\n",
        "navec = Navec.load(path)\n",
        "nltk.download('stopwords')\n",
        "stopwords_ru = stopwords.words(\"russian\")\n",
        "morph = MorphAnalyzer()"
      ]
    },
    {
      "cell_type": "markdown",
      "metadata": {
        "id": "QtItBZU_MfYl"
      },
      "source": [
        "### Применение модели к трейну, замер accuracy"
      ]
    },
    {
      "cell_type": "code",
      "execution_count": 5,
      "metadata": {
        "colab": {
          "base_uri": "https://localhost:8080/",
          "height": 337
        },
        "id": "Kas6bGDHM_ff",
        "outputId": "fae1b842-4cc4-4fb6-f25b-f5a078040775"
      },
      "outputs": [
        {
          "data": {
            "text/html": [
              "\n",
              "  <div id=\"df-422be4f8-12d2-4d29-b93f-b6bd5a19ab65\">\n",
              "    <div class=\"colab-df-container\">\n",
              "      <div>\n",
              "<style scoped>\n",
              "    .dataframe tbody tr th:only-of-type {\n",
              "        vertical-align: middle;\n",
              "    }\n",
              "\n",
              "    .dataframe tbody tr th {\n",
              "        vertical-align: top;\n",
              "    }\n",
              "\n",
              "    .dataframe thead th {\n",
              "        text-align: right;\n",
              "    }\n",
              "</style>\n",
              "<table border=\"1\" class=\"dataframe\">\n",
              "  <thead>\n",
              "    <tr style=\"text-align: right;\">\n",
              "      <th></th>\n",
              "      <th>id</th>\n",
              "      <th>text</th>\n",
              "      <th>label</th>\n",
              "      <th>extracted_part</th>\n",
              "    </tr>\n",
              "  </thead>\n",
              "  <tbody>\n",
              "    <tr>\n",
              "      <th>0</th>\n",
              "      <td>809436509</td>\n",
              "      <td>Извещение о проведении открытого конкурса в эл...</td>\n",
              "      <td>обеспечение исполнения контракта</td>\n",
              "      <td>{'text': ['Размер обеспечения исполнения контр...</td>\n",
              "    </tr>\n",
              "    <tr>\n",
              "      <th>1</th>\n",
              "      <td>854885310</td>\n",
              "      <td>ТРЕБОВАНИЯ К СОДЕРЖАНИЮ ЗАЯВКИ участника запро...</td>\n",
              "      <td>обеспечение исполнения контракта</td>\n",
              "      <td>{'text': ['Поставщик должен предоставить обесп...</td>\n",
              "    </tr>\n",
              "    <tr>\n",
              "      <th>2</th>\n",
              "      <td>4382157</td>\n",
              "      <td>Извещение о проведении электронного аукциона д...</td>\n",
              "      <td>обеспечение исполнения контракта</td>\n",
              "      <td>{'text': ['Размер обеспечения исполнения контр...</td>\n",
              "    </tr>\n",
              "    <tr>\n",
              "      <th>3</th>\n",
              "      <td>184555082</td>\n",
              "      <td>Извещение о проведении электронного аукциона д...</td>\n",
              "      <td>обеспечение исполнения контракта</td>\n",
              "      <td>{'text': ['Размер обеспечения исполнения контр...</td>\n",
              "    </tr>\n",
              "    <tr>\n",
              "      <th>4</th>\n",
              "      <td>211645258</td>\n",
              "      <td>Извещение о проведении электронного аукциона д...</td>\n",
              "      <td>обеспечение исполнения контракта</td>\n",
              "      <td>{'text': ['Размер обеспечения исполнения контр...</td>\n",
              "    </tr>\n",
              "  </tbody>\n",
              "</table>\n",
              "</div>\n",
              "      <button class=\"colab-df-convert\" onclick=\"convertToInteractive('df-422be4f8-12d2-4d29-b93f-b6bd5a19ab65')\"\n",
              "              title=\"Convert this dataframe to an interactive table.\"\n",
              "              style=\"display:none;\">\n",
              "        \n",
              "  <svg xmlns=\"http://www.w3.org/2000/svg\" height=\"24px\"viewBox=\"0 0 24 24\"\n",
              "       width=\"24px\">\n",
              "    <path d=\"M0 0h24v24H0V0z\" fill=\"none\"/>\n",
              "    <path d=\"M18.56 5.44l.94 2.06.94-2.06 2.06-.94-2.06-.94-.94-2.06-.94 2.06-2.06.94zm-11 1L8.5 8.5l.94-2.06 2.06-.94-2.06-.94L8.5 2.5l-.94 2.06-2.06.94zm10 10l.94 2.06.94-2.06 2.06-.94-2.06-.94-.94-2.06-.94 2.06-2.06.94z\"/><path d=\"M17.41 7.96l-1.37-1.37c-.4-.4-.92-.59-1.43-.59-.52 0-1.04.2-1.43.59L10.3 9.45l-7.72 7.72c-.78.78-.78 2.05 0 2.83L4 21.41c.39.39.9.59 1.41.59.51 0 1.02-.2 1.41-.59l7.78-7.78 2.81-2.81c.8-.78.8-2.07 0-2.86zM5.41 20L4 18.59l7.72-7.72 1.47 1.35L5.41 20z\"/>\n",
              "  </svg>\n",
              "      </button>\n",
              "      \n",
              "  <style>\n",
              "    .colab-df-container {\n",
              "      display:flex;\n",
              "      flex-wrap:wrap;\n",
              "      gap: 12px;\n",
              "    }\n",
              "\n",
              "    .colab-df-convert {\n",
              "      background-color: #E8F0FE;\n",
              "      border: none;\n",
              "      border-radius: 50%;\n",
              "      cursor: pointer;\n",
              "      display: none;\n",
              "      fill: #1967D2;\n",
              "      height: 32px;\n",
              "      padding: 0 0 0 0;\n",
              "      width: 32px;\n",
              "    }\n",
              "\n",
              "    .colab-df-convert:hover {\n",
              "      background-color: #E2EBFA;\n",
              "      box-shadow: 0px 1px 2px rgba(60, 64, 67, 0.3), 0px 1px 3px 1px rgba(60, 64, 67, 0.15);\n",
              "      fill: #174EA6;\n",
              "    }\n",
              "\n",
              "    [theme=dark] .colab-df-convert {\n",
              "      background-color: #3B4455;\n",
              "      fill: #D2E3FC;\n",
              "    }\n",
              "\n",
              "    [theme=dark] .colab-df-convert:hover {\n",
              "      background-color: #434B5C;\n",
              "      box-shadow: 0px 1px 3px 1px rgba(0, 0, 0, 0.15);\n",
              "      filter: drop-shadow(0px 1px 2px rgba(0, 0, 0, 0.3));\n",
              "      fill: #FFFFFF;\n",
              "    }\n",
              "  </style>\n",
              "\n",
              "      <script>\n",
              "        const buttonEl =\n",
              "          document.querySelector('#df-422be4f8-12d2-4d29-b93f-b6bd5a19ab65 button.colab-df-convert');\n",
              "        buttonEl.style.display =\n",
              "          google.colab.kernel.accessAllowed ? 'block' : 'none';\n",
              "\n",
              "        async function convertToInteractive(key) {\n",
              "          const element = document.querySelector('#df-422be4f8-12d2-4d29-b93f-b6bd5a19ab65');\n",
              "          const dataTable =\n",
              "            await google.colab.kernel.invokeFunction('convertToInteractive',\n",
              "                                                     [key], {});\n",
              "          if (!dataTable) return;\n",
              "\n",
              "          const docLinkHtml = 'Like what you see? Visit the ' +\n",
              "            '<a target=\"_blank\" href=https://colab.research.google.com/notebooks/data_table.ipynb>data table notebook</a>'\n",
              "            + ' to learn more about interactive tables.';\n",
              "          element.innerHTML = '';\n",
              "          dataTable['output_type'] = 'display_data';\n",
              "          await google.colab.output.renderOutput(dataTable, element);\n",
              "          const docLink = document.createElement('div');\n",
              "          docLink.innerHTML = docLinkHtml;\n",
              "          element.appendChild(docLink);\n",
              "        }\n",
              "      </script>\n",
              "    </div>\n",
              "  </div>\n",
              "  "
            ],
            "text/plain": [
              "          id                                               text  \\\n",
              "0  809436509  Извещение о проведении открытого конкурса в эл...   \n",
              "1  854885310  ТРЕБОВАНИЯ К СОДЕРЖАНИЮ ЗАЯВКИ участника запро...   \n",
              "2    4382157  Извещение о проведении электронного аукциона д...   \n",
              "3  184555082  Извещение о проведении электронного аукциона д...   \n",
              "4  211645258  Извещение о проведении электронного аукциона д...   \n",
              "\n",
              "                              label  \\\n",
              "0  обеспечение исполнения контракта   \n",
              "1  обеспечение исполнения контракта   \n",
              "2  обеспечение исполнения контракта   \n",
              "3  обеспечение исполнения контракта   \n",
              "4  обеспечение исполнения контракта   \n",
              "\n",
              "                                      extracted_part  \n",
              "0  {'text': ['Размер обеспечения исполнения контр...  \n",
              "1  {'text': ['Поставщик должен предоставить обесп...  \n",
              "2  {'text': ['Размер обеспечения исполнения контр...  \n",
              "3  {'text': ['Размер обеспечения исполнения контр...  \n",
              "4  {'text': ['Размер обеспечения исполнения контр...  "
            ]
          },
          "execution_count": 5,
          "metadata": {},
          "output_type": "execute_result"
        }
      ],
      "source": [
        "df_train = pd.read_json('./data/train.json', encoding='utf-8')  # загружаем данные из train.json\n",
        "df_train.head()"
      ]
    },
    {
      "cell_type": "markdown",
      "metadata": {
        "id": "LsFtJlCiWOlM"
      },
      "source": [
        "Загрузим модели для классификации предложений в зависимости от label (подробно в reserch/base_model)"
      ]
    },
    {
      "cell_type": "code",
      "execution_count": 6,
      "metadata": {
        "id": "GCXW3p-4VwFr"
      },
      "outputs": [],
      "source": [
        "# загрузка обученных моделей\n",
        "contract_enforcement_model = joblib.load('./data/models/contract_enforcement_xgb_model.joblib')\n",
        "garantee_enforcement_model = joblib.load('./data/models/garantee_enforcement_xgb_model.joblib')"
      ]
    },
    {
      "cell_type": "code",
      "execution_count": 7,
      "metadata": {
        "id": "zKJ1bs3yWaGU"
      },
      "outputs": [],
      "source": [
        "df_splitted = split_df_texts_by_sentences(df_train.copy())  # делим тексты на предложения\n",
        "df_lemmatized = lemmatize_splitted_df_sentences(df_splitted.copy(), stopwords_ru, morph)  # приводим слова в предложениях к нормальному виду"
      ]
    },
    {
      "cell_type": "markdown",
      "metadata": {
        "id": "NU4ZAuBqXMek"
      },
      "source": [
        "Далее для применения моделей необходимо превратить \"лемматизированные\" предложения в векторы предложений. С этим нам поможет библиотека Navec. Navec - это библиотека предварительно подготовленных ембендингов слов для русского языка. \n",
        "\n",
        "Подробнее: https://github.com/natasha/navec?ysclid=lgi8rvqlyo416346758"
      ]
    },
    {
      "cell_type": "markdown",
      "metadata": {
        "id": "vUweRhtOY3f6"
      },
      "source": [
        "Такой векторизатор я реализовал в виде функции get_sentence_vectors_from_lemmatized_text в модуле utils. (см research/utils.py) "
      ]
    },
    {
      "cell_type": "markdown",
      "metadata": {
        "id": "A__sw6HFZJjX"
      },
      "source": [
        "Далее нам необходимо реализовать функции для предсказания, т.к. модели две "
      ]
    },
    {
      "cell_type": "code",
      "execution_count": 8,
      "metadata": {
        "id": "Azs86otpYlIc"
      },
      "outputs": [],
      "source": [
        "def get_predicted_sentence_index_for_contract_enforcement(df_lemmatized_object, min_rate=0.4):\n",
        "  shape = 83  # определяем максимальную длину вектора предожения\n",
        "  vectorized_text = get_sentence_vectors_from_lemmatized_text(df_lemmatized_object['text'], shape, navec)  # функция создаёт векторы предложений из их списка\n",
        "  # в итоге на выходе получаем векторизованный текст\n",
        "\n",
        "\n",
        "  max_probability=0 \n",
        "  index = -1\n",
        "  try:\n",
        "    # проходим по каждому предложению и считаем \"вероятность\" принадлежности его к целевому классу\n",
        "    for i in range(len(vectorized_text)):\n",
        "      vector = vectorized_text[i]\n",
        "      vector = np.array(vector)\n",
        "      vector = vector.reshape((1, shape))  \n",
        "      pred = contract_enforcement_model.predict_proba(vector)[0][1]\n",
        "\n",
        "      # сохраняем индекс предложения с наибольшей \"вероятностью\"\n",
        "      if pred > max_probability and pred > min_rate:\n",
        "        max_probability = pred\n",
        "        index = i\n",
        "  except Exception as e:\n",
        "    print(vector.shape, vector, df_lemmatized_object['label'], e)  # добавляем дебаг-логирование\n",
        "  \n",
        "  return index, max_probability"
      ]
    },
    {
      "cell_type": "markdown",
      "metadata": {
        "id": "m47pl3CuaxSn"
      },
      "source": [
        "И такую же функцию для лейбла \"обеспечение гарантийных обязательств\""
      ]
    },
    {
      "cell_type": "code",
      "execution_count": 9,
      "metadata": {
        "id": "QWba-GmgatKv"
      },
      "outputs": [],
      "source": [
        "def get_predicted_sentence_index_for_garantee_enforcement(df_lemmatized_object, min_rate=0.8):\n",
        "  shape = 83  # определяем максимальную длину вектора предожения\n",
        "\n",
        "  # создание векторов предложений\n",
        "  vector_text = get_sentence_vectors_from_lemmatized_text(df_lemmatized_object['text'], shape, navec)\n",
        "\n",
        "  max_probability=0\n",
        "  index = -1\n",
        "\n",
        "  try: \n",
        "    for i in range(len(vector_text)):\n",
        "      sentence_vector = vector_text[i]\n",
        "      sentence_vector = np.array(sentence_vector)\n",
        "      sentence_vector = sentence_vector.reshape((1, shape))\n",
        "      # применение модели к вектору предложения\n",
        "      pred = garantee_enforcement_model.predict_proba(sentence_vector)[0][1]\n",
        "\n",
        "      # сохранение наилучшего результата\n",
        "      if pred > max_probability and pred > min_rate:\n",
        "        max_probability = pred\n",
        "        index = i\n",
        "  except Exception as e:\n",
        "    print(sentence_vector.shape, sentence_vector, df_lemmatized_object['label'], e)\n",
        "\n",
        "  return index, max_probability"
      ]
    },
    {
      "cell_type": "markdown",
      "metadata": {
        "id": "QVHDBQ97bhhN"
      },
      "source": [
        "Далее напишем функцию для построчной обработки датафрейма и передачи текстов в функции в зависимости от лейблов"
      ]
    },
    {
      "cell_type": "code",
      "execution_count": 10,
      "metadata": {
        "id": "R4wSbCY8bhMj"
      },
      "outputs": [],
      "source": [
        "def predict_sentence(df_lemmatized, stopwords_ru, morph, min_garantee_enforcement_rate=0.8):\n",
        "  \"\"\"\n",
        "  Input: pd.DataFrame с нормализаванными предложениями. \n",
        "  Пример поля ['text']:\n",
        "  [['способ', 'определение', 'поставщик', 'подрядчик', 'исполнитель'], ['электронный', 'аукцион'], ....]\n",
        "\n",
        "  Output: pred:list список предсказаний. \n",
        "  \"\"\"\n",
        "\n",
        "  pred = []\n",
        "  # пробегаемся по текстам и отправляем их в соответствующую label модель\n",
        "  for i in range(len(df_lemmatized)):\n",
        "    if df_lemmatized.loc[i, 'label'] == 'обеспечение исполнения контракта':\n",
        "      \n",
        "      index, _ = get_predicted_sentence_index_for_contract_enforcement(df_lemmatized.loc[i, :])\n",
        "      pred.append(df_splitted.loc[i, 'text'][index] if index != -1 else None)  # добавляем искомое предложение в pred\n",
        "\n",
        "    elif df_lemmatized.loc[i, 'label'] == 'обеспечение гарантийных обязательств': \n",
        "      index, _ = get_predicted_sentence_index_for_garantee_enforcement(df_lemmatized.loc[i, :], min_garantee_enforcement_rate)\n",
        "      pred.append(df_splitted.loc[i, 'text'][index] if index != -1 else None)  # добавляем искомое предложение в pred\n",
        "\n",
        "    else:\n",
        "      print('Неверное значение label')\n",
        "  return pred"
      ]
    },
    {
      "cell_type": "markdown",
      "metadata": {
        "id": "mqrg2X35gpop"
      },
      "source": [
        "Протестируем полученные модели"
      ]
    },
    {
      "cell_type": "code",
      "execution_count": 11,
      "metadata": {
        "id": "twqpOoJ1gfMz"
      },
      "outputs": [],
      "source": [
        "predictions = predict_sentence(df_lemmatized, stopwords_ru, morph, 0.8)"
      ]
    },
    {
      "cell_type": "code",
      "execution_count": 12,
      "metadata": {
        "id": "q-keod-8jneb"
      },
      "outputs": [],
      "source": [
        "def accuracy_count(df_train, predictions):\n",
        "  # проверяем объекты на входе\n",
        "  assert len(df_train) == len(predictions), f'Объекты должны иметь одинаковую длину: df_train: {len(df_train)}, predictions: {len(predictions)}'\n",
        "  counter = 0\n",
        "  i = 0\n",
        "  # считаем accuracy\n",
        "  for extracted_part, pred in zip(df_train.loc[:, 'extracted_part'].values, predictions):\n",
        "    if pred == extracted_part['text'][0] or (pred is None and  extracted_part['text'][0] == ''):\n",
        "      counter += 1\n",
        "\n",
        "    else: \n",
        "      query = f\"\"\"\n",
        "      index = {i}\\n\n",
        "      prediction: {pred}\\n\n",
        "      target: {extracted_part['text'][0]}\\n\\n\n",
        "      \"\"\"\n",
        "      with open('./data/errors.txt', 'a') as f:\n",
        "        f.write(query)\n",
        "    i += 1\n",
        "      \n",
        "  return counter/len(df_train)"
      ]
    },
    {
      "cell_type": "code",
      "execution_count": 13,
      "metadata": {
        "colab": {
          "base_uri": "https://localhost:8080/"
        },
        "id": "2Q7brqZEktVG",
        "outputId": "bd0d302e-7986-4c5b-eef3-eb1f4fb816b8"
      },
      "outputs": [
        {
          "data": {
            "text/plain": [
              "0.6964980544747081"
            ]
          },
          "execution_count": 13,
          "metadata": {},
          "output_type": "execute_result"
        }
      ],
      "source": [
        "accuracy_count(df_train, predictions)"
      ]
    },
    {
      "cell_type": "markdown",
      "metadata": {
        "id": "aSP6Q_0sNA2A"
      },
      "source": [
        "### Предсказание test.json"
      ]
    },
    {
      "cell_type": "code",
      "execution_count": null,
      "metadata": {
        "id": "hdwytfKmNOg9"
      },
      "outputs": [],
      "source": []
    },
    {
      "cell_type": "markdown",
      "metadata": {
        "id": "xLYjEOQrNFtb"
      },
      "source": [
        "### Сохранение результатов"
      ]
    },
    {
      "cell_type": "code",
      "execution_count": null,
      "metadata": {
        "id": "alJ5kKYONE8V"
      },
      "outputs": [],
      "source": []
    },
    {
      "cell_type": "markdown",
      "metadata": {
        "id": "zqmVXj72NJvX"
      },
      "source": [
        "### Выводы по исследованию"
      ]
    },
    {
      "cell_type": "code",
      "execution_count": null,
      "metadata": {
        "id": "TBZVLxdZNLQq"
      },
      "outputs": [],
      "source": []
    }
  ],
  "metadata": {
    "colab": {
      "provenance": []
    },
    "kernelspec": {
      "display_name": "Python 3",
      "name": "python3"
    },
    "language_info": {
      "name": "python"
    }
  },
  "nbformat": 4,
  "nbformat_minor": 0
}
